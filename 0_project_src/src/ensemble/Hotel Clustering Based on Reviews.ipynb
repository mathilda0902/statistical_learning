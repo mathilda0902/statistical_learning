{
 "cells": [
  {
   "cell_type": "markdown",
   "metadata": {},
   "source": [
    "# Hotel Clustering based on Travelers' Reviews"
   ]
  },
  {
   "cell_type": "markdown",
   "metadata": {},
   "source": [
    "In this guide, I will explain how to cluster a set of documents using Python. My motivating example is to identify the latent structures within the synopses of the top 100 films of all time (per an IMDB list). See [the original post](http://www.brandonrose.org/top100) for a more detailed discussion on the example. This guide covers:\n",
    "\n",
    "<ul>\n",
    "<li> tokenizing and stemming each synopsis\n",
    "<li> transforming the corpus into vector space using [tf-idf](http://en.wikipedia.org/wiki/Tf%E2%80%93idf)\n",
    "<li> calculating cosine distance between each document as a measure of similarity\n",
    "<li> clustering the documents using the [k-means algorithm](http://en.wikipedia.org/wiki/K-means_clustering)\n",
    "<li> using [multidimensional scaling](http://en.wikipedia.org/wiki/Multidimensional_scaling) to reduce dimensionality within the corpus\n",
    "<li> plotting the clustering output using [matplotlib](http://matplotlib.org/) and [mpld3](http://mpld3.github.io/)\n",
    "<li> conducting a hierarchical clustering on the corpus using [Ward clustering](http://en.wikipedia.org/wiki/Ward%27s_method)\n",
    "<li> plotting a Ward dendrogram\n",
    "<li> topic modeling using [Latent Dirichlet Allocation (LDA)](http://en.wikipedia.org/wiki/Latent_Dirichlet_allocation)\n",
    "</ul>"
   ]
  },
  {
   "cell_type": "markdown",
   "metadata": {
    "collapsed": true
   },
   "source": [
    "## Contents"
   ]
  },
  {
   "cell_type": "markdown",
   "metadata": {},
   "source": [
    "<ul>\n",
    "<li>[Stopwords, stemming, and tokenization](#Stopwords,-stemming,-and-tokenizing)\n",
    "<li>[Tf-idf and document similarity](#Tf-idf-and-document-similarity)\n",
    "<li>[K-means clustering](#K-means-clustering)\n",
    "<li>[Multidimensional scaling](#Multidimensional-scaling)\n",
    "<li>[Visualizing document clusters](#Visualizing-document-clusters)\n",
    "<li>[Hierarchical document clustering](#Hierarchical-document-clustering)\n",
    "<li>[Latent Dirichlet Allocation (LDA)](#Latent-Dirichlet-Allocation)\n",
    "</ul>"
   ]
  },
  {
   "cell_type": "markdown",
   "metadata": {},
   "source": [
    "But first, I import everything I am going to need up front"
   ]
  },
  {
   "cell_type": "code",
   "execution_count": 1,
   "metadata": {
    "collapsed": true
   },
   "outputs": [],
   "source": [
    "import os\n",
    "from __future__ import print_function\n",
    "import codecs\n",
    "import pickle\n",
    "import json\n",
    "\n",
    "import numpy as np\n",
    "import pandas as pd\n",
    "\n",
    "from sklearn import feature_extraction\n",
    "from sklearn.feature_extraction.text import TfidfVectorizer\n",
    "from sklearn.metrics.pairwise import cosine_similarity\n",
    "from sklearn.cluster import KMeans\n",
    "from sklearn.externals import joblib\n",
    "from sklearn.manifold import MDS\n",
    "\n",
    "from scipy.cluster.hierarchy import ward, dendrogram\n",
    "\n",
    "import nltk\n",
    "from nltk.stem.snowball import SnowballStemmer\n",
    "import re\n",
    "import mpld3\n",
    "\n",
    "import matplotlib.pyplot as plt\n",
    "import matplotlib as mpl"
   ]
  },
  {
   "cell_type": "markdown",
   "metadata": {},
   "source": [
    "## Stopwords, stemming, and tokenizing"
   ]
  },
  {
   "cell_type": "markdown",
   "metadata": {},
   "source": [
    "### corpus by hotels"
   ]
  },
  {
   "cell_type": "code",
   "execution_count": 2,
   "metadata": {
    "collapsed": true
   },
   "outputs": [],
   "source": [
    "'''\n",
    "filepath = '../../dataset/hotel_name_reviews.csv'\n",
    "def read_reviews(filepath):\n",
    "    ratings = pd.read_csv(filepath)\n",
    "    reviews = ratings.groupby('hotel name')['content'].apply(list)\n",
    "    reviews = reviews.reset_index()\n",
    "    hotel_names = reviews['hotel name'].tolist()\n",
    "    all_reviews = reviews['content'].tolist()\n",
    "    hotel_reviews = []\n",
    "    for review in all_reviews:\n",
    "        hotel_reviews.append('.'.join(review))\n",
    "    return hotel_names, hotel_reviews\n",
    "''''''"
   ]
  },
  {
   "cell_type": "code",
   "execution_count": 9,
   "metadata": {
    "collapsed": true
   },
   "outputs": [],
   "source": [
    "'''hotel_names, hotel_reviews = read_reviews(filepath)'''"
   ]
  },
  {
   "cell_type": "code",
   "execution_count": 12,
   "metadata": {
    "collapsed": true
   },
   "outputs": [],
   "source": [
    "'''\n",
    "with open('../../dataset/hotel_names.txt', 'w') as f:\n",
    "    json.dump(hotel_names, f)\n",
    "with open('../../dataset/hotel_reviews.txt', 'w') as f:\n",
    "    json.dump(hotel_reviews, f)\n",
    "'''"
   ]
  },
  {
   "cell_type": "code",
   "execution_count": 2,
   "metadata": {
    "collapsed": true
   },
   "outputs": [],
   "source": [
    "# read review data and get the hotel names and review corpus:\n",
    "def read_reviews(namesfile, reviewsfile):\n",
    "    with open(namesfile, 'r') as outfile:\n",
    "        hotel_names = json.load(outfile)\n",
    "    with open(reviewsfile, 'r', encoding='utf-8', errors='ignore') as outfile:\n",
    "        hotel_reviews = json.load(outfile)\n",
    "\n",
    "    return hotel_names, hotel_reviews"
   ]
  },
  {
   "cell_type": "code",
   "execution_count": 3,
   "metadata": {
    "collapsed": true
   },
   "outputs": [],
   "source": [
    "hotel_names, hotel_reviews = read_reviews('../../dataset/hotel_names.txt', '../../dataset/hotel_reviews.txt')"
   ]
  },
  {
   "cell_type": "code",
   "execution_count": 4,
   "metadata": {},
   "outputs": [
    {
     "data": {
      "text/plain": [
       "(7839, 7839)"
      ]
     },
     "execution_count": 4,
     "metadata": {},
     "output_type": "execute_result"
    }
   ],
   "source": [
    "len(hotel_names), len(hotel_reviews)"
   ]
  },
  {
   "cell_type": "code",
   "execution_count": 5,
   "metadata": {},
   "outputs": [
    {
     "name": "stdout",
     "output_type": "stream",
     "text": [
      "There are 7839 hotels in the dataset.\n"
     ]
    }
   ],
   "source": [
    "print ('There are {} hotels in the dataset.'.format(len(hotel_names)))"
   ]
  },
  {
   "cell_type": "markdown",
   "metadata": {},
   "source": [
    "This section is focused on defining some functions to manipulate the synopses. First, I load [NLTK's](http://www.nltk.org/) list of English stop words. [Stop words](http://en.wikipedia.org/wiki/Stop_words) are words like \"a\", \"the\", or \"in\" which don't convey significant meaning. I'm sure there are much better explanations of this out there."
   ]
  },
  {
   "cell_type": "code",
   "execution_count": 6,
   "metadata": {
    "collapsed": true
   },
   "outputs": [],
   "source": [
    "# load nltk's English stopwords as variable called 'stopwords'\n",
    "stopwords = nltk.corpus.stopwords.words('english')"
   ]
  },
  {
   "cell_type": "markdown",
   "metadata": {},
   "source": [
    "Next I import the [Snowball Stemmer](http://snowball.tartarus.org/) which is actually part of NLTK. [Stemming](http://en.wikipedia.org/wiki/Stemming) is just the process of breaking a word down into its root."
   ]
  },
  {
   "cell_type": "code",
   "execution_count": 7,
   "metadata": {
    "collapsed": true
   },
   "outputs": [],
   "source": [
    "# load nltk's SnowballStemmer as variabled 'stemmer'\n",
    "stemmer = SnowballStemmer(\"english\")"
   ]
  },
  {
   "cell_type": "markdown",
   "metadata": {},
   "source": [
    "\n",
    "Below I define two functions:\n",
    "\n",
    "<ul>\n",
    "<li> *tokenize_and_stem*: tokenizes (splits the synopsis into a list of its respective words (or tokens) and also stems each token <li> *tokenize_only*: tokenizes the synopsis only\n",
    "</ul>\n",
    "\n",
    "I use both these functions to create a dictionary which becomes important in case I want to use stems for an algorithm, but later convert stems back to their full words for presentation purposes. "
   ]
  },
  {
   "cell_type": "code",
   "execution_count": 8,
   "metadata": {
    "collapsed": true
   },
   "outputs": [],
   "source": [
    "# here I define a tokenizer and stemmer which returns the set of stems in the text that it is passed\n",
    "\n",
    "def tokenize_and_stem(text):\n",
    "    # first tokenize by sentence, then by word to ensure that punctuation is caught as it's own token\n",
    "    tokens = [word for sent in nltk.sent_tokenize(text) for word in nltk.word_tokenize(sent)]\n",
    "    filtered_tokens = []\n",
    "    # filter out any tokens not containing letters (e.g., numeric tokens, raw punctuation)\n",
    "    for token in tokens:\n",
    "        if re.search('[a-zA-Z]', token):\n",
    "            filtered_tokens.append(token)\n",
    "    stems = [stemmer.stem(t) for t in filtered_tokens]\n",
    "    return stems\n",
    "\n",
    "\n",
    "def tokenize_only(text):\n",
    "    # first tokenize by sentence, then by word to ensure that punctuation is caught as it's own token\n",
    "    tokens = [word.lower() for sent in nltk.sent_tokenize(text) for word in nltk.word_tokenize(sent)]\n",
    "    filtered_tokens = []\n",
    "    # filter out any tokens not containing letters (e.g., numeric tokens, raw punctuation)\n",
    "    for token in tokens:\n",
    "        if re.search('[a-zA-Z]', token):\n",
    "            filtered_tokens.append(token)\n",
    "    return filtered_tokens"
   ]
  },
  {
   "cell_type": "markdown",
   "metadata": {},
   "source": [
    "Below I use my stemming/tokenizing and tokenizing functions to iterate over the list of synopses to create two vocabularies: one stemmed and one only tokenized. "
   ]
  },
  {
   "cell_type": "code",
   "execution_count": 9,
   "metadata": {
    "collapsed": true
   },
   "outputs": [],
   "source": [
    "#hotel_vocab_stemmed = []\n",
    "#hotel_vocab_tokenized = []\n",
    "#for i in hotel_reviews:\n",
    "#    allwords_stemmed = tokenize_and_stem(i)\n",
    "#    hotel_vocab_stemmed.extend(allwords_stemmed)\n",
    "#    allwords_tokenized = tokenize_only(i)\n",
    "#    hotel_vocab_tokenized.extend(allwords_tokenized)\n",
    "\n",
    "with open('../../dataset/hotel_vocab_tokenized.txt', 'r') as f:\n",
    "    hotel_vocab_tokenized = json.load(f)\n",
    "with open('../../dataset/hotel_vocab_stemmed.txt', 'r') as f:\n",
    "    hotel_vocab_stemmed = json.load(f)"
   ]
  },
  {
   "cell_type": "code",
   "execution_count": 10,
   "metadata": {},
   "outputs": [
    {
     "data": {
      "text/plain": [
       "(10781872, 10781872)"
      ]
     },
     "execution_count": 10,
     "metadata": {},
     "output_type": "execute_result"
    }
   ],
   "source": [
    "len(hotel_vocab_stemmed), len(hotel_vocab_tokenized)"
   ]
  },
  {
   "cell_type": "code",
   "execution_count": 26,
   "metadata": {
    "collapsed": true
   },
   "outputs": [],
   "source": [
    "'''\n",
    "with open('../../dataset/hotel_vocab_tokenized.txt', 'w') as f:\n",
    "    json.dump(hotel_vocab_tokenized, f)\n",
    "with open('../../dataset/hotel_vocab_stemmed.txt', 'w') as f:\n",
    "    json.dump(hotel_vocab_stemmed, f)\n",
    "'''"
   ]
  },
  {
   "cell_type": "markdown",
   "metadata": {
    "collapsed": true
   },
   "source": [
    "Using these two lists, I create a pandas DataFrame with the stemmed vocabulary as the index and the tokenized words as the column. The benefit of this is it provides an efficient way to look up a stem and return a full token. The downside here is that stems to tokens are one to many: the stem 'run' could be associated with 'ran', 'runs', 'running', etc. For my purposes this is fine--I'm perfectly happy returning the first token associated with the stem I need to look up."
   ]
  },
  {
   "cell_type": "code",
   "execution_count": 11,
   "metadata": {
    "collapsed": true
   },
   "outputs": [],
   "source": [
    "hotel_vocab_frame = pd.DataFrame({'words': hotel_vocab_tokenized}, index = hotel_vocab_stemmed)"
   ]
  },
  {
   "cell_type": "markdown",
   "metadata": {},
   "source": [
    "## Tf-idf and document similarity"
   ]
  },
  {
   "cell_type": "markdown",
   "metadata": {},
   "source": [
    "<img src='http://www.jiem.org/index.php/jiem/article/viewFile/293/252/2402' align='right' style=\"margin-left:10px\">\n",
    "\n",
    "Here, I define term frequency-inverse document frequency (tf-idf) vectorizer parameters and then convert the *synopses* list into a tf-idf matrix. \n",
    "\n",
    "To get a Tf-idf matrix, first count word occurrences by document. This is transformed into a document-term matrix (dtm). This is also just called a term frequency matrix. An example of a dtm is here at right.\n",
    "\n",
    "Then apply the term frequency-inverse document frequency weighting: words that occur frequently within a document but not frequently within the corpus receive a higher weighting as these words are assumed to contain more meaning in relation to the document.\n",
    "\n",
    "A couple things to note about the parameters I define below:\n",
    "\n",
    "<ul>\n",
    "<li> max_df: this is the maximum frequency within the documents a given feature can have to be used in the tfi-idf matrix. If the term is in greater than 80% of the documents it probably cares little meanining (in the context of film synopses)\n",
    "<li> min_idf: this could be an integer (e.g. 5) and the term would have to be in at least 5 of the documents to be considered. Here I pass 0.2; the term must be in at least 20% of the document. I found that if I allowed a lower min_df I ended up basing clustering on names--for example \"Michael\" or \"Tom\" are names found in several of the movies and the synopses use these names frequently, but the names carry no real meaning.\n",
    "<li> ngram_range: this just means I'll look at unigrams, bigrams and trigrams. See [n-grams](http://en.wikipedia.org/wiki/N-gram)\n",
    "</ul>"
   ]
  },
  {
   "cell_type": "code",
   "execution_count": 12,
   "metadata": {
    "scrolled": true
   },
   "outputs": [
    {
     "data": {
      "text/plain": [
       "7839"
      ]
     },
     "execution_count": 12,
     "metadata": {},
     "output_type": "execute_result"
    }
   ],
   "source": [
    "len(hotel_reviews)"
   ]
  },
  {
   "cell_type": "code",
   "execution_count": 13,
   "metadata": {
    "collapsed": true
   },
   "outputs": [],
   "source": [
    "import random\n",
    "sample_reviews = random.sample(hotel_reviews, 500)"
   ]
  },
  {
   "cell_type": "code",
   "execution_count": 18,
   "metadata": {},
   "outputs": [
    {
     "data": {
      "text/plain": [
       "7839"
      ]
     },
     "execution_count": 18,
     "metadata": {},
     "output_type": "execute_result"
    }
   ],
   "source": [
    "shuffled_reviews = random.sample(hotel_reviews, len(hotel_reviews))\n",
    "len(shuffled_reviews)"
   ]
  },
  {
   "cell_type": "code",
   "execution_count": 19,
   "metadata": {
    "collapsed": true
   },
   "outputs": [],
   "source": [
    "hotel_names, hotel_reviews = read_reviews('../../dataset/hotel_names.txt', '../../dataset/hotel_reviews.txt')\n",
    "combined = list(zip(hotel_names, hotel_reviews))\n",
    "random.shuffle(combined)\n",
    "hotel_names[:], hotel_reviews[:] = zip(*combined)"
   ]
  },
  {
   "cell_type": "code",
   "execution_count": 23,
   "metadata": {},
   "outputs": [],
   "source": [
    "reviews_grouped = [hotel_reviews[i:i + 100] for i in range(0, len(hotel_reviews), 100)]"
   ]
  },
  {
   "cell_type": "code",
   "execution_count": 29,
   "metadata": {
    "scrolled": true
   },
   "outputs": [
    {
     "name": "stdout",
     "output_type": "stream",
     "text": [
      "CPU times: user 2min 36s, sys: 4.71 s, total: 2min 41s\n",
      "Wall time: 2min 52s\n",
      "(100, 4515)\n"
     ]
    }
   ],
   "source": [
    "tfidf_vectorizer = TfidfVectorizer(max_df=0.8, max_features=200000,\n",
    "                                 min_df=0.2, stop_words='english',\n",
    "                                 use_idf=True, tokenizer=tokenize_and_stem, ngram_range=(1,3))\n",
    "\n",
    "%time tfidf_matrix = tfidf_vectorizer.fit_transform(hotel_reviews[:100])\n",
    "\n",
    "print(tfidf_matrix.shape)"
   ]
  },
  {
   "cell_type": "code",
   "execution_count": 34,
   "metadata": {},
   "outputs": [
    {
     "data": {
      "text/plain": [
       "['tfidf_matrix.pkl']"
      ]
     },
     "execution_count": 34,
     "metadata": {},
     "output_type": "execute_result"
    }
   ],
   "source": [
    "joblib.dump(tfidf_matrix,  'tfidf_matrix.pkl')\n",
    "#km = joblib.load('tfidf_matrix.pkl')"
   ]
  },
  {
   "cell_type": "code",
   "execution_count": 37,
   "metadata": {
    "collapsed": true
   },
   "outputs": [],
   "source": [
    "terms = tfidf_vectorizer.get_feature_names()\n",
    "\n",
    "dist = 1 - cosine_similarity(tfidf_matrix)"
   ]
  },
  {
   "cell_type": "markdown",
   "metadata": {},
   "source": [
    "## K-means clustering"
   ]
  },
  {
   "cell_type": "markdown",
   "metadata": {},
   "source": [
    "Now onto the fun part. Using the tf-idf matrix, you can run a slew of clustering algorithms to better understand the hidden structure within the synopses. I first chose [k-means](http://en.wikipedia.org/wiki/K-means_clustering). K-means initializes with a pre-determined number of clusters (I chose 5). Each observation is assigned to a cluster (cluster assignment) so as to minimize the within cluster sum of squares. Next, the mean of the clustered observations is calculated and used as the new cluster centroid. Then, observations are reassigned to clusters and  centroids recalculated in an iterative process until the algorithm reaches convergence.\n",
    "\n",
    "I found it took several runs for the algorithm to converge a global optimum as k-means is susceptible to reaching local optima. "
   ]
  },
  {
   "cell_type": "code",
   "execution_count": 38,
   "metadata": {},
   "outputs": [
    {
     "name": "stdout",
     "output_type": "stream",
     "text": [
      "CPU times: user 3.58 s, sys: 111 ms, total: 3.69 s\n",
      "Wall time: 4.16 s\n"
     ]
    }
   ],
   "source": [
    "num_clusters = 5\n",
    "\n",
    "km = KMeans(n_clusters=num_clusters)\n",
    "\n",
    "%time km.fit(tfidf_matrix)\n",
    "\n",
    "clusters = km.labels_.tolist()"
   ]
  },
  {
   "cell_type": "code",
   "execution_count": 35,
   "metadata": {
    "collapsed": true
   },
   "outputs": [],
   "source": [
    "#joblib.dump(km,  'doc_cluster.pkl')\n",
    "km = joblib.load('doc_cluster.pkl')\n",
    "clusters = km.labels_.tolist()"
   ]
  },
  {
   "cell_type": "code",
   "execution_count": 39,
   "metadata": {
    "collapsed": true
   },
   "outputs": [],
   "source": [
    "ranks = []\n",
    "\n",
    "for i in range(0,len(hotel_names)):\n",
    "    ranks.append(i)"
   ]
  },
  {
   "cell_type": "code",
   "execution_count": 40,
   "metadata": {
    "collapsed": true
   },
   "outputs": [],
   "source": [
    "hotels = { 'hotel_name': hotel_names[:100], 'rank': ranks[:100], 'hotel_reviews': hotel_reviews[:100], 'cluster': clusters}\n",
    "\n",
    "frame = pd.DataFrame(hotels, index = [clusters] , columns = ['rank', 'hotel_name', 'hotel_reviews', 'cluster'])"
   ]
  },
  {
   "cell_type": "code",
   "execution_count": 41,
   "metadata": {},
   "outputs": [
    {
     "data": {
      "text/plain": [
       "rank                                                            90\n",
       "hotel_name                                         Lake Eve Resort\n",
       "hotel_reviews    We stayed in a spacious 2 bedroomed unit on th...\n",
       "cluster                                                          2\n",
       "Name: 2, dtype: object"
      ]
     },
     "execution_count": 41,
     "metadata": {},
     "output_type": "execute_result"
    }
   ],
   "source": [
    "frame.iloc[90]"
   ]
  },
  {
   "cell_type": "code",
   "execution_count": 42,
   "metadata": {},
   "outputs": [
    {
     "data": {
      "text/plain": [
       "1    49\n",
       "4    23\n",
       "2    14\n",
       "0     8\n",
       "3     6\n",
       "Name: cluster, dtype: int64"
      ]
     },
     "execution_count": 42,
     "metadata": {},
     "output_type": "execute_result"
    }
   ],
   "source": [
    "frame['cluster'].value_counts()"
   ]
  },
  {
   "cell_type": "code",
   "execution_count": 43,
   "metadata": {},
   "outputs": [
    {
     "data": {
      "text/plain": [
       "cluster\n",
       "0    29.375000\n",
       "1    49.897959\n",
       "2    55.214286\n",
       "3    50.000000\n",
       "4    52.043478\n",
       "Name: rank, dtype: float64"
      ]
     },
     "execution_count": 43,
     "metadata": {},
     "output_type": "execute_result"
    }
   ],
   "source": [
    "grouped = frame['rank'].groupby(frame['cluster'])\n",
    "\n",
    "grouped.mean()"
   ]
  },
  {
   "cell_type": "code",
   "execution_count": 45,
   "metadata": {},
   "outputs": [
    {
     "name": "stdout",
     "output_type": "stream",
     "text": [
      "Top terms per cluster:\n",
      "\n",
      "Cluster 0 words: b'metro', b'paris', b'rome', b'euros', b'st.', b'metro', b'spanish', b'block', b'balcony', b'face', b'airport', b'minute', b'english', b'cafe', b'bus', b'view', b'quaint', b'st', b'face', b'bakeries', b'line', b'room', b'nearby', b'tourist', b'steps', b'neighborhood', b'noisy', b'french', b'speak', b'short', b'owners', b'elevator', b'wine', b'luggage', b'modern', b'value', b'family', b'fan', b'stores', b'courtyard', b'pastries', b'ticket', b'wife', b'plentiful', b'conditioning', b'center', b'locals', b'church', b'major', b'train',\n",
      "\n",
      "Cluster 0 titles: Hotel Laura, Hostal Benamar, Hostal Pereda Hs, Aparthotel Bonanova, Hotel Sant Anna Roma, Hotel Le Clement, Home Moderne, Henri IV Rive Gauche Hotel,\n",
      "\n",
      "Cluster 1 words: b'pool', b'parking', b'view', b'suited', b'inn', b'lobby', b'san', b'square', b'modern', b'downtown', b'beautiful', b'strip', b'block', b'bus', b'decorated', b'apartments', b'central', b'town', b'motel', b'dinner', b'buffet', b'expensive', b'car', b'taxi', b'felt', b'huge', b'center', b'short', b'star', b'property', b'airport', b'plentiful', b'market', b'space', b'marriott', b'family', b'minute', b'husband', b'facility', b'surprise', b'train', b'hyatt', b'elevator', b'bedroom', b'amazing', b'worth', b'read', b'reservation', b'concierge', b'smell',\n",
      "\n",
      "Cluster 1 titles: Y Hotel City South, Grand Hyatt Istanbul, Terrible's Hotel & Casino, CHI Residences 279, Dimora Veneziana, Hacienda Juanita, Le Germain Hotel Montreal, Ace Hotel, Pan Pacific Vancouver, Courtyard Miami West/FL Turnpike, Venetian Resort Hotel Casino, Hotel Banys Orientals, AC Hotel Monte Real by Marriott, La Quinta Inn Dallas East (I-30), Hotel Champ-De-Mars, Villa Igea, Marriott Waterfront Seattle, AmazInn & Suites, Holiday Inn Express Hotel & Suites at the WTC, Grand Copthorne Waterfront Hotel, BEST WESTERN Country Suites, Comfort Suites I-240 East-Airport, The Mercer, Tod Motor Motel, Holiday Inn Seattle, SANA Berlin Hotel, Courtyard Indianapolis Downtown, Comfort Inn Chelsea, Hampton Inn Indianapolis Northwest - Park 100, Algonquin Hotel Times Square, Autograph Collection, B&T Rooms Trani, Hotel Carter, Comfort Inn & Suites Las Vegas, Americas Best Value Inn - Los Angeles / Hollywood, Estrel Berlin, Anastasia Hotel, The Regent Berlin, Hotel Tomo, a Joie de Vivre hotel, Penn Tower Hotel, Park Hyatt Sydney, Hotel Noemi, Hilton Garden Inn Napa, B4 Venezia-Mestre, Courtyard San Diego Old Town, Raffles Hotel Singapore, BEST WESTERN PLUS Carriage Inn, Catalonia Port, Society Hill Hotel, Mantra on Kent,\n",
      "\n",
      "Cluster 2 words: b'pool', b'resorts', b'beach', b'parking', b'view', b'condos', b'balcony', b'kid', b'family', b'bedroom', b'kitchen', b'vacation', b'beautiful', b'property', b'unit', b'drinks', b'suited', b'car', b'chair', b'key', b'pool', b'grand', b'husband', b'amazing', b'hilton', b'marriott', b'drive', b'relax', b'swimming', b'ground', b'rented', b'housekeeping', b'reservation', b'master', b'dinner', b'plaza', b'baths', b'weekend', b'river', b'taxi', b'spa', b'tub', b'laziness', b'lobby', b'fee', b'eve', b'home', b'course', b'expensive', b'shuttle',\n",
      "\n",
      "Cluster 2 titles: Summer Bay by EVRentals, Arizona Grand Resort, Grand Palms, Courtyard by Marriott Ocean City, The Royal Playa del Carmen, Hilton Orlando Bonnet Creek, Parrot Key Hotel and Resort, Viceroy Riviera Maya, Rio Mar Beach Resort & Spa, a Wyndham Grand Resort, Outrigger Maui Eldorado, Rydges Plaza Dubai, Econo Lodge Oceanblock, Lake Eve Resort, Paradise Plaza Inn,\n",
      "\n",
      "Cluster 3 words: b'london', b'dirty', b'tubes', b'toilet', b'pounds', b'b', b'carpet', b'shared', b'toast', b'king', b'cross', b'lift', b'cabs', b'court', b'single', b'tea', b'palace', b'disgusted', b'somewhere', b'sink', b'facility', b'white', b'museum', b'room', b'b', b'key', b'central', b'english', b'tiny', b'budget', b'curtains', b'any', b'pubs', b'heat', b'read', b'train', b'very', b'worst', b'baths', b'didnt', b'felt', b'twin', b'blanket', b'stairs', b\"'m\", b'ok.', b'theatres', b'single', b'else', b'ripped',\n",
      "\n",
      "Cluster 3 titles: Hotel Westminster, Colliers Hotel, Travelodge London Kings Cross Royal Scot, Manor Court Hotel, White House Hotel, Ruskin,\n",
      "\n",
      "Cluster 4 words: b'euros', b'metro', b'tram', b'rome', b'view', b'train', b'airport', b'english', b'bus', b'central', b'minute', b'star', b'centre', b'train', b'hotel', b'terrace', b'standard', b'receptionist', b'room', b'tourist', b'expensive', b'cheese', b'apartments', b'metro', b'hard', b'stairs', b'museum', b'square', b'spanish', b'lights', b'line', b'mins', b'noisy', b'luggage', b'toilet', b'great', b'taxi', b'short', b'plentiful', b'tiny', b'single', b'read', b'la', b'marriott', b'speak', b'heat', b'point', b'buffet', b'budget', b'twin',\n",
      "\n",
      "Cluster 4 titles: Aparthotel Atenea, Marriott Amsterdam, Relais Fontana Di Trevi, Hotel 4 Youth am Mauerpark, Hotel Alle Guglie, Universo Nord Hotel, Villa Glori Hotel, Die Port van Cleve, Hotel 81 - Chinatown, Hotel Caput Mundi Roma, Arta Lenz Hotel, Hali Hotel, Nollendorfplatz City-Apartments, Hotel Acta Millenni, Regente Hotel, Pantalon Hotel, Hampshire Hotel - Prinsengracht, Agon Lichtburg, Hotel Tre Stelle, Hotel II Castillas, Hotel Verdi, Ciutat de Sant Adria Hotel, H10 Villa de la Reina,\n",
      "\n"
     ]
    }
   ],
   "source": [
    "print(\"Top terms per cluster:\")\n",
    "print()\n",
    "order_centroids = km.cluster_centers_.argsort()[:, ::-1]\n",
    "for i in range(num_clusters):\n",
    "    print(\"Cluster %d words:\" % i, end='')\n",
    "    for ind in order_centroids[i, :50]:\n",
    "        print(' %s' % hotel_vocab_frame.ix[terms[ind].split(' ')].values.tolist()[0][0].encode('utf-8', 'ignore'), end=',')\n",
    "    print()\n",
    "    print()\n",
    "    print(\"Cluster %d titles:\" % i, end='')\n",
    "    for title in frame.ix[i]['hotel_name'].values.tolist():\n",
    "        print(' %s,' % title, end='')\n",
    "    print()\n",
    "    print()"
   ]
  },
  {
   "cell_type": "code",
   "execution_count": 47,
   "metadata": {},
   "outputs": [],
   "source": [
    "#This is purely to help export tables to html and to correct for my 0 start rank (so that Godfather is 1, not 0)\n",
    "frame['Rank'] = frame['rank'] + 1\n",
    "frame['Name'] = frame['hotel_name']"
   ]
  },
  {
   "cell_type": "code",
   "execution_count": 49,
   "metadata": {},
   "outputs": [
    {
     "name": "stdout",
     "output_type": "stream",
     "text": [
      "<table border=\"1\" class=\"dataframe\">\n",
      "  <thead>\n",
      "    <tr style=\"text-align: right;\">\n",
      "      <th>Rank</th>\n",
      "      <th>Name</th>\n",
      "    </tr>\n",
      "  </thead>\n",
      "  <tbody>\n",
      "    <tr>\n",
      "      <td>4</td>\n",
      "      <td>Y Hotel City South</td>\n",
      "    </tr>\n",
      "    <tr>\n",
      "      <td>5</td>\n",
      "      <td>Grand Hyatt Istanbul</td>\n",
      "    </tr>\n",
      "    <tr>\n",
      "      <td>6</td>\n",
      "      <td>Terrible's Hotel &amp; Casino</td>\n",
      "    </tr>\n",
      "    <tr>\n",
      "      <td>9</td>\n",
      "      <td>CHI Residences 279</td>\n",
      "    </tr>\n",
      "    <tr>\n",
      "      <td>10</td>\n",
      "      <td>Dimora Veneziana</td>\n",
      "    </tr>\n",
      "    <tr>\n",
      "      <td>11</td>\n",
      "      <td>Hacienda Juanita</td>\n",
      "    </tr>\n",
      "    <tr>\n",
      "      <td>12</td>\n",
      "      <td>Le Germain Hotel Montreal</td>\n",
      "    </tr>\n",
      "    <tr>\n",
      "      <td>15</td>\n",
      "      <td>Ace Hotel</td>\n",
      "    </tr>\n",
      "    <tr>\n",
      "      <td>21</td>\n",
      "      <td>Pan Pacific Vancouver</td>\n",
      "    </tr>\n",
      "    <tr>\n",
      "      <td>23</td>\n",
      "      <td>Courtyard Miami West/FL Turnpike</td>\n",
      "    </tr>\n",
      "    <tr>\n",
      "      <td>24</td>\n",
      "      <td>Venetian Resort Hotel Casino</td>\n",
      "    </tr>\n",
      "    <tr>\n",
      "      <td>26</td>\n",
      "      <td>Hotel Banys Orientals</td>\n",
      "    </tr>\n",
      "    <tr>\n",
      "      <td>28</td>\n",
      "      <td>AC Hotel Monte Real by Marriott</td>\n",
      "    </tr>\n",
      "    <tr>\n",
      "      <td>32</td>\n",
      "      <td>La Quinta Inn Dallas East (I-30)</td>\n",
      "    </tr>\n",
      "    <tr>\n",
      "      <td>33</td>\n",
      "      <td>Hotel Champ-De-Mars</td>\n",
      "    </tr>\n",
      "    <tr>\n",
      "      <td>34</td>\n",
      "      <td>Villa Igea</td>\n",
      "    </tr>\n",
      "    <tr>\n",
      "      <td>37</td>\n",
      "      <td>Marriott Waterfront Seattle</td>\n",
      "    </tr>\n",
      "    <tr>\n",
      "      <td>39</td>\n",
      "      <td>AmazInn &amp; Suites</td>\n",
      "    </tr>\n",
      "    <tr>\n",
      "      <td>40</td>\n",
      "      <td>Holiday Inn Express Hotel &amp; Suites at the WTC</td>\n",
      "    </tr>\n",
      "    <tr>\n",
      "      <td>42</td>\n",
      "      <td>Grand Copthorne Waterfront Hotel</td>\n",
      "    </tr>\n",
      "    <tr>\n",
      "      <td>43</td>\n",
      "      <td>BEST WESTERN Country Suites</td>\n",
      "    </tr>\n",
      "    <tr>\n",
      "      <td>47</td>\n",
      "      <td>Comfort Suites I-240 East-Airport</td>\n",
      "    </tr>\n",
      "    <tr>\n",
      "      <td>49</td>\n",
      "      <td>The Mercer</td>\n",
      "    </tr>\n",
      "    <tr>\n",
      "      <td>50</td>\n",
      "      <td>Tod Motor Motel</td>\n",
      "    </tr>\n",
      "    <tr>\n",
      "      <td>52</td>\n",
      "      <td>Holiday Inn Seattle</td>\n",
      "    </tr>\n",
      "    <tr>\n",
      "      <td>53</td>\n",
      "      <td>SANA Berlin Hotel</td>\n",
      "    </tr>\n",
      "    <tr>\n",
      "      <td>54</td>\n",
      "      <td>Courtyard Indianapolis Downtown</td>\n",
      "    </tr>\n",
      "    <tr>\n",
      "      <td>57</td>\n",
      "      <td>Comfort Inn Chelsea</td>\n",
      "    </tr>\n",
      "    <tr>\n",
      "      <td>58</td>\n",
      "      <td>Hampton Inn Indianapolis Northwest - Park 100</td>\n",
      "    </tr>\n",
      "    <tr>\n",
      "      <td>59</td>\n",
      "      <td>Algonquin Hotel Times Square, Autograph Collec...</td>\n",
      "    </tr>\n",
      "    <tr>\n",
      "      <td>60</td>\n",
      "      <td>B&amp;T Rooms Trani</td>\n",
      "    </tr>\n",
      "    <tr>\n",
      "      <td>62</td>\n",
      "      <td>Hotel Carter</td>\n",
      "    </tr>\n",
      "    <tr>\n",
      "      <td>64</td>\n",
      "      <td>Comfort Inn &amp; Suites Las Vegas</td>\n",
      "    </tr>\n",
      "    <tr>\n",
      "      <td>65</td>\n",
      "      <td>Americas Best Value Inn - Los Angeles / Hollywood</td>\n",
      "    </tr>\n",
      "    <tr>\n",
      "      <td>68</td>\n",
      "      <td>Estrel Berlin</td>\n",
      "    </tr>\n",
      "    <tr>\n",
      "      <td>71</td>\n",
      "      <td>Anastasia Hotel</td>\n",
      "    </tr>\n",
      "    <tr>\n",
      "      <td>73</td>\n",
      "      <td>The Regent Berlin</td>\n",
      "    </tr>\n",
      "    <tr>\n",
      "      <td>74</td>\n",
      "      <td>Hotel Tomo, a Joie de Vivre hotel</td>\n",
      "    </tr>\n",
      "    <tr>\n",
      "      <td>78</td>\n",
      "      <td>Penn Tower Hotel</td>\n",
      "    </tr>\n",
      "    <tr>\n",
      "      <td>80</td>\n",
      "      <td>Park Hyatt Sydney</td>\n",
      "    </tr>\n",
      "    <tr>\n",
      "      <td>85</td>\n",
      "      <td>Hotel Noemi</td>\n",
      "    </tr>\n",
      "    <tr>\n",
      "      <td>87</td>\n",
      "      <td>Hilton Garden Inn Napa</td>\n",
      "    </tr>\n",
      "    <tr>\n",
      "      <td>88</td>\n",
      "      <td>B4 Venezia-Mestre</td>\n",
      "    </tr>\n",
      "    <tr>\n",
      "      <td>89</td>\n",
      "      <td>Courtyard San Diego Old Town</td>\n",
      "    </tr>\n",
      "    <tr>\n",
      "      <td>90</td>\n",
      "      <td>Raffles Hotel Singapore</td>\n",
      "    </tr>\n",
      "    <tr>\n",
      "      <td>95</td>\n",
      "      <td>BEST WESTERN PLUS Carriage Inn</td>\n",
      "    </tr>\n",
      "    <tr>\n",
      "      <td>96</td>\n",
      "      <td>Catalonia Port</td>\n",
      "    </tr>\n",
      "    <tr>\n",
      "      <td>97</td>\n",
      "      <td>Society Hill Hotel</td>\n",
      "    </tr>\n",
      "    <tr>\n",
      "      <td>99</td>\n",
      "      <td>Mantra on Kent</td>\n",
      "    </tr>\n",
      "  </tbody>\n",
      "</table>\n"
     ]
    }
   ],
   "source": [
    "#export tables to HTML\n",
    "print(frame[['Rank', 'Name']].loc[frame['cluster'] == 1].to_html(index=False))"
   ]
  },
  {
   "cell_type": "markdown",
   "metadata": {},
   "source": [
    "## Multidimensional scaling"
   ]
  },
  {
   "cell_type": "code",
   "execution_count": 50,
   "metadata": {
    "collapsed": true
   },
   "outputs": [],
   "source": [
    "MDS()\n",
    "\n",
    "# two components as we're plotting points in a two-dimensional plane\n",
    "# \"precomputed\" because we provide a distance matrix\n",
    "# we will also specify `random_state` so the plot is reproducible.\n",
    "mds = MDS(n_components=2, dissimilarity=\"precomputed\", random_state=1)\n",
    "\n",
    "pos = mds.fit_transform(dist)  # shape (n_components, n_samples)\n",
    "\n",
    "xs, ys = pos[:, 0], pos[:, 1]"
   ]
  },
  {
   "cell_type": "code",
   "execution_count": 51,
   "metadata": {
    "collapsed": true
   },
   "outputs": [],
   "source": [
    "def strip_proppers_POS(text):\n",
    "    tagged = pos_tag(text.split()) #use NLTK's part of speech tagger\n",
    "    non_propernouns = [word for word,pos in tagged if pos != 'NNP' and pos != 'NNPS']\n",
    "    return non_propernouns"
   ]
  },
  {
   "cell_type": "markdown",
   "metadata": {},
   "source": [
    "## Visualizing document clusters"
   ]
  },
  {
   "cell_type": "code",
   "execution_count": 53,
   "metadata": {
    "collapsed": true
   },
   "outputs": [],
   "source": [
    "#set up colors per clusters using a dict\n",
    "cluster_colors = {0: '#1b9e77', 1: '#d95f02', 2: '#7570b3', 3: '#e7298a', 4: '#66a61e'}\n",
    "\n",
    "#set up cluster names using a dict\n",
    "cluster_names = {0: 'metro, paris, home', \n",
    "                 1: 'Pool, parking, star', \n",
    "                 2: 'resort, relax, plaza', \n",
    "                 3: 'London, pubs, theatre', \n",
    "                 4: 'terrace, buffet'}"
   ]
  },
  {
   "cell_type": "code",
   "execution_count": 60,
   "metadata": {},
   "outputs": [
    {
     "name": "stderr",
     "output_type": "stream",
     "text": [
      "/Users/vkwan/anaconda2/envs/py36/lib/python3.6/site-packages/ipykernel_launcher.py:33: DeprecationWarning: \n",
      ".ix is deprecated. Please use\n",
      ".loc for label based indexing or\n",
      ".iloc for positional indexing\n",
      "\n",
      "See the documentation here:\n",
      "http://pandas.pydata.org/pandas-docs/stable/indexing.html#ix-indexer-is-deprecated\n"
     ]
    },
    {
     "data": {
      "image/png": "[encoded data removed]",
      "text/plain": [
       "<matplotlib.figure.Figure at 0x1b7825c400>"
      ]
     },
     "metadata": {},
     "output_type": "display_data"
    }
   ],
   "source": [
    "%matplotlib inline\n",
    "#create data frame that has the result of the MDS plus the cluster numbers and titles\n",
    "df = pd.DataFrame(dict(x=xs, y=ys, label=clusters, title=hotel_names[:100])) \n",
    "\n",
    "#group by cluster\n",
    "groups = df.groupby('label')\n",
    "\n",
    "\n",
    "# set up plot\n",
    "fig, ax = plt.subplots(figsize=(17, 9)) # set size\n",
    "ax.margins(0.05) # Optional, just adds 5% padding to the autoscaling\n",
    "\n",
    "#iterate through groups to layer the plot\n",
    "#note that I use the cluster_name and cluster_color dicts with the 'name' lookup to return the appropriate color/label\n",
    "for name, group in groups:\n",
    "    ax.plot(group.x, group.y, marker='o', linestyle='', ms=12, label=cluster_names[name], color=cluster_colors[name], mec='none')\n",
    "    ax.set_aspect('auto')\n",
    "    ax.tick_params(\\\n",
    "        axis= 'x',          # changes apply to the x-axis\n",
    "        which='both',      # both major and minor ticks are affected\n",
    "        bottom='off',      # ticks along the bottom edge are off\n",
    "        top='off',         # ticks along the top edge are off\n",
    "        labelbottom='off')\n",
    "    ax.tick_params(\\\n",
    "        axis= 'y',         # changes apply to the y-axis\n",
    "        which='both',      # both major and minor ticks are affected\n",
    "        left='off',      # ticks along the bottom edge are off\n",
    "        top='off',         # ticks along the top edge are off\n",
    "        labelleft='off')\n",
    "    \n",
    "ax.legend(numpoints=1)  #show legend with only 1 point\n",
    "\n",
    "#add label in x,y position with the label as the film title\n",
    "for i in range(len(df)):\n",
    "    ax.text(df.ix[i]['x'], df.ix[i]['y'], df.ix[i]['title'], size=8)  \n",
    "\n",
    "    \n",
    "    \n",
    "plt.show() #show the plot\n",
    "\n",
    "#uncomment the below to save the plot if need be\n",
    "#plt.savefig('clusters_small_noaxes.png', dpi=200)"
   ]
  },
  {
   "cell_type": "code",
   "execution_count": null,
   "metadata": {
    "collapsed": true
   },
   "outputs": [],
   "source": [
    "plt.close()"
   ]
  },
  {
   "cell_type": "markdown",
   "metadata": {},
   "source": [
    "The clustering plot looks great, but it pains my eyes to see overlapping labels. Having some experience with [D3.js](http://d3js.org/) I knew one solution would be to use a browser based/javascript interactive. Fortunately, I recently stumbled upon [mpld3](https://mpld3.github.io/) a matplotlib wrapper for D3. Mpld3 basically let's you use matplotlib syntax to create web interactives. It has a really easy, high-level API for adding tooltips on mouse hover, which is what I am interested in.\n",
    "\n",
    "It also has some nice functionality for zooming and panning. The below javascript snippet basicaly defines a custom location for where the zoom/pan toggle resides. Don't worry about it too much and you actually don't need to use it, but it helped for formatting purposes when exporting to the web later. The only thing you might want to change is the x and y attr for the position of the toolbar."
   ]
  },
  {
   "cell_type": "code",
   "execution_count": 61,
   "metadata": {
    "collapsed": true
   },
   "outputs": [],
   "source": [
    "#define custom toolbar location\n",
    "class TopToolbar(mpld3.plugins.PluginBase):\n",
    "    \"\"\"Plugin for moving toolbar to top of figure\"\"\"\n",
    "\n",
    "    JAVASCRIPT = \"\"\"\n",
    "    mpld3.register_plugin(\"toptoolbar\", TopToolbar);\n",
    "    TopToolbar.prototype = Object.create(mpld3.Plugin.prototype);\n",
    "    TopToolbar.prototype.constructor = TopToolbar;\n",
    "    function TopToolbar(fig, props){\n",
    "        mpld3.Plugin.call(this, fig, props);\n",
    "    };\n",
    "\n",
    "    TopToolbar.prototype.draw = function(){\n",
    "      // the toolbar svg doesn't exist\n",
    "      // yet, so first draw it\n",
    "      this.fig.toolbar.draw();\n",
    "\n",
    "      // then change the y position to be\n",
    "      // at the top of the figure\n",
    "      this.fig.toolbar.toolbar.attr(\"x\", 150);\n",
    "      this.fig.toolbar.toolbar.attr(\"y\", 400);\n",
    "\n",
    "      // then remove the draw function,\n",
    "      // so that it is not called again\n",
    "      this.fig.toolbar.draw = function() {}\n",
    "    }\n",
    "    \"\"\"\n",
    "    def __init__(self):\n",
    "        self.dict_ = {\"type\": \"toptoolbar\"}"
   ]
  },
  {
   "cell_type": "code",
   "execution_count": 63,
   "metadata": {},
   "outputs": [
    {
     "data": {
      "text/html": [
       "\n",
       "\n",
       "<style>\n",
       "\n",
       "text.mpld3-text, div.mpld3-tooltip {\n",
       "  font-family:Arial, Helvetica, sans-serif;\n",
       "}\n",
       "\n",
       "g.mpld3-xaxis, g.mpld3-yaxis {\n",
       "display: none; }\n",
       "\n",
       "text.mpld3-text, div.mpld3-tooltip {\n",
       "  font-family:Arial, Helvetica, sans-serif;\n",
       "}\n",
       "\n",
       "g.mpld3-xaxis, g.mpld3-yaxis {\n",
       "display: none; }\n",
       "\n",
       "text.mpld3-text, div.mpld3-tooltip {\n",
       "  font-family:Arial, Helvetica, sans-serif;\n",
       "}\n",
       "\n",
       "g.mpld3-xaxis, g.mpld3-yaxis {\n",
       "display: none; }\n",
       "\n",
       "text.mpld3-text, div.mpld3-tooltip {\n",
       "  font-family:Arial, Helvetica, sans-serif;\n",
       "}\n",
       "\n",
       "g.mpld3-xaxis, g.mpld3-yaxis {\n",
       "display: none; }\n",
       "\n",
       "text.mpld3-text, div.mpld3-tooltip {\n",
       "  font-family:Arial, Helvetica, sans-serif;\n",
       "}\n",
       "\n",
       "g.mpld3-xaxis, g.mpld3-yaxis {\n",
       "display: none; }\n",
       "\n",
       "</style>\n",
       "\n",
       "<div id=\"fig_el28661179658883127883376518\"></div>\n",
       "<script>\n",
       "function mpld3_load_lib(url, callback){\n",
       "  var s = document.createElement('script');\n",
       "  s.src = url;\n",
       "  s.async = true;\n",
       "  s.onreadystatechange = s.onload = callback;\n",
       "  s.onerror = function(){console.warn(\"failed to load library \" + url);};\n",
       "  document.getElementsByTagName(\"head\")[0].appendChild(s);\n",
       "}\n",
       "\n",
       "if(typeof(mpld3) !== \"undefined\" && mpld3._mpld3IsLoaded){\n",
       "   // already loaded: just create the figure\n",
       "   !function(mpld3){\n",
       "       \n",
       "    mpld3.register_plugin(\"htmltooltip\", HtmlTooltipPlugin);\n",
       "    HtmlTooltipPlugin.prototype = Object.create(mpld3.Plugin.prototype);\n",
       "    HtmlTooltipPlugin.prototype.constructor = HtmlTooltipPlugin;\n",
       "    HtmlTooltipPlugin.prototype.requiredProps = [\"id\"];\n",
       "    HtmlTooltipPlugin.prototype.defaultProps = {labels:null,\n",
       "                                                hoffset:0,\n",
       "                                                voffset:10};\n",
       "    function HtmlTooltipPlugin(fig, props){\n",
       "        mpld3.Plugin.call(this, fig, props);\n",
       "    };\n",
       "\n",
       "    HtmlTooltipPlugin.prototype.draw = function(){\n",
       "       var obj = mpld3.get_element(this.props.id);\n",
       "       var labels = this.props.labels;\n",
       "       var tooltip = d3.select(\"body\").append(\"div\")\n",
       "                    .attr(\"class\", \"mpld3-tooltip\")\n",
       "                    .style(\"position\", \"absolute\")\n",
       "                    .style(\"z-index\", \"10\")\n",
       "                    .style(\"visibility\", \"hidden\");\n",
       "\n",
       "       obj.elements()\n",
       "           .on(\"mouseover\", function(d, i){\n",
       "                              tooltip.html(labels[i])\n",
       "                                     .style(\"visibility\", \"visible\");})\n",
       "           .on(\"mousemove\", function(d, i){\n",
       "                  tooltip\n",
       "                    .style(\"top\", d3.event.pageY + this.props.voffset + \"px\")\n",
       "                    .style(\"left\",d3.event.pageX + this.props.hoffset + \"px\");\n",
       "                 }.bind(this))\n",
       "           .on(\"mouseout\",  function(d, i){\n",
       "                           tooltip.style(\"visibility\", \"hidden\");});\n",
       "    };\n",
       "    \n",
       "    mpld3.register_plugin(\"toptoolbar\", TopToolbar);\n",
       "    TopToolbar.prototype = Object.create(mpld3.Plugin.prototype);\n",
       "    TopToolbar.prototype.constructor = TopToolbar;\n",
       "    function TopToolbar(fig, props){\n",
       "        mpld3.Plugin.call(this, fig, props);\n",
       "    };\n",
       "\n",
       "    TopToolbar.prototype.draw = function(){\n",
       "      // the toolbar svg doesn't exist\n",
       "      // yet, so first draw it\n",
       "      this.fig.toolbar.draw();\n",
       "\n",
       "      // then change the y position to be\n",
       "      // at the top of the figure\n",
       "      this.fig.toolbar.toolbar.attr(\"x\", 150);\n",
       "      this.fig.toolbar.toolbar.attr(\"y\", 400);\n",
       "\n",
       "      // then remove the draw function,\n",
       "      // so that it is not called again\n",
       "      this.fig.toolbar.draw = function() {}\n",
       "    }\n",
       "    \n",
       "    mpld3.register_plugin(\"htmltooltip\", HtmlTooltipPlugin);\n",
       "    HtmlTooltipPlugin.prototype = Object.create(mpld3.Plugin.prototype);\n",
       "    HtmlTooltipPlugin.prototype.constructor = HtmlTooltipPlugin;\n",
       "    HtmlTooltipPlugin.prototype.requiredProps = [\"id\"];\n",
       "    HtmlTooltipPlugin.prototype.defaultProps = {labels:null,\n",
       "                                                hoffset:0,\n",
       "                                                voffset:10};\n",
       "    function HtmlTooltipPlugin(fig, props){\n",
       "        mpld3.Plugin.call(this, fig, props);\n",
       "    };\n",
       "\n",
       "    HtmlTooltipPlugin.prototype.draw = function(){\n",
       "       var obj = mpld3.get_element(this.props.id);\n",
       "       var labels = this.props.labels;\n",
       "       var tooltip = d3.select(\"body\").append(\"div\")\n",
       "                    .attr(\"class\", \"mpld3-tooltip\")\n",
       "                    .style(\"position\", \"absolute\")\n",
       "                    .style(\"z-index\", \"10\")\n",
       "                    .style(\"visibility\", \"hidden\");\n",
       "\n",
       "       obj.elements()\n",
       "           .on(\"mouseover\", function(d, i){\n",
       "                              tooltip.html(labels[i])\n",
       "                                     .style(\"visibility\", \"visible\");})\n",
       "           .on(\"mousemove\", function(d, i){\n",
       "                  tooltip\n",
       "                    .style(\"top\", d3.event.pageY + this.props.voffset + \"px\")\n",
       "                    .style(\"left\",d3.event.pageX + this.props.hoffset + \"px\");\n",
       "                 }.bind(this))\n",
       "           .on(\"mouseout\",  function(d, i){\n",
       "                           tooltip.style(\"visibility\", \"hidden\");});\n",
       "    };\n",
       "    \n",
       "    mpld3.register_plugin(\"toptoolbar\", TopToolbar);\n",
       "    TopToolbar.prototype = Object.create(mpld3.Plugin.prototype);\n",
       "    TopToolbar.prototype.constructor = TopToolbar;\n",
       "    function TopToolbar(fig, props){\n",
       "        mpld3.Plugin.call(this, fig, props);\n",
       "    };\n",
       "\n",
       "    TopToolbar.prototype.draw = function(){\n",
       "      // the toolbar svg doesn't exist\n",
       "      // yet, so first draw it\n",
       "      this.fig.toolbar.draw();\n",
       "\n",
       "      // then change the y position to be\n",
       "      // at the top of the figure\n",
       "      this.fig.toolbar.toolbar.attr(\"x\", 150);\n",
       "      this.fig.toolbar.toolbar.attr(\"y\", 400);\n",
       "\n",
       "      // then remove the draw function,\n",
       "      // so that it is not called again\n",
       "      this.fig.toolbar.draw = function() {}\n",
       "    }\n",
       "    \n",
       "    mpld3.register_plugin(\"htmltooltip\", HtmlTooltipPlugin);\n",
       "    HtmlTooltipPlugin.prototype = Object.create(mpld3.Plugin.prototype);\n",
       "    HtmlTooltipPlugin.prototype.constructor = HtmlTooltipPlugin;\n",
       "    HtmlTooltipPlugin.prototype.requiredProps = [\"id\"];\n",
       "    HtmlTooltipPlugin.prototype.defaultProps = {labels:null,\n",
       "                                                hoffset:0,\n",
       "                                                voffset:10};\n",
       "    function HtmlTooltipPlugin(fig, props){\n",
       "        mpld3.Plugin.call(this, fig, props);\n",
       "    };\n",
       "\n",
       "    HtmlTooltipPlugin.prototype.draw = function(){\n",
       "       var obj = mpld3.get_element(this.props.id);\n",
       "       var labels = this.props.labels;\n",
       "       var tooltip = d3.select(\"body\").append(\"div\")\n",
       "                    .attr(\"class\", \"mpld3-tooltip\")\n",
       "                    .style(\"position\", \"absolute\")\n",
       "                    .style(\"z-index\", \"10\")\n",
       "                    .style(\"visibility\", \"hidden\");\n",
       "\n",
       "       obj.elements()\n",
       "           .on(\"mouseover\", function(d, i){\n",
       "                              tooltip.html(labels[i])\n",
       "                                     .style(\"visibility\", \"visible\");})\n",
       "           .on(\"mousemove\", function(d, i){\n",
       "                  tooltip\n",
       "                    .style(\"top\", d3.event.pageY + this.props.voffset + \"px\")\n",
       "                    .style(\"left\",d3.event.pageX + this.props.hoffset + \"px\");\n",
       "                 }.bind(this))\n",
       "           .on(\"mouseout\",  function(d, i){\n",
       "                           tooltip.style(\"visibility\", \"hidden\");});\n",
       "    };\n",
       "    \n",
       "    mpld3.register_plugin(\"toptoolbar\", TopToolbar);\n",
       "    TopToolbar.prototype = Object.create(mpld3.Plugin.prototype);\n",
       "    TopToolbar.prototype.constructor = TopToolbar;\n",
       "    function TopToolbar(fig, props){\n",
       "        mpld3.Plugin.call(this, fig, props);\n",
       "    };\n",
       "\n",
       "    TopToolbar.prototype.draw = function(){\n",
       "      // the toolbar svg doesn't exist\n",
       "      // yet, so first draw it\n",
       "      this.fig.toolbar.draw();\n",
       "\n",
       "      // then change the y position to be\n",
       "      // at the top of the figure\n",
       "      this.fig.toolbar.toolbar.attr(\"x\", 150);\n",
       "      this.fig.toolbar.toolbar.attr(\"y\", 400);\n",
       "\n",
       "      // then remove the draw function,\n",
       "      // so that it is not called again\n",
       "      this.fig.toolbar.draw = function() {}\n",
       "    }\n",
       "    \n",
       "    mpld3.register_plugin(\"htmltooltip\", HtmlTooltipPlugin);\n",
       "    HtmlTooltipPlugin.prototype = Object.create(mpld3.Plugin.prototype);\n",
       "    HtmlTooltipPlugin.prototype.constructor = HtmlTooltipPlugin;\n",
       "    HtmlTooltipPlugin.prototype.requiredProps = [\"id\"];\n",
       "    HtmlTooltipPlugin.prototype.defaultProps = {labels:null,\n",
       "                                                hoffset:0,\n",
       "                                                voffset:10};\n",
       "    function HtmlTooltipPlugin(fig, props){\n",
       "        mpld3.Plugin.call(this, fig, props);\n",
       "    };\n",
       "\n",
       "    HtmlTooltipPlugin.prototype.draw = function(){\n",
       "       var obj = mpld3.get_element(this.props.id);\n",
       "       var labels = this.props.labels;\n",
       "       var tooltip = d3.select(\"body\").append(\"div\")\n",
       "                    .attr(\"class\", \"mpld3-tooltip\")\n",
       "                    .style(\"position\", \"absolute\")\n",
       "                    .style(\"z-index\", \"10\")\n",
       "                    .style(\"visibility\", \"hidden\");\n",
       "\n",
       "       obj.elements()\n",
       "           .on(\"mouseover\", function(d, i){\n",
       "                              tooltip.html(labels[i])\n",
       "                                     .style(\"visibility\", \"visible\");})\n",
       "           .on(\"mousemove\", function(d, i){\n",
       "                  tooltip\n",
       "                    .style(\"top\", d3.event.pageY + this.props.voffset + \"px\")\n",
       "                    .style(\"left\",d3.event.pageX + this.props.hoffset + \"px\");\n",
       "                 }.bind(this))\n",
       "           .on(\"mouseout\",  function(d, i){\n",
       "                           tooltip.style(\"visibility\", \"hidden\");});\n",
       "    };\n",
       "    \n",
       "    mpld3.register_plugin(\"toptoolbar\", TopToolbar);\n",
       "    TopToolbar.prototype = Object.create(mpld3.Plugin.prototype);\n",
       "    TopToolbar.prototype.constructor = TopToolbar;\n",
       "    function TopToolbar(fig, props){\n",
       "        mpld3.Plugin.call(this, fig, props);\n",
       "    };\n",
       "\n",
       "    TopToolbar.prototype.draw = function(){\n",
       "      // the toolbar svg doesn't exist\n",
       "      // yet, so first draw it\n",
       "      this.fig.toolbar.draw();\n",
       "\n",
       "      // then change the y position to be\n",
       "      // at the top of the figure\n",
       "      this.fig.toolbar.toolbar.attr(\"x\", 150);\n",
       "      this.fig.toolbar.toolbar.attr(\"y\", 400);\n",
       "\n",
       "      // then remove the draw function,\n",
       "      // so that it is not called again\n",
       "      this.fig.toolbar.draw = function() {}\n",
       "    }\n",
       "    \n",
       "    mpld3.register_plugin(\"htmltooltip\", HtmlTooltipPlugin);\n",
       "    HtmlTooltipPlugin.prototype = Object.create(mpld3.Plugin.prototype);\n",
       "    HtmlTooltipPlugin.prototype.constructor = HtmlTooltipPlugin;\n",
       "    HtmlTooltipPlugin.prototype.requiredProps = [\"id\"];\n",
       "    HtmlTooltipPlugin.prototype.defaultProps = {labels:null,\n",
       "                                                hoffset:0,\n",
       "                                                voffset:10};\n",
       "    function HtmlTooltipPlugin(fig, props){\n",
       "        mpld3.Plugin.call(this, fig, props);\n",
       "    };\n",
       "\n",
       "    HtmlTooltipPlugin.prototype.draw = function(){\n",
       "       var obj = mpld3.get_element(this.props.id);\n",
       "       var labels = this.props.labels;\n",
       "       var tooltip = d3.select(\"body\").append(\"div\")\n",
       "                    .attr(\"class\", \"mpld3-tooltip\")\n",
       "                    .style(\"position\", \"absolute\")\n",
       "                    .style(\"z-index\", \"10\")\n",
       "                    .style(\"visibility\", \"hidden\");\n",
       "\n",
       "       obj.elements()\n",
       "           .on(\"mouseover\", function(d, i){\n",
       "                              tooltip.html(labels[i])\n",
       "                                     .style(\"visibility\", \"visible\");})\n",
       "           .on(\"mousemove\", function(d, i){\n",
       "                  tooltip\n",
       "                    .style(\"top\", d3.event.pageY + this.props.voffset + \"px\")\n",
       "                    .style(\"left\",d3.event.pageX + this.props.hoffset + \"px\");\n",
       "                 }.bind(this))\n",
       "           .on(\"mouseout\",  function(d, i){\n",
       "                           tooltip.style(\"visibility\", \"hidden\");});\n",
       "    };\n",
       "    \n",
       "    mpld3.register_plugin(\"toptoolbar\", TopToolbar);\n",
       "    TopToolbar.prototype = Object.create(mpld3.Plugin.prototype);\n",
       "    TopToolbar.prototype.constructor = TopToolbar;\n",
       "    function TopToolbar(fig, props){\n",
       "        mpld3.Plugin.call(this, fig, props);\n",
       "    };\n",
       "\n",
       "    TopToolbar.prototype.draw = function(){\n",
       "      // the toolbar svg doesn't exist\n",
       "      // yet, so first draw it\n",
       "      this.fig.toolbar.draw();\n",
       "\n",
       "      // then change the y position to be\n",
       "      // at the top of the figure\n",
       "      this.fig.toolbar.toolbar.attr(\"x\", 150);\n",
       "      this.fig.toolbar.toolbar.attr(\"y\", 400);\n",
       "\n",
       "      // then remove the draw function,\n",
       "      // so that it is not called again\n",
       "      this.fig.toolbar.draw = function() {}\n",
       "    }\n",
       "    \n",
       "       mpld3.draw_figure(\"fig_el28661179658883127883376518\", {\"width\": 1008.0, \"height\": 432.0, \"axes\": [{\"bbox\": [0.125, 0.125, 0.775, 0.755], \"xlim\": [-0.8575774207909894, 0.7988698831714977], \"ylim\": [-0.7902846910126033, 0.7468661789261095], \"xdomain\": [-0.8575774207909894, 0.7988698831714977], \"ydomain\": [-0.7902846910126033, 0.7468661789261095], \"xscale\": \"linear\", \"yscale\": \"linear\", \"axes\": [{\"position\": \"bottom\", \"nticks\": 0, \"tickvalues\": [], \"tickformat\": \"\", \"scale\": \"linear\", \"fontsize\": null, \"grid\": {\"gridOn\": false}, \"visible\": false}, {\"position\": \"left\", \"nticks\": 0, \"tickvalues\": [], \"tickformat\": \"\", \"scale\": \"linear\", \"fontsize\": null, \"grid\": {\"gridOn\": false}, \"visible\": false}], \"axesbg\": \"#FFFFFF\", \"axesbgalpha\": null, \"zoomable\": true, \"id\": \"el2866118762134608\", \"lines\": [], \"paths\": [{\"data\": \"data07\", \"xindex\": 0, \"yindex\": 1, \"coordinates\": \"axes\", \"pathcodes\": [\"M\", \"L\", \"S\", \"L\", \"S\", \"L\", \"S\", \"L\", \"S\", \"Z\"], \"id\": \"el2866118139777208\", \"dasharray\": \"none\", \"alpha\": 0.8, \"facecolor\": \"#FFFFFF\", \"edgecolor\": \"#CCCCCC\", \"edgewidth\": 1.0, \"zorder\": 1000000.0}], \"markers\": [{\"data\": \"data01\", \"xindex\": 0, \"yindex\": 1, \"coordinates\": \"data\", \"id\": \"el2866111979205800pts\", \"facecolor\": \"#1B9E77\", \"edgecolor\": \"none\", \"edgewidth\": 1.0, \"alpha\": 1, \"zorder\": 2, \"markerpath\": [[[0.0, 9.0], [2.3868279, 9.0], [4.676218837063681, 8.051703224294176], [6.3639610306789285, 6.3639610306789285], [8.051703224294176, 4.676218837063681], [9.0, 2.3868279], [9.0, 0.0], [9.0, -2.3868279], [8.051703224294176, -4.676218837063681], [6.3639610306789285, -6.3639610306789285], [4.676218837063681, -8.051703224294176], [2.3868279, -9.0], [0.0, -9.0], [-2.3868279, -9.0], [-4.676218837063681, -8.051703224294176], [-6.3639610306789285, -6.3639610306789285], [-8.051703224294176, -4.676218837063681], [-9.0, -2.3868279], [-9.0, 0.0], [-9.0, 2.3868279], [-8.051703224294176, 4.676218837063681], [-6.3639610306789285, 6.3639610306789285], [-4.676218837063681, 8.051703224294176], [-2.3868279, 9.0], [0.0, 9.0]], [\"M\", \"C\", \"C\", \"C\", \"C\", \"C\", \"C\", \"C\", \"C\", \"Z\"]]}, {\"data\": \"data02\", \"xindex\": 0, \"yindex\": 1, \"coordinates\": \"data\", \"id\": \"el2866113326250472pts\", \"facecolor\": \"#D95F02\", \"edgecolor\": \"none\", \"edgewidth\": 1.0, \"alpha\": 1, \"zorder\": 2, \"markerpath\": [[[0.0, 9.0], [2.3868279, 9.0], [4.676218837063681, 8.051703224294176], [6.3639610306789285, 6.3639610306789285], [8.051703224294176, 4.676218837063681], [9.0, 2.3868279], [9.0, 0.0], [9.0, -2.3868279], [8.051703224294176, -4.676218837063681], [6.3639610306789285, -6.3639610306789285], [4.676218837063681, -8.051703224294176], [2.3868279, -9.0], [0.0, -9.0], [-2.3868279, -9.0], [-4.676218837063681, -8.051703224294176], [-6.3639610306789285, -6.3639610306789285], [-8.051703224294176, -4.676218837063681], [-9.0, -2.3868279], [-9.0, 0.0], [-9.0, 2.3868279], [-8.051703224294176, 4.676218837063681], [-6.3639610306789285, 6.3639610306789285], [-4.676218837063681, 8.051703224294176], [-2.3868279, 9.0], [0.0, 9.0]], [\"M\", \"C\", \"C\", \"C\", \"C\", \"C\", \"C\", \"C\", \"C\", \"Z\"]]}, {\"data\": \"data03\", \"xindex\": 0, \"yindex\": 1, \"coordinates\": \"data\", \"id\": \"el28664463690808pts\", \"facecolor\": \"#7570B3\", \"edgecolor\": \"none\", \"edgewidth\": 1.0, \"alpha\": 1, \"zorder\": 2, \"markerpath\": [[[0.0, 9.0], [2.3868279, 9.0], [4.676218837063681, 8.051703224294176], [6.3639610306789285, 6.3639610306789285], [8.051703224294176, 4.676218837063681], [9.0, 2.3868279], [9.0, 0.0], [9.0, -2.3868279], [8.051703224294176, -4.676218837063681], [6.3639610306789285, -6.3639610306789285], [4.676218837063681, -8.051703224294176], [2.3868279, -9.0], [0.0, -9.0], [-2.3868279, -9.0], [-4.676218837063681, -8.051703224294176], [-6.3639610306789285, -6.3639610306789285], [-8.051703224294176, -4.676218837063681], [-9.0, -2.3868279], [-9.0, 0.0], [-9.0, 2.3868279], [-8.051703224294176, 4.676218837063681], [-6.3639610306789285, 6.3639610306789285], [-4.676218837063681, 8.051703224294176], [-2.3868279, 9.0], [0.0, 9.0]], [\"M\", \"C\", \"C\", \"C\", \"C\", \"C\", \"C\", \"C\", \"C\", \"Z\"]]}, {\"data\": \"data04\", \"xindex\": 0, \"yindex\": 1, \"coordinates\": \"data\", \"id\": \"el2866117944790656pts\", \"facecolor\": \"#E7298A\", \"edgecolor\": \"none\", \"edgewidth\": 1.0, \"alpha\": 1, \"zorder\": 2, \"markerpath\": [[[0.0, 9.0], [2.3868279, 9.0], [4.676218837063681, 8.051703224294176], [6.3639610306789285, 6.3639610306789285], [8.051703224294176, 4.676218837063681], [9.0, 2.3868279], [9.0, 0.0], [9.0, -2.3868279], [8.051703224294176, -4.676218837063681], [6.3639610306789285, -6.3639610306789285], [4.676218837063681, -8.051703224294176], [2.3868279, -9.0], [0.0, -9.0], [-2.3868279, -9.0], [-4.676218837063681, -8.051703224294176], [-6.3639610306789285, -6.3639610306789285], [-8.051703224294176, -4.676218837063681], [-9.0, -2.3868279], [-9.0, 0.0], [-9.0, 2.3868279], [-8.051703224294176, 4.676218837063681], [-6.3639610306789285, 6.3639610306789285], [-4.676218837063681, 8.051703224294176], [-2.3868279, 9.0], [0.0, 9.0]], [\"M\", \"C\", \"C\", \"C\", \"C\", \"C\", \"C\", \"C\", \"C\", \"Z\"]]}, {\"data\": \"data05\", \"xindex\": 0, \"yindex\": 1, \"coordinates\": \"data\", \"id\": \"el2866118191071864pts\", \"facecolor\": \"#66A61E\", \"edgecolor\": \"none\", \"edgewidth\": 1.0, \"alpha\": 1, \"zorder\": 2, \"markerpath\": [[[0.0, 9.0], [2.3868279, 9.0], [4.676218837063681, 8.051703224294176], [6.3639610306789285, 6.3639610306789285], [8.051703224294176, 4.676218837063681], [9.0, 2.3868279], [9.0, 0.0], [9.0, -2.3868279], [8.051703224294176, -4.676218837063681], [6.3639610306789285, -6.3639610306789285], [4.676218837063681, -8.051703224294176], [2.3868279, -9.0], [0.0, -9.0], [-2.3868279, -9.0], [-4.676218837063681, -8.051703224294176], [-6.3639610306789285, -6.3639610306789285], [-8.051703224294176, -4.676218837063681], [-9.0, -2.3868279], [-9.0, 0.0], [-9.0, 2.3868279], [-8.051703224294176, 4.676218837063681], [-6.3639610306789285, 6.3639610306789285], [-4.676218837063681, 8.051703224294176], [-2.3868279, 9.0], [0.0, 9.0]], [\"M\", \"C\", \"C\", \"C\", \"C\", \"C\", \"C\", \"C\", \"C\", \"Z\"]]}, {\"data\": \"data06\", \"xindex\": 0, \"yindex\": 1, \"coordinates\": \"axes\", \"id\": \"el2866117980454416pts\", \"facecolor\": \"#1B9E77\", \"edgecolor\": \"none\", \"edgewidth\": 1.0, \"alpha\": 1, \"zorder\": 1000002.0, \"markerpath\": [[[0.0, 9.0], [2.3868279, 9.0], [4.676218837063681, 8.051703224294176], [6.3639610306789285, 6.3639610306789285], [8.051703224294176, 4.676218837063681], [9.0, 2.3868279], [9.0, 0.0], [9.0, -2.3868279], [8.051703224294176, -4.676218837063681], [6.3639610306789285, -6.3639610306789285], [4.676218837063681, -8.051703224294176], [2.3868279, -9.0], [0.0, -9.0], [-2.3868279, -9.0], [-4.676218837063681, -8.051703224294176], [-6.3639610306789285, -6.3639610306789285], [-8.051703224294176, -4.676218837063681], [-9.0, -2.3868279], [-9.0, 0.0], [-9.0, 2.3868279], [-8.051703224294176, 4.676218837063681], [-6.3639610306789285, 6.3639610306789285], [-4.676218837063681, 8.051703224294176], [-2.3868279, 9.0], [0.0, 9.0]], [\"M\", \"C\", \"C\", \"C\", \"C\", \"C\", \"C\", \"C\", \"C\", \"Z\"]]}, {\"data\": \"data06\", \"xindex\": 0, \"yindex\": 2, \"coordinates\": \"axes\", \"id\": \"el2866117966046376pts\", \"facecolor\": \"#D95F02\", \"edgecolor\": \"none\", \"edgewidth\": 1.0, \"alpha\": 1, \"zorder\": 1000002.0, \"markerpath\": [[[0.0, 9.0], [2.3868279, 9.0], [4.676218837063681, 8.051703224294176], [6.3639610306789285, 6.3639610306789285], [8.051703224294176, 4.676218837063681], [9.0, 2.3868279], [9.0, 0.0], [9.0, -2.3868279], [8.051703224294176, -4.676218837063681], [6.3639610306789285, -6.3639610306789285], [4.676218837063681, -8.051703224294176], [2.3868279, -9.0], [0.0, -9.0], [-2.3868279, -9.0], [-4.676218837063681, -8.051703224294176], [-6.3639610306789285, -6.3639610306789285], [-8.051703224294176, -4.676218837063681], [-9.0, -2.3868279], [-9.0, 0.0], [-9.0, 2.3868279], [-8.051703224294176, 4.676218837063681], [-6.3639610306789285, 6.3639610306789285], [-4.676218837063681, 8.051703224294176], [-2.3868279, 9.0], [0.0, 9.0]], [\"M\", \"C\", \"C\", \"C\", \"C\", \"C\", \"C\", \"C\", \"C\", \"Z\"]]}, {\"data\": \"data06\", \"xindex\": 0, \"yindex\": 3, \"coordinates\": \"axes\", \"id\": \"el2866117966048336pts\", \"facecolor\": \"#7570B3\", \"edgecolor\": \"none\", \"edgewidth\": 1.0, \"alpha\": 1, \"zorder\": 1000002.0, \"markerpath\": [[[0.0, 9.0], [2.3868279, 9.0], [4.676218837063681, 8.051703224294176], [6.3639610306789285, 6.3639610306789285], [8.051703224294176, 4.676218837063681], [9.0, 2.3868279], [9.0, 0.0], [9.0, -2.3868279], [8.051703224294176, -4.676218837063681], [6.3639610306789285, -6.3639610306789285], [4.676218837063681, -8.051703224294176], [2.3868279, -9.0], [0.0, -9.0], [-2.3868279, -9.0], [-4.676218837063681, -8.051703224294176], [-6.3639610306789285, -6.3639610306789285], [-8.051703224294176, -4.676218837063681], [-9.0, -2.3868279], [-9.0, 0.0], [-9.0, 2.3868279], [-8.051703224294176, 4.676218837063681], [-6.3639610306789285, 6.3639610306789285], [-4.676218837063681, 8.051703224294176], [-2.3868279, 9.0], [0.0, 9.0]], [\"M\", \"C\", \"C\", \"C\", \"C\", \"C\", \"C\", \"C\", \"C\", \"Z\"]]}, {\"data\": \"data06\", \"xindex\": 0, \"yindex\": 4, \"coordinates\": \"axes\", \"id\": \"el2866117966048616pts\", \"facecolor\": \"#E7298A\", \"edgecolor\": \"none\", \"edgewidth\": 1.0, \"alpha\": 1, \"zorder\": 1000002.0, \"markerpath\": [[[0.0, 9.0], [2.3868279, 9.0], [4.676218837063681, 8.051703224294176], [6.3639610306789285, 6.3639610306789285], [8.051703224294176, 4.676218837063681], [9.0, 2.3868279], [9.0, 0.0], [9.0, -2.3868279], [8.051703224294176, -4.676218837063681], [6.3639610306789285, -6.3639610306789285], [4.676218837063681, -8.051703224294176], [2.3868279, -9.0], [0.0, -9.0], [-2.3868279, -9.0], [-4.676218837063681, -8.051703224294176], [-6.3639610306789285, -6.3639610306789285], [-8.051703224294176, -4.676218837063681], [-9.0, -2.3868279], [-9.0, 0.0], [-9.0, 2.3868279], [-8.051703224294176, 4.676218837063681], [-6.3639610306789285, 6.3639610306789285], [-4.676218837063681, 8.051703224294176], [-2.3868279, 9.0], [0.0, 9.0]], [\"M\", \"C\", \"C\", \"C\", \"C\", \"C\", \"C\", \"C\", \"C\", \"Z\"]]}, {\"data\": \"data06\", \"xindex\": 0, \"yindex\": 5, \"coordinates\": \"axes\", \"id\": \"el2866118008857880pts\", \"facecolor\": \"#66A61E\", \"edgecolor\": \"none\", \"edgewidth\": 1.0, \"alpha\": 1, \"zorder\": 1000002.0, \"markerpath\": [[[0.0, 9.0], [2.3868279, 9.0], [4.676218837063681, 8.051703224294176], [6.3639610306789285, 6.3639610306789285], [8.051703224294176, 4.676218837063681], [9.0, 2.3868279], [9.0, 0.0], [9.0, -2.3868279], [8.051703224294176, -4.676218837063681], [6.3639610306789285, -6.3639610306789285], [4.676218837063681, -8.051703224294176], [2.3868279, -9.0], [0.0, -9.0], [-2.3868279, -9.0], [-4.676218837063681, -8.051703224294176], [-6.3639610306789285, -6.3639610306789285], [-8.051703224294176, -4.676218837063681], [-9.0, -2.3868279], [-9.0, 0.0], [-9.0, 2.3868279], [-8.051703224294176, 4.676218837063681], [-6.3639610306789285, 6.3639610306789285], [-4.676218837063681, 8.051703224294176], [-2.3868279, 9.0], [0.0, 9.0]], [\"M\", \"C\", \"C\", \"C\", \"C\", \"C\", \"C\", \"C\", \"C\", \"Z\"]]}], \"texts\": [{\"text\": \"metro, paris, home\", \"position\": [0.04736303123399899, 0.21768457198920774], \"coordinates\": \"axes\", \"h_anchor\": \"start\", \"v_baseline\": \"auto\", \"rotation\": -0.0, \"fontsize\": 10.0, \"color\": \"#000000\", \"alpha\": 1, \"zorder\": 1000003.0, \"id\": \"el2866117980454080\"}, {\"text\": \"Pool, parking, star\", \"position\": [0.04736303123399899, 0.17169487368162864], \"coordinates\": \"axes\", \"h_anchor\": \"start\", \"v_baseline\": \"auto\", \"rotation\": -0.0, \"fontsize\": 10.0, \"color\": \"#000000\", \"alpha\": 1, \"zorder\": 1000003.0, \"id\": \"el2866117980451168\"}, {\"text\": \"resort, relax, plaza\", \"position\": [0.04736303123399899, 0.12570517537404954], \"coordinates\": \"axes\", \"h_anchor\": \"start\", \"v_baseline\": \"auto\", \"rotation\": -0.0, \"fontsize\": 10.0, \"color\": \"#000000\", \"alpha\": 1, \"zorder\": 1000003.0, \"id\": \"el2866117966045536\"}, {\"text\": \"London, pubs, theatre\", \"position\": [0.04736303123399899, 0.07971547706647045], \"coordinates\": \"axes\", \"h_anchor\": \"start\", \"v_baseline\": \"auto\", \"rotation\": -0.0, \"fontsize\": 10.0, \"color\": \"#000000\", \"alpha\": 1, \"zorder\": 1000003.0, \"id\": \"el2866117966045424\"}, {\"text\": \"terrace, buffet\", \"position\": [0.04736303123399899, 0.03372577875889135], \"coordinates\": \"axes\", \"h_anchor\": \"start\", \"v_baseline\": \"auto\", \"rotation\": -0.0, \"fontsize\": 10.0, \"color\": \"#000000\", \"alpha\": 1, \"zorder\": 1000003.0, \"id\": \"el2866118008857600\"}], \"collections\": [], \"images\": [], \"sharex\": [], \"sharey\": []}], \"data\": {\"data01\": [[-0.144273738929618, 0.6642901335521074], [-0.27588508358349223, 0.6631106434531775], [-0.5251157802088288, 0.43000596188414697], [-0.38927038967593774, 0.6043809293140007], [-0.12945494356360676, 0.5263795714446701], [-0.02453111440359647, 0.6090949045068542], [-0.04870525640977265, 0.548446813282525], [0.00933430093300418, 0.4786950578853822]], \"data02\": [[0.13598289834615962, 0.3474720714232079], [0.3505068995193678, -0.2675263929616274], [-0.33445299486681984, -0.3598825961655474], [-0.535183986190268, 0.19474130229723546], [0.7355747899683729, -0.18795325575608007], [-0.45293252304784015, -0.49070456085318065], [-0.09459524340739224, -0.04109606256403671], [-0.1030025343748685, 0.051542435364387185], [-0.08783303334869494, -0.2322088154393628], [0.297970334289937, -0.47640923210395647], [-0.008569556231517146, -0.2747295384909854], [-0.07138200836729042, 0.13628624919319654], [0.30588773007185455, 0.7033619090221837], [0.6043450483404597, -0.3541226526588942], [0.20541341556363266, 0.07882440658603558], [0.5175003751578163, 0.0098826712907171], [-0.17405701031913728, -0.22173700945627117], [-0.2485510052817845, -0.31823788815630677], [-0.6639325979507404, 0.07392853581405703], [0.17403583423564536, -0.225455156729063], [-0.6236635909766803, -0.18307171493124844], [-0.25888611583955007, -0.4159105234338911], [0.22309008275389214, -0.13133931014343775], [0.4259513442165012, -0.5037382353994113], [-0.4434425648408542, -0.13468864968421854], [-0.37978537383397837, 0.1917466385078326], [-0.3175701282681612, -0.48788611781192914], [0.0652659259367444, 0.037994451754156694], [-0.479230539674124, -0.3438098655714066], [0.12331210417640177, -0.04374939597942061], [-0.4721039928524545, 0.5058944602698701], [0.30431659426322444, 0.0205924457514253], [-0.607250452399224, -0.29045807148767816], [-0.6387540506977941, 0.16552302294328808], [0.4886373718469531, -0.1578628356333167], [0.5526818962227592, 0.05371665419127903], [0.04032540888552263, -0.07623061099835048], [0.29792350004657236, -0.10524910090464458], [0.5621788238875942, -0.422611057902282], [0.3707529314475351, -0.34461150685455494], [0.5101070388107414, 0.0735916925949504], [-0.42832846637890215, -0.24285348660597514], [-0.390080335099373, 0.044711299497909744], [0.24487201208151493, -0.35774338779898807], [0.049002524463676346, -0.22234731408289662], [-0.29751869725303726, -0.24009110252911325], [-0.24952203727214478, 0.20255817627711792], [-0.3120853487221109, 0.07125303668843108], [-0.461318626088283, 0.0006331968682805159]], \"data03\": [[-0.07111446221311483, -0.7467804211086775], [-0.07101773190576126, -0.6051358105939606], [-0.2715540147699459, -0.664649917490453], [-0.051649281625350645, -0.4273820191764554], [0.06341946048289313, -0.5449230320955541], [-0.13385525646303467, -0.5086205526591377], [-0.028298677222683786, -0.6175187444691331], [0.08186708889147125, -0.578206931449875], [0.04386952477524858, -0.5593075686383666], [0.14431791531114355, -0.6273056087975933], [0.13494256729233997, -0.33151965116579973], [0.19501832345342288, -0.5661254938078376], [-0.08586769811892098, -0.48194732106111154], [0.0080125172900539, -0.3491045246362493]], \"data04\": [[0.39526883645138233, 0.2167563222886956], [0.41264102394707386, 0.3559779795843104], [0.176999308190785, 0.22543307084915554], [-0.6993004330115796, 0.022036923184337122], [0.7519892990970877, 0.10673188782518789], [0.3701330721521992, 0.4311556717175484]], \"data05\": [[-0.2773142793782317, 0.39047895919086595], [-0.23771465539447995, -0.021032264825029907], [0.2809873796816894, 0.2335602521762807], [0.13175884817072298, 0.6894153671376396], [0.22498215018108306, 0.2254810107122297], [0.48083795241824995, 0.31993067365612876], [0.09156072356722503, 0.5778190880310078], [0.1041978410828387, 0.1512718152277848], [0.28571058944874067, 0.5146338680063682], [0.4071975307154691, 0.5130150602356436], [0.6042226449194924, 0.4433260382756386], [0.5376199735978023, -0.07487441251417723], [-0.8106968367165794, -0.24377166116583723], [-0.1467386210220347, 0.3422583104922277], [-0.022488914859735046, 0.2774907437613187], [0.4492011779237375, 0.1633081667025478], [0.2327209882784659, 0.370035515542654], [-0.31851908172040383, 0.330981127362874], [-0.22190192324420766, 0.4936116176339294], [-0.0842374151898738, 0.37451287423541907], [0.6014279270086256, 0.2469869606607811], [-0.5539501458772719, 0.3677777858422445], [-0.048385300704039985, 0.22987562275207943]], \"data06\": [[0.024321556579621102, 0.22841550159430954, 0.18242580328673044, 0.13643610497915135, 0.09044640667157224, 0.04445670836399314]], \"data07\": [[0.00896057347670251, 0.015329899435859717], [0.1905721966205837, 0.015329899435859717], [0.19313236047107016, 0.015329899435859717], [0.19313236047107016, 0.021461859210203577], [0.19313236047107016, 0.24834437086092717], [0.19313236047107016, 0.254476330635271], [0.1905721966205837, 0.254476330635271], [0.00896057347670251, 0.254476330635271], [0.006400409626216075, 0.254476330635271], [0.006400409626216075, 0.24834437086092717], [0.006400409626216075, 0.021461859210203577], [0.006400409626216075, 0.015329899435859717], [0.00896057347670251, 0.015329899435859717]]}, \"id\": \"el2866117965888312\", \"plugins\": [{\"type\": \"reset\"}, {\"type\": \"zoom\", \"button\": true, \"enabled\": false}, {\"type\": \"boxzoom\", \"button\": true, \"enabled\": false}, {\"type\": \"htmltooltip\", \"id\": \"el2866111979205800pts\", \"labels\": [\"Hotel Laura\", \"Hostal Benamar\", \"Hostal Pereda Hs\", \"Aparthotel Bonanova\", \"Hotel Sant Anna Roma\", \"Hotel Le Clement\", \"Home Moderne\", \"Henri IV Rive Gauche Hotel\"], \"hoffset\": 10, \"voffset\": 10}, {\"type\": \"toptoolbar\"}, {\"type\": \"htmltooltip\", \"id\": \"el2866113326250472pts\", \"labels\": [\"Y Hotel City South\", \"Grand Hyatt Istanbul\", \"Terrible's Hotel & Casino\", \"CHI Residences 279\", \"Dimora Veneziana\", \"Hacienda Juanita\", \"Le Germain Hotel Montreal\", \"Ace Hotel\", \"Pan Pacific Vancouver\", \"Courtyard Miami West/FL Turnpike\", \"Venetian Resort Hotel Casino\", \"Hotel Banys Orientals\", \"AC Hotel Monte Real by Marriott\", \"La Quinta Inn Dallas East (I-30)\", \"Hotel Champ-De-Mars\", \"Villa Igea\", \"Marriott Waterfront Seattle\", \"AmazInn & Suites\", \"Holiday Inn Express Hotel & Suites at the WTC\", \"Grand Copthorne Waterfront Hotel\", \"BEST WESTERN Country Suites\", \"Comfort Suites I-240 East-Airport\", \"The Mercer\", \"Tod Motor Motel\", \"Holiday Inn Seattle\", \"SANA Berlin Hotel\", \"Courtyard Indianapolis Downtown\", \"Comfort Inn Chelsea\", \"Hampton Inn Indianapolis Northwest - Park 100\", \"Algonquin Hotel Times Square, Autograph Collection\", \"B&T Rooms Trani\", \"Hotel Carter\", \"Comfort Inn & Suites Las Vegas\", \"Americas Best Value Inn - Los Angeles / Hollywood\", \"Estrel Berlin\", \"Anastasia Hotel\", \"The Regent Berlin\", \"Hotel Tomo, a Joie de Vivre hotel\", \"Penn Tower Hotel\", \"Park Hyatt Sydney\", \"Hotel Noemi\", \"Hilton Garden Inn Napa\", \"B4 Venezia-Mestre\", \"Courtyard San Diego Old Town\", \"Raffles Hotel Singapore\", \"BEST WESTERN PLUS Carriage Inn\", \"Catalonia Port\", \"Society Hill Hotel\", \"Mantra on Kent\"], \"hoffset\": 10, \"voffset\": 10}, {\"type\": \"toptoolbar\"}, {\"type\": \"htmltooltip\", \"id\": \"el28664463690808pts\", \"labels\": [\"Summer Bay by EVRentals\", \"Arizona Grand Resort\", \"Grand Palms\", \"Courtyard by Marriott Ocean City\", \"The Royal Playa del Carmen\", \"Hilton Orlando Bonnet Creek\", \"Parrot Key Hotel and Resort\", \"Viceroy Riviera Maya\", \"Rio Mar Beach Resort & Spa, a Wyndham Grand Resort\", \"Outrigger Maui Eldorado\", \"Rydges Plaza Dubai\", \"Econo Lodge Oceanblock\", \"Lake Eve Resort\", \"Paradise Plaza Inn\"], \"hoffset\": 10, \"voffset\": 10}, {\"type\": \"toptoolbar\"}, {\"type\": \"htmltooltip\", \"id\": \"el2866117944790656pts\", \"labels\": [\"Hotel Westminster\", \"Colliers Hotel\", \"Travelodge London Kings Cross Royal Scot\", \"Manor Court Hotel\", \"White House Hotel\", \"Ruskin\"], \"hoffset\": 10, \"voffset\": 10}, {\"type\": \"toptoolbar\"}, {\"type\": \"htmltooltip\", \"id\": \"el2866118191071864pts\", \"labels\": [\"Aparthotel Atenea\", \"Marriott Amsterdam\", \"Relais Fontana Di Trevi\", \"Hotel 4 Youth am Mauerpark\", \"Hotel Alle Guglie\", \"Universo Nord Hotel\", \"Villa Glori Hotel\", \"Die Port van Cleve\", \"Hotel 81 - Chinatown\", \"Hotel Caput Mundi Roma\", \"Arta Lenz Hotel\", \"Hali Hotel\", \"Nollendorfplatz City-Apartments\", \"Hotel Acta Millenni\", \"Regente Hotel\", \"Pantalon Hotel\", \"Hampshire Hotel - Prinsengracht\", \"Agon Lichtburg\", \"Hotel Tre Stelle\", \"Hotel II Castillas\", \"Hotel Verdi\", \"Ciutat de Sant Adria Hotel\", \"H10 Villa de la Reina\"], \"hoffset\": 10, \"voffset\": 10}, {\"type\": \"toptoolbar\"}]});\n",
       "   }(mpld3);\n",
       "}else if(typeof define === \"function\" && define.amd){\n",
       "   // require.js is available: use it to load d3/mpld3\n",
       "   require.config({paths: {d3: \"https://mpld3.github.io/js/d3.v3.min\"}});\n",
       "   require([\"d3\"], function(d3){\n",
       "      window.d3 = d3;\n",
       "      mpld3_load_lib(\"https://mpld3.github.io/js/mpld3.v0.3.js\", function(){\n",
       "         \n",
       "    mpld3.register_plugin(\"htmltooltip\", HtmlTooltipPlugin);\n",
       "    HtmlTooltipPlugin.prototype = Object.create(mpld3.Plugin.prototype);\n",
       "    HtmlTooltipPlugin.prototype.constructor = HtmlTooltipPlugin;\n",
       "    HtmlTooltipPlugin.prototype.requiredProps = [\"id\"];\n",
       "    HtmlTooltipPlugin.prototype.defaultProps = {labels:null,\n",
       "                                                hoffset:0,\n",
       "                                                voffset:10};\n",
       "    function HtmlTooltipPlugin(fig, props){\n",
       "        mpld3.Plugin.call(this, fig, props);\n",
       "    };\n",
       "\n",
       "    HtmlTooltipPlugin.prototype.draw = function(){\n",
       "       var obj = mpld3.get_element(this.props.id);\n",
       "       var labels = this.props.labels;\n",
       "       var tooltip = d3.select(\"body\").append(\"div\")\n",
       "                    .attr(\"class\", \"mpld3-tooltip\")\n",
       "                    .style(\"position\", \"absolute\")\n",
       "                    .style(\"z-index\", \"10\")\n",
       "                    .style(\"visibility\", \"hidden\");\n",
       "\n",
       "       obj.elements()\n",
       "           .on(\"mouseover\", function(d, i){\n",
       "                              tooltip.html(labels[i])\n",
       "                                     .style(\"visibility\", \"visible\");})\n",
       "           .on(\"mousemove\", function(d, i){\n",
       "                  tooltip\n",
       "                    .style(\"top\", d3.event.pageY + this.props.voffset + \"px\")\n",
       "                    .style(\"left\",d3.event.pageX + this.props.hoffset + \"px\");\n",
       "                 }.bind(this))\n",
       "           .on(\"mouseout\",  function(d, i){\n",
       "                           tooltip.style(\"visibility\", \"hidden\");});\n",
       "    };\n",
       "    \n",
       "    mpld3.register_plugin(\"toptoolbar\", TopToolbar);\n",
       "    TopToolbar.prototype = Object.create(mpld3.Plugin.prototype);\n",
       "    TopToolbar.prototype.constructor = TopToolbar;\n",
       "    function TopToolbar(fig, props){\n",
       "        mpld3.Plugin.call(this, fig, props);\n",
       "    };\n",
       "\n",
       "    TopToolbar.prototype.draw = function(){\n",
       "      // the toolbar svg doesn't exist\n",
       "      // yet, so first draw it\n",
       "      this.fig.toolbar.draw();\n",
       "\n",
       "      // then change the y position to be\n",
       "      // at the top of the figure\n",
       "      this.fig.toolbar.toolbar.attr(\"x\", 150);\n",
       "      this.fig.toolbar.toolbar.attr(\"y\", 400);\n",
       "\n",
       "      // then remove the draw function,\n",
       "      // so that it is not called again\n",
       "      this.fig.toolbar.draw = function() {}\n",
       "    }\n",
       "    \n",
       "    mpld3.register_plugin(\"htmltooltip\", HtmlTooltipPlugin);\n",
       "    HtmlTooltipPlugin.prototype = Object.create(mpld3.Plugin.prototype);\n",
       "    HtmlTooltipPlugin.prototype.constructor = HtmlTooltipPlugin;\n",
       "    HtmlTooltipPlugin.prototype.requiredProps = [\"id\"];\n",
       "    HtmlTooltipPlugin.prototype.defaultProps = {labels:null,\n",
       "                                                hoffset:0,\n",
       "                                                voffset:10};\n",
       "    function HtmlTooltipPlugin(fig, props){\n",
       "        mpld3.Plugin.call(this, fig, props);\n",
       "    };\n",
       "\n",
       "    HtmlTooltipPlugin.prototype.draw = function(){\n",
       "       var obj = mpld3.get_element(this.props.id);\n",
       "       var labels = this.props.labels;\n",
       "       var tooltip = d3.select(\"body\").append(\"div\")\n",
       "                    .attr(\"class\", \"mpld3-tooltip\")\n",
       "                    .style(\"position\", \"absolute\")\n",
       "                    .style(\"z-index\", \"10\")\n",
       "                    .style(\"visibility\", \"hidden\");\n",
       "\n",
       "       obj.elements()\n",
       "           .on(\"mouseover\", function(d, i){\n",
       "                              tooltip.html(labels[i])\n",
       "                                     .style(\"visibility\", \"visible\");})\n",
       "           .on(\"mousemove\", function(d, i){\n",
       "                  tooltip\n",
       "                    .style(\"top\", d3.event.pageY + this.props.voffset + \"px\")\n",
       "                    .style(\"left\",d3.event.pageX + this.props.hoffset + \"px\");\n",
       "                 }.bind(this))\n",
       "           .on(\"mouseout\",  function(d, i){\n",
       "                           tooltip.style(\"visibility\", \"hidden\");});\n",
       "    };\n",
       "    \n",
       "    mpld3.register_plugin(\"toptoolbar\", TopToolbar);\n",
       "    TopToolbar.prototype = Object.create(mpld3.Plugin.prototype);\n",
       "    TopToolbar.prototype.constructor = TopToolbar;\n",
       "    function TopToolbar(fig, props){\n",
       "        mpld3.Plugin.call(this, fig, props);\n",
       "    };\n",
       "\n",
       "    TopToolbar.prototype.draw = function(){\n",
       "      // the toolbar svg doesn't exist\n",
       "      // yet, so first draw it\n",
       "      this.fig.toolbar.draw();\n",
       "\n",
       "      // then change the y position to be\n",
       "      // at the top of the figure\n",
       "      this.fig.toolbar.toolbar.attr(\"x\", 150);\n",
       "      this.fig.toolbar.toolbar.attr(\"y\", 400);\n",
       "\n",
       "      // then remove the draw function,\n",
       "      // so that it is not called again\n",
       "      this.fig.toolbar.draw = function() {}\n",
       "    }\n",
       "    \n",
       "    mpld3.register_plugin(\"htmltooltip\", HtmlTooltipPlugin);\n",
       "    HtmlTooltipPlugin.prototype = Object.create(mpld3.Plugin.prototype);\n",
       "    HtmlTooltipPlugin.prototype.constructor = HtmlTooltipPlugin;\n",
       "    HtmlTooltipPlugin.prototype.requiredProps = [\"id\"];\n",
       "    HtmlTooltipPlugin.prototype.defaultProps = {labels:null,\n",
       "                                                hoffset:0,\n",
       "                                                voffset:10};\n",
       "    function HtmlTooltipPlugin(fig, props){\n",
       "        mpld3.Plugin.call(this, fig, props);\n",
       "    };\n",
       "\n",
       "    HtmlTooltipPlugin.prototype.draw = function(){\n",
       "       var obj = mpld3.get_element(this.props.id);\n",
       "       var labels = this.props.labels;\n",
       "       var tooltip = d3.select(\"body\").append(\"div\")\n",
       "                    .attr(\"class\", \"mpld3-tooltip\")\n",
       "                    .style(\"position\", \"absolute\")\n",
       "                    .style(\"z-index\", \"10\")\n",
       "                    .style(\"visibility\", \"hidden\");\n",
       "\n",
       "       obj.elements()\n",
       "           .on(\"mouseover\", function(d, i){\n",
       "                              tooltip.html(labels[i])\n",
       "                                     .style(\"visibility\", \"visible\");})\n",
       "           .on(\"mousemove\", function(d, i){\n",
       "                  tooltip\n",
       "                    .style(\"top\", d3.event.pageY + this.props.voffset + \"px\")\n",
       "                    .style(\"left\",d3.event.pageX + this.props.hoffset + \"px\");\n",
       "                 }.bind(this))\n",
       "           .on(\"mouseout\",  function(d, i){\n",
       "                           tooltip.style(\"visibility\", \"hidden\");});\n",
       "    };\n",
       "    \n",
       "    mpld3.register_plugin(\"toptoolbar\", TopToolbar);\n",
       "    TopToolbar.prototype = Object.create(mpld3.Plugin.prototype);\n",
       "    TopToolbar.prototype.constructor = TopToolbar;\n",
       "    function TopToolbar(fig, props){\n",
       "        mpld3.Plugin.call(this, fig, props);\n",
       "    };\n",
       "\n",
       "    TopToolbar.prototype.draw = function(){\n",
       "      // the toolbar svg doesn't exist\n",
       "      // yet, so first draw it\n",
       "      this.fig.toolbar.draw();\n",
       "\n",
       "      // then change the y position to be\n",
       "      // at the top of the figure\n",
       "      this.fig.toolbar.toolbar.attr(\"x\", 150);\n",
       "      this.fig.toolbar.toolbar.attr(\"y\", 400);\n",
       "\n",
       "      // then remove the draw function,\n",
       "      // so that it is not called again\n",
       "      this.fig.toolbar.draw = function() {}\n",
       "    }\n",
       "    \n",
       "    mpld3.register_plugin(\"htmltooltip\", HtmlTooltipPlugin);\n",
       "    HtmlTooltipPlugin.prototype = Object.create(mpld3.Plugin.prototype);\n",
       "    HtmlTooltipPlugin.prototype.constructor = HtmlTooltipPlugin;\n",
       "    HtmlTooltipPlugin.prototype.requiredProps = [\"id\"];\n",
       "    HtmlTooltipPlugin.prototype.defaultProps = {labels:null,\n",
       "                                                hoffset:0,\n",
       "                                                voffset:10};\n",
       "    function HtmlTooltipPlugin(fig, props){\n",
       "        mpld3.Plugin.call(this, fig, props);\n",
       "    };\n",
       "\n",
       "    HtmlTooltipPlugin.prototype.draw = function(){\n",
       "       var obj = mpld3.get_element(this.props.id);\n",
       "       var labels = this.props.labels;\n",
       "       var tooltip = d3.select(\"body\").append(\"div\")\n",
       "                    .attr(\"class\", \"mpld3-tooltip\")\n",
       "                    .style(\"position\", \"absolute\")\n",
       "                    .style(\"z-index\", \"10\")\n",
       "                    .style(\"visibility\", \"hidden\");\n",
       "\n",
       "       obj.elements()\n",
       "           .on(\"mouseover\", function(d, i){\n",
       "                              tooltip.html(labels[i])\n",
       "                                     .style(\"visibility\", \"visible\");})\n",
       "           .on(\"mousemove\", function(d, i){\n",
       "                  tooltip\n",
       "                    .style(\"top\", d3.event.pageY + this.props.voffset + \"px\")\n",
       "                    .style(\"left\",d3.event.pageX + this.props.hoffset + \"px\");\n",
       "                 }.bind(this))\n",
       "           .on(\"mouseout\",  function(d, i){\n",
       "                           tooltip.style(\"visibility\", \"hidden\");});\n",
       "    };\n",
       "    \n",
       "    mpld3.register_plugin(\"toptoolbar\", TopToolbar);\n",
       "    TopToolbar.prototype = Object.create(mpld3.Plugin.prototype);\n",
       "    TopToolbar.prototype.constructor = TopToolbar;\n",
       "    function TopToolbar(fig, props){\n",
       "        mpld3.Plugin.call(this, fig, props);\n",
       "    };\n",
       "\n",
       "    TopToolbar.prototype.draw = function(){\n",
       "      // the toolbar svg doesn't exist\n",
       "      // yet, so first draw it\n",
       "      this.fig.toolbar.draw();\n",
       "\n",
       "      // then change the y position to be\n",
       "      // at the top of the figure\n",
       "      this.fig.toolbar.toolbar.attr(\"x\", 150);\n",
       "      this.fig.toolbar.toolbar.attr(\"y\", 400);\n",
       "\n",
       "      // then remove the draw function,\n",
       "      // so that it is not called again\n",
       "      this.fig.toolbar.draw = function() {}\n",
       "    }\n",
       "    \n",
       "    mpld3.register_plugin(\"htmltooltip\", HtmlTooltipPlugin);\n",
       "    HtmlTooltipPlugin.prototype = Object.create(mpld3.Plugin.prototype);\n",
       "    HtmlTooltipPlugin.prototype.constructor = HtmlTooltipPlugin;\n",
       "    HtmlTooltipPlugin.prototype.requiredProps = [\"id\"];\n",
       "    HtmlTooltipPlugin.prototype.defaultProps = {labels:null,\n",
       "                                                hoffset:0,\n",
       "                                                voffset:10};\n",
       "    function HtmlTooltipPlugin(fig, props){\n",
       "        mpld3.Plugin.call(this, fig, props);\n",
       "    };\n",
       "\n",
       "    HtmlTooltipPlugin.prototype.draw = function(){\n",
       "       var obj = mpld3.get_element(this.props.id);\n",
       "       var labels = this.props.labels;\n",
       "       var tooltip = d3.select(\"body\").append(\"div\")\n",
       "                    .attr(\"class\", \"mpld3-tooltip\")\n",
       "                    .style(\"position\", \"absolute\")\n",
       "                    .style(\"z-index\", \"10\")\n",
       "                    .style(\"visibility\", \"hidden\");\n",
       "\n",
       "       obj.elements()\n",
       "           .on(\"mouseover\", function(d, i){\n",
       "                              tooltip.html(labels[i])\n",
       "                                     .style(\"visibility\", \"visible\");})\n",
       "           .on(\"mousemove\", function(d, i){\n",
       "                  tooltip\n",
       "                    .style(\"top\", d3.event.pageY + this.props.voffset + \"px\")\n",
       "                    .style(\"left\",d3.event.pageX + this.props.hoffset + \"px\");\n",
       "                 }.bind(this))\n",
       "           .on(\"mouseout\",  function(d, i){\n",
       "                           tooltip.style(\"visibility\", \"hidden\");});\n",
       "    };\n",
       "    \n",
       "    mpld3.register_plugin(\"toptoolbar\", TopToolbar);\n",
       "    TopToolbar.prototype = Object.create(mpld3.Plugin.prototype);\n",
       "    TopToolbar.prototype.constructor = TopToolbar;\n",
       "    function TopToolbar(fig, props){\n",
       "        mpld3.Plugin.call(this, fig, props);\n",
       "    };\n",
       "\n",
       "    TopToolbar.prototype.draw = function(){\n",
       "      // the toolbar svg doesn't exist\n",
       "      // yet, so first draw it\n",
       "      this.fig.toolbar.draw();\n",
       "\n",
       "      // then change the y position to be\n",
       "      // at the top of the figure\n",
       "      this.fig.toolbar.toolbar.attr(\"x\", 150);\n",
       "      this.fig.toolbar.toolbar.attr(\"y\", 400);\n",
       "\n",
       "      // then remove the draw function,\n",
       "      // so that it is not called again\n",
       "      this.fig.toolbar.draw = function() {}\n",
       "    }\n",
       "    \n",
       "         mpld3.draw_figure(\"fig_el28661179658883127883376518\", {\"width\": 1008.0, \"height\": 432.0, \"axes\": [{\"bbox\": [0.125, 0.125, 0.775, 0.755], \"xlim\": [-0.8575774207909894, 0.7988698831714977], \"ylim\": [-0.7902846910126033, 0.7468661789261095], \"xdomain\": [-0.8575774207909894, 0.7988698831714977], \"ydomain\": [-0.7902846910126033, 0.7468661789261095], \"xscale\": \"linear\", \"yscale\": \"linear\", \"axes\": [{\"position\": \"bottom\", \"nticks\": 0, \"tickvalues\": [], \"tickformat\": \"\", \"scale\": \"linear\", \"fontsize\": null, \"grid\": {\"gridOn\": false}, \"visible\": false}, {\"position\": \"left\", \"nticks\": 0, \"tickvalues\": [], \"tickformat\": \"\", \"scale\": \"linear\", \"fontsize\": null, \"grid\": {\"gridOn\": false}, \"visible\": false}], \"axesbg\": \"#FFFFFF\", \"axesbgalpha\": null, \"zoomable\": true, \"id\": \"el2866118762134608\", \"lines\": [], \"paths\": [{\"data\": \"data07\", \"xindex\": 0, \"yindex\": 1, \"coordinates\": \"axes\", \"pathcodes\": [\"M\", \"L\", \"S\", \"L\", \"S\", \"L\", \"S\", \"L\", \"S\", \"Z\"], \"id\": \"el2866118139777208\", \"dasharray\": \"none\", \"alpha\": 0.8, \"facecolor\": \"#FFFFFF\", \"edgecolor\": \"#CCCCCC\", \"edgewidth\": 1.0, \"zorder\": 1000000.0}], \"markers\": [{\"data\": \"data01\", \"xindex\": 0, \"yindex\": 1, \"coordinates\": \"data\", \"id\": \"el2866111979205800pts\", \"facecolor\": \"#1B9E77\", \"edgecolor\": \"none\", \"edgewidth\": 1.0, \"alpha\": 1, \"zorder\": 2, \"markerpath\": [[[0.0, 9.0], [2.3868279, 9.0], [4.676218837063681, 8.051703224294176], [6.3639610306789285, 6.3639610306789285], [8.051703224294176, 4.676218837063681], [9.0, 2.3868279], [9.0, 0.0], [9.0, -2.3868279], [8.051703224294176, -4.676218837063681], [6.3639610306789285, -6.3639610306789285], [4.676218837063681, -8.051703224294176], [2.3868279, -9.0], [0.0, -9.0], [-2.3868279, -9.0], [-4.676218837063681, -8.051703224294176], [-6.3639610306789285, -6.3639610306789285], [-8.051703224294176, -4.676218837063681], [-9.0, -2.3868279], [-9.0, 0.0], [-9.0, 2.3868279], [-8.051703224294176, 4.676218837063681], [-6.3639610306789285, 6.3639610306789285], [-4.676218837063681, 8.051703224294176], [-2.3868279, 9.0], [0.0, 9.0]], [\"M\", \"C\", \"C\", \"C\", \"C\", \"C\", \"C\", \"C\", \"C\", \"Z\"]]}, {\"data\": \"data02\", \"xindex\": 0, \"yindex\": 1, \"coordinates\": \"data\", \"id\": \"el2866113326250472pts\", \"facecolor\": \"#D95F02\", \"edgecolor\": \"none\", \"edgewidth\": 1.0, \"alpha\": 1, \"zorder\": 2, \"markerpath\": [[[0.0, 9.0], [2.3868279, 9.0], [4.676218837063681, 8.051703224294176], [6.3639610306789285, 6.3639610306789285], [8.051703224294176, 4.676218837063681], [9.0, 2.3868279], [9.0, 0.0], [9.0, -2.3868279], [8.051703224294176, -4.676218837063681], [6.3639610306789285, -6.3639610306789285], [4.676218837063681, -8.051703224294176], [2.3868279, -9.0], [0.0, -9.0], [-2.3868279, -9.0], [-4.676218837063681, -8.051703224294176], [-6.3639610306789285, -6.3639610306789285], [-8.051703224294176, -4.676218837063681], [-9.0, -2.3868279], [-9.0, 0.0], [-9.0, 2.3868279], [-8.051703224294176, 4.676218837063681], [-6.3639610306789285, 6.3639610306789285], [-4.676218837063681, 8.051703224294176], [-2.3868279, 9.0], [0.0, 9.0]], [\"M\", \"C\", \"C\", \"C\", \"C\", \"C\", \"C\", \"C\", \"C\", \"Z\"]]}, {\"data\": \"data03\", \"xindex\": 0, \"yindex\": 1, \"coordinates\": \"data\", \"id\": \"el28664463690808pts\", \"facecolor\": \"#7570B3\", \"edgecolor\": \"none\", \"edgewidth\": 1.0, \"alpha\": 1, \"zorder\": 2, \"markerpath\": [[[0.0, 9.0], [2.3868279, 9.0], [4.676218837063681, 8.051703224294176], [6.3639610306789285, 6.3639610306789285], [8.051703224294176, 4.676218837063681], [9.0, 2.3868279], [9.0, 0.0], [9.0, -2.3868279], [8.051703224294176, -4.676218837063681], [6.3639610306789285, -6.3639610306789285], [4.676218837063681, -8.051703224294176], [2.3868279, -9.0], [0.0, -9.0], [-2.3868279, -9.0], [-4.676218837063681, -8.051703224294176], [-6.3639610306789285, -6.3639610306789285], [-8.051703224294176, -4.676218837063681], [-9.0, -2.3868279], [-9.0, 0.0], [-9.0, 2.3868279], [-8.051703224294176, 4.676218837063681], [-6.3639610306789285, 6.3639610306789285], [-4.676218837063681, 8.051703224294176], [-2.3868279, 9.0], [0.0, 9.0]], [\"M\", \"C\", \"C\", \"C\", \"C\", \"C\", \"C\", \"C\", \"C\", \"Z\"]]}, {\"data\": \"data04\", \"xindex\": 0, \"yindex\": 1, \"coordinates\": \"data\", \"id\": \"el2866117944790656pts\", \"facecolor\": \"#E7298A\", \"edgecolor\": \"none\", \"edgewidth\": 1.0, \"alpha\": 1, \"zorder\": 2, \"markerpath\": [[[0.0, 9.0], [2.3868279, 9.0], [4.676218837063681, 8.051703224294176], [6.3639610306789285, 6.3639610306789285], [8.051703224294176, 4.676218837063681], [9.0, 2.3868279], [9.0, 0.0], [9.0, -2.3868279], [8.051703224294176, -4.676218837063681], [6.3639610306789285, -6.3639610306789285], [4.676218837063681, -8.051703224294176], [2.3868279, -9.0], [0.0, -9.0], [-2.3868279, -9.0], [-4.676218837063681, -8.051703224294176], [-6.3639610306789285, -6.3639610306789285], [-8.051703224294176, -4.676218837063681], [-9.0, -2.3868279], [-9.0, 0.0], [-9.0, 2.3868279], [-8.051703224294176, 4.676218837063681], [-6.3639610306789285, 6.3639610306789285], [-4.676218837063681, 8.051703224294176], [-2.3868279, 9.0], [0.0, 9.0]], [\"M\", \"C\", \"C\", \"C\", \"C\", \"C\", \"C\", \"C\", \"C\", \"Z\"]]}, {\"data\": \"data05\", \"xindex\": 0, \"yindex\": 1, \"coordinates\": \"data\", \"id\": \"el2866118191071864pts\", \"facecolor\": \"#66A61E\", \"edgecolor\": \"none\", \"edgewidth\": 1.0, \"alpha\": 1, \"zorder\": 2, \"markerpath\": [[[0.0, 9.0], [2.3868279, 9.0], [4.676218837063681, 8.051703224294176], [6.3639610306789285, 6.3639610306789285], [8.051703224294176, 4.676218837063681], [9.0, 2.3868279], [9.0, 0.0], [9.0, -2.3868279], [8.051703224294176, -4.676218837063681], [6.3639610306789285, -6.3639610306789285], [4.676218837063681, -8.051703224294176], [2.3868279, -9.0], [0.0, -9.0], [-2.3868279, -9.0], [-4.676218837063681, -8.051703224294176], [-6.3639610306789285, -6.3639610306789285], [-8.051703224294176, -4.676218837063681], [-9.0, -2.3868279], [-9.0, 0.0], [-9.0, 2.3868279], [-8.051703224294176, 4.676218837063681], [-6.3639610306789285, 6.3639610306789285], [-4.676218837063681, 8.051703224294176], [-2.3868279, 9.0], [0.0, 9.0]], [\"M\", \"C\", \"C\", \"C\", \"C\", \"C\", \"C\", \"C\", \"C\", \"Z\"]]}, {\"data\": \"data06\", \"xindex\": 0, \"yindex\": 1, \"coordinates\": \"axes\", \"id\": \"el2866117980454416pts\", \"facecolor\": \"#1B9E77\", \"edgecolor\": \"none\", \"edgewidth\": 1.0, \"alpha\": 1, \"zorder\": 1000002.0, \"markerpath\": [[[0.0, 9.0], [2.3868279, 9.0], [4.676218837063681, 8.051703224294176], [6.3639610306789285, 6.3639610306789285], [8.051703224294176, 4.676218837063681], [9.0, 2.3868279], [9.0, 0.0], [9.0, -2.3868279], [8.051703224294176, -4.676218837063681], [6.3639610306789285, -6.3639610306789285], [4.676218837063681, -8.051703224294176], [2.3868279, -9.0], [0.0, -9.0], [-2.3868279, -9.0], [-4.676218837063681, -8.051703224294176], [-6.3639610306789285, -6.3639610306789285], [-8.051703224294176, -4.676218837063681], [-9.0, -2.3868279], [-9.0, 0.0], [-9.0, 2.3868279], [-8.051703224294176, 4.676218837063681], [-6.3639610306789285, 6.3639610306789285], [-4.676218837063681, 8.051703224294176], [-2.3868279, 9.0], [0.0, 9.0]], [\"M\", \"C\", \"C\", \"C\", \"C\", \"C\", \"C\", \"C\", \"C\", \"Z\"]]}, {\"data\": \"data06\", \"xindex\": 0, \"yindex\": 2, \"coordinates\": \"axes\", \"id\": \"el2866117966046376pts\", \"facecolor\": \"#D95F02\", \"edgecolor\": \"none\", \"edgewidth\": 1.0, \"alpha\": 1, \"zorder\": 1000002.0, \"markerpath\": [[[0.0, 9.0], [2.3868279, 9.0], [4.676218837063681, 8.051703224294176], [6.3639610306789285, 6.3639610306789285], [8.051703224294176, 4.676218837063681], [9.0, 2.3868279], [9.0, 0.0], [9.0, -2.3868279], [8.051703224294176, -4.676218837063681], [6.3639610306789285, -6.3639610306789285], [4.676218837063681, -8.051703224294176], [2.3868279, -9.0], [0.0, -9.0], [-2.3868279, -9.0], [-4.676218837063681, -8.051703224294176], [-6.3639610306789285, -6.3639610306789285], [-8.051703224294176, -4.676218837063681], [-9.0, -2.3868279], [-9.0, 0.0], [-9.0, 2.3868279], [-8.051703224294176, 4.676218837063681], [-6.3639610306789285, 6.3639610306789285], [-4.676218837063681, 8.051703224294176], [-2.3868279, 9.0], [0.0, 9.0]], [\"M\", \"C\", \"C\", \"C\", \"C\", \"C\", \"C\", \"C\", \"C\", \"Z\"]]}, {\"data\": \"data06\", \"xindex\": 0, \"yindex\": 3, \"coordinates\": \"axes\", \"id\": \"el2866117966048336pts\", \"facecolor\": \"#7570B3\", \"edgecolor\": \"none\", \"edgewidth\": 1.0, \"alpha\": 1, \"zorder\": 1000002.0, \"markerpath\": [[[0.0, 9.0], [2.3868279, 9.0], [4.676218837063681, 8.051703224294176], [6.3639610306789285, 6.3639610306789285], [8.051703224294176, 4.676218837063681], [9.0, 2.3868279], [9.0, 0.0], [9.0, -2.3868279], [8.051703224294176, -4.676218837063681], [6.3639610306789285, -6.3639610306789285], [4.676218837063681, -8.051703224294176], [2.3868279, -9.0], [0.0, -9.0], [-2.3868279, -9.0], [-4.676218837063681, -8.051703224294176], [-6.3639610306789285, -6.3639610306789285], [-8.051703224294176, -4.676218837063681], [-9.0, -2.3868279], [-9.0, 0.0], [-9.0, 2.3868279], [-8.051703224294176, 4.676218837063681], [-6.3639610306789285, 6.3639610306789285], [-4.676218837063681, 8.051703224294176], [-2.3868279, 9.0], [0.0, 9.0]], [\"M\", \"C\", \"C\", \"C\", \"C\", \"C\", \"C\", \"C\", \"C\", \"Z\"]]}, {\"data\": \"data06\", \"xindex\": 0, \"yindex\": 4, \"coordinates\": \"axes\", \"id\": \"el2866117966048616pts\", \"facecolor\": \"#E7298A\", \"edgecolor\": \"none\", \"edgewidth\": 1.0, \"alpha\": 1, \"zorder\": 1000002.0, \"markerpath\": [[[0.0, 9.0], [2.3868279, 9.0], [4.676218837063681, 8.051703224294176], [6.3639610306789285, 6.3639610306789285], [8.051703224294176, 4.676218837063681], [9.0, 2.3868279], [9.0, 0.0], [9.0, -2.3868279], [8.051703224294176, -4.676218837063681], [6.3639610306789285, -6.3639610306789285], [4.676218837063681, -8.051703224294176], [2.3868279, -9.0], [0.0, -9.0], [-2.3868279, -9.0], [-4.676218837063681, -8.051703224294176], [-6.3639610306789285, -6.3639610306789285], [-8.051703224294176, -4.676218837063681], [-9.0, -2.3868279], [-9.0, 0.0], [-9.0, 2.3868279], [-8.051703224294176, 4.676218837063681], [-6.3639610306789285, 6.3639610306789285], [-4.676218837063681, 8.051703224294176], [-2.3868279, 9.0], [0.0, 9.0]], [\"M\", \"C\", \"C\", \"C\", \"C\", \"C\", \"C\", \"C\", \"C\", \"Z\"]]}, {\"data\": \"data06\", \"xindex\": 0, \"yindex\": 5, \"coordinates\": \"axes\", \"id\": \"el2866118008857880pts\", \"facecolor\": \"#66A61E\", \"edgecolor\": \"none\", \"edgewidth\": 1.0, \"alpha\": 1, \"zorder\": 1000002.0, \"markerpath\": [[[0.0, 9.0], [2.3868279, 9.0], [4.676218837063681, 8.051703224294176], [6.3639610306789285, 6.3639610306789285], [8.051703224294176, 4.676218837063681], [9.0, 2.3868279], [9.0, 0.0], [9.0, -2.3868279], [8.051703224294176, -4.676218837063681], [6.3639610306789285, -6.3639610306789285], [4.676218837063681, -8.051703224294176], [2.3868279, -9.0], [0.0, -9.0], [-2.3868279, -9.0], [-4.676218837063681, -8.051703224294176], [-6.3639610306789285, -6.3639610306789285], [-8.051703224294176, -4.676218837063681], [-9.0, -2.3868279], [-9.0, 0.0], [-9.0, 2.3868279], [-8.051703224294176, 4.676218837063681], [-6.3639610306789285, 6.3639610306789285], [-4.676218837063681, 8.051703224294176], [-2.3868279, 9.0], [0.0, 9.0]], [\"M\", \"C\", \"C\", \"C\", \"C\", \"C\", \"C\", \"C\", \"C\", \"Z\"]]}], \"texts\": [{\"text\": \"metro, paris, home\", \"position\": [0.04736303123399899, 0.21768457198920774], \"coordinates\": \"axes\", \"h_anchor\": \"start\", \"v_baseline\": \"auto\", \"rotation\": -0.0, \"fontsize\": 10.0, \"color\": \"#000000\", \"alpha\": 1, \"zorder\": 1000003.0, \"id\": \"el2866117980454080\"}, {\"text\": \"Pool, parking, star\", \"position\": [0.04736303123399899, 0.17169487368162864], \"coordinates\": \"axes\", \"h_anchor\": \"start\", \"v_baseline\": \"auto\", \"rotation\": -0.0, \"fontsize\": 10.0, \"color\": \"#000000\", \"alpha\": 1, \"zorder\": 1000003.0, \"id\": \"el2866117980451168\"}, {\"text\": \"resort, relax, plaza\", \"position\": [0.04736303123399899, 0.12570517537404954], \"coordinates\": \"axes\", \"h_anchor\": \"start\", \"v_baseline\": \"auto\", \"rotation\": -0.0, \"fontsize\": 10.0, \"color\": \"#000000\", \"alpha\": 1, \"zorder\": 1000003.0, \"id\": \"el2866117966045536\"}, {\"text\": \"London, pubs, theatre\", \"position\": [0.04736303123399899, 0.07971547706647045], \"coordinates\": \"axes\", \"h_anchor\": \"start\", \"v_baseline\": \"auto\", \"rotation\": -0.0, \"fontsize\": 10.0, \"color\": \"#000000\", \"alpha\": 1, \"zorder\": 1000003.0, \"id\": \"el2866117966045424\"}, {\"text\": \"terrace, buffet\", \"position\": [0.04736303123399899, 0.03372577875889135], \"coordinates\": \"axes\", \"h_anchor\": \"start\", \"v_baseline\": \"auto\", \"rotation\": -0.0, \"fontsize\": 10.0, \"color\": \"#000000\", \"alpha\": 1, \"zorder\": 1000003.0, \"id\": \"el2866118008857600\"}], \"collections\": [], \"images\": [], \"sharex\": [], \"sharey\": []}], \"data\": {\"data01\": [[-0.144273738929618, 0.6642901335521074], [-0.27588508358349223, 0.6631106434531775], [-0.5251157802088288, 0.43000596188414697], [-0.38927038967593774, 0.6043809293140007], [-0.12945494356360676, 0.5263795714446701], [-0.02453111440359647, 0.6090949045068542], [-0.04870525640977265, 0.548446813282525], [0.00933430093300418, 0.4786950578853822]], \"data02\": [[0.13598289834615962, 0.3474720714232079], [0.3505068995193678, -0.2675263929616274], [-0.33445299486681984, -0.3598825961655474], [-0.535183986190268, 0.19474130229723546], [0.7355747899683729, -0.18795325575608007], [-0.45293252304784015, -0.49070456085318065], [-0.09459524340739224, -0.04109606256403671], [-0.1030025343748685, 0.051542435364387185], [-0.08783303334869494, -0.2322088154393628], [0.297970334289937, -0.47640923210395647], [-0.008569556231517146, -0.2747295384909854], [-0.07138200836729042, 0.13628624919319654], [0.30588773007185455, 0.7033619090221837], [0.6043450483404597, -0.3541226526588942], [0.20541341556363266, 0.07882440658603558], [0.5175003751578163, 0.0098826712907171], [-0.17405701031913728, -0.22173700945627117], [-0.2485510052817845, -0.31823788815630677], [-0.6639325979507404, 0.07392853581405703], [0.17403583423564536, -0.225455156729063], [-0.6236635909766803, -0.18307171493124844], [-0.25888611583955007, -0.4159105234338911], [0.22309008275389214, -0.13133931014343775], [0.4259513442165012, -0.5037382353994113], [-0.4434425648408542, -0.13468864968421854], [-0.37978537383397837, 0.1917466385078326], [-0.3175701282681612, -0.48788611781192914], [0.0652659259367444, 0.037994451754156694], [-0.479230539674124, -0.3438098655714066], [0.12331210417640177, -0.04374939597942061], [-0.4721039928524545, 0.5058944602698701], [0.30431659426322444, 0.0205924457514253], [-0.607250452399224, -0.29045807148767816], [-0.6387540506977941, 0.16552302294328808], [0.4886373718469531, -0.1578628356333167], [0.5526818962227592, 0.05371665419127903], [0.04032540888552263, -0.07623061099835048], [0.29792350004657236, -0.10524910090464458], [0.5621788238875942, -0.422611057902282], [0.3707529314475351, -0.34461150685455494], [0.5101070388107414, 0.0735916925949504], [-0.42832846637890215, -0.24285348660597514], [-0.390080335099373, 0.044711299497909744], [0.24487201208151493, -0.35774338779898807], [0.049002524463676346, -0.22234731408289662], [-0.29751869725303726, -0.24009110252911325], [-0.24952203727214478, 0.20255817627711792], [-0.3120853487221109, 0.07125303668843108], [-0.461318626088283, 0.0006331968682805159]], \"data03\": [[-0.07111446221311483, -0.7467804211086775], [-0.07101773190576126, -0.6051358105939606], [-0.2715540147699459, -0.664649917490453], [-0.051649281625350645, -0.4273820191764554], [0.06341946048289313, -0.5449230320955541], [-0.13385525646303467, -0.5086205526591377], [-0.028298677222683786, -0.6175187444691331], [0.08186708889147125, -0.578206931449875], [0.04386952477524858, -0.5593075686383666], [0.14431791531114355, -0.6273056087975933], [0.13494256729233997, -0.33151965116579973], [0.19501832345342288, -0.5661254938078376], [-0.08586769811892098, -0.48194732106111154], [0.0080125172900539, -0.3491045246362493]], \"data04\": [[0.39526883645138233, 0.2167563222886956], [0.41264102394707386, 0.3559779795843104], [0.176999308190785, 0.22543307084915554], [-0.6993004330115796, 0.022036923184337122], [0.7519892990970877, 0.10673188782518789], [0.3701330721521992, 0.4311556717175484]], \"data05\": [[-0.2773142793782317, 0.39047895919086595], [-0.23771465539447995, -0.021032264825029907], [0.2809873796816894, 0.2335602521762807], [0.13175884817072298, 0.6894153671376396], [0.22498215018108306, 0.2254810107122297], [0.48083795241824995, 0.31993067365612876], [0.09156072356722503, 0.5778190880310078], [0.1041978410828387, 0.1512718152277848], [0.28571058944874067, 0.5146338680063682], [0.4071975307154691, 0.5130150602356436], [0.6042226449194924, 0.4433260382756386], [0.5376199735978023, -0.07487441251417723], [-0.8106968367165794, -0.24377166116583723], [-0.1467386210220347, 0.3422583104922277], [-0.022488914859735046, 0.2774907437613187], [0.4492011779237375, 0.1633081667025478], [0.2327209882784659, 0.370035515542654], [-0.31851908172040383, 0.330981127362874], [-0.22190192324420766, 0.4936116176339294], [-0.0842374151898738, 0.37451287423541907], [0.6014279270086256, 0.2469869606607811], [-0.5539501458772719, 0.3677777858422445], [-0.048385300704039985, 0.22987562275207943]], \"data06\": [[0.024321556579621102, 0.22841550159430954, 0.18242580328673044, 0.13643610497915135, 0.09044640667157224, 0.04445670836399314]], \"data07\": [[0.00896057347670251, 0.015329899435859717], [0.1905721966205837, 0.015329899435859717], [0.19313236047107016, 0.015329899435859717], [0.19313236047107016, 0.021461859210203577], [0.19313236047107016, 0.24834437086092717], [0.19313236047107016, 0.254476330635271], [0.1905721966205837, 0.254476330635271], [0.00896057347670251, 0.254476330635271], [0.006400409626216075, 0.254476330635271], [0.006400409626216075, 0.24834437086092717], [0.006400409626216075, 0.021461859210203577], [0.006400409626216075, 0.015329899435859717], [0.00896057347670251, 0.015329899435859717]]}, \"id\": \"el2866117965888312\", \"plugins\": [{\"type\": \"reset\"}, {\"type\": \"zoom\", \"button\": true, \"enabled\": false}, {\"type\": \"boxzoom\", \"button\": true, \"enabled\": false}, {\"type\": \"htmltooltip\", \"id\": \"el2866111979205800pts\", \"labels\": [\"Hotel Laura\", \"Hostal Benamar\", \"Hostal Pereda Hs\", \"Aparthotel Bonanova\", \"Hotel Sant Anna Roma\", \"Hotel Le Clement\", \"Home Moderne\", \"Henri IV Rive Gauche Hotel\"], \"hoffset\": 10, \"voffset\": 10}, {\"type\": \"toptoolbar\"}, {\"type\": \"htmltooltip\", \"id\": \"el2866113326250472pts\", \"labels\": [\"Y Hotel City South\", \"Grand Hyatt Istanbul\", \"Terrible's Hotel & Casino\", \"CHI Residences 279\", \"Dimora Veneziana\", \"Hacienda Juanita\", \"Le Germain Hotel Montreal\", \"Ace Hotel\", \"Pan Pacific Vancouver\", \"Courtyard Miami West/FL Turnpike\", \"Venetian Resort Hotel Casino\", \"Hotel Banys Orientals\", \"AC Hotel Monte Real by Marriott\", \"La Quinta Inn Dallas East (I-30)\", \"Hotel Champ-De-Mars\", \"Villa Igea\", \"Marriott Waterfront Seattle\", \"AmazInn & Suites\", \"Holiday Inn Express Hotel & Suites at the WTC\", \"Grand Copthorne Waterfront Hotel\", \"BEST WESTERN Country Suites\", \"Comfort Suites I-240 East-Airport\", \"The Mercer\", \"Tod Motor Motel\", \"Holiday Inn Seattle\", \"SANA Berlin Hotel\", \"Courtyard Indianapolis Downtown\", \"Comfort Inn Chelsea\", \"Hampton Inn Indianapolis Northwest - Park 100\", \"Algonquin Hotel Times Square, Autograph Collection\", \"B&T Rooms Trani\", \"Hotel Carter\", \"Comfort Inn & Suites Las Vegas\", \"Americas Best Value Inn - Los Angeles / Hollywood\", \"Estrel Berlin\", \"Anastasia Hotel\", \"The Regent Berlin\", \"Hotel Tomo, a Joie de Vivre hotel\", \"Penn Tower Hotel\", \"Park Hyatt Sydney\", \"Hotel Noemi\", \"Hilton Garden Inn Napa\", \"B4 Venezia-Mestre\", \"Courtyard San Diego Old Town\", \"Raffles Hotel Singapore\", \"BEST WESTERN PLUS Carriage Inn\", \"Catalonia Port\", \"Society Hill Hotel\", \"Mantra on Kent\"], \"hoffset\": 10, \"voffset\": 10}, {\"type\": \"toptoolbar\"}, {\"type\": \"htmltooltip\", \"id\": \"el28664463690808pts\", \"labels\": [\"Summer Bay by EVRentals\", \"Arizona Grand Resort\", \"Grand Palms\", \"Courtyard by Marriott Ocean City\", \"The Royal Playa del Carmen\", \"Hilton Orlando Bonnet Creek\", \"Parrot Key Hotel and Resort\", \"Viceroy Riviera Maya\", \"Rio Mar Beach Resort & Spa, a Wyndham Grand Resort\", \"Outrigger Maui Eldorado\", \"Rydges Plaza Dubai\", \"Econo Lodge Oceanblock\", \"Lake Eve Resort\", \"Paradise Plaza Inn\"], \"hoffset\": 10, \"voffset\": 10}, {\"type\": \"toptoolbar\"}, {\"type\": \"htmltooltip\", \"id\": \"el2866117944790656pts\", \"labels\": [\"Hotel Westminster\", \"Colliers Hotel\", \"Travelodge London Kings Cross Royal Scot\", \"Manor Court Hotel\", \"White House Hotel\", \"Ruskin\"], \"hoffset\": 10, \"voffset\": 10}, {\"type\": \"toptoolbar\"}, {\"type\": \"htmltooltip\", \"id\": \"el2866118191071864pts\", \"labels\": [\"Aparthotel Atenea\", \"Marriott Amsterdam\", \"Relais Fontana Di Trevi\", \"Hotel 4 Youth am Mauerpark\", \"Hotel Alle Guglie\", \"Universo Nord Hotel\", \"Villa Glori Hotel\", \"Die Port van Cleve\", \"Hotel 81 - Chinatown\", \"Hotel Caput Mundi Roma\", \"Arta Lenz Hotel\", \"Hali Hotel\", \"Nollendorfplatz City-Apartments\", \"Hotel Acta Millenni\", \"Regente Hotel\", \"Pantalon Hotel\", \"Hampshire Hotel - Prinsengracht\", \"Agon Lichtburg\", \"Hotel Tre Stelle\", \"Hotel II Castillas\", \"Hotel Verdi\", \"Ciutat de Sant Adria Hotel\", \"H10 Villa de la Reina\"], \"hoffset\": 10, \"voffset\": 10}, {\"type\": \"toptoolbar\"}]});\n",
       "      });\n",
       "    });\n",
       "}else{\n",
       "    // require.js not available: dynamically load d3 & mpld3\n",
       "    mpld3_load_lib(\"https://mpld3.github.io/js/d3.v3.min.js\", function(){\n",
       "         mpld3_load_lib(\"https://mpld3.github.io/js/mpld3.v0.3.js\", function(){\n",
       "                 \n",
       "    mpld3.register_plugin(\"htmltooltip\", HtmlTooltipPlugin);\n",
       "    HtmlTooltipPlugin.prototype = Object.create(mpld3.Plugin.prototype);\n",
       "    HtmlTooltipPlugin.prototype.constructor = HtmlTooltipPlugin;\n",
       "    HtmlTooltipPlugin.prototype.requiredProps = [\"id\"];\n",
       "    HtmlTooltipPlugin.prototype.defaultProps = {labels:null,\n",
       "                                                hoffset:0,\n",
       "                                                voffset:10};\n",
       "    function HtmlTooltipPlugin(fig, props){\n",
       "        mpld3.Plugin.call(this, fig, props);\n",
       "    };\n",
       "\n",
       "    HtmlTooltipPlugin.prototype.draw = function(){\n",
       "       var obj = mpld3.get_element(this.props.id);\n",
       "       var labels = this.props.labels;\n",
       "       var tooltip = d3.select(\"body\").append(\"div\")\n",
       "                    .attr(\"class\", \"mpld3-tooltip\")\n",
       "                    .style(\"position\", \"absolute\")\n",
       "                    .style(\"z-index\", \"10\")\n",
       "                    .style(\"visibility\", \"hidden\");\n",
       "\n",
       "       obj.elements()\n",
       "           .on(\"mouseover\", function(d, i){\n",
       "                              tooltip.html(labels[i])\n",
       "                                     .style(\"visibility\", \"visible\");})\n",
       "           .on(\"mousemove\", function(d, i){\n",
       "                  tooltip\n",
       "                    .style(\"top\", d3.event.pageY + this.props.voffset + \"px\")\n",
       "                    .style(\"left\",d3.event.pageX + this.props.hoffset + \"px\");\n",
       "                 }.bind(this))\n",
       "           .on(\"mouseout\",  function(d, i){\n",
       "                           tooltip.style(\"visibility\", \"hidden\");});\n",
       "    };\n",
       "    \n",
       "    mpld3.register_plugin(\"toptoolbar\", TopToolbar);\n",
       "    TopToolbar.prototype = Object.create(mpld3.Plugin.prototype);\n",
       "    TopToolbar.prototype.constructor = TopToolbar;\n",
       "    function TopToolbar(fig, props){\n",
       "        mpld3.Plugin.call(this, fig, props);\n",
       "    };\n",
       "\n",
       "    TopToolbar.prototype.draw = function(){\n",
       "      // the toolbar svg doesn't exist\n",
       "      // yet, so first draw it\n",
       "      this.fig.toolbar.draw();\n",
       "\n",
       "      // then change the y position to be\n",
       "      // at the top of the figure\n",
       "      this.fig.toolbar.toolbar.attr(\"x\", 150);\n",
       "      this.fig.toolbar.toolbar.attr(\"y\", 400);\n",
       "\n",
       "      // then remove the draw function,\n",
       "      // so that it is not called again\n",
       "      this.fig.toolbar.draw = function() {}\n",
       "    }\n",
       "    \n",
       "    mpld3.register_plugin(\"htmltooltip\", HtmlTooltipPlugin);\n",
       "    HtmlTooltipPlugin.prototype = Object.create(mpld3.Plugin.prototype);\n",
       "    HtmlTooltipPlugin.prototype.constructor = HtmlTooltipPlugin;\n",
       "    HtmlTooltipPlugin.prototype.requiredProps = [\"id\"];\n",
       "    HtmlTooltipPlugin.prototype.defaultProps = {labels:null,\n",
       "                                                hoffset:0,\n",
       "                                                voffset:10};\n",
       "    function HtmlTooltipPlugin(fig, props){\n",
       "        mpld3.Plugin.call(this, fig, props);\n",
       "    };\n",
       "\n",
       "    HtmlTooltipPlugin.prototype.draw = function(){\n",
       "       var obj = mpld3.get_element(this.props.id);\n",
       "       var labels = this.props.labels;\n",
       "       var tooltip = d3.select(\"body\").append(\"div\")\n",
       "                    .attr(\"class\", \"mpld3-tooltip\")\n",
       "                    .style(\"position\", \"absolute\")\n",
       "                    .style(\"z-index\", \"10\")\n",
       "                    .style(\"visibility\", \"hidden\");\n",
       "\n",
       "       obj.elements()\n",
       "           .on(\"mouseover\", function(d, i){\n",
       "                              tooltip.html(labels[i])\n",
       "                                     .style(\"visibility\", \"visible\");})\n",
       "           .on(\"mousemove\", function(d, i){\n",
       "                  tooltip\n",
       "                    .style(\"top\", d3.event.pageY + this.props.voffset + \"px\")\n",
       "                    .style(\"left\",d3.event.pageX + this.props.hoffset + \"px\");\n",
       "                 }.bind(this))\n",
       "           .on(\"mouseout\",  function(d, i){\n",
       "                           tooltip.style(\"visibility\", \"hidden\");});\n",
       "    };\n",
       "    \n",
       "    mpld3.register_plugin(\"toptoolbar\", TopToolbar);\n",
       "    TopToolbar.prototype = Object.create(mpld3.Plugin.prototype);\n",
       "    TopToolbar.prototype.constructor = TopToolbar;\n",
       "    function TopToolbar(fig, props){\n",
       "        mpld3.Plugin.call(this, fig, props);\n",
       "    };\n",
       "\n",
       "    TopToolbar.prototype.draw = function(){\n",
       "      // the toolbar svg doesn't exist\n",
       "      // yet, so first draw it\n",
       "      this.fig.toolbar.draw();\n",
       "\n",
       "      // then change the y position to be\n",
       "      // at the top of the figure\n",
       "      this.fig.toolbar.toolbar.attr(\"x\", 150);\n",
       "      this.fig.toolbar.toolbar.attr(\"y\", 400);\n",
       "\n",
       "      // then remove the draw function,\n",
       "      // so that it is not called again\n",
       "      this.fig.toolbar.draw = function() {}\n",
       "    }\n",
       "    \n",
       "    mpld3.register_plugin(\"htmltooltip\", HtmlTooltipPlugin);\n",
       "    HtmlTooltipPlugin.prototype = Object.create(mpld3.Plugin.prototype);\n",
       "    HtmlTooltipPlugin.prototype.constructor = HtmlTooltipPlugin;\n",
       "    HtmlTooltipPlugin.prototype.requiredProps = [\"id\"];\n",
       "    HtmlTooltipPlugin.prototype.defaultProps = {labels:null,\n",
       "                                                hoffset:0,\n",
       "                                                voffset:10};\n",
       "    function HtmlTooltipPlugin(fig, props){\n",
       "        mpld3.Plugin.call(this, fig, props);\n",
       "    };\n",
       "\n",
       "    HtmlTooltipPlugin.prototype.draw = function(){\n",
       "       var obj = mpld3.get_element(this.props.id);\n",
       "       var labels = this.props.labels;\n",
       "       var tooltip = d3.select(\"body\").append(\"div\")\n",
       "                    .attr(\"class\", \"mpld3-tooltip\")\n",
       "                    .style(\"position\", \"absolute\")\n",
       "                    .style(\"z-index\", \"10\")\n",
       "                    .style(\"visibility\", \"hidden\");\n",
       "\n",
       "       obj.elements()\n",
       "           .on(\"mouseover\", function(d, i){\n",
       "                              tooltip.html(labels[i])\n",
       "                                     .style(\"visibility\", \"visible\");})\n",
       "           .on(\"mousemove\", function(d, i){\n",
       "                  tooltip\n",
       "                    .style(\"top\", d3.event.pageY + this.props.voffset + \"px\")\n",
       "                    .style(\"left\",d3.event.pageX + this.props.hoffset + \"px\");\n",
       "                 }.bind(this))\n",
       "           .on(\"mouseout\",  function(d, i){\n",
       "                           tooltip.style(\"visibility\", \"hidden\");});\n",
       "    };\n",
       "    \n",
       "    mpld3.register_plugin(\"toptoolbar\", TopToolbar);\n",
       "    TopToolbar.prototype = Object.create(mpld3.Plugin.prototype);\n",
       "    TopToolbar.prototype.constructor = TopToolbar;\n",
       "    function TopToolbar(fig, props){\n",
       "        mpld3.Plugin.call(this, fig, props);\n",
       "    };\n",
       "\n",
       "    TopToolbar.prototype.draw = function(){\n",
       "      // the toolbar svg doesn't exist\n",
       "      // yet, so first draw it\n",
       "      this.fig.toolbar.draw();\n",
       "\n",
       "      // then change the y position to be\n",
       "      // at the top of the figure\n",
       "      this.fig.toolbar.toolbar.attr(\"x\", 150);\n",
       "      this.fig.toolbar.toolbar.attr(\"y\", 400);\n",
       "\n",
       "      // then remove the draw function,\n",
       "      // so that it is not called again\n",
       "      this.fig.toolbar.draw = function() {}\n",
       "    }\n",
       "    \n",
       "    mpld3.register_plugin(\"htmltooltip\", HtmlTooltipPlugin);\n",
       "    HtmlTooltipPlugin.prototype = Object.create(mpld3.Plugin.prototype);\n",
       "    HtmlTooltipPlugin.prototype.constructor = HtmlTooltipPlugin;\n",
       "    HtmlTooltipPlugin.prototype.requiredProps = [\"id\"];\n",
       "    HtmlTooltipPlugin.prototype.defaultProps = {labels:null,\n",
       "                                                hoffset:0,\n",
       "                                                voffset:10};\n",
       "    function HtmlTooltipPlugin(fig, props){\n",
       "        mpld3.Plugin.call(this, fig, props);\n",
       "    };\n",
       "\n",
       "    HtmlTooltipPlugin.prototype.draw = function(){\n",
       "       var obj = mpld3.get_element(this.props.id);\n",
       "       var labels = this.props.labels;\n",
       "       var tooltip = d3.select(\"body\").append(\"div\")\n",
       "                    .attr(\"class\", \"mpld3-tooltip\")\n",
       "                    .style(\"position\", \"absolute\")\n",
       "                    .style(\"z-index\", \"10\")\n",
       "                    .style(\"visibility\", \"hidden\");\n",
       "\n",
       "       obj.elements()\n",
       "           .on(\"mouseover\", function(d, i){\n",
       "                              tooltip.html(labels[i])\n",
       "                                     .style(\"visibility\", \"visible\");})\n",
       "           .on(\"mousemove\", function(d, i){\n",
       "                  tooltip\n",
       "                    .style(\"top\", d3.event.pageY + this.props.voffset + \"px\")\n",
       "                    .style(\"left\",d3.event.pageX + this.props.hoffset + \"px\");\n",
       "                 }.bind(this))\n",
       "           .on(\"mouseout\",  function(d, i){\n",
       "                           tooltip.style(\"visibility\", \"hidden\");});\n",
       "    };\n",
       "    \n",
       "    mpld3.register_plugin(\"toptoolbar\", TopToolbar);\n",
       "    TopToolbar.prototype = Object.create(mpld3.Plugin.prototype);\n",
       "    TopToolbar.prototype.constructor = TopToolbar;\n",
       "    function TopToolbar(fig, props){\n",
       "        mpld3.Plugin.call(this, fig, props);\n",
       "    };\n",
       "\n",
       "    TopToolbar.prototype.draw = function(){\n",
       "      // the toolbar svg doesn't exist\n",
       "      // yet, so first draw it\n",
       "      this.fig.toolbar.draw();\n",
       "\n",
       "      // then change the y position to be\n",
       "      // at the top of the figure\n",
       "      this.fig.toolbar.toolbar.attr(\"x\", 150);\n",
       "      this.fig.toolbar.toolbar.attr(\"y\", 400);\n",
       "\n",
       "      // then remove the draw function,\n",
       "      // so that it is not called again\n",
       "      this.fig.toolbar.draw = function() {}\n",
       "    }\n",
       "    \n",
       "    mpld3.register_plugin(\"htmltooltip\", HtmlTooltipPlugin);\n",
       "    HtmlTooltipPlugin.prototype = Object.create(mpld3.Plugin.prototype);\n",
       "    HtmlTooltipPlugin.prototype.constructor = HtmlTooltipPlugin;\n",
       "    HtmlTooltipPlugin.prototype.requiredProps = [\"id\"];\n",
       "    HtmlTooltipPlugin.prototype.defaultProps = {labels:null,\n",
       "                                                hoffset:0,\n",
       "                                                voffset:10};\n",
       "    function HtmlTooltipPlugin(fig, props){\n",
       "        mpld3.Plugin.call(this, fig, props);\n",
       "    };\n",
       "\n",
       "    HtmlTooltipPlugin.prototype.draw = function(){\n",
       "       var obj = mpld3.get_element(this.props.id);\n",
       "       var labels = this.props.labels;\n",
       "       var tooltip = d3.select(\"body\").append(\"div\")\n",
       "                    .attr(\"class\", \"mpld3-tooltip\")\n",
       "                    .style(\"position\", \"absolute\")\n",
       "                    .style(\"z-index\", \"10\")\n",
       "                    .style(\"visibility\", \"hidden\");\n",
       "\n",
       "       obj.elements()\n",
       "           .on(\"mouseover\", function(d, i){\n",
       "                              tooltip.html(labels[i])\n",
       "                                     .style(\"visibility\", \"visible\");})\n",
       "           .on(\"mousemove\", function(d, i){\n",
       "                  tooltip\n",
       "                    .style(\"top\", d3.event.pageY + this.props.voffset + \"px\")\n",
       "                    .style(\"left\",d3.event.pageX + this.props.hoffset + \"px\");\n",
       "                 }.bind(this))\n",
       "           .on(\"mouseout\",  function(d, i){\n",
       "                           tooltip.style(\"visibility\", \"hidden\");});\n",
       "    };\n",
       "    \n",
       "    mpld3.register_plugin(\"toptoolbar\", TopToolbar);\n",
       "    TopToolbar.prototype = Object.create(mpld3.Plugin.prototype);\n",
       "    TopToolbar.prototype.constructor = TopToolbar;\n",
       "    function TopToolbar(fig, props){\n",
       "        mpld3.Plugin.call(this, fig, props);\n",
       "    };\n",
       "\n",
       "    TopToolbar.prototype.draw = function(){\n",
       "      // the toolbar svg doesn't exist\n",
       "      // yet, so first draw it\n",
       "      this.fig.toolbar.draw();\n",
       "\n",
       "      // then change the y position to be\n",
       "      // at the top of the figure\n",
       "      this.fig.toolbar.toolbar.attr(\"x\", 150);\n",
       "      this.fig.toolbar.toolbar.attr(\"y\", 400);\n",
       "\n",
       "      // then remove the draw function,\n",
       "      // so that it is not called again\n",
       "      this.fig.toolbar.draw = function() {}\n",
       "    }\n",
       "    \n",
       "                 mpld3.draw_figure(\"fig_el28661179658883127883376518\", {\"width\": 1008.0, \"height\": 432.0, \"axes\": [{\"bbox\": [0.125, 0.125, 0.775, 0.755], \"xlim\": [-0.8575774207909894, 0.7988698831714977], \"ylim\": [-0.7902846910126033, 0.7468661789261095], \"xdomain\": [-0.8575774207909894, 0.7988698831714977], \"ydomain\": [-0.7902846910126033, 0.7468661789261095], \"xscale\": \"linear\", \"yscale\": \"linear\", \"axes\": [{\"position\": \"bottom\", \"nticks\": 0, \"tickvalues\": [], \"tickformat\": \"\", \"scale\": \"linear\", \"fontsize\": null, \"grid\": {\"gridOn\": false}, \"visible\": false}, {\"position\": \"left\", \"nticks\": 0, \"tickvalues\": [], \"tickformat\": \"\", \"scale\": \"linear\", \"fontsize\": null, \"grid\": {\"gridOn\": false}, \"visible\": false}], \"axesbg\": \"#FFFFFF\", \"axesbgalpha\": null, \"zoomable\": true, \"id\": \"el2866118762134608\", \"lines\": [], \"paths\": [{\"data\": \"data07\", \"xindex\": 0, \"yindex\": 1, \"coordinates\": \"axes\", \"pathcodes\": [\"M\", \"L\", \"S\", \"L\", \"S\", \"L\", \"S\", \"L\", \"S\", \"Z\"], \"id\": \"el2866118139777208\", \"dasharray\": \"none\", \"alpha\": 0.8, \"facecolor\": \"#FFFFFF\", \"edgecolor\": \"#CCCCCC\", \"edgewidth\": 1.0, \"zorder\": 1000000.0}], \"markers\": [{\"data\": \"data01\", \"xindex\": 0, \"yindex\": 1, \"coordinates\": \"data\", \"id\": \"el2866111979205800pts\", \"facecolor\": \"#1B9E77\", \"edgecolor\": \"none\", \"edgewidth\": 1.0, \"alpha\": 1, \"zorder\": 2, \"markerpath\": [[[0.0, 9.0], [2.3868279, 9.0], [4.676218837063681, 8.051703224294176], [6.3639610306789285, 6.3639610306789285], [8.051703224294176, 4.676218837063681], [9.0, 2.3868279], [9.0, 0.0], [9.0, -2.3868279], [8.051703224294176, -4.676218837063681], [6.3639610306789285, -6.3639610306789285], [4.676218837063681, -8.051703224294176], [2.3868279, -9.0], [0.0, -9.0], [-2.3868279, -9.0], [-4.676218837063681, -8.051703224294176], [-6.3639610306789285, -6.3639610306789285], [-8.051703224294176, -4.676218837063681], [-9.0, -2.3868279], [-9.0, 0.0], [-9.0, 2.3868279], [-8.051703224294176, 4.676218837063681], [-6.3639610306789285, 6.3639610306789285], [-4.676218837063681, 8.051703224294176], [-2.3868279, 9.0], [0.0, 9.0]], [\"M\", \"C\", \"C\", \"C\", \"C\", \"C\", \"C\", \"C\", \"C\", \"Z\"]]}, {\"data\": \"data02\", \"xindex\": 0, \"yindex\": 1, \"coordinates\": \"data\", \"id\": \"el2866113326250472pts\", \"facecolor\": \"#D95F02\", \"edgecolor\": \"none\", \"edgewidth\": 1.0, \"alpha\": 1, \"zorder\": 2, \"markerpath\": [[[0.0, 9.0], [2.3868279, 9.0], [4.676218837063681, 8.051703224294176], [6.3639610306789285, 6.3639610306789285], [8.051703224294176, 4.676218837063681], [9.0, 2.3868279], [9.0, 0.0], [9.0, -2.3868279], [8.051703224294176, -4.676218837063681], [6.3639610306789285, -6.3639610306789285], [4.676218837063681, -8.051703224294176], [2.3868279, -9.0], [0.0, -9.0], [-2.3868279, -9.0], [-4.676218837063681, -8.051703224294176], [-6.3639610306789285, -6.3639610306789285], [-8.051703224294176, -4.676218837063681], [-9.0, -2.3868279], [-9.0, 0.0], [-9.0, 2.3868279], [-8.051703224294176, 4.676218837063681], [-6.3639610306789285, 6.3639610306789285], [-4.676218837063681, 8.051703224294176], [-2.3868279, 9.0], [0.0, 9.0]], [\"M\", \"C\", \"C\", \"C\", \"C\", \"C\", \"C\", \"C\", \"C\", \"Z\"]]}, {\"data\": \"data03\", \"xindex\": 0, \"yindex\": 1, \"coordinates\": \"data\", \"id\": \"el28664463690808pts\", \"facecolor\": \"#7570B3\", \"edgecolor\": \"none\", \"edgewidth\": 1.0, \"alpha\": 1, \"zorder\": 2, \"markerpath\": [[[0.0, 9.0], [2.3868279, 9.0], [4.676218837063681, 8.051703224294176], [6.3639610306789285, 6.3639610306789285], [8.051703224294176, 4.676218837063681], [9.0, 2.3868279], [9.0, 0.0], [9.0, -2.3868279], [8.051703224294176, -4.676218837063681], [6.3639610306789285, -6.3639610306789285], [4.676218837063681, -8.051703224294176], [2.3868279, -9.0], [0.0, -9.0], [-2.3868279, -9.0], [-4.676218837063681, -8.051703224294176], [-6.3639610306789285, -6.3639610306789285], [-8.051703224294176, -4.676218837063681], [-9.0, -2.3868279], [-9.0, 0.0], [-9.0, 2.3868279], [-8.051703224294176, 4.676218837063681], [-6.3639610306789285, 6.3639610306789285], [-4.676218837063681, 8.051703224294176], [-2.3868279, 9.0], [0.0, 9.0]], [\"M\", \"C\", \"C\", \"C\", \"C\", \"C\", \"C\", \"C\", \"C\", \"Z\"]]}, {\"data\": \"data04\", \"xindex\": 0, \"yindex\": 1, \"coordinates\": \"data\", \"id\": \"el2866117944790656pts\", \"facecolor\": \"#E7298A\", \"edgecolor\": \"none\", \"edgewidth\": 1.0, \"alpha\": 1, \"zorder\": 2, \"markerpath\": [[[0.0, 9.0], [2.3868279, 9.0], [4.676218837063681, 8.051703224294176], [6.3639610306789285, 6.3639610306789285], [8.051703224294176, 4.676218837063681], [9.0, 2.3868279], [9.0, 0.0], [9.0, -2.3868279], [8.051703224294176, -4.676218837063681], [6.3639610306789285, -6.3639610306789285], [4.676218837063681, -8.051703224294176], [2.3868279, -9.0], [0.0, -9.0], [-2.3868279, -9.0], [-4.676218837063681, -8.051703224294176], [-6.3639610306789285, -6.3639610306789285], [-8.051703224294176, -4.676218837063681], [-9.0, -2.3868279], [-9.0, 0.0], [-9.0, 2.3868279], [-8.051703224294176, 4.676218837063681], [-6.3639610306789285, 6.3639610306789285], [-4.676218837063681, 8.051703224294176], [-2.3868279, 9.0], [0.0, 9.0]], [\"M\", \"C\", \"C\", \"C\", \"C\", \"C\", \"C\", \"C\", \"C\", \"Z\"]]}, {\"data\": \"data05\", \"xindex\": 0, \"yindex\": 1, \"coordinates\": \"data\", \"id\": \"el2866118191071864pts\", \"facecolor\": \"#66A61E\", \"edgecolor\": \"none\", \"edgewidth\": 1.0, \"alpha\": 1, \"zorder\": 2, \"markerpath\": [[[0.0, 9.0], [2.3868279, 9.0], [4.676218837063681, 8.051703224294176], [6.3639610306789285, 6.3639610306789285], [8.051703224294176, 4.676218837063681], [9.0, 2.3868279], [9.0, 0.0], [9.0, -2.3868279], [8.051703224294176, -4.676218837063681], [6.3639610306789285, -6.3639610306789285], [4.676218837063681, -8.051703224294176], [2.3868279, -9.0], [0.0, -9.0], [-2.3868279, -9.0], [-4.676218837063681, -8.051703224294176], [-6.3639610306789285, -6.3639610306789285], [-8.051703224294176, -4.676218837063681], [-9.0, -2.3868279], [-9.0, 0.0], [-9.0, 2.3868279], [-8.051703224294176, 4.676218837063681], [-6.3639610306789285, 6.3639610306789285], [-4.676218837063681, 8.051703224294176], [-2.3868279, 9.0], [0.0, 9.0]], [\"M\", \"C\", \"C\", \"C\", \"C\", \"C\", \"C\", \"C\", \"C\", \"Z\"]]}, {\"data\": \"data06\", \"xindex\": 0, \"yindex\": 1, \"coordinates\": \"axes\", \"id\": \"el2866117980454416pts\", \"facecolor\": \"#1B9E77\", \"edgecolor\": \"none\", \"edgewidth\": 1.0, \"alpha\": 1, \"zorder\": 1000002.0, \"markerpath\": [[[0.0, 9.0], [2.3868279, 9.0], [4.676218837063681, 8.051703224294176], [6.3639610306789285, 6.3639610306789285], [8.051703224294176, 4.676218837063681], [9.0, 2.3868279], [9.0, 0.0], [9.0, -2.3868279], [8.051703224294176, -4.676218837063681], [6.3639610306789285, -6.3639610306789285], [4.676218837063681, -8.051703224294176], [2.3868279, -9.0], [0.0, -9.0], [-2.3868279, -9.0], [-4.676218837063681, -8.051703224294176], [-6.3639610306789285, -6.3639610306789285], [-8.051703224294176, -4.676218837063681], [-9.0, -2.3868279], [-9.0, 0.0], [-9.0, 2.3868279], [-8.051703224294176, 4.676218837063681], [-6.3639610306789285, 6.3639610306789285], [-4.676218837063681, 8.051703224294176], [-2.3868279, 9.0], [0.0, 9.0]], [\"M\", \"C\", \"C\", \"C\", \"C\", \"C\", \"C\", \"C\", \"C\", \"Z\"]]}, {\"data\": \"data06\", \"xindex\": 0, \"yindex\": 2, \"coordinates\": \"axes\", \"id\": \"el2866117966046376pts\", \"facecolor\": \"#D95F02\", \"edgecolor\": \"none\", \"edgewidth\": 1.0, \"alpha\": 1, \"zorder\": 1000002.0, \"markerpath\": [[[0.0, 9.0], [2.3868279, 9.0], [4.676218837063681, 8.051703224294176], [6.3639610306789285, 6.3639610306789285], [8.051703224294176, 4.676218837063681], [9.0, 2.3868279], [9.0, 0.0], [9.0, -2.3868279], [8.051703224294176, -4.676218837063681], [6.3639610306789285, -6.3639610306789285], [4.676218837063681, -8.051703224294176], [2.3868279, -9.0], [0.0, -9.0], [-2.3868279, -9.0], [-4.676218837063681, -8.051703224294176], [-6.3639610306789285, -6.3639610306789285], [-8.051703224294176, -4.676218837063681], [-9.0, -2.3868279], [-9.0, 0.0], [-9.0, 2.3868279], [-8.051703224294176, 4.676218837063681], [-6.3639610306789285, 6.3639610306789285], [-4.676218837063681, 8.051703224294176], [-2.3868279, 9.0], [0.0, 9.0]], [\"M\", \"C\", \"C\", \"C\", \"C\", \"C\", \"C\", \"C\", \"C\", \"Z\"]]}, {\"data\": \"data06\", \"xindex\": 0, \"yindex\": 3, \"coordinates\": \"axes\", \"id\": \"el2866117966048336pts\", \"facecolor\": \"#7570B3\", \"edgecolor\": \"none\", \"edgewidth\": 1.0, \"alpha\": 1, \"zorder\": 1000002.0, \"markerpath\": [[[0.0, 9.0], [2.3868279, 9.0], [4.676218837063681, 8.051703224294176], [6.3639610306789285, 6.3639610306789285], [8.051703224294176, 4.676218837063681], [9.0, 2.3868279], [9.0, 0.0], [9.0, -2.3868279], [8.051703224294176, -4.676218837063681], [6.3639610306789285, -6.3639610306789285], [4.676218837063681, -8.051703224294176], [2.3868279, -9.0], [0.0, -9.0], [-2.3868279, -9.0], [-4.676218837063681, -8.051703224294176], [-6.3639610306789285, -6.3639610306789285], [-8.051703224294176, -4.676218837063681], [-9.0, -2.3868279], [-9.0, 0.0], [-9.0, 2.3868279], [-8.051703224294176, 4.676218837063681], [-6.3639610306789285, 6.3639610306789285], [-4.676218837063681, 8.051703224294176], [-2.3868279, 9.0], [0.0, 9.0]], [\"M\", \"C\", \"C\", \"C\", \"C\", \"C\", \"C\", \"C\", \"C\", \"Z\"]]}, {\"data\": \"data06\", \"xindex\": 0, \"yindex\": 4, \"coordinates\": \"axes\", \"id\": \"el2866117966048616pts\", \"facecolor\": \"#E7298A\", \"edgecolor\": \"none\", \"edgewidth\": 1.0, \"alpha\": 1, \"zorder\": 1000002.0, \"markerpath\": [[[0.0, 9.0], [2.3868279, 9.0], [4.676218837063681, 8.051703224294176], [6.3639610306789285, 6.3639610306789285], [8.051703224294176, 4.676218837063681], [9.0, 2.3868279], [9.0, 0.0], [9.0, -2.3868279], [8.051703224294176, -4.676218837063681], [6.3639610306789285, -6.3639610306789285], [4.676218837063681, -8.051703224294176], [2.3868279, -9.0], [0.0, -9.0], [-2.3868279, -9.0], [-4.676218837063681, -8.051703224294176], [-6.3639610306789285, -6.3639610306789285], [-8.051703224294176, -4.676218837063681], [-9.0, -2.3868279], [-9.0, 0.0], [-9.0, 2.3868279], [-8.051703224294176, 4.676218837063681], [-6.3639610306789285, 6.3639610306789285], [-4.676218837063681, 8.051703224294176], [-2.3868279, 9.0], [0.0, 9.0]], [\"M\", \"C\", \"C\", \"C\", \"C\", \"C\", \"C\", \"C\", \"C\", \"Z\"]]}, {\"data\": \"data06\", \"xindex\": 0, \"yindex\": 5, \"coordinates\": \"axes\", \"id\": \"el2866118008857880pts\", \"facecolor\": \"#66A61E\", \"edgecolor\": \"none\", \"edgewidth\": 1.0, \"alpha\": 1, \"zorder\": 1000002.0, \"markerpath\": [[[0.0, 9.0], [2.3868279, 9.0], [4.676218837063681, 8.051703224294176], [6.3639610306789285, 6.3639610306789285], [8.051703224294176, 4.676218837063681], [9.0, 2.3868279], [9.0, 0.0], [9.0, -2.3868279], [8.051703224294176, -4.676218837063681], [6.3639610306789285, -6.3639610306789285], [4.676218837063681, -8.051703224294176], [2.3868279, -9.0], [0.0, -9.0], [-2.3868279, -9.0], [-4.676218837063681, -8.051703224294176], [-6.3639610306789285, -6.3639610306789285], [-8.051703224294176, -4.676218837063681], [-9.0, -2.3868279], [-9.0, 0.0], [-9.0, 2.3868279], [-8.051703224294176, 4.676218837063681], [-6.3639610306789285, 6.3639610306789285], [-4.676218837063681, 8.051703224294176], [-2.3868279, 9.0], [0.0, 9.0]], [\"M\", \"C\", \"C\", \"C\", \"C\", \"C\", \"C\", \"C\", \"C\", \"Z\"]]}], \"texts\": [{\"text\": \"metro, paris, home\", \"position\": [0.04736303123399899, 0.21768457198920774], \"coordinates\": \"axes\", \"h_anchor\": \"start\", \"v_baseline\": \"auto\", \"rotation\": -0.0, \"fontsize\": 10.0, \"color\": \"#000000\", \"alpha\": 1, \"zorder\": 1000003.0, \"id\": \"el2866117980454080\"}, {\"text\": \"Pool, parking, star\", \"position\": [0.04736303123399899, 0.17169487368162864], \"coordinates\": \"axes\", \"h_anchor\": \"start\", \"v_baseline\": \"auto\", \"rotation\": -0.0, \"fontsize\": 10.0, \"color\": \"#000000\", \"alpha\": 1, \"zorder\": 1000003.0, \"id\": \"el2866117980451168\"}, {\"text\": \"resort, relax, plaza\", \"position\": [0.04736303123399899, 0.12570517537404954], \"coordinates\": \"axes\", \"h_anchor\": \"start\", \"v_baseline\": \"auto\", \"rotation\": -0.0, \"fontsize\": 10.0, \"color\": \"#000000\", \"alpha\": 1, \"zorder\": 1000003.0, \"id\": \"el2866117966045536\"}, {\"text\": \"London, pubs, theatre\", \"position\": [0.04736303123399899, 0.07971547706647045], \"coordinates\": \"axes\", \"h_anchor\": \"start\", \"v_baseline\": \"auto\", \"rotation\": -0.0, \"fontsize\": 10.0, \"color\": \"#000000\", \"alpha\": 1, \"zorder\": 1000003.0, \"id\": \"el2866117966045424\"}, {\"text\": \"terrace, buffet\", \"position\": [0.04736303123399899, 0.03372577875889135], \"coordinates\": \"axes\", \"h_anchor\": \"start\", \"v_baseline\": \"auto\", \"rotation\": -0.0, \"fontsize\": 10.0, \"color\": \"#000000\", \"alpha\": 1, \"zorder\": 1000003.0, \"id\": \"el2866118008857600\"}], \"collections\": [], \"images\": [], \"sharex\": [], \"sharey\": []}], \"data\": {\"data01\": [[-0.144273738929618, 0.6642901335521074], [-0.27588508358349223, 0.6631106434531775], [-0.5251157802088288, 0.43000596188414697], [-0.38927038967593774, 0.6043809293140007], [-0.12945494356360676, 0.5263795714446701], [-0.02453111440359647, 0.6090949045068542], [-0.04870525640977265, 0.548446813282525], [0.00933430093300418, 0.4786950578853822]], \"data02\": [[0.13598289834615962, 0.3474720714232079], [0.3505068995193678, -0.2675263929616274], [-0.33445299486681984, -0.3598825961655474], [-0.535183986190268, 0.19474130229723546], [0.7355747899683729, -0.18795325575608007], [-0.45293252304784015, -0.49070456085318065], [-0.09459524340739224, -0.04109606256403671], [-0.1030025343748685, 0.051542435364387185], [-0.08783303334869494, -0.2322088154393628], [0.297970334289937, -0.47640923210395647], [-0.008569556231517146, -0.2747295384909854], [-0.07138200836729042, 0.13628624919319654], [0.30588773007185455, 0.7033619090221837], [0.6043450483404597, -0.3541226526588942], [0.20541341556363266, 0.07882440658603558], [0.5175003751578163, 0.0098826712907171], [-0.17405701031913728, -0.22173700945627117], [-0.2485510052817845, -0.31823788815630677], [-0.6639325979507404, 0.07392853581405703], [0.17403583423564536, -0.225455156729063], [-0.6236635909766803, -0.18307171493124844], [-0.25888611583955007, -0.4159105234338911], [0.22309008275389214, -0.13133931014343775], [0.4259513442165012, -0.5037382353994113], [-0.4434425648408542, -0.13468864968421854], [-0.37978537383397837, 0.1917466385078326], [-0.3175701282681612, -0.48788611781192914], [0.0652659259367444, 0.037994451754156694], [-0.479230539674124, -0.3438098655714066], [0.12331210417640177, -0.04374939597942061], [-0.4721039928524545, 0.5058944602698701], [0.30431659426322444, 0.0205924457514253], [-0.607250452399224, -0.29045807148767816], [-0.6387540506977941, 0.16552302294328808], [0.4886373718469531, -0.1578628356333167], [0.5526818962227592, 0.05371665419127903], [0.04032540888552263, -0.07623061099835048], [0.29792350004657236, -0.10524910090464458], [0.5621788238875942, -0.422611057902282], [0.3707529314475351, -0.34461150685455494], [0.5101070388107414, 0.0735916925949504], [-0.42832846637890215, -0.24285348660597514], [-0.390080335099373, 0.044711299497909744], [0.24487201208151493, -0.35774338779898807], [0.049002524463676346, -0.22234731408289662], [-0.29751869725303726, -0.24009110252911325], [-0.24952203727214478, 0.20255817627711792], [-0.3120853487221109, 0.07125303668843108], [-0.461318626088283, 0.0006331968682805159]], \"data03\": [[-0.07111446221311483, -0.7467804211086775], [-0.07101773190576126, -0.6051358105939606], [-0.2715540147699459, -0.664649917490453], [-0.051649281625350645, -0.4273820191764554], [0.06341946048289313, -0.5449230320955541], [-0.13385525646303467, -0.5086205526591377], [-0.028298677222683786, -0.6175187444691331], [0.08186708889147125, -0.578206931449875], [0.04386952477524858, -0.5593075686383666], [0.14431791531114355, -0.6273056087975933], [0.13494256729233997, -0.33151965116579973], [0.19501832345342288, -0.5661254938078376], [-0.08586769811892098, -0.48194732106111154], [0.0080125172900539, -0.3491045246362493]], \"data04\": [[0.39526883645138233, 0.2167563222886956], [0.41264102394707386, 0.3559779795843104], [0.176999308190785, 0.22543307084915554], [-0.6993004330115796, 0.022036923184337122], [0.7519892990970877, 0.10673188782518789], [0.3701330721521992, 0.4311556717175484]], \"data05\": [[-0.2773142793782317, 0.39047895919086595], [-0.23771465539447995, -0.021032264825029907], [0.2809873796816894, 0.2335602521762807], [0.13175884817072298, 0.6894153671376396], [0.22498215018108306, 0.2254810107122297], [0.48083795241824995, 0.31993067365612876], [0.09156072356722503, 0.5778190880310078], [0.1041978410828387, 0.1512718152277848], [0.28571058944874067, 0.5146338680063682], [0.4071975307154691, 0.5130150602356436], [0.6042226449194924, 0.4433260382756386], [0.5376199735978023, -0.07487441251417723], [-0.8106968367165794, -0.24377166116583723], [-0.1467386210220347, 0.3422583104922277], [-0.022488914859735046, 0.2774907437613187], [0.4492011779237375, 0.1633081667025478], [0.2327209882784659, 0.370035515542654], [-0.31851908172040383, 0.330981127362874], [-0.22190192324420766, 0.4936116176339294], [-0.0842374151898738, 0.37451287423541907], [0.6014279270086256, 0.2469869606607811], [-0.5539501458772719, 0.3677777858422445], [-0.048385300704039985, 0.22987562275207943]], \"data06\": [[0.024321556579621102, 0.22841550159430954, 0.18242580328673044, 0.13643610497915135, 0.09044640667157224, 0.04445670836399314]], \"data07\": [[0.00896057347670251, 0.015329899435859717], [0.1905721966205837, 0.015329899435859717], [0.19313236047107016, 0.015329899435859717], [0.19313236047107016, 0.021461859210203577], [0.19313236047107016, 0.24834437086092717], [0.19313236047107016, 0.254476330635271], [0.1905721966205837, 0.254476330635271], [0.00896057347670251, 0.254476330635271], [0.006400409626216075, 0.254476330635271], [0.006400409626216075, 0.24834437086092717], [0.006400409626216075, 0.021461859210203577], [0.006400409626216075, 0.015329899435859717], [0.00896057347670251, 0.015329899435859717]]}, \"id\": \"el2866117965888312\", \"plugins\": [{\"type\": \"reset\"}, {\"type\": \"zoom\", \"button\": true, \"enabled\": false}, {\"type\": \"boxzoom\", \"button\": true, \"enabled\": false}, {\"type\": \"htmltooltip\", \"id\": \"el2866111979205800pts\", \"labels\": [\"Hotel Laura\", \"Hostal Benamar\", \"Hostal Pereda Hs\", \"Aparthotel Bonanova\", \"Hotel Sant Anna Roma\", \"Hotel Le Clement\", \"Home Moderne\", \"Henri IV Rive Gauche Hotel\"], \"hoffset\": 10, \"voffset\": 10}, {\"type\": \"toptoolbar\"}, {\"type\": \"htmltooltip\", \"id\": \"el2866113326250472pts\", \"labels\": [\"Y Hotel City South\", \"Grand Hyatt Istanbul\", \"Terrible's Hotel & Casino\", \"CHI Residences 279\", \"Dimora Veneziana\", \"Hacienda Juanita\", \"Le Germain Hotel Montreal\", \"Ace Hotel\", \"Pan Pacific Vancouver\", \"Courtyard Miami West/FL Turnpike\", \"Venetian Resort Hotel Casino\", \"Hotel Banys Orientals\", \"AC Hotel Monte Real by Marriott\", \"La Quinta Inn Dallas East (I-30)\", \"Hotel Champ-De-Mars\", \"Villa Igea\", \"Marriott Waterfront Seattle\", \"AmazInn & Suites\", \"Holiday Inn Express Hotel & Suites at the WTC\", \"Grand Copthorne Waterfront Hotel\", \"BEST WESTERN Country Suites\", \"Comfort Suites I-240 East-Airport\", \"The Mercer\", \"Tod Motor Motel\", \"Holiday Inn Seattle\", \"SANA Berlin Hotel\", \"Courtyard Indianapolis Downtown\", \"Comfort Inn Chelsea\", \"Hampton Inn Indianapolis Northwest - Park 100\", \"Algonquin Hotel Times Square, Autograph Collection\", \"B&T Rooms Trani\", \"Hotel Carter\", \"Comfort Inn & Suites Las Vegas\", \"Americas Best Value Inn - Los Angeles / Hollywood\", \"Estrel Berlin\", \"Anastasia Hotel\", \"The Regent Berlin\", \"Hotel Tomo, a Joie de Vivre hotel\", \"Penn Tower Hotel\", \"Park Hyatt Sydney\", \"Hotel Noemi\", \"Hilton Garden Inn Napa\", \"B4 Venezia-Mestre\", \"Courtyard San Diego Old Town\", \"Raffles Hotel Singapore\", \"BEST WESTERN PLUS Carriage Inn\", \"Catalonia Port\", \"Society Hill Hotel\", \"Mantra on Kent\"], \"hoffset\": 10, \"voffset\": 10}, {\"type\": \"toptoolbar\"}, {\"type\": \"htmltooltip\", \"id\": \"el28664463690808pts\", \"labels\": [\"Summer Bay by EVRentals\", \"Arizona Grand Resort\", \"Grand Palms\", \"Courtyard by Marriott Ocean City\", \"The Royal Playa del Carmen\", \"Hilton Orlando Bonnet Creek\", \"Parrot Key Hotel and Resort\", \"Viceroy Riviera Maya\", \"Rio Mar Beach Resort & Spa, a Wyndham Grand Resort\", \"Outrigger Maui Eldorado\", \"Rydges Plaza Dubai\", \"Econo Lodge Oceanblock\", \"Lake Eve Resort\", \"Paradise Plaza Inn\"], \"hoffset\": 10, \"voffset\": 10}, {\"type\": \"toptoolbar\"}, {\"type\": \"htmltooltip\", \"id\": \"el2866117944790656pts\", \"labels\": [\"Hotel Westminster\", \"Colliers Hotel\", \"Travelodge London Kings Cross Royal Scot\", \"Manor Court Hotel\", \"White House Hotel\", \"Ruskin\"], \"hoffset\": 10, \"voffset\": 10}, {\"type\": \"toptoolbar\"}, {\"type\": \"htmltooltip\", \"id\": \"el2866118191071864pts\", \"labels\": [\"Aparthotel Atenea\", \"Marriott Amsterdam\", \"Relais Fontana Di Trevi\", \"Hotel 4 Youth am Mauerpark\", \"Hotel Alle Guglie\", \"Universo Nord Hotel\", \"Villa Glori Hotel\", \"Die Port van Cleve\", \"Hotel 81 - Chinatown\", \"Hotel Caput Mundi Roma\", \"Arta Lenz Hotel\", \"Hali Hotel\", \"Nollendorfplatz City-Apartments\", \"Hotel Acta Millenni\", \"Regente Hotel\", \"Pantalon Hotel\", \"Hampshire Hotel - Prinsengracht\", \"Agon Lichtburg\", \"Hotel Tre Stelle\", \"Hotel II Castillas\", \"Hotel Verdi\", \"Ciutat de Sant Adria Hotel\", \"H10 Villa de la Reina\"], \"hoffset\": 10, \"voffset\": 10}, {\"type\": \"toptoolbar\"}]});\n",
       "            })\n",
       "         });\n",
       "}\n",
       "</script>"
      ],
      "text/plain": [
       "<IPython.core.display.HTML object>"
      ]
     },
     "execution_count": 63,
     "metadata": {},
     "output_type": "execute_result"
    }
   ],
   "source": [
    "#create data frame that has the result of the MDS plus the cluster numbers and titles\n",
    "df = pd.DataFrame(dict(x=xs, y=ys, label=clusters, title=hotel_names[:100])) \n",
    "\n",
    "#group by cluster\n",
    "groups = df.groupby('label')\n",
    "\n",
    "#define custom css to format the font and to remove the axis labeling\n",
    "css = \"\"\"\n",
    "text.mpld3-text, div.mpld3-tooltip {\n",
    "  font-family:Arial, Helvetica, sans-serif;\n",
    "}\n",
    "\n",
    "g.mpld3-xaxis, g.mpld3-yaxis {\n",
    "display: none; }\n",
    "\"\"\"\n",
    "\n",
    "# Plot \n",
    "fig, ax = plt.subplots(figsize=(14,6)) #set plot size\n",
    "ax.margins(0.03) # Optional, just adds 5% padding to the autoscaling\n",
    "\n",
    "#iterate through groups to layer the plot\n",
    "#note that I use the cluster_name and cluster_color dicts with the 'name' lookup to return the appropriate color/label\n",
    "for name, group in groups:\n",
    "    points = ax.plot(group.x, group.y, marker='o', linestyle='', ms=18, label=cluster_names[name], mec='none', color=cluster_colors[name])\n",
    "    ax.set_aspect('auto')\n",
    "    labels = [i for i in group.title]\n",
    "    \n",
    "    #set tooltip using points, labels and the already defined 'css'\n",
    "    tooltip = mpld3.plugins.PointHTMLTooltip(points[0], labels,\n",
    "                                       voffset=10, hoffset=10, css=css)\n",
    "    #connect tooltip to fig\n",
    "    mpld3.plugins.connect(fig, tooltip, TopToolbar())    \n",
    "    \n",
    "    #set tick marks as blank\n",
    "    ax.axes.get_xaxis().set_ticks([])\n",
    "    ax.axes.get_yaxis().set_ticks([])\n",
    "    \n",
    "    #set axis as blank\n",
    "    ax.axes.get_xaxis().set_visible(False)\n",
    "    ax.axes.get_yaxis().set_visible(False)\n",
    "\n",
    "    \n",
    "ax.legend(numpoints=1) #show legend with only one dot\n",
    "\n",
    "mpld3.display() #show the plot\n",
    "\n",
    "#uncomment the below to export to html\n",
    "#html = mpld3.fig_to_html(fig)\n",
    "#print(html)"
   ]
  },
  {
   "cell_type": "markdown",
   "metadata": {},
   "source": [
    "## Hierarchical document clustering"
   ]
  },
  {
   "cell_type": "code",
   "execution_count": 65,
   "metadata": {},
   "outputs": [
    {
     "data": {
      "image/png": "[encoded data removed]",
      "text/plain": [
       "<matplotlib.figure.Figure at 0x1b772cab38>"
      ]
     },
     "metadata": {},
     "output_type": "display_data"
    }
   ],
   "source": [
    "linkage_matrix = ward(dist) #define the linkage_matrix using ward clustering pre-computed distances\n",
    "\n",
    "fig, ax = plt.subplots(figsize=(15, 20)) # set size\n",
    "ax = dendrogram(linkage_matrix, orientation=\"right\", labels=hotel_names[:100]);\n",
    "\n",
    "plt.tick_params(\\\n",
    "    axis= 'x',          # changes apply to the x-axis\n",
    "    which='both',      # both major and minor ticks are affected\n",
    "    bottom='off',      # ticks along the bottom edge are off\n",
    "    top='off',         # ticks along the top edge are off\n",
    "    labelbottom='off')\n",
    "\n",
    "plt.tight_layout() #show plot with tight layout\n",
    "\n",
    "#uncomment below to save figure\n",
    "plt.savefig('ward_clusters.png', dpi=200) #save figure as ward_clusters"
   ]
  },
  {
   "cell_type": "code",
   "execution_count": null,
   "metadata": {
    "collapsed": true
   },
   "outputs": [],
   "source": [
    "plt.close()"
   ]
  },
  {
   "cell_type": "markdown",
   "metadata": {},
   "source": [
    "## Latent Dirichlet Allocation"
   ]
  },
  {
   "cell_type": "code",
   "execution_count": 66,
   "metadata": {
    "collapsed": true
   },
   "outputs": [],
   "source": [
    "#strip any proper names from a text...unfortunately right now this is yanking the first word from a sentence too.\n",
    "import string\n",
    "def strip_proppers(text):\n",
    "    # first tokenize by sentence, then by word to ensure that punctuation is caught as it's own token\n",
    "    tokens = [word for sent in nltk.sent_tokenize(text) for word in nltk.word_tokenize(sent) if word.islower()]\n",
    "    return \"\".join([\" \"+i if not i.startswith(\"'\") and i not in string.punctuation else i for i in tokens]).strip()"
   ]
  },
  {
   "cell_type": "code",
   "execution_count": 67,
   "metadata": {
    "collapsed": true
   },
   "outputs": [],
   "source": [
    "#strip any proper nouns (NNP) or plural proper nouns (NNPS) from a text\n",
    "from nltk.tag import pos_tag\n",
    "\n",
    "def strip_proppers_POS(text):\n",
    "    tagged = pos_tag(text.split()) #use NLTK's part of speech tagger\n",
    "    non_propernouns = [word for word,pos in tagged if pos != 'NNP' and pos != 'NNPS']\n",
    "    return non_propernouns"
   ]
  },
  {
   "cell_type": "code",
   "execution_count": 68,
   "metadata": {},
   "outputs": [
    {
     "ename": "ModuleNotFoundError",
     "evalue": "No module named 'gensim'",
     "output_type": "error",
     "traceback": [
      "\u001b[0;31m----------------------------------------------------------------------\u001b[0m",
      "\u001b[0;31mModuleNotFoundError\u001b[0m                  Traceback (most recent call last)",
      "\u001b[0;32m<ipython-input-68-e6ff02548aa5>\u001b[0m in \u001b[0;36m<module>\u001b[0;34m()\u001b[0m\n\u001b[1;32m      1\u001b[0m \u001b[0;31m#Latent Dirichlet Allocation implementation with Gensim\u001b[0m\u001b[0;34m\u001b[0m\u001b[0;34m\u001b[0m\u001b[0m\n\u001b[1;32m      2\u001b[0m \u001b[0;34m\u001b[0m\u001b[0m\n\u001b[0;32m----> 3\u001b[0;31m \u001b[0;32mfrom\u001b[0m \u001b[0mgensim\u001b[0m \u001b[0;32mimport\u001b[0m \u001b[0mcorpora\u001b[0m\u001b[0;34m,\u001b[0m \u001b[0mmodels\u001b[0m\u001b[0;34m,\u001b[0m \u001b[0msimilarities\u001b[0m\u001b[0;34m\u001b[0m\u001b[0m\n\u001b[0m\u001b[1;32m      4\u001b[0m \u001b[0;34m\u001b[0m\u001b[0m\n\u001b[1;32m      5\u001b[0m \u001b[0;31m#remove proper names\u001b[0m\u001b[0;34m\u001b[0m\u001b[0;34m\u001b[0m\u001b[0m\n",
      "\u001b[0;31mModuleNotFoundError\u001b[0m: No module named 'gensim'"
     ]
    }
   ],
   "source": [
    "#Latent Dirichlet Allocation implementation with Gensim\n",
    "\n",
    "from gensim import corpora, models, similarities \n",
    "\n",
    "#remove proper names\n",
    "preprocess = [strip_proppers(doc) for doc in synopses]\n",
    "\n",
    "%time tokenized_text = [tokenize_and_stem(text) for text in preprocess]\n",
    "\n",
    "%time texts = [[word for word in text if word not in stopwords] for text in tokenized_text]"
   ]
  },
  {
   "cell_type": "code",
   "execution_count": null,
   "metadata": {
    "collapsed": true
   },
   "outputs": [],
   "source": [
    "#print(len([word for word in texts[0] if word not in stopwords]))\n",
    "print(len(texts[0]))"
   ]
  },
  {
   "cell_type": "code",
   "execution_count": null,
   "metadata": {
    "collapsed": true
   },
   "outputs": [],
   "source": [
    "dictionary = corpora.Dictionary(texts)\n",
    "dictionary.filter_extremes(no_below=1, no_above=0.8)\n",
    "corpus = [dictionary.doc2bow(text) for text in texts]"
   ]
  },
  {
   "cell_type": "code",
   "execution_count": null,
   "metadata": {
    "collapsed": true
   },
   "outputs": [],
   "source": [
    "len(corpus)"
   ]
  },
  {
   "cell_type": "code",
   "execution_count": null,
   "metadata": {
    "collapsed": true
   },
   "outputs": [],
   "source": [
    "%time lda = models.LdaModel(corpus, num_topics=5, id2word=dictionary, update_every=5, chunksize=10000, passes=100)"
   ]
  },
  {
   "cell_type": "code",
   "execution_count": null,
   "metadata": {
    "collapsed": true
   },
   "outputs": [],
   "source": [
    "print(lda[corpus[0]])"
   ]
  },
  {
   "cell_type": "code",
   "execution_count": null,
   "metadata": {
    "collapsed": true
   },
   "outputs": [],
   "source": [
    "topics = lda.print_topics(5, num_words=20)"
   ]
  },
  {
   "cell_type": "code",
   "execution_count": null,
   "metadata": {
    "collapsed": true
   },
   "outputs": [],
   "source": [
    "topics_matrix = lda.show_topics(formatted=False, num_words=20)"
   ]
  },
  {
   "cell_type": "code",
   "execution_count": null,
   "metadata": {
    "collapsed": true
   },
   "outputs": [],
   "source": [
    "topics_matrix = np.array(topics_matrix)"
   ]
  },
  {
   "cell_type": "code",
   "execution_count": null,
   "metadata": {
    "collapsed": true
   },
   "outputs": [],
   "source": [
    "topics_matrix.shape"
   ]
  },
  {
   "cell_type": "code",
   "execution_count": null,
   "metadata": {
    "collapsed": true
   },
   "outputs": [],
   "source": [
    "topic_words = topics_matrix[:,:,1]"
   ]
  },
  {
   "cell_type": "code",
   "execution_count": null,
   "metadata": {
    "collapsed": true
   },
   "outputs": [],
   "source": [
    "for i in topic_words:\n",
    "    print([str(word) for word in i])\n",
    "    print()"
   ]
  }
 ],
 "metadata": {
  "kernelspec": {
   "display_name": "Python 3",
   "language": "python",
   "name": "python3"
  },
  "language_info": {
   "codemirror_mode": {
    "name": "ipython",
    "version": 3
   },
   "file_extension": ".py",
   "mimetype": "text/x-python",
   "name": "python",
   "nbconvert_exporter": "python",
   "pygments_lexer": "ipython3",
   "version": "3.6.3"
  }
 },
 "nbformat": 4,
 "nbformat_minor": 2
}
