{
 "cells": [
  {
   "cell_type": "markdown",
   "metadata": {},
   "source": [
    "# K Means Clustering based on Travelers' Reviews"
   ]
  },
  {
   "cell_type": "markdown",
   "metadata": {},
   "source": [
    "In this tutorial, I'm going to apply K-means clustering technique on the reviews written by over 1 million TripAdvisor users for more than 7,000 hotels around the world. My motivation is to detect latent structures from the reviews corpus. \n",
    "\n",
    "Reviews will be arranged in list structure, whose order matches hotel names. We will see the power of NLP (Natural Language Processing) algorithms and NLTK 3.2.5 (Natural Language Toolkit) in studying and making sense of human language. To make consistent and comparable clustering, we will be only looking at reviews written in English by 900k users. \n",
    "\n",
    "This guide covers:\n",
    "\n",
    "<ul>\n",
    "<li> tokenizing and stemming each review\n",
    "<li> transforming the corpus into vector space using [tf-idf](http://en.wikipedia.org/wiki/Tf%E2%80%93idf)\n",
    "<li> calculating cosine distance between each document as a measure of similarity\n",
    "<li> clustering the documents using the [k-means algorithm](http://en.wikipedia.org/wiki/K-means_clustering)\n",
    "<li> using [multidimensional scaling](http://en.wikipedia.org/wiki/Multidimensional_scaling) to reduce dimensionality within the corpus\n",
    "<li> plotting the clustering output using [matplotlib](http://matplotlib.org/) and [mpld3](http://mpld3.github.io/)\n",
    "<li> conducting a hierarchical clustering on the corpus using [Ward clustering](http://en.wikipedia.org/wiki/Ward%27s_method)\n",
    "<li> plotting a Ward dendrogram\n",
    "<li> topic modeling using [Latent Dirichlet Allocation (LDA)](http://en.wikipedia.org/wiki/Latent_Dirichlet_allocation)\n",
    "</ul>\n",
    "\n",
    "*__Note__: this tutorial was written in __Python3__. Please adjust your environment!*"
   ]
  },
  {
   "cell_type": "markdown",
   "metadata": {
    "collapsed": true
   },
   "source": [
    "## Contents"
   ]
  },
  {
   "cell_type": "markdown",
   "metadata": {},
   "source": [
    "<ul>\n",
    "<li>[Stopwords, stemming, and tokenization](#Stopwords,-stemming,-and-tokenizing)\n",
    "<li>[Tf-idf and document similarity](#Tf-idf-and-document-similarity)\n",
    "<li>[K-means clustering](#K-means-clustering)\n",
    "<li>[Multidimensional scaling](#Multidimensional-scaling)\n",
    "<li>[Visualizing document clusters](#Visualizing-document-clusters)\n",
    "<li>[Hierarchical document clustering](#Hierarchical-document-clustering)\n",
    "<li>[Latent Dirichlet Allocation (LDA)](#Latent-Dirichlet-Allocation)\n",
    "</ul>"
   ]
  },
  {
   "cell_type": "markdown",
   "metadata": {},
   "source": [
    "We will be using the following libraries and packages:"
   ]
  },
  {
   "cell_type": "code",
   "execution_count": 1,
   "metadata": {
    "collapsed": true
   },
   "outputs": [],
   "source": [
    "import os\n",
    "from __future__ import print_function\n",
    "import codecs\n",
    "import pickle\n",
    "import json\n",
    "\n",
    "import numpy as np\n",
    "import pandas as pd\n",
    "import random\n",
    "\n",
    "from sklearn import feature_extraction\n",
    "from sklearn.feature_extraction.text import TfidfVectorizer\n",
    "from sklearn.metrics.pairwise import cosine_similarity\n",
    "from sklearn.cluster import KMeans\n",
    "from sklearn.externals import joblib\n",
    "from sklearn.manifold import MDS\n",
    "\n",
    "from scipy.cluster.hierarchy import ward, dendrogram\n",
    "\n",
    "import nltk\n",
    "from nltk.stem.snowball import SnowballStemmer\n",
    "import re\n",
    "import mpld3\n",
    "\n",
    "import matplotlib.pyplot as plt\n",
    "import matplotlib as mpl"
   ]
  },
  {
   "cell_type": "markdown",
   "metadata": {},
   "source": [
    "## Stopwords, stemming, and tokenizing"
   ]
  },
  {
   "cell_type": "markdown",
   "metadata": {},
   "source": [
    "### corpus by hotels"
   ]
  },
  {
   "cell_type": "code",
   "execution_count": null,
   "metadata": {
    "collapsed": true
   },
   "outputs": [],
   "source": [
    "'''\n",
    "filepath = '../../dataset/hotel_name_reviews.csv'\n",
    "def read_reviews(filepath):\n",
    "    ratings = pd.read_csv(filepath)\n",
    "    reviews = ratings.groupby('hotel name')['content'].apply(list)\n",
    "    reviews = reviews.reset_index()\n",
    "    hotel_names = reviews['hotel name'].tolist()\n",
    "    all_reviews = reviews['content'].tolist()\n",
    "    hotel_reviews = []\n",
    "    for review in all_reviews:\n",
    "        hotel_reviews.append('.'.join(review))\n",
    "    return hotel_names, hotel_reviews\n",
    "'''"
   ]
  },
  {
   "cell_type": "code",
   "execution_count": null,
   "metadata": {
    "collapsed": true
   },
   "outputs": [],
   "source": [
    "'''hotel_names, hotel_reviews = read_reviews(filepath)'''"
   ]
  },
  {
   "cell_type": "code",
   "execution_count": null,
   "metadata": {
    "collapsed": true
   },
   "outputs": [],
   "source": [
    "'''\n",
    "with open('../../dataset/hotel_names.txt', 'w') as f:\n",
    "    json.dump(hotel_names, f)\n",
    "with open('../../dataset/hotel_reviews.txt', 'w') as f:\n",
    "    json.dump(hotel_reviews, f)\n",
    "'''"
   ]
  },
  {
   "cell_type": "code",
   "execution_count": 2,
   "metadata": {
    "collapsed": true
   },
   "outputs": [],
   "source": [
    "# read review data and get the hotel names and review corpus:\n",
    "def read_reviews(namesfile, reviewsfile):\n",
    "    with open(namesfile, 'r') as outfile:\n",
    "        hotel_names = json.load(outfile)\n",
    "    with open(reviewsfile, 'r', encoding='utf-8', errors='ignore') as outfile:\n",
    "        hotel_reviews = json.load(outfile)\n",
    "\n",
    "    return hotel_names, hotel_reviews"
   ]
  },
  {
   "cell_type": "code",
   "execution_count": 3,
   "metadata": {
    "collapsed": true
   },
   "outputs": [],
   "source": [
    "hotel_names, hotel_reviews = read_reviews('../../dataset/hotel_names.txt', '../../dataset/hotel_reviews.txt')"
   ]
  },
  {
   "cell_type": "code",
   "execution_count": 4,
   "metadata": {},
   "outputs": [
    {
     "data": {
      "text/plain": [
       "(7839, 7839)"
      ]
     },
     "execution_count": 4,
     "metadata": {},
     "output_type": "execute_result"
    }
   ],
   "source": [
    "len(hotel_names), len(hotel_reviews)"
   ]
  },
  {
   "cell_type": "code",
   "execution_count": 5,
   "metadata": {},
   "outputs": [
    {
     "name": "stdout",
     "output_type": "stream",
     "text": [
      "There are 7839 hotels in the dataset.\n"
     ]
    }
   ],
   "source": [
    "print ('There are {} hotels in the dataset.'.format(len(hotel_names)))"
   ]
  },
  {
   "cell_type": "markdown",
   "metadata": {},
   "source": [
    "This section is focused on defining some functions to manipulate the review corpus. First, I load [NLTK's](http://www.nltk.org/) list of English stop words. [Stop words](http://en.wikipedia.org/wiki/Stop_words) are words like \"a\", \"the\", or \"in\" which don't convey significant meaning. This will eliminate the noises from our reviews texts, and make the real key words (tags) show their colors!"
   ]
  },
  {
   "cell_type": "code",
   "execution_count": 6,
   "metadata": {
    "collapsed": true
   },
   "outputs": [],
   "source": [
    "# load nltk's English stopwords as variable called 'stopwords'\n",
    "stopwords = nltk.corpus.stopwords.words('english')"
   ]
  },
  {
   "cell_type": "markdown",
   "metadata": {},
   "source": [
    "Next I import the [Snowball Stemmer](http://snowball.tartarus.org/) which is actually part of NLTK. [Stemming](http://en.wikipedia.org/wiki/Stemming) is just the process of breaking a word down into its root."
   ]
  },
  {
   "cell_type": "code",
   "execution_count": 7,
   "metadata": {
    "collapsed": true
   },
   "outputs": [],
   "source": [
    "# load nltk's SnowballStemmer as variabled 'stemmer'\n",
    "stemmer = SnowballStemmer(\"english\")"
   ]
  },
  {
   "cell_type": "markdown",
   "metadata": {},
   "source": [
    "\n",
    "Below I define two functions:\n",
    "\n",
    "<ul>\n",
    "<li> *tokenize_and_stem*: tokenizes (splits the reviews into a list of its respective words (or tokens) and also stems each token <li> *tokenize_only*: tokenizes the reviews only\n",
    "</ul>\n",
    "\n",
    "I use both these functions to create a dictionary which becomes important in case I want to use stems for an algorithm, but later convert stems back to their full words for presentation purposes. "
   ]
  },
  {
   "cell_type": "code",
   "execution_count": 8,
   "metadata": {
    "collapsed": true
   },
   "outputs": [],
   "source": [
    "# here I define a tokenizer and stemmer which returns the set of stems in the text that it is passed\n",
    "\n",
    "def tokenize_and_stem(text):\n",
    "    # first tokenize by sentence, then by word to ensure that punctuation is caught as it's own token\n",
    "    tokens = [word for sent in nltk.sent_tokenize(text) for word in nltk.word_tokenize(sent)]\n",
    "    filtered_tokens = []\n",
    "    # filter out any tokens not containing letters (e.g., numeric tokens, raw punctuation)\n",
    "    for token in tokens:\n",
    "        if re.search('[a-zA-Z]', token):\n",
    "            filtered_tokens.append(token)\n",
    "    stems = [stemmer.stem(t) for t in filtered_tokens]\n",
    "    return stems\n",
    "\n",
    "\n",
    "def tokenize_only(text):\n",
    "    # first tokenize by sentence, then by word to ensure that punctuation is caught as it's own token\n",
    "    tokens = [word.lower() for sent in nltk.sent_tokenize(text) for word in nltk.word_tokenize(sent)]\n",
    "    filtered_tokens = []\n",
    "    # filter out any tokens not containing letters (e.g., numeric tokens, raw punctuation)\n",
    "    for token in tokens:\n",
    "        if re.search('[a-zA-Z]', token):\n",
    "            filtered_tokens.append(token)\n",
    "    return filtered_tokens"
   ]
  },
  {
   "cell_type": "markdown",
   "metadata": {},
   "source": [
    "Below I use my stemming/tokenizing and tokenizing functions to iterate over the list of synopses to create two vocabularies: one stemmed and one only tokenized. "
   ]
  },
  {
   "cell_type": "code",
   "execution_count": 9,
   "metadata": {
    "collapsed": true
   },
   "outputs": [],
   "source": [
    "# If you are running this process for the first time, uncomment below:\n",
    "#hotel_vocab_stemmed = []\n",
    "#hotel_vocab_tokenized = []\n",
    "#for i in hotel_reviews:\n",
    "#    allwords_stemmed = tokenize_and_stem(i)\n",
    "#    hotel_vocab_stemmed.extend(allwords_stemmed)\n",
    "#    allwords_tokenized = tokenize_only(i)\n",
    "#    hotel_vocab_tokenized.extend(allwords_tokenized)\n",
    "\n",
    "with open('../../dataset/hotel_vocab_tokenized.txt', 'r') as f:\n",
    "    hotel_vocab_tokenized = json.load(f)\n",
    "with open('../../dataset/hotel_vocab_stemmed.txt', 'r') as f:\n",
    "    hotel_vocab_stemmed = json.load(f)"
   ]
  },
  {
   "cell_type": "code",
   "execution_count": 10,
   "metadata": {
    "collapsed": true
   },
   "outputs": [],
   "source": [
    "# For easy access to the tokenized and stemmed vocabulary, you could save them in json file by uncommenting below:\n",
    "with open('../../dataset/hotel_vocab_tokenized.txt', 'w') as f:\n",
    "    json.dump(hotel_vocab_tokenized, f)\n",
    "#with open('../../dataset/hotel_vocab_stemmed.txt', 'w') as f:\n",
    "#    json.dump(hotel_vocab_stemmed, f)"
   ]
  },
  {
   "cell_type": "code",
   "execution_count": 11,
   "metadata": {},
   "outputs": [
    {
     "data": {
      "text/plain": [
       "(10781872, 10781872)"
      ]
     },
     "execution_count": 11,
     "metadata": {},
     "output_type": "execute_result"
    }
   ],
   "source": [
    "len(hotel_vocab_stemmed), len(hotel_vocab_tokenized)"
   ]
  },
  {
   "cell_type": "markdown",
   "metadata": {
    "collapsed": true
   },
   "source": [
    "Using these two lists, I create a pandas DataFrame with the stemmed vocabulary as the index and the tokenized words as the column. This provides an efficient way to look up a stem and return a full token. "
   ]
  },
  {
   "cell_type": "code",
   "execution_count": 12,
   "metadata": {},
   "outputs": [
    {
     "name": "stdout",
     "output_type": "stream",
     "text": [
      "CPU times: user 877 ms, sys: 199 ms, total: 1.08 s\n",
      "Wall time: 1.08 s\n"
     ]
    }
   ],
   "source": [
    "%time hotel_vocab_frame = pd.DataFrame({'words': hotel_vocab_tokenized}, index = hotel_vocab_stemmed)"
   ]
  },
  {
   "cell_type": "markdown",
   "metadata": {},
   "source": [
    "## Tf-Idf and Document Similarity Measure"
   ]
  },
  {
   "cell_type": "markdown",
   "metadata": {},
   "source": [
    "<img src='http://www.jiem.org/index.php/jiem/article/viewFile/293/252/2402' align='right' style=\"margin-left:10px\">\n",
    "\n",
    "Here, I define Term Frequency-Inverse Document Frequency (tfidf) vectorizer parameters and then convert the *reviews* list into a tfidf matrix. \n",
    "\n",
    "To get a Tfidf matrix, first count word occurrences by document. This is transformed into a document-term matrix. This is also just called a term frequency matrix. An example of a document-term matrix is here at right.\n",
    "\n",
    "Then apply the term frequency-inverse document frequency weighting: words that occur frequently within a document but not frequently within the corpus receive a higher weighting as these words are assumed to contain more meaning in relation to the document.\n",
    "\n",
    "Hyperparamters that I used particularly to fine-tune my tfidf vectorizer instances include:\n",
    "\n",
    "<ul>\n",
    "<li> max_df: the maximum frequency within the documents a given feature can have to be used in the tfi-idf matrix. If the term is in greater than 80% of the documents it probably cares little meanining (in the context of reviews, for instance, 'hotel' will appeare quite frequently in the review corpus).\n",
    "<li> min_idf: this could be an integer (e.g. 5) and the term would have to be in at least 5 of the documents to be considered. Here I pass 0.2; the term must be in at least 20% of the document.\n",
    "<li> ngram_range: this just means I'll look at unigrams, bigrams and trigrams. See [n-grams](http://en.wikipedia.org/wiki/N-gram)\n",
    "</ul>"
   ]
  },
  {
   "cell_type": "code",
   "execution_count": 13,
   "metadata": {
    "collapsed": true
   },
   "outputs": [],
   "source": [
    "# read hotel names and their reviews in its respective orders and saved in lists. \n",
    "hotel_names, hotel_reviews = read_reviews('../../dataset/hotel_names.txt', '../../dataset/hotel_reviews.txt')\n",
    "combined = list(zip(hotel_names, hotel_reviews))\n",
    "# randomly shuffle the hotels, keeping the names in order with the reviews\n",
    "random.shuffle(combined)\n",
    "# retrieve hotel names and hotel reviews in the new order, after shuffling\n",
    "hotel_names[:], hotel_reviews[:] = zip(*combined)"
   ]
  },
  {
   "cell_type": "code",
   "execution_count": 14,
   "metadata": {},
   "outputs": [
    {
     "name": "stdout",
     "output_type": "stream",
     "text": [
      "There are 100 hotels in our sample.\n"
     ]
    }
   ],
   "source": [
    "# for testing purposes, you can use this snippet to run kmeans on 100 hotels of the whole corpus.\n",
    "reviews_grouped = [hotel_reviews[i:i + 100] for i in range(0, len(hotel_reviews), 100)]\n",
    "print (\"There are {} hotels in our sample.\".format(len(reviews_grouped[0])))"
   ]
  },
  {
   "cell_type": "code",
   "execution_count": 15,
   "metadata": {
    "scrolled": true
   },
   "outputs": [
    {
     "name": "stdout",
     "output_type": "stream",
     "text": [
      "CPU times: user 1min 1s, sys: 704 ms, total: 1min 2s\n",
      "Wall time: 1min 2s\n",
      "(100, 3853)\n"
     ]
    }
   ],
   "source": [
    "# initiate TfidfVectorizer instance with the set hyperparameters that were mentioned above\n",
    "tfidf_vectorizer = TfidfVectorizer(max_df=0.8, max_features=200000,\n",
    "                                 min_df=0.2, stop_words='english',\n",
    "                                 use_idf=True, tokenizer=tokenize_and_stem, ngram_range=(1, 3))\n",
    "%time tfidf_matrix = tfidf_vectorizer.fit_transform(reviews_grouped[0])\n",
    "print(tfidf_matrix.shape)"
   ]
  },
  {
   "cell_type": "code",
   "execution_count": 16,
   "metadata": {},
   "outputs": [
    {
     "data": {
      "text/plain": [
       "['tfidf_matrix2.pkl']"
      ]
     },
     "execution_count": 16,
     "metadata": {},
     "output_type": "execute_result"
    }
   ],
   "source": [
    "# saving the matrix by dumping into a pickle file. set *protocol=2* if you are using python2\n",
    "joblib.dump(tfidf_matrix,  'tfidf_matrix2.pkl')\n",
    "#tfidf_matrix = joblib.load('tfidf_matrix2.pkl')"
   ]
  },
  {
   "cell_type": "code",
   "execution_count": 17,
   "metadata": {
    "collapsed": true
   },
   "outputs": [],
   "source": [
    "terms = tfidf_vectorizer.get_feature_names()\n",
    "# calculate cosine similarity\n",
    "dist = 1 - cosine_similarity(tfidf_matrix)"
   ]
  },
  {
   "cell_type": "markdown",
   "metadata": {},
   "source": [
    "## K-means clustering"
   ]
  },
  {
   "cell_type": "markdown",
   "metadata": {},
   "source": [
    "Now onto the fun part. Using the tf-idf matrix, you can run a slew of clustering algorithms to better understand the hidden structure within the reviews. I first chose [k-means](http://en.wikipedia.org/wiki/K-means_clustering). K-means initializes with a pre-determined number of clusters (I chose 5). Each observation is assigned to a cluster (cluster assignment) so as to minimize the within cluster sum of squares. Next, the mean of the clustered observations is calculated and used as the new cluster centroid. Then, observations are reassigned to clusters and  centroids recalculated in an iterative process until the algorithm reaches convergence.\n",
    "\n",
    "I found it took several runs for the algorithm to converge a global optimum as k-means is susceptible to reaching local optima. "
   ]
  },
  {
   "cell_type": "code",
   "execution_count": 18,
   "metadata": {},
   "outputs": [
    {
     "name": "stdout",
     "output_type": "stream",
     "text": [
      "CPU times: user 2.72 s, sys: 31.9 ms, total: 2.76 s\n",
      "Wall time: 2.8 s\n"
     ]
    },
    {
     "data": {
      "text/plain": [
       "KMeans(algorithm='auto', copy_x=True, init='k-means++', max_iter=300,\n",
       "    n_clusters=5, n_init=10, n_jobs=1, precompute_distances='auto',\n",
       "    random_state=None, tol=0.0001, verbose=0)"
      ]
     },
     "execution_count": 18,
     "metadata": {},
     "output_type": "execute_result"
    }
   ],
   "source": [
    "num_clusters = 5\n",
    "\n",
    "km = KMeans(n_clusters=num_clusters)\n",
    "\n",
    "%time km.fit(tfidf_matrix)"
   ]
  },
  {
   "cell_type": "code",
   "execution_count": 19,
   "metadata": {},
   "outputs": [
    {
     "data": {
      "text/plain": [
       "100"
      ]
     },
     "execution_count": 19,
     "metadata": {},
     "output_type": "execute_result"
    }
   ],
   "source": [
    "#joblib.dump(km,  'doc_cluster.pkl')\n",
    "clusters = km.labels_.tolist()\n",
    "len(clusters)"
   ]
  },
  {
   "cell_type": "code",
   "execution_count": 20,
   "metadata": {
    "collapsed": true
   },
   "outputs": [],
   "source": [
    "ranks = []\n",
    "\n",
    "for i in range(0,len(hotel_names)):\n",
    "    ranks.append(i)"
   ]
  },
  {
   "cell_type": "code",
   "execution_count": 21,
   "metadata": {
    "collapsed": true
   },
   "outputs": [],
   "source": [
    "# every group has 1000 ramdonly shuffled hotels, change indeces\n",
    "hotels = { 'hotel_name': hotel_names[:100], 'rank': ranks[:100], 'hotel_reviews': hotel_reviews[:100], 'cluster': clusters}\n",
    "\n",
    "frame = pd.DataFrame(hotels, index = [clusters] , columns = ['rank', 'hotel_name', 'hotel_reviews', 'cluster'])"
   ]
  },
  {
   "cell_type": "code",
   "execution_count": 22,
   "metadata": {},
   "outputs": [
    {
     "data": {
      "text/plain": [
       "4    40\n",
       "3    25\n",
       "1    17\n",
       "2    14\n",
       "0     4\n",
       "Name: cluster, dtype: int64"
      ]
     },
     "execution_count": 22,
     "metadata": {},
     "output_type": "execute_result"
    }
   ],
   "source": [
    "frame['cluster'].value_counts()"
   ]
  },
  {
   "cell_type": "code",
   "execution_count": 23,
   "metadata": {},
   "outputs": [
    {
     "data": {
      "text/plain": [
       "cluster\n",
       "0    49.000000\n",
       "1    50.588235\n",
       "2    49.142857\n",
       "3    53.600000\n",
       "4    46.650000\n",
       "Name: rank, dtype: float64"
      ]
     },
     "execution_count": 23,
     "metadata": {},
     "output_type": "execute_result"
    }
   ],
   "source": [
    "grouped = frame['rank'].groupby(frame['cluster'])\n",
    "\n",
    "grouped.mean()"
   ]
  },
  {
   "cell_type": "code",
   "execution_count": 24,
   "metadata": {
    "scrolled": false
   },
   "outputs": [
    {
     "name": "stdout",
     "output_type": "stream",
     "text": [
      "Top terms per cluster:\n",
      "\n",
      "Cluster 0 words: b'inn', b'new', b'york', b'rome', b'shared', b'towel', b'wants', b'review', b'hospitality', b'mins', b'square', b'clock', b'train', b'low', b'single', b'centre', b'budget', b'bugs', b'alarm', b'east',\n",
      "\n",
      "Cluster 0 hotels: Hotel-Pension Adamshof, Hotel New York, Hampton Inn Memphis-Walnut Grove/Baptist Hospital East, Americana Inn,\n",
      "\n",
      "Cluster 1 words: b'london', b'apartments', b'told', b'reception', b'tubes', b'said', b'dirty', b'toilet', b'money', b'toast', b'review', b'english', b'leave', b'key', b'walls', b'worst', b'noise', b'paid', b'filthy', b'cross',\n",
      "\n",
      "Cluster 1 hotels: Arriva Hotel, Pacific Hotel, St Marks, London, Gresham Hotel, London Carlton Hotel, Belmont & Astoria Hotels, Venice Apartments, Curzon Plaza, Park Hotel, Al Canal Regio, Days Inn Phoenix Airport, Las Suites, Villa Borghese Resort, The Belvedere, Euro Hotel Clapham, Il Giardino Hotel, Hotel Eris,\n",
      "\n",
      "Cluster 2 words: b'rome', b'metro', b'bus', b'train', b'euros', b'stop', b'italy', b'train', b'taxi', b'tram', b'neighborhood', b'minute', b'airport', b'metro', b'site', b'touring', b'english', b'italian', b'reception', b'transport',\n",
      "\n",
      "Cluster 2 hotels: Hotel Prati, Hotel Massimo, Hotel Mamiani, Trilussa Palace Congress & Spa, Hotel Giardino, BEST WESTERN Hotel Roma Tor Vergata, Hotel Capitol Roma, Hotel Everest 1, Villa Patrizi, All Time Relais & Sport Hotel, Raffaello Hotel, Mercure Roma Piazza Bologna, Holiday Inn Express Rome - San Giovanni, Priscilla Hotel,\n",
      "\n",
      "Cluster 3 words: b'euros', b'tram', b'metro', b'stop', b'paris', b'included', b'bars', b'reception', b'airport', b'english', b'bus', b'train', b'minute', b'staff', b'value', b'mins', b'noise', b'review', b'german', b'centre',\n",
      "\n",
      "Cluster 3 hotels: Holiday Inn Amsterdam, Hotel du Prince Eugene, BEST WESTERN Premier Hotel Sant' Elena, Byotell, Moon Hotel, Ibis Berlin Messe, Hotel Wiechmann, Hotel Ca' Formenta, Hotel Lloret Ramblas, Mercure Hotel Amsterdam Aan de Amstel, Hotel Gendarm nouveau, Hotel Villa Kastania, Hotel Europa 92, Hotel OTTO, Hotel Paris, Soggiorno Europa, Evenia Rocafort, ARCOTEL Velvet, Santa Chiara Hotel, Austin's Arts et Metiers Hotel, Eiffel Seine Hotel Paris, Hotel Abba, Hotel Pension Enzian, Armagrandi Spina Istanbul, Dikker & Thijs Fenice Hotel,\n",
      "\n",
      "Cluster 4 words: b'parking', b'pool', b'bars', b'beach', b'lobby', b'inn', b'airport', b'shuttle', b'enjoyable', b'downtown', b'told', b'review', b'guests', b'year', b'block', b'york', b'always', b'included', b'subway', b'taxi',\n",
      "\n",
      "Cluster 4 hotels: 254 East Vacation, The Helmsley Park Lane, Admiral Fell Inn, Homestead Studio Suites Dallas - Plano, The Beach Cottages, Super 8 Toronto, Holiday Inn New Orleans French Quarter, Plaza Hotel Istanbul, Country Club Hotel, Hotel Plaza, Hilton Istanbul, Holiday Inn Express Hotel & Suites Dallas (Galleria Area), InterContinental Boston, Courtyard by Marriott Phoenix West/Avondale, The Hotel 91, Radisson Martinique on Broadway, The Darling, Rodeway Inn Maingate, Four Queens Hotel and Casino, Baroness Hotel, Home House, Hotel Monaco Seattle - a Kimpton Hotel, Royal Plaza on Scotts, Hotel 81 - Osaka, Hotel Re!, Gran Hotel La Florida, Comfort Hotel Airport North, Hotel Palomar Los Angeles - Westwood - a Kimpton Hotel, Westin Harbour Castle, Mission Bay RV Resort, Coast Gateway Hotel, Ramada Plaza, Ultimate Apartments Bondi Beach, Americas Best Value Inn - Hollywood / Los Angeles, Pera Palace Hotel, York Hotel, Hotel Brexton, Hampton Inn San Diego/Del Mar, Fiesta Inn Aeropuerto Cuidad de Mexico, Chelsea Savoy Hotel,\n",
      "\n"
     ]
    }
   ],
   "source": [
    "print(\"Top terms per cluster:\")\n",
    "print()\n",
    "order_centroids = km.cluster_centers_.argsort()[:, ::-1]\n",
    "for i in range(num_clusters):\n",
    "    print(\"Cluster %d words:\" % i, end='')\n",
    "    for ind in order_centroids[i, :20]:\n",
    "        print(' %s' % hotel_vocab_frame.loc[terms[ind].split(' ')].values.tolist()[0][0].encode('utf-8', 'ignore'), end=',')\n",
    "    print()\n",
    "    print()\n",
    "    print(\"Cluster %d hotels:\" % i, end='')\n",
    "    for title in frame.loc[i]['hotel_name'].values.tolist():\n",
    "        print(' %s,' % title, end='')\n",
    "    print()\n",
    "    print()"
   ]
  },
  {
   "cell_type": "code",
   "execution_count": 25,
   "metadata": {
    "collapsed": true
   },
   "outputs": [],
   "source": [
    "#This is purely to help export tables to html and to correct for my 0 start rank (so that Godfather is 1, not 0)\n",
    "frame['Rank'] = frame['rank'] + 1\n",
    "frame['Name'] = frame['hotel_name']"
   ]
  },
  {
   "cell_type": "code",
   "execution_count": 26,
   "metadata": {},
   "outputs": [
    {
     "name": "stdout",
     "output_type": "stream",
     "text": [
      "<table border=\"1\" class=\"dataframe\">\n",
      "  <thead>\n",
      "    <tr style=\"text-align: right;\">\n",
      "      <th>Rank</th>\n",
      "      <th>Name</th>\n",
      "    </tr>\n",
      "  </thead>\n",
      "  <tbody>\n",
      "    <tr>\n",
      "      <td>3</td>\n",
      "      <td>Arriva Hotel</td>\n",
      "    </tr>\n",
      "    <tr>\n",
      "      <td>5</td>\n",
      "      <td>Pacific Hotel</td>\n",
      "    </tr>\n",
      "    <tr>\n",
      "      <td>14</td>\n",
      "      <td>St Marks, London</td>\n",
      "    </tr>\n",
      "    <tr>\n",
      "      <td>22</td>\n",
      "      <td>Gresham Hotel</td>\n",
      "    </tr>\n",
      "    <tr>\n",
      "      <td>23</td>\n",
      "      <td>London Carlton Hotel</td>\n",
      "    </tr>\n",
      "    <tr>\n",
      "      <td>31</td>\n",
      "      <td>Belmont &amp; Astoria Hotels</td>\n",
      "    </tr>\n",
      "    <tr>\n",
      "      <td>34</td>\n",
      "      <td>Venice Apartments</td>\n",
      "    </tr>\n",
      "    <tr>\n",
      "      <td>42</td>\n",
      "      <td>Curzon Plaza</td>\n",
      "    </tr>\n",
      "    <tr>\n",
      "      <td>51</td>\n",
      "      <td>Park Hotel</td>\n",
      "    </tr>\n",
      "    <tr>\n",
      "      <td>52</td>\n",
      "      <td>Al Canal Regio</td>\n",
      "    </tr>\n",
      "    <tr>\n",
      "      <td>69</td>\n",
      "      <td>Days Inn Phoenix Airport</td>\n",
      "    </tr>\n",
      "    <tr>\n",
      "      <td>81</td>\n",
      "      <td>Las Suites</td>\n",
      "    </tr>\n",
      "    <tr>\n",
      "      <td>87</td>\n",
      "      <td>Villa Borghese Resort</td>\n",
      "    </tr>\n",
      "    <tr>\n",
      "      <td>88</td>\n",
      "      <td>The Belvedere</td>\n",
      "    </tr>\n",
      "    <tr>\n",
      "      <td>90</td>\n",
      "      <td>Euro Hotel Clapham</td>\n",
      "    </tr>\n",
      "    <tr>\n",
      "      <td>92</td>\n",
      "      <td>Il Giardino Hotel</td>\n",
      "    </tr>\n",
      "    <tr>\n",
      "      <td>93</td>\n",
      "      <td>Hotel Eris</td>\n",
      "    </tr>\n",
      "  </tbody>\n",
      "</table>\n"
     ]
    }
   ],
   "source": [
    "#export tables to HTML\n",
    "print(frame[['Rank', 'Name']].loc[frame['cluster'] == 1].to_html(index=False))"
   ]
  },
  {
   "cell_type": "markdown",
   "metadata": {},
   "source": [
    "## Multidimensional scaling"
   ]
  },
  {
   "cell_type": "code",
   "execution_count": 27,
   "metadata": {
    "collapsed": true
   },
   "outputs": [],
   "source": [
    "MDS()\n",
    "\n",
    "# two components as we're plotting points in a two-dimensional plane\n",
    "# \"precomputed\" because we provide a distance matrix\n",
    "# we will also specify `random_state` so the plot is reproducible.\n",
    "mds = MDS(n_components=2, dissimilarity=\"precomputed\", random_state=1)\n",
    "\n",
    "pos = mds.fit_transform(dist)  # shape (n_components, n_samples)\n",
    "\n",
    "xs, ys = pos[:, 0], pos[:, 1]"
   ]
  },
  {
   "cell_type": "code",
   "execution_count": 28,
   "metadata": {
    "collapsed": true
   },
   "outputs": [],
   "source": [
    "def strip_proppers_POS(text):\n",
    "    tagged = pos_tag(text.split()) #use NLTK's part of speech tagger\n",
    "    non_propernouns = [word for word,pos in tagged if pos != 'NNP' and pos != 'NNPS']\n",
    "    return non_propernouns"
   ]
  },
  {
   "cell_type": "markdown",
   "metadata": {},
   "source": [
    "## Visualizing document clusters"
   ]
  },
  {
   "cell_type": "code",
   "execution_count": 29,
   "metadata": {
    "collapsed": true
   },
   "outputs": [],
   "source": [
    "#set up colors per clusters using a dict\n",
    "cluster_colors = {0: '#1b9e77', 1: '#d95f02', 2: '#7570b3', 3: '#e7298a', 4: '#66a61e'}\n",
    "\n",
    "#set up cluster names using a dict\n",
    "cluster_names = {0: 'beach, resorts, ocean, view, family, kid, relax, concierge', \n",
    "                 1: 'station, city, street, metro, taxi, sleep, shuttle, airport', \n",
    "                 2: 'downtown, new, street, business, coffee, city, terrace, palace', \n",
    "                 3: 'romantic, Paris, cafe, quietness, decorated, opera, bars, modern', \n",
    "                 4: 'piazza, fountain, foods, touring, shops, bars, mall'}"
   ]
  },
  {
   "cell_type": "code",
   "execution_count": 43,
   "metadata": {},
   "outputs": [
    {
     "name": "stderr",
     "output_type": "stream",
     "text": [
      "/Users/vkwan/anaconda2/envs/py36/lib/python3.6/site-packages/ipykernel_launcher.py:33: DeprecationWarning: \n",
      ".ix is deprecated. Please use\n",
      ".loc for label based indexing or\n",
      ".iloc for positional indexing\n",
      "\n",
      "See the documentation here:\n",
      "http://pandas.pydata.org/pandas-docs/stable/indexing.html#ix-indexer-is-deprecated\n"
     ]
    },
    {
     "data": {
      "image/png": "[encoded data removed]",
      "text/plain": [
       "<matplotlib.figure.Figure at 0x10bcfd668>"
      ]
     },
     "metadata": {},
     "output_type": "display_data"
    },
    {
     "data": {
      "text/plain": [
       "<matplotlib.figure.Figure at 0x1263579b0>"
      ]
     },
     "metadata": {},
     "output_type": "display_data"
    }
   ],
   "source": [
    "%matplotlib inline\n",
    "#create data frame that has the result of the MDS plus the cluster numbers and titles\n",
    "df = pd.DataFrame(dict(x=xs, y=ys, label=clusters, title=hotel_names[:100])) \n",
    "\n",
    "#group by cluster\n",
    "groups = df.groupby('label')\n",
    "\n",
    "\n",
    "# set up plot\n",
    "fig, ax = plt.subplots(figsize=(17, 9)) # set size\n",
    "ax.margins(0.05) # Optional, just adds 5% padding to the autoscaling\n",
    "\n",
    "#iterate through groups to layer the plot\n",
    "#note that I use the cluster_name and cluster_color dicts with the 'name' lookup to return the appropriate color/label\n",
    "for name, group in groups:\n",
    "    ax.plot(group.x, group.y, marker='o', linestyle='', ms=18, label=cluster_names[name], color=cluster_colors[name], mec='none')\n",
    "    ax.set_aspect('auto')\n",
    "    ax.tick_params(\\\n",
    "        axis= 'x',          # changes apply to the x-axis\n",
    "        which='both',      # both major and minor ticks are affected\n",
    "        bottom='off',      # ticks along the bottom edge are off\n",
    "        top='off',         # ticks along the top edge are off\n",
    "        labelbottom='off')\n",
    "    ax.tick_params(\\\n",
    "        axis= 'y',         # changes apply to the y-axis\n",
    "        which='both',      # both major and minor ticks are affected\n",
    "        left='off',      # ticks along the bottom edge are off\n",
    "        top='off',         # ticks along the top edge are off\n",
    "        labelleft='off')\n",
    "    \n",
    "ax.legend(numpoints=1)  #show legend with only 1 point\n",
    "\n",
    "#add label in x,y position with the label as the film title\n",
    "for i in range(len(df)):\n",
    "    ax.text(df.ix[i]['x'], df.ix[i]['y'], df.ix[i]['title'], size=4)  \n",
    "\n",
    "    \n",
    "    \n",
    "plt.show() #show the plot\n",
    "\n",
    "#uncomment the below to save the plot if need be\n",
    "plt.savefig('clusters_small_noaxes.png', dpi=200)"
   ]
  },
  {
   "cell_type": "code",
   "execution_count": null,
   "metadata": {
    "collapsed": true
   },
   "outputs": [],
   "source": [
    "plt.close()"
   ]
  },
  {
   "cell_type": "markdown",
   "metadata": {},
   "source": [
    "The clustering plot looks great, but it pains my eyes to see overlapping labels. Having some experience with [D3.js](http://d3js.org/) I knew one solution would be to use a browser based/javascript interactive. Fortunately, I recently stumbled upon [mpld3](https://mpld3.github.io/) a matplotlib wrapper for D3. Mpld3 basically let's you use matplotlib syntax to create web interactives. It has a really easy, high-level API for adding tooltips on mouse hover, which is what I am interested in.\n",
    "\n",
    "It also has some nice functionality for zooming and panning. The below javascript snippet basicaly defines a custom location for where the zoom/pan toggle resides. Don't worry about it too much and you actually don't need to use it, but it helped for formatting purposes when exporting to the web later. The only thing you might want to change is the x and y attr for the position of the toolbar."
   ]
  },
  {
   "cell_type": "code",
   "execution_count": 31,
   "metadata": {
    "collapsed": true
   },
   "outputs": [],
   "source": [
    "#define custom toolbar location\n",
    "class TopToolbar(mpld3.plugins.PluginBase):\n",
    "    \"\"\"Plugin for moving toolbar to top of figure\"\"\"\n",
    "\n",
    "    JAVASCRIPT = \"\"\"\n",
    "    mpld3.register_plugin(\"toptoolbar\", TopToolbar);\n",
    "    TopToolbar.prototype = Object.create(mpld3.Plugin.prototype);\n",
    "    TopToolbar.prototype.constructor = TopToolbar;\n",
    "    function TopToolbar(fig, props){\n",
    "        mpld3.Plugin.call(this, fig, props);\n",
    "    };\n",
    "\n",
    "    TopToolbar.prototype.draw = function(){\n",
    "      // the toolbar svg doesn't exist\n",
    "      // yet, so first draw it\n",
    "      this.fig.toolbar.draw();\n",
    "\n",
    "      // then change the y position to be\n",
    "      // at the top of the figure\n",
    "      this.fig.toolbar.toolbar.attr(\"x\", 150);\n",
    "      this.fig.toolbar.toolbar.attr(\"y\", 400);\n",
    "\n",
    "      // then remove the draw function,\n",
    "      // so that it is not called again\n",
    "      this.fig.toolbar.draw = function() {}\n",
    "    }\n",
    "    \"\"\"\n",
    "    def __init__(self):\n",
    "        self.dict_ = {\"type\": \"toptoolbar\"}"
   ]
  },
  {
   "cell_type": "code",
   "execution_count": 32,
   "metadata": {},
   "outputs": [
    {
     "data": {
      "text/html": [
       "\n",
       "\n",
       "<style>\n",
       "\n",
       "text.mpld3-text, div.mpld3-tooltip {\n",
       "  font-family:Arial, Helvetica, sans-serif;\n",
       "}\n",
       "\n",
       "g.mpld3-xaxis, g.mpld3-yaxis {\n",
       "display: none; }\n",
       "\n",
       "text.mpld3-text, div.mpld3-tooltip {\n",
       "  font-family:Arial, Helvetica, sans-serif;\n",
       "}\n",
       "\n",
       "g.mpld3-xaxis, g.mpld3-yaxis {\n",
       "display: none; }\n",
       "\n",
       "text.mpld3-text, div.mpld3-tooltip {\n",
       "  font-family:Arial, Helvetica, sans-serif;\n",
       "}\n",
       "\n",
       "g.mpld3-xaxis, g.mpld3-yaxis {\n",
       "display: none; }\n",
       "\n",
       "text.mpld3-text, div.mpld3-tooltip {\n",
       "  font-family:Arial, Helvetica, sans-serif;\n",
       "}\n",
       "\n",
       "g.mpld3-xaxis, g.mpld3-yaxis {\n",
       "display: none; }\n",
       "\n",
       "text.mpld3-text, div.mpld3-tooltip {\n",
       "  font-family:Arial, Helvetica, sans-serif;\n",
       "}\n",
       "\n",
       "g.mpld3-xaxis, g.mpld3-yaxis {\n",
       "display: none; }\n",
       "\n",
       "</style>\n",
       "\n",
       "<div id=\"fig_el278146077599201636239220\"></div>\n",
       "<script>\n",
       "function mpld3_load_lib(url, callback){\n",
       "  var s = document.createElement('script');\n",
       "  s.src = url;\n",
       "  s.async = true;\n",
       "  s.onreadystatechange = s.onload = callback;\n",
       "  s.onerror = function(){console.warn(\"failed to load library \" + url);};\n",
       "  document.getElementsByTagName(\"head\")[0].appendChild(s);\n",
       "}\n",
       "\n",
       "if(typeof(mpld3) !== \"undefined\" && mpld3._mpld3IsLoaded){\n",
       "   // already loaded: just create the figure\n",
       "   !function(mpld3){\n",
       "       \n",
       "    mpld3.register_plugin(\"htmltooltip\", HtmlTooltipPlugin);\n",
       "    HtmlTooltipPlugin.prototype = Object.create(mpld3.Plugin.prototype);\n",
       "    HtmlTooltipPlugin.prototype.constructor = HtmlTooltipPlugin;\n",
       "    HtmlTooltipPlugin.prototype.requiredProps = [\"id\"];\n",
       "    HtmlTooltipPlugin.prototype.defaultProps = {labels:null,\n",
       "                                                hoffset:0,\n",
       "                                                voffset:10};\n",
       "    function HtmlTooltipPlugin(fig, props){\n",
       "        mpld3.Plugin.call(this, fig, props);\n",
       "    };\n",
       "\n",
       "    HtmlTooltipPlugin.prototype.draw = function(){\n",
       "       var obj = mpld3.get_element(this.props.id);\n",
       "       var labels = this.props.labels;\n",
       "       var tooltip = d3.select(\"body\").append(\"div\")\n",
       "                    .attr(\"class\", \"mpld3-tooltip\")\n",
       "                    .style(\"position\", \"absolute\")\n",
       "                    .style(\"z-index\", \"10\")\n",
       "                    .style(\"visibility\", \"hidden\");\n",
       "\n",
       "       obj.elements()\n",
       "           .on(\"mouseover\", function(d, i){\n",
       "                              tooltip.html(labels[i])\n",
       "                                     .style(\"visibility\", \"visible\");})\n",
       "           .on(\"mousemove\", function(d, i){\n",
       "                  tooltip\n",
       "                    .style(\"top\", d3.event.pageY + this.props.voffset + \"px\")\n",
       "                    .style(\"left\",d3.event.pageX + this.props.hoffset + \"px\");\n",
       "                 }.bind(this))\n",
       "           .on(\"mouseout\",  function(d, i){\n",
       "                           tooltip.style(\"visibility\", \"hidden\");});\n",
       "    };\n",
       "    \n",
       "    mpld3.register_plugin(\"toptoolbar\", TopToolbar);\n",
       "    TopToolbar.prototype = Object.create(mpld3.Plugin.prototype);\n",
       "    TopToolbar.prototype.constructor = TopToolbar;\n",
       "    function TopToolbar(fig, props){\n",
       "        mpld3.Plugin.call(this, fig, props);\n",
       "    };\n",
       "\n",
       "    TopToolbar.prototype.draw = function(){\n",
       "      // the toolbar svg doesn't exist\n",
       "      // yet, so first draw it\n",
       "      this.fig.toolbar.draw();\n",
       "\n",
       "      // then change the y position to be\n",
       "      // at the top of the figure\n",
       "      this.fig.toolbar.toolbar.attr(\"x\", 150);\n",
       "      this.fig.toolbar.toolbar.attr(\"y\", 400);\n",
       "\n",
       "      // then remove the draw function,\n",
       "      // so that it is not called again\n",
       "      this.fig.toolbar.draw = function() {}\n",
       "    }\n",
       "    \n",
       "    mpld3.register_plugin(\"htmltooltip\", HtmlTooltipPlugin);\n",
       "    HtmlTooltipPlugin.prototype = Object.create(mpld3.Plugin.prototype);\n",
       "    HtmlTooltipPlugin.prototype.constructor = HtmlTooltipPlugin;\n",
       "    HtmlTooltipPlugin.prototype.requiredProps = [\"id\"];\n",
       "    HtmlTooltipPlugin.prototype.defaultProps = {labels:null,\n",
       "                                                hoffset:0,\n",
       "                                                voffset:10};\n",
       "    function HtmlTooltipPlugin(fig, props){\n",
       "        mpld3.Plugin.call(this, fig, props);\n",
       "    };\n",
       "\n",
       "    HtmlTooltipPlugin.prototype.draw = function(){\n",
       "       var obj = mpld3.get_element(this.props.id);\n",
       "       var labels = this.props.labels;\n",
       "       var tooltip = d3.select(\"body\").append(\"div\")\n",
       "                    .attr(\"class\", \"mpld3-tooltip\")\n",
       "                    .style(\"position\", \"absolute\")\n",
       "                    .style(\"z-index\", \"10\")\n",
       "                    .style(\"visibility\", \"hidden\");\n",
       "\n",
       "       obj.elements()\n",
       "           .on(\"mouseover\", function(d, i){\n",
       "                              tooltip.html(labels[i])\n",
       "                                     .style(\"visibility\", \"visible\");})\n",
       "           .on(\"mousemove\", function(d, i){\n",
       "                  tooltip\n",
       "                    .style(\"top\", d3.event.pageY + this.props.voffset + \"px\")\n",
       "                    .style(\"left\",d3.event.pageX + this.props.hoffset + \"px\");\n",
       "                 }.bind(this))\n",
       "           .on(\"mouseout\",  function(d, i){\n",
       "                           tooltip.style(\"visibility\", \"hidden\");});\n",
       "    };\n",
       "    \n",
       "    mpld3.register_plugin(\"toptoolbar\", TopToolbar);\n",
       "    TopToolbar.prototype = Object.create(mpld3.Plugin.prototype);\n",
       "    TopToolbar.prototype.constructor = TopToolbar;\n",
       "    function TopToolbar(fig, props){\n",
       "        mpld3.Plugin.call(this, fig, props);\n",
       "    };\n",
       "\n",
       "    TopToolbar.prototype.draw = function(){\n",
       "      // the toolbar svg doesn't exist\n",
       "      // yet, so first draw it\n",
       "      this.fig.toolbar.draw();\n",
       "\n",
       "      // then change the y position to be\n",
       "      // at the top of the figure\n",
       "      this.fig.toolbar.toolbar.attr(\"x\", 150);\n",
       "      this.fig.toolbar.toolbar.attr(\"y\", 400);\n",
       "\n",
       "      // then remove the draw function,\n",
       "      // so that it is not called again\n",
       "      this.fig.toolbar.draw = function() {}\n",
       "    }\n",
       "    \n",
       "    mpld3.register_plugin(\"htmltooltip\", HtmlTooltipPlugin);\n",
       "    HtmlTooltipPlugin.prototype = Object.create(mpld3.Plugin.prototype);\n",
       "    HtmlTooltipPlugin.prototype.constructor = HtmlTooltipPlugin;\n",
       "    HtmlTooltipPlugin.prototype.requiredProps = [\"id\"];\n",
       "    HtmlTooltipPlugin.prototype.defaultProps = {labels:null,\n",
       "                                                hoffset:0,\n",
       "                                                voffset:10};\n",
       "    function HtmlTooltipPlugin(fig, props){\n",
       "        mpld3.Plugin.call(this, fig, props);\n",
       "    };\n",
       "\n",
       "    HtmlTooltipPlugin.prototype.draw = function(){\n",
       "       var obj = mpld3.get_element(this.props.id);\n",
       "       var labels = this.props.labels;\n",
       "       var tooltip = d3.select(\"body\").append(\"div\")\n",
       "                    .attr(\"class\", \"mpld3-tooltip\")\n",
       "                    .style(\"position\", \"absolute\")\n",
       "                    .style(\"z-index\", \"10\")\n",
       "                    .style(\"visibility\", \"hidden\");\n",
       "\n",
       "       obj.elements()\n",
       "           .on(\"mouseover\", function(d, i){\n",
       "                              tooltip.html(labels[i])\n",
       "                                     .style(\"visibility\", \"visible\");})\n",
       "           .on(\"mousemove\", function(d, i){\n",
       "                  tooltip\n",
       "                    .style(\"top\", d3.event.pageY + this.props.voffset + \"px\")\n",
       "                    .style(\"left\",d3.event.pageX + this.props.hoffset + \"px\");\n",
       "                 }.bind(this))\n",
       "           .on(\"mouseout\",  function(d, i){\n",
       "                           tooltip.style(\"visibility\", \"hidden\");});\n",
       "    };\n",
       "    \n",
       "    mpld3.register_plugin(\"toptoolbar\", TopToolbar);\n",
       "    TopToolbar.prototype = Object.create(mpld3.Plugin.prototype);\n",
       "    TopToolbar.prototype.constructor = TopToolbar;\n",
       "    function TopToolbar(fig, props){\n",
       "        mpld3.Plugin.call(this, fig, props);\n",
       "    };\n",
       "\n",
       "    TopToolbar.prototype.draw = function(){\n",
       "      // the toolbar svg doesn't exist\n",
       "      // yet, so first draw it\n",
       "      this.fig.toolbar.draw();\n",
       "\n",
       "      // then change the y position to be\n",
       "      // at the top of the figure\n",
       "      this.fig.toolbar.toolbar.attr(\"x\", 150);\n",
       "      this.fig.toolbar.toolbar.attr(\"y\", 400);\n",
       "\n",
       "      // then remove the draw function,\n",
       "      // so that it is not called again\n",
       "      this.fig.toolbar.draw = function() {}\n",
       "    }\n",
       "    \n",
       "    mpld3.register_plugin(\"htmltooltip\", HtmlTooltipPlugin);\n",
       "    HtmlTooltipPlugin.prototype = Object.create(mpld3.Plugin.prototype);\n",
       "    HtmlTooltipPlugin.prototype.constructor = HtmlTooltipPlugin;\n",
       "    HtmlTooltipPlugin.prototype.requiredProps = [\"id\"];\n",
       "    HtmlTooltipPlugin.prototype.defaultProps = {labels:null,\n",
       "                                                hoffset:0,\n",
       "                                                voffset:10};\n",
       "    function HtmlTooltipPlugin(fig, props){\n",
       "        mpld3.Plugin.call(this, fig, props);\n",
       "    };\n",
       "\n",
       "    HtmlTooltipPlugin.prototype.draw = function(){\n",
       "       var obj = mpld3.get_element(this.props.id);\n",
       "       var labels = this.props.labels;\n",
       "       var tooltip = d3.select(\"body\").append(\"div\")\n",
       "                    .attr(\"class\", \"mpld3-tooltip\")\n",
       "                    .style(\"position\", \"absolute\")\n",
       "                    .style(\"z-index\", \"10\")\n",
       "                    .style(\"visibility\", \"hidden\");\n",
       "\n",
       "       obj.elements()\n",
       "           .on(\"mouseover\", function(d, i){\n",
       "                              tooltip.html(labels[i])\n",
       "                                     .style(\"visibility\", \"visible\");})\n",
       "           .on(\"mousemove\", function(d, i){\n",
       "                  tooltip\n",
       "                    .style(\"top\", d3.event.pageY + this.props.voffset + \"px\")\n",
       "                    .style(\"left\",d3.event.pageX + this.props.hoffset + \"px\");\n",
       "                 }.bind(this))\n",
       "           .on(\"mouseout\",  function(d, i){\n",
       "                           tooltip.style(\"visibility\", \"hidden\");});\n",
       "    };\n",
       "    \n",
       "    mpld3.register_plugin(\"toptoolbar\", TopToolbar);\n",
       "    TopToolbar.prototype = Object.create(mpld3.Plugin.prototype);\n",
       "    TopToolbar.prototype.constructor = TopToolbar;\n",
       "    function TopToolbar(fig, props){\n",
       "        mpld3.Plugin.call(this, fig, props);\n",
       "    };\n",
       "\n",
       "    TopToolbar.prototype.draw = function(){\n",
       "      // the toolbar svg doesn't exist\n",
       "      // yet, so first draw it\n",
       "      this.fig.toolbar.draw();\n",
       "\n",
       "      // then change the y position to be\n",
       "      // at the top of the figure\n",
       "      this.fig.toolbar.toolbar.attr(\"x\", 150);\n",
       "      this.fig.toolbar.toolbar.attr(\"y\", 400);\n",
       "\n",
       "      // then remove the draw function,\n",
       "      // so that it is not called again\n",
       "      this.fig.toolbar.draw = function() {}\n",
       "    }\n",
       "    \n",
       "    mpld3.register_plugin(\"htmltooltip\", HtmlTooltipPlugin);\n",
       "    HtmlTooltipPlugin.prototype = Object.create(mpld3.Plugin.prototype);\n",
       "    HtmlTooltipPlugin.prototype.constructor = HtmlTooltipPlugin;\n",
       "    HtmlTooltipPlugin.prototype.requiredProps = [\"id\"];\n",
       "    HtmlTooltipPlugin.prototype.defaultProps = {labels:null,\n",
       "                                                hoffset:0,\n",
       "                                                voffset:10};\n",
       "    function HtmlTooltipPlugin(fig, props){\n",
       "        mpld3.Plugin.call(this, fig, props);\n",
       "    };\n",
       "\n",
       "    HtmlTooltipPlugin.prototype.draw = function(){\n",
       "       var obj = mpld3.get_element(this.props.id);\n",
       "       var labels = this.props.labels;\n",
       "       var tooltip = d3.select(\"body\").append(\"div\")\n",
       "                    .attr(\"class\", \"mpld3-tooltip\")\n",
       "                    .style(\"position\", \"absolute\")\n",
       "                    .style(\"z-index\", \"10\")\n",
       "                    .style(\"visibility\", \"hidden\");\n",
       "\n",
       "       obj.elements()\n",
       "           .on(\"mouseover\", function(d, i){\n",
       "                              tooltip.html(labels[i])\n",
       "                                     .style(\"visibility\", \"visible\");})\n",
       "           .on(\"mousemove\", function(d, i){\n",
       "                  tooltip\n",
       "                    .style(\"top\", d3.event.pageY + this.props.voffset + \"px\")\n",
       "                    .style(\"left\",d3.event.pageX + this.props.hoffset + \"px\");\n",
       "                 }.bind(this))\n",
       "           .on(\"mouseout\",  function(d, i){\n",
       "                           tooltip.style(\"visibility\", \"hidden\");});\n",
       "    };\n",
       "    \n",
       "    mpld3.register_plugin(\"toptoolbar\", TopToolbar);\n",
       "    TopToolbar.prototype = Object.create(mpld3.Plugin.prototype);\n",
       "    TopToolbar.prototype.constructor = TopToolbar;\n",
       "    function TopToolbar(fig, props){\n",
       "        mpld3.Plugin.call(this, fig, props);\n",
       "    };\n",
       "\n",
       "    TopToolbar.prototype.draw = function(){\n",
       "      // the toolbar svg doesn't exist\n",
       "      // yet, so first draw it\n",
       "      this.fig.toolbar.draw();\n",
       "\n",
       "      // then change the y position to be\n",
       "      // at the top of the figure\n",
       "      this.fig.toolbar.toolbar.attr(\"x\", 150);\n",
       "      this.fig.toolbar.toolbar.attr(\"y\", 400);\n",
       "\n",
       "      // then remove the draw function,\n",
       "      // so that it is not called again\n",
       "      this.fig.toolbar.draw = function() {}\n",
       "    }\n",
       "    \n",
       "       mpld3.draw_figure(\"fig_el278146077599201636239220\", {\"width\": 1008.0, \"height\": 432.0, \"axes\": [{\"bbox\": [0.125, 0.125, 0.775, 0.755], \"xlim\": [-0.7354967304979537, 0.8013971964708961], \"ylim\": [-0.8325551343040352, 0.7607862157870571], \"xdomain\": [-0.7354967304979537, 0.8013971964708961], \"ydomain\": [-0.8325551343040352, 0.7607862157870571], \"xscale\": \"linear\", \"yscale\": \"linear\", \"axes\": [{\"position\": \"bottom\", \"nticks\": 0, \"tickvalues\": [], \"tickformat\": \"\", \"scale\": \"linear\", \"fontsize\": null, \"grid\": {\"gridOn\": false}, \"visible\": false}, {\"position\": \"left\", \"nticks\": 0, \"tickvalues\": [], \"tickformat\": \"\", \"scale\": \"linear\", \"fontsize\": null, \"grid\": {\"gridOn\": false}, \"visible\": false}], \"axesbg\": \"#FFFFFF\", \"axesbgalpha\": null, \"zoomable\": true, \"id\": \"el27814502125312\", \"lines\": [], \"paths\": [{\"data\": \"data07\", \"xindex\": 0, \"yindex\": 1, \"coordinates\": \"axes\", \"pathcodes\": [\"M\", \"L\", \"S\", \"L\", \"S\", \"L\", \"S\", \"L\", \"S\", \"Z\"], \"id\": \"el27814584265880\", \"dasharray\": \"none\", \"alpha\": 0.8, \"facecolor\": \"#FFFFFF\", \"edgecolor\": \"#CCCCCC\", \"edgewidth\": 1.0, \"zorder\": 1000000.0}], \"markers\": [{\"data\": \"data01\", \"xindex\": 0, \"yindex\": 1, \"coordinates\": \"data\", \"id\": \"el27814720401320pts\", \"facecolor\": \"#1B9E77\", \"edgecolor\": \"none\", \"edgewidth\": 1.0, \"alpha\": 1, \"zorder\": 2, \"markerpath\": [[[0.0, 9.0], [2.3868279, 9.0], [4.676218837063681, 8.051703224294176], [6.3639610306789285, 6.3639610306789285], [8.051703224294176, 4.676218837063681], [9.0, 2.3868279], [9.0, 0.0], [9.0, -2.3868279], [8.051703224294176, -4.676218837063681], [6.3639610306789285, -6.3639610306789285], [4.676218837063681, -8.051703224294176], [2.3868279, -9.0], [0.0, -9.0], [-2.3868279, -9.0], [-4.676218837063681, -8.051703224294176], [-6.3639610306789285, -6.3639610306789285], [-8.051703224294176, -4.676218837063681], [-9.0, -2.3868279], [-9.0, 0.0], [-9.0, 2.3868279], [-8.051703224294176, 4.676218837063681], [-6.3639610306789285, 6.3639610306789285], [-4.676218837063681, 8.051703224294176], [-2.3868279, 9.0], [0.0, 9.0]], [\"M\", \"C\", \"C\", \"C\", \"C\", \"C\", \"C\", \"C\", \"C\", \"Z\"]]}, {\"data\": \"data02\", \"xindex\": 0, \"yindex\": 1, \"coordinates\": \"data\", \"id\": \"el27814562763960pts\", \"facecolor\": \"#D95F02\", \"edgecolor\": \"none\", \"edgewidth\": 1.0, \"alpha\": 1, \"zorder\": 2, \"markerpath\": [[[0.0, 9.0], [2.3868279, 9.0], [4.676218837063681, 8.051703224294176], [6.3639610306789285, 6.3639610306789285], [8.051703224294176, 4.676218837063681], [9.0, 2.3868279], [9.0, 0.0], [9.0, -2.3868279], [8.051703224294176, -4.676218837063681], [6.3639610306789285, -6.3639610306789285], [4.676218837063681, -8.051703224294176], [2.3868279, -9.0], [0.0, -9.0], [-2.3868279, -9.0], [-4.676218837063681, -8.051703224294176], [-6.3639610306789285, -6.3639610306789285], [-8.051703224294176, -4.676218837063681], [-9.0, -2.3868279], [-9.0, 0.0], [-9.0, 2.3868279], [-8.051703224294176, 4.676218837063681], [-6.3639610306789285, 6.3639610306789285], [-4.676218837063681, 8.051703224294176], [-2.3868279, 9.0], [0.0, 9.0]], [\"M\", \"C\", \"C\", \"C\", \"C\", \"C\", \"C\", \"C\", \"C\", \"Z\"]]}, {\"data\": \"data03\", \"xindex\": 0, \"yindex\": 1, \"coordinates\": \"data\", \"id\": \"el27814720402384pts\", \"facecolor\": \"#7570B3\", \"edgecolor\": \"none\", \"edgewidth\": 1.0, \"alpha\": 1, \"zorder\": 2, \"markerpath\": [[[0.0, 9.0], [2.3868279, 9.0], [4.676218837063681, 8.051703224294176], [6.3639610306789285, 6.3639610306789285], [8.051703224294176, 4.676218837063681], [9.0, 2.3868279], [9.0, 0.0], [9.0, -2.3868279], [8.051703224294176, -4.676218837063681], [6.3639610306789285, -6.3639610306789285], [4.676218837063681, -8.051703224294176], [2.3868279, -9.0], [0.0, -9.0], [-2.3868279, -9.0], [-4.676218837063681, -8.051703224294176], [-6.3639610306789285, -6.3639610306789285], [-8.051703224294176, -4.676218837063681], [-9.0, -2.3868279], [-9.0, 0.0], [-9.0, 2.3868279], [-8.051703224294176, 4.676218837063681], [-6.3639610306789285, 6.3639610306789285], [-4.676218837063681, 8.051703224294176], [-2.3868279, 9.0], [0.0, 9.0]], [\"M\", \"C\", \"C\", \"C\", \"C\", \"C\", \"C\", \"C\", \"C\", \"Z\"]]}, {\"data\": \"data04\", \"xindex\": 0, \"yindex\": 1, \"coordinates\": \"data\", \"id\": \"el27814556152504pts\", \"facecolor\": \"#E7298A\", \"edgecolor\": \"none\", \"edgewidth\": 1.0, \"alpha\": 1, \"zorder\": 2, \"markerpath\": [[[0.0, 9.0], [2.3868279, 9.0], [4.676218837063681, 8.051703224294176], [6.3639610306789285, 6.3639610306789285], [8.051703224294176, 4.676218837063681], [9.0, 2.3868279], [9.0, 0.0], [9.0, -2.3868279], [8.051703224294176, -4.676218837063681], [6.3639610306789285, -6.3639610306789285], [4.676218837063681, -8.051703224294176], [2.3868279, -9.0], [0.0, -9.0], [-2.3868279, -9.0], [-4.676218837063681, -8.051703224294176], [-6.3639610306789285, -6.3639610306789285], [-8.051703224294176, -4.676218837063681], [-9.0, -2.3868279], [-9.0, 0.0], [-9.0, 2.3868279], [-8.051703224294176, 4.676218837063681], [-6.3639610306789285, 6.3639610306789285], [-4.676218837063681, 8.051703224294176], [-2.3868279, 9.0], [0.0, 9.0]], [\"M\", \"C\", \"C\", \"C\", \"C\", \"C\", \"C\", \"C\", \"C\", \"Z\"]]}, {\"data\": \"data05\", \"xindex\": 0, \"yindex\": 1, \"coordinates\": \"data\", \"id\": \"el27814556175400pts\", \"facecolor\": \"#66A61E\", \"edgecolor\": \"none\", \"edgewidth\": 1.0, \"alpha\": 1, \"zorder\": 2, \"markerpath\": [[[0.0, 9.0], [2.3868279, 9.0], [4.676218837063681, 8.051703224294176], [6.3639610306789285, 6.3639610306789285], [8.051703224294176, 4.676218837063681], [9.0, 2.3868279], [9.0, 0.0], [9.0, -2.3868279], [8.051703224294176, -4.676218837063681], [6.3639610306789285, -6.3639610306789285], [4.676218837063681, -8.051703224294176], [2.3868279, -9.0], [0.0, -9.0], [-2.3868279, -9.0], [-4.676218837063681, -8.051703224294176], [-6.3639610306789285, -6.3639610306789285], [-8.051703224294176, -4.676218837063681], [-9.0, -2.3868279], [-9.0, 0.0], [-9.0, 2.3868279], [-8.051703224294176, 4.676218837063681], [-6.3639610306789285, 6.3639610306789285], [-4.676218837063681, 8.051703224294176], [-2.3868279, 9.0], [0.0, 9.0]], [\"M\", \"C\", \"C\", \"C\", \"C\", \"C\", \"C\", \"C\", \"C\", \"Z\"]]}, {\"data\": \"data06\", \"xindex\": 0, \"yindex\": 1, \"coordinates\": \"axes\", \"id\": \"el27814610410704pts\", \"facecolor\": \"#1B9E77\", \"edgecolor\": \"none\", \"edgewidth\": 1.0, \"alpha\": 1, \"zorder\": 1000002.0, \"markerpath\": [[[0.0, 9.0], [2.3868279, 9.0], [4.676218837063681, 8.051703224294176], [6.3639610306789285, 6.3639610306789285], [8.051703224294176, 4.676218837063681], [9.0, 2.3868279], [9.0, 0.0], [9.0, -2.3868279], [8.051703224294176, -4.676218837063681], [6.3639610306789285, -6.3639610306789285], [4.676218837063681, -8.051703224294176], [2.3868279, -9.0], [0.0, -9.0], [-2.3868279, -9.0], [-4.676218837063681, -8.051703224294176], [-6.3639610306789285, -6.3639610306789285], [-8.051703224294176, -4.676218837063681], [-9.0, -2.3868279], [-9.0, 0.0], [-9.0, 2.3868279], [-8.051703224294176, 4.676218837063681], [-6.3639610306789285, 6.3639610306789285], [-4.676218837063681, 8.051703224294176], [-2.3868279, 9.0], [0.0, 9.0]], [\"M\", \"C\", \"C\", \"C\", \"C\", \"C\", \"C\", \"C\", \"C\", \"Z\"]]}, {\"data\": \"data06\", \"xindex\": 0, \"yindex\": 2, \"coordinates\": \"axes\", \"id\": \"el27814610410816pts\", \"facecolor\": \"#D95F02\", \"edgecolor\": \"none\", \"edgewidth\": 1.0, \"alpha\": 1, \"zorder\": 1000002.0, \"markerpath\": [[[0.0, 9.0], [2.3868279, 9.0], [4.676218837063681, 8.051703224294176], [6.3639610306789285, 6.3639610306789285], [8.051703224294176, 4.676218837063681], [9.0, 2.3868279], [9.0, 0.0], [9.0, -2.3868279], [8.051703224294176, -4.676218837063681], [6.3639610306789285, -6.3639610306789285], [4.676218837063681, -8.051703224294176], [2.3868279, -9.0], [0.0, -9.0], [-2.3868279, -9.0], [-4.676218837063681, -8.051703224294176], [-6.3639610306789285, -6.3639610306789285], [-8.051703224294176, -4.676218837063681], [-9.0, -2.3868279], [-9.0, 0.0], [-9.0, 2.3868279], [-8.051703224294176, 4.676218837063681], [-6.3639610306789285, 6.3639610306789285], [-4.676218837063681, 8.051703224294176], [-2.3868279, 9.0], [0.0, 9.0]], [\"M\", \"C\", \"C\", \"C\", \"C\", \"C\", \"C\", \"C\", \"C\", \"Z\"]]}, {\"data\": \"data06\", \"xindex\": 0, \"yindex\": 3, \"coordinates\": \"axes\", \"id\": \"el27814610410592pts\", \"facecolor\": \"#7570B3\", \"edgecolor\": \"none\", \"edgewidth\": 1.0, \"alpha\": 1, \"zorder\": 1000002.0, \"markerpath\": [[[0.0, 9.0], [2.3868279, 9.0], [4.676218837063681, 8.051703224294176], [6.3639610306789285, 6.3639610306789285], [8.051703224294176, 4.676218837063681], [9.0, 2.3868279], [9.0, 0.0], [9.0, -2.3868279], [8.051703224294176, -4.676218837063681], [6.3639610306789285, -6.3639610306789285], [4.676218837063681, -8.051703224294176], [2.3868279, -9.0], [0.0, -9.0], [-2.3868279, -9.0], [-4.676218837063681, -8.051703224294176], [-6.3639610306789285, -6.3639610306789285], [-8.051703224294176, -4.676218837063681], [-9.0, -2.3868279], [-9.0, 0.0], [-9.0, 2.3868279], [-8.051703224294176, 4.676218837063681], [-6.3639610306789285, 6.3639610306789285], [-4.676218837063681, 8.051703224294176], [-2.3868279, 9.0], [0.0, 9.0]], [\"M\", \"C\", \"C\", \"C\", \"C\", \"C\", \"C\", \"C\", \"C\", \"Z\"]]}, {\"data\": \"data06\", \"xindex\": 0, \"yindex\": 4, \"coordinates\": \"axes\", \"id\": \"el27814610412272pts\", \"facecolor\": \"#E7298A\", \"edgecolor\": \"none\", \"edgewidth\": 1.0, \"alpha\": 1, \"zorder\": 1000002.0, \"markerpath\": [[[0.0, 9.0], [2.3868279, 9.0], [4.676218837063681, 8.051703224294176], [6.3639610306789285, 6.3639610306789285], [8.051703224294176, 4.676218837063681], [9.0, 2.3868279], [9.0, 0.0], [9.0, -2.3868279], [8.051703224294176, -4.676218837063681], [6.3639610306789285, -6.3639610306789285], [4.676218837063681, -8.051703224294176], [2.3868279, -9.0], [0.0, -9.0], [-2.3868279, -9.0], [-4.676218837063681, -8.051703224294176], [-6.3639610306789285, -6.3639610306789285], [-8.051703224294176, -4.676218837063681], [-9.0, -2.3868279], [-9.0, 0.0], [-9.0, 2.3868279], [-8.051703224294176, 4.676218837063681], [-6.3639610306789285, 6.3639610306789285], [-4.676218837063681, 8.051703224294176], [-2.3868279, 9.0], [0.0, 9.0]], [\"M\", \"C\", \"C\", \"C\", \"C\", \"C\", \"C\", \"C\", \"C\", \"Z\"]]}, {\"data\": \"data06\", \"xindex\": 0, \"yindex\": 5, \"coordinates\": \"axes\", \"id\": \"el27814615836392pts\", \"facecolor\": \"#66A61E\", \"edgecolor\": \"none\", \"edgewidth\": 1.0, \"alpha\": 1, \"zorder\": 1000002.0, \"markerpath\": [[[0.0, 9.0], [2.3868279, 9.0], [4.676218837063681, 8.051703224294176], [6.3639610306789285, 6.3639610306789285], [8.051703224294176, 4.676218837063681], [9.0, 2.3868279], [9.0, 0.0], [9.0, -2.3868279], [8.051703224294176, -4.676218837063681], [6.3639610306789285, -6.3639610306789285], [4.676218837063681, -8.051703224294176], [2.3868279, -9.0], [0.0, -9.0], [-2.3868279, -9.0], [-4.676218837063681, -8.051703224294176], [-6.3639610306789285, -6.3639610306789285], [-8.051703224294176, -4.676218837063681], [-9.0, -2.3868279], [-9.0, 0.0], [-9.0, 2.3868279], [-8.051703224294176, 4.676218837063681], [-6.3639610306789285, 6.3639610306789285], [-4.676218837063681, 8.051703224294176], [-2.3868279, 9.0], [0.0, 9.0]], [\"M\", \"C\", \"C\", \"C\", \"C\", \"C\", \"C\", \"C\", \"C\", \"Z\"]]}], \"texts\": [{\"text\": \"beach, resorts, ocean, view, family, kid, relax, concierge\", \"position\": [0.5759728622631849, 0.21768457198920774], \"coordinates\": \"axes\", \"h_anchor\": \"start\", \"v_baseline\": \"auto\", \"rotation\": -0.0, \"fontsize\": 10.0, \"color\": \"#000000\", \"alpha\": 1, \"zorder\": 1000003.0, \"id\": \"el27814615501696\"}, {\"text\": \"station, city, street, metro, taxi, sleep, shuttle, airport\", \"position\": [0.5759728622631849, 0.17169487368162864], \"coordinates\": \"axes\", \"h_anchor\": \"start\", \"v_baseline\": \"auto\", \"rotation\": -0.0, \"fontsize\": 10.0, \"color\": \"#000000\", \"alpha\": 1, \"zorder\": 1000003.0, \"id\": \"el27814610411880\"}, {\"text\": \"downtown, new, street, business, coffee, city, terrace, palace\", \"position\": [0.5759728622631849, 0.12570517537404954], \"coordinates\": \"axes\", \"h_anchor\": \"start\", \"v_baseline\": \"auto\", \"rotation\": -0.0, \"fontsize\": 10.0, \"color\": \"#000000\", \"alpha\": 1, \"zorder\": 1000003.0, \"id\": \"el27814610411656\"}, {\"text\": \"romantic, Paris, cafe, quietness, decorated, opera, bars, modern\", \"position\": [0.5759728622631849, 0.07971547706647045], \"coordinates\": \"axes\", \"h_anchor\": \"start\", \"v_baseline\": \"auto\", \"rotation\": -0.0, \"fontsize\": 10.0, \"color\": \"#000000\", \"alpha\": 1, \"zorder\": 1000003.0, \"id\": \"el27814615836952\"}, {\"text\": \"piazza, fountain, foods, touring, shops, bars, mall\", \"position\": [0.5759728622631849, 0.03372577875889135], \"coordinates\": \"axes\", \"h_anchor\": \"start\", \"v_baseline\": \"auto\", \"rotation\": -0.0, \"fontsize\": 10.0, \"color\": \"#000000\", \"alpha\": 1, \"zorder\": 1000003.0, \"id\": \"el27814615839304\"}], \"collections\": [], \"images\": [], \"sharex\": [], \"sharey\": []}], \"data\": {\"data01\": [[-0.4012865450683453, -0.7026121133516354], [0.5647391785281943, -0.23887562742560944], [-0.6635081484598109, -0.11593892204427217], [-0.34722104715906393, -0.24796982542676282]], \"data02\": [[-0.04339092273916127, 0.3302613308955924], [-0.25795782113253857, 0.5338433355957531], [0.06614418454063978, 0.6532401596674356], [-0.15141668109180542, 0.38645827127784893], [-0.11139959463637464, 0.5324739978848249], [-0.03488111299387085, 0.4514034653936792], [0.27656885310979257, 0.6336330089571145], [-0.000812209059048009, 0.48565781092272664], [-0.18674468319714554, 0.33192274336458666], [-0.09924217746313056, -0.2551913082184916], [-0.45822037534135796, 0.34605875328629504], [-0.6908287166853644, 0.3774183303476111], [0.590557751064244, 0.32981423597483545], [0.0570286316004639, 0.31051809136819786], [-0.08837088545339461, 0.28739865548531707], [-0.01402845634910547, -0.7874605677920231], [0.5113318217650498, 0.4843552103256364]], \"data03\": [[0.4902263854837697, 0.010235170722966145], [0.7579001985378154, -0.10353764687067576], [0.657881341030565, 0.09504042503299916], [0.397050434416919, -0.1859866673500149], [0.3718700973673606, -0.05548622146081546], [0.643264731688461, 0.14609517815705805], [0.5591244898784027, -0.2949458689558136], [0.6609369413570876, -0.021959472309996432], [0.4874833311851874, -0.10886501886086615], [0.5852954056272893, -0.15415137855349303], [0.2578329275188119, -0.043643119714146465], [0.4720801068288945, -0.07846082162151649], [0.4188010141948637, -0.08436485590106856], [0.3889925577669483, -0.010221780213370859]], \"data04\": [[0.0021123073470231007, -0.42371432945443815], [0.46878987609529127, -0.46231564338795006], [0.14308686826765735, -0.15226357070064953], [0.38548658414420156, 0.37664906150074395], [0.08869505981132253, 0.18733650358709367], [0.29132466430667125, -0.45854056214230804], [-0.01605415938605176, -0.31341736860399155], [0.16864291795163094, -0.10575128057462956], [0.1575414235708865, 0.07307422078695756], [0.15135392973885517, -0.2555557952857413], [-0.11796271887999377, -0.47239209552869915], [0.36290119367510054, -0.5972820098913983], [0.11477754760440326, -0.30965603770575073], [0.06616246853426351, -0.11217292543806727], [0.16050433304255446, -0.7205846028724133], [0.4803652958923889, 0.6367008459054028], [0.29641578064037816, -0.25057731161687896], [0.020363245459429993, -0.16692951151383134], [0.17322096092610142, 0.01732277032763218], [0.3750804830554782, 0.1541622789747138], [0.42329820051732464, 0.19375765789649468], [0.09544992245288735, -0.4482568297654532], [0.23366874654870018, -0.6026364971963626], [0.1671322009370616, -0.406489665952749], [0.05160696397494821, -0.31365079760355546]], \"data05\": [[0.09707881715536149, 0.5447492990463539], [-0.3623442076116239, -0.0771413883459434], [-0.49722893679837554, -0.29781255554305525], [-0.2828928315415361, 0.6183538640493601], [-0.2080437064869929, 0.715691649275045], [-0.2811024173614892, 0.0675476812751531], [-0.40367004909312554, 0.013136130965063808], [-0.2299833223424477, -0.4740781788621134], [0.2083547292429487, 0.2830427212426881], [-0.28679237142227004, -0.7323397590670344], [-0.12276592988541751, -0.505637571946985], [-0.6143660725385222, 0.007154719813453234], [-0.14477493274915862, -0.024689854730225915], [-0.5676846051480959, -0.25246311052956105], [-0.2106539720310367, -0.3170767603821329], [-0.11988941926012554, -0.09634078758749016], [-0.5795365536610558, -0.14452280513644825], [-0.33642583338433085, 0.1884312587772184], [-0.5112134743220762, -0.060222993677104805], [-0.47336898477502043, 0.5432702091605455], [0.16514451278941747, 0.647881649569487], [-0.20743668481756042, -0.07465134252468643], [-0.05684016918032044, -0.03240869482448915], [-0.5284044128267555, -0.4563930761408719], [-0.040121365441386274, 0.06854835214368281], [0.003766149135239601, 0.04337751590422219], [-0.4531266378687614, 0.24878010055139194], [-0.22620723272247012, -0.002877675829712558], [-0.1678405867199898, 0.008374832889335795], [-0.691999732564873, 0.1765864909875314], [0.12186851607356135, 0.35736471981429774], [-0.3190887654242114, 0.14206153673222746], [-0.37216434304739543, 0.4546946508324826], [-0.5119990663296857, 0.1937602529871456], [-0.3107103785854742, -0.38198409850693105], [-0.14452594387827541, 0.12400935797260931], [-0.2850068030651646, -0.0977571192261678], [-0.46340095121731906, 0.07376069671210883], [0.2589082496073337, 0.44314498484670245], [-0.25327538279127754, -0.2382983650212329]], \"data06\": [[0.552931387608807, 0.22841550159430954, 0.18242580328673044, 0.13643610497915135, 0.09044640667157224, 0.04445670836399314]], \"data07\": [[0.5375704045058884, 0.015329899435859717], [0.9910394265232977, 0.015329899435859717], [0.9935995903737841, 0.015329899435859717], [0.9935995903737841, 0.021461859210203577], [0.9935995903737841, 0.24834437086092717], [0.9935995903737841, 0.254476330635271], [0.9910394265232977, 0.254476330635271], [0.5375704045058884, 0.254476330635271], [0.535010240655402, 0.254476330635271], [0.535010240655402, 0.24834437086092717], [0.535010240655402, 0.021461859210203577], [0.535010240655402, 0.015329899435859717], [0.5375704045058884, 0.015329899435859717]]}, \"id\": \"el27814607759920\", \"plugins\": [{\"type\": \"reset\"}, {\"type\": \"zoom\", \"button\": true, \"enabled\": false}, {\"type\": \"boxzoom\", \"button\": true, \"enabled\": false}, {\"type\": \"htmltooltip\", \"id\": \"el27814720401320pts\", \"labels\": [\"Hotel-Pension Adamshof\", \"Hotel New York\", \"Hampton Inn Memphis-Walnut Grove/Baptist Hospital East\", \"Americana Inn\"], \"hoffset\": 10, \"voffset\": 10}, {\"type\": \"toptoolbar\"}, {\"type\": \"htmltooltip\", \"id\": \"el27814562763960pts\", \"labels\": [\"Arriva Hotel\", \"Pacific Hotel\", \"St Marks, London\", \"Gresham Hotel\", \"London Carlton Hotel\", \"Belmont & Astoria Hotels\", \"Venice Apartments\", \"Curzon Plaza\", \"Park Hotel\", \"Al Canal Regio\", \"Days Inn Phoenix Airport\", \"Las Suites\", \"Villa Borghese Resort\", \"The Belvedere\", \"Euro Hotel Clapham\", \"Il Giardino Hotel\", \"Hotel Eris\"], \"hoffset\": 10, \"voffset\": 10}, {\"type\": \"toptoolbar\"}, {\"type\": \"htmltooltip\", \"id\": \"el27814720402384pts\", \"labels\": [\"Hotel Prati\", \"Hotel Massimo\", \"Hotel Mamiani\", \"Trilussa Palace Congress & Spa\", \"Hotel Giardino\", \"BEST WESTERN Hotel Roma Tor Vergata\", \"Hotel Capitol Roma\", \"Hotel Everest 1\", \"Villa Patrizi\", \"All Time Relais & Sport Hotel\", \"Raffaello Hotel\", \"Mercure Roma Piazza Bologna\", \"Holiday Inn Express Rome - San Giovanni\", \"Priscilla Hotel\"], \"hoffset\": 10, \"voffset\": 10}, {\"type\": \"toptoolbar\"}, {\"type\": \"htmltooltip\", \"id\": \"el27814556152504pts\", \"labels\": [\"Holiday Inn Amsterdam\", \"Hotel du Prince Eugene\", \"BEST WESTERN Premier Hotel Sant' Elena\", \"Byotell\", \"Moon Hotel\", \"Ibis Berlin Messe\", \"Hotel Wiechmann\", \"Hotel Ca' Formenta\", \"Hotel Lloret Ramblas\", \"Mercure Hotel Amsterdam Aan de Amstel\", \"Hotel Gendarm nouveau\", \"Hotel Villa Kastania\", \"Hotel Europa 92\", \"Hotel OTTO\", \"Hotel Paris\", \"Soggiorno Europa\", \"Evenia Rocafort\", \"ARCOTEL Velvet\", \"Santa Chiara Hotel\", \"Austin's Arts et Metiers Hotel\", \"Eiffel Seine Hotel Paris\", \"Hotel Abba\", \"Hotel Pension Enzian\", \"Armagrandi Spina Istanbul\", \"Dikker & Thijs Fenice Hotel\"], \"hoffset\": 10, \"voffset\": 10}, {\"type\": \"toptoolbar\"}, {\"type\": \"htmltooltip\", \"id\": \"el27814556175400pts\", \"labels\": [\"254 East Vacation\", \"The Helmsley Park Lane\", \"Admiral Fell Inn\", \"Homestead Studio Suites Dallas - Plano\", \"The Beach Cottages\", \"Super 8 Toronto\", \"Holiday Inn New Orleans French Quarter\", \"Plaza Hotel Istanbul\", \"Country Club Hotel\", \"Hotel Plaza\", \"Hilton Istanbul\", \"Holiday Inn Express Hotel & Suites Dallas (Galleria Area)\", \"InterContinental Boston\", \"Courtyard by Marriott Phoenix West/Avondale\", \"The Hotel 91\", \"Radisson Martinique on Broadway\", \"The Darling\", \"Rodeway Inn Maingate\", \"Four Queens Hotel and Casino\", \"Baroness Hotel\", \"Home House\", \"Hotel Monaco Seattle - a Kimpton Hotel\", \"Royal Plaza on Scotts\", \"Hotel 81 - Osaka\", \"Hotel Re!\", \"Gran Hotel La Florida\", \"Comfort Hotel Airport North\", \"Hotel Palomar Los Angeles - Westwood - a Kimpton Hotel\", \"Westin Harbour Castle\", \"Mission Bay RV Resort\", \"Coast Gateway Hotel\", \"Ramada Plaza\", \"Ultimate Apartments Bondi Beach\", \"Americas Best Value Inn - Hollywood / Los Angeles\", \"Pera Palace Hotel\", \"York Hotel\", \"Hotel Brexton\", \"Hampton Inn San Diego/Del Mar\", \"Fiesta Inn Aeropuerto Cuidad de Mexico\", \"Chelsea Savoy Hotel\"], \"hoffset\": 10, \"voffset\": 10}, {\"type\": \"toptoolbar\"}]});\n",
       "   }(mpld3);\n",
       "}else if(typeof define === \"function\" && define.amd){\n",
       "   // require.js is available: use it to load d3/mpld3\n",
       "   require.config({paths: {d3: \"https://mpld3.github.io/js/d3.v3.min\"}});\n",
       "   require([\"d3\"], function(d3){\n",
       "      window.d3 = d3;\n",
       "      mpld3_load_lib(\"https://mpld3.github.io/js/mpld3.v0.3.js\", function(){\n",
       "         \n",
       "    mpld3.register_plugin(\"htmltooltip\", HtmlTooltipPlugin);\n",
       "    HtmlTooltipPlugin.prototype = Object.create(mpld3.Plugin.prototype);\n",
       "    HtmlTooltipPlugin.prototype.constructor = HtmlTooltipPlugin;\n",
       "    HtmlTooltipPlugin.prototype.requiredProps = [\"id\"];\n",
       "    HtmlTooltipPlugin.prototype.defaultProps = {labels:null,\n",
       "                                                hoffset:0,\n",
       "                                                voffset:10};\n",
       "    function HtmlTooltipPlugin(fig, props){\n",
       "        mpld3.Plugin.call(this, fig, props);\n",
       "    };\n",
       "\n",
       "    HtmlTooltipPlugin.prototype.draw = function(){\n",
       "       var obj = mpld3.get_element(this.props.id);\n",
       "       var labels = this.props.labels;\n",
       "       var tooltip = d3.select(\"body\").append(\"div\")\n",
       "                    .attr(\"class\", \"mpld3-tooltip\")\n",
       "                    .style(\"position\", \"absolute\")\n",
       "                    .style(\"z-index\", \"10\")\n",
       "                    .style(\"visibility\", \"hidden\");\n",
       "\n",
       "       obj.elements()\n",
       "           .on(\"mouseover\", function(d, i){\n",
       "                              tooltip.html(labels[i])\n",
       "                                     .style(\"visibility\", \"visible\");})\n",
       "           .on(\"mousemove\", function(d, i){\n",
       "                  tooltip\n",
       "                    .style(\"top\", d3.event.pageY + this.props.voffset + \"px\")\n",
       "                    .style(\"left\",d3.event.pageX + this.props.hoffset + \"px\");\n",
       "                 }.bind(this))\n",
       "           .on(\"mouseout\",  function(d, i){\n",
       "                           tooltip.style(\"visibility\", \"hidden\");});\n",
       "    };\n",
       "    \n",
       "    mpld3.register_plugin(\"toptoolbar\", TopToolbar);\n",
       "    TopToolbar.prototype = Object.create(mpld3.Plugin.prototype);\n",
       "    TopToolbar.prototype.constructor = TopToolbar;\n",
       "    function TopToolbar(fig, props){\n",
       "        mpld3.Plugin.call(this, fig, props);\n",
       "    };\n",
       "\n",
       "    TopToolbar.prototype.draw = function(){\n",
       "      // the toolbar svg doesn't exist\n",
       "      // yet, so first draw it\n",
       "      this.fig.toolbar.draw();\n",
       "\n",
       "      // then change the y position to be\n",
       "      // at the top of the figure\n",
       "      this.fig.toolbar.toolbar.attr(\"x\", 150);\n",
       "      this.fig.toolbar.toolbar.attr(\"y\", 400);\n",
       "\n",
       "      // then remove the draw function,\n",
       "      // so that it is not called again\n",
       "      this.fig.toolbar.draw = function() {}\n",
       "    }\n",
       "    \n",
       "    mpld3.register_plugin(\"htmltooltip\", HtmlTooltipPlugin);\n",
       "    HtmlTooltipPlugin.prototype = Object.create(mpld3.Plugin.prototype);\n",
       "    HtmlTooltipPlugin.prototype.constructor = HtmlTooltipPlugin;\n",
       "    HtmlTooltipPlugin.prototype.requiredProps = [\"id\"];\n",
       "    HtmlTooltipPlugin.prototype.defaultProps = {labels:null,\n",
       "                                                hoffset:0,\n",
       "                                                voffset:10};\n",
       "    function HtmlTooltipPlugin(fig, props){\n",
       "        mpld3.Plugin.call(this, fig, props);\n",
       "    };\n",
       "\n",
       "    HtmlTooltipPlugin.prototype.draw = function(){\n",
       "       var obj = mpld3.get_element(this.props.id);\n",
       "       var labels = this.props.labels;\n",
       "       var tooltip = d3.select(\"body\").append(\"div\")\n",
       "                    .attr(\"class\", \"mpld3-tooltip\")\n",
       "                    .style(\"position\", \"absolute\")\n",
       "                    .style(\"z-index\", \"10\")\n",
       "                    .style(\"visibility\", \"hidden\");\n",
       "\n",
       "       obj.elements()\n",
       "           .on(\"mouseover\", function(d, i){\n",
       "                              tooltip.html(labels[i])\n",
       "                                     .style(\"visibility\", \"visible\");})\n",
       "           .on(\"mousemove\", function(d, i){\n",
       "                  tooltip\n",
       "                    .style(\"top\", d3.event.pageY + this.props.voffset + \"px\")\n",
       "                    .style(\"left\",d3.event.pageX + this.props.hoffset + \"px\");\n",
       "                 }.bind(this))\n",
       "           .on(\"mouseout\",  function(d, i){\n",
       "                           tooltip.style(\"visibility\", \"hidden\");});\n",
       "    };\n",
       "    \n",
       "    mpld3.register_plugin(\"toptoolbar\", TopToolbar);\n",
       "    TopToolbar.prototype = Object.create(mpld3.Plugin.prototype);\n",
       "    TopToolbar.prototype.constructor = TopToolbar;\n",
       "    function TopToolbar(fig, props){\n",
       "        mpld3.Plugin.call(this, fig, props);\n",
       "    };\n",
       "\n",
       "    TopToolbar.prototype.draw = function(){\n",
       "      // the toolbar svg doesn't exist\n",
       "      // yet, so first draw it\n",
       "      this.fig.toolbar.draw();\n",
       "\n",
       "      // then change the y position to be\n",
       "      // at the top of the figure\n",
       "      this.fig.toolbar.toolbar.attr(\"x\", 150);\n",
       "      this.fig.toolbar.toolbar.attr(\"y\", 400);\n",
       "\n",
       "      // then remove the draw function,\n",
       "      // so that it is not called again\n",
       "      this.fig.toolbar.draw = function() {}\n",
       "    }\n",
       "    \n",
       "    mpld3.register_plugin(\"htmltooltip\", HtmlTooltipPlugin);\n",
       "    HtmlTooltipPlugin.prototype = Object.create(mpld3.Plugin.prototype);\n",
       "    HtmlTooltipPlugin.prototype.constructor = HtmlTooltipPlugin;\n",
       "    HtmlTooltipPlugin.prototype.requiredProps = [\"id\"];\n",
       "    HtmlTooltipPlugin.prototype.defaultProps = {labels:null,\n",
       "                                                hoffset:0,\n",
       "                                                voffset:10};\n",
       "    function HtmlTooltipPlugin(fig, props){\n",
       "        mpld3.Plugin.call(this, fig, props);\n",
       "    };\n",
       "\n",
       "    HtmlTooltipPlugin.prototype.draw = function(){\n",
       "       var obj = mpld3.get_element(this.props.id);\n",
       "       var labels = this.props.labels;\n",
       "       var tooltip = d3.select(\"body\").append(\"div\")\n",
       "                    .attr(\"class\", \"mpld3-tooltip\")\n",
       "                    .style(\"position\", \"absolute\")\n",
       "                    .style(\"z-index\", \"10\")\n",
       "                    .style(\"visibility\", \"hidden\");\n",
       "\n",
       "       obj.elements()\n",
       "           .on(\"mouseover\", function(d, i){\n",
       "                              tooltip.html(labels[i])\n",
       "                                     .style(\"visibility\", \"visible\");})\n",
       "           .on(\"mousemove\", function(d, i){\n",
       "                  tooltip\n",
       "                    .style(\"top\", d3.event.pageY + this.props.voffset + \"px\")\n",
       "                    .style(\"left\",d3.event.pageX + this.props.hoffset + \"px\");\n",
       "                 }.bind(this))\n",
       "           .on(\"mouseout\",  function(d, i){\n",
       "                           tooltip.style(\"visibility\", \"hidden\");});\n",
       "    };\n",
       "    \n",
       "    mpld3.register_plugin(\"toptoolbar\", TopToolbar);\n",
       "    TopToolbar.prototype = Object.create(mpld3.Plugin.prototype);\n",
       "    TopToolbar.prototype.constructor = TopToolbar;\n",
       "    function TopToolbar(fig, props){\n",
       "        mpld3.Plugin.call(this, fig, props);\n",
       "    };\n",
       "\n",
       "    TopToolbar.prototype.draw = function(){\n",
       "      // the toolbar svg doesn't exist\n",
       "      // yet, so first draw it\n",
       "      this.fig.toolbar.draw();\n",
       "\n",
       "      // then change the y position to be\n",
       "      // at the top of the figure\n",
       "      this.fig.toolbar.toolbar.attr(\"x\", 150);\n",
       "      this.fig.toolbar.toolbar.attr(\"y\", 400);\n",
       "\n",
       "      // then remove the draw function,\n",
       "      // so that it is not called again\n",
       "      this.fig.toolbar.draw = function() {}\n",
       "    }\n",
       "    \n",
       "    mpld3.register_plugin(\"htmltooltip\", HtmlTooltipPlugin);\n",
       "    HtmlTooltipPlugin.prototype = Object.create(mpld3.Plugin.prototype);\n",
       "    HtmlTooltipPlugin.prototype.constructor = HtmlTooltipPlugin;\n",
       "    HtmlTooltipPlugin.prototype.requiredProps = [\"id\"];\n",
       "    HtmlTooltipPlugin.prototype.defaultProps = {labels:null,\n",
       "                                                hoffset:0,\n",
       "                                                voffset:10};\n",
       "    function HtmlTooltipPlugin(fig, props){\n",
       "        mpld3.Plugin.call(this, fig, props);\n",
       "    };\n",
       "\n",
       "    HtmlTooltipPlugin.prototype.draw = function(){\n",
       "       var obj = mpld3.get_element(this.props.id);\n",
       "       var labels = this.props.labels;\n",
       "       var tooltip = d3.select(\"body\").append(\"div\")\n",
       "                    .attr(\"class\", \"mpld3-tooltip\")\n",
       "                    .style(\"position\", \"absolute\")\n",
       "                    .style(\"z-index\", \"10\")\n",
       "                    .style(\"visibility\", \"hidden\");\n",
       "\n",
       "       obj.elements()\n",
       "           .on(\"mouseover\", function(d, i){\n",
       "                              tooltip.html(labels[i])\n",
       "                                     .style(\"visibility\", \"visible\");})\n",
       "           .on(\"mousemove\", function(d, i){\n",
       "                  tooltip\n",
       "                    .style(\"top\", d3.event.pageY + this.props.voffset + \"px\")\n",
       "                    .style(\"left\",d3.event.pageX + this.props.hoffset + \"px\");\n",
       "                 }.bind(this))\n",
       "           .on(\"mouseout\",  function(d, i){\n",
       "                           tooltip.style(\"visibility\", \"hidden\");});\n",
       "    };\n",
       "    \n",
       "    mpld3.register_plugin(\"toptoolbar\", TopToolbar);\n",
       "    TopToolbar.prototype = Object.create(mpld3.Plugin.prototype);\n",
       "    TopToolbar.prototype.constructor = TopToolbar;\n",
       "    function TopToolbar(fig, props){\n",
       "        mpld3.Plugin.call(this, fig, props);\n",
       "    };\n",
       "\n",
       "    TopToolbar.prototype.draw = function(){\n",
       "      // the toolbar svg doesn't exist\n",
       "      // yet, so first draw it\n",
       "      this.fig.toolbar.draw();\n",
       "\n",
       "      // then change the y position to be\n",
       "      // at the top of the figure\n",
       "      this.fig.toolbar.toolbar.attr(\"x\", 150);\n",
       "      this.fig.toolbar.toolbar.attr(\"y\", 400);\n",
       "\n",
       "      // then remove the draw function,\n",
       "      // so that it is not called again\n",
       "      this.fig.toolbar.draw = function() {}\n",
       "    }\n",
       "    \n",
       "    mpld3.register_plugin(\"htmltooltip\", HtmlTooltipPlugin);\n",
       "    HtmlTooltipPlugin.prototype = Object.create(mpld3.Plugin.prototype);\n",
       "    HtmlTooltipPlugin.prototype.constructor = HtmlTooltipPlugin;\n",
       "    HtmlTooltipPlugin.prototype.requiredProps = [\"id\"];\n",
       "    HtmlTooltipPlugin.prototype.defaultProps = {labels:null,\n",
       "                                                hoffset:0,\n",
       "                                                voffset:10};\n",
       "    function HtmlTooltipPlugin(fig, props){\n",
       "        mpld3.Plugin.call(this, fig, props);\n",
       "    };\n",
       "\n",
       "    HtmlTooltipPlugin.prototype.draw = function(){\n",
       "       var obj = mpld3.get_element(this.props.id);\n",
       "       var labels = this.props.labels;\n",
       "       var tooltip = d3.select(\"body\").append(\"div\")\n",
       "                    .attr(\"class\", \"mpld3-tooltip\")\n",
       "                    .style(\"position\", \"absolute\")\n",
       "                    .style(\"z-index\", \"10\")\n",
       "                    .style(\"visibility\", \"hidden\");\n",
       "\n",
       "       obj.elements()\n",
       "           .on(\"mouseover\", function(d, i){\n",
       "                              tooltip.html(labels[i])\n",
       "                                     .style(\"visibility\", \"visible\");})\n",
       "           .on(\"mousemove\", function(d, i){\n",
       "                  tooltip\n",
       "                    .style(\"top\", d3.event.pageY + this.props.voffset + \"px\")\n",
       "                    .style(\"left\",d3.event.pageX + this.props.hoffset + \"px\");\n",
       "                 }.bind(this))\n",
       "           .on(\"mouseout\",  function(d, i){\n",
       "                           tooltip.style(\"visibility\", \"hidden\");});\n",
       "    };\n",
       "    \n",
       "    mpld3.register_plugin(\"toptoolbar\", TopToolbar);\n",
       "    TopToolbar.prototype = Object.create(mpld3.Plugin.prototype);\n",
       "    TopToolbar.prototype.constructor = TopToolbar;\n",
       "    function TopToolbar(fig, props){\n",
       "        mpld3.Plugin.call(this, fig, props);\n",
       "    };\n",
       "\n",
       "    TopToolbar.prototype.draw = function(){\n",
       "      // the toolbar svg doesn't exist\n",
       "      // yet, so first draw it\n",
       "      this.fig.toolbar.draw();\n",
       "\n",
       "      // then change the y position to be\n",
       "      // at the top of the figure\n",
       "      this.fig.toolbar.toolbar.attr(\"x\", 150);\n",
       "      this.fig.toolbar.toolbar.attr(\"y\", 400);\n",
       "\n",
       "      // then remove the draw function,\n",
       "      // so that it is not called again\n",
       "      this.fig.toolbar.draw = function() {}\n",
       "    }\n",
       "    \n",
       "         mpld3.draw_figure(\"fig_el278146077599201636239220\", {\"width\": 1008.0, \"height\": 432.0, \"axes\": [{\"bbox\": [0.125, 0.125, 0.775, 0.755], \"xlim\": [-0.7354967304979537, 0.8013971964708961], \"ylim\": [-0.8325551343040352, 0.7607862157870571], \"xdomain\": [-0.7354967304979537, 0.8013971964708961], \"ydomain\": [-0.8325551343040352, 0.7607862157870571], \"xscale\": \"linear\", \"yscale\": \"linear\", \"axes\": [{\"position\": \"bottom\", \"nticks\": 0, \"tickvalues\": [], \"tickformat\": \"\", \"scale\": \"linear\", \"fontsize\": null, \"grid\": {\"gridOn\": false}, \"visible\": false}, {\"position\": \"left\", \"nticks\": 0, \"tickvalues\": [], \"tickformat\": \"\", \"scale\": \"linear\", \"fontsize\": null, \"grid\": {\"gridOn\": false}, \"visible\": false}], \"axesbg\": \"#FFFFFF\", \"axesbgalpha\": null, \"zoomable\": true, \"id\": \"el27814502125312\", \"lines\": [], \"paths\": [{\"data\": \"data07\", \"xindex\": 0, \"yindex\": 1, \"coordinates\": \"axes\", \"pathcodes\": [\"M\", \"L\", \"S\", \"L\", \"S\", \"L\", \"S\", \"L\", \"S\", \"Z\"], \"id\": \"el27814584265880\", \"dasharray\": \"none\", \"alpha\": 0.8, \"facecolor\": \"#FFFFFF\", \"edgecolor\": \"#CCCCCC\", \"edgewidth\": 1.0, \"zorder\": 1000000.0}], \"markers\": [{\"data\": \"data01\", \"xindex\": 0, \"yindex\": 1, \"coordinates\": \"data\", \"id\": \"el27814720401320pts\", \"facecolor\": \"#1B9E77\", \"edgecolor\": \"none\", \"edgewidth\": 1.0, \"alpha\": 1, \"zorder\": 2, \"markerpath\": [[[0.0, 9.0], [2.3868279, 9.0], [4.676218837063681, 8.051703224294176], [6.3639610306789285, 6.3639610306789285], [8.051703224294176, 4.676218837063681], [9.0, 2.3868279], [9.0, 0.0], [9.0, -2.3868279], [8.051703224294176, -4.676218837063681], [6.3639610306789285, -6.3639610306789285], [4.676218837063681, -8.051703224294176], [2.3868279, -9.0], [0.0, -9.0], [-2.3868279, -9.0], [-4.676218837063681, -8.051703224294176], [-6.3639610306789285, -6.3639610306789285], [-8.051703224294176, -4.676218837063681], [-9.0, -2.3868279], [-9.0, 0.0], [-9.0, 2.3868279], [-8.051703224294176, 4.676218837063681], [-6.3639610306789285, 6.3639610306789285], [-4.676218837063681, 8.051703224294176], [-2.3868279, 9.0], [0.0, 9.0]], [\"M\", \"C\", \"C\", \"C\", \"C\", \"C\", \"C\", \"C\", \"C\", \"Z\"]]}, {\"data\": \"data02\", \"xindex\": 0, \"yindex\": 1, \"coordinates\": \"data\", \"id\": \"el27814562763960pts\", \"facecolor\": \"#D95F02\", \"edgecolor\": \"none\", \"edgewidth\": 1.0, \"alpha\": 1, \"zorder\": 2, \"markerpath\": [[[0.0, 9.0], [2.3868279, 9.0], [4.676218837063681, 8.051703224294176], [6.3639610306789285, 6.3639610306789285], [8.051703224294176, 4.676218837063681], [9.0, 2.3868279], [9.0, 0.0], [9.0, -2.3868279], [8.051703224294176, -4.676218837063681], [6.3639610306789285, -6.3639610306789285], [4.676218837063681, -8.051703224294176], [2.3868279, -9.0], [0.0, -9.0], [-2.3868279, -9.0], [-4.676218837063681, -8.051703224294176], [-6.3639610306789285, -6.3639610306789285], [-8.051703224294176, -4.676218837063681], [-9.0, -2.3868279], [-9.0, 0.0], [-9.0, 2.3868279], [-8.051703224294176, 4.676218837063681], [-6.3639610306789285, 6.3639610306789285], [-4.676218837063681, 8.051703224294176], [-2.3868279, 9.0], [0.0, 9.0]], [\"M\", \"C\", \"C\", \"C\", \"C\", \"C\", \"C\", \"C\", \"C\", \"Z\"]]}, {\"data\": \"data03\", \"xindex\": 0, \"yindex\": 1, \"coordinates\": \"data\", \"id\": \"el27814720402384pts\", \"facecolor\": \"#7570B3\", \"edgecolor\": \"none\", \"edgewidth\": 1.0, \"alpha\": 1, \"zorder\": 2, \"markerpath\": [[[0.0, 9.0], [2.3868279, 9.0], [4.676218837063681, 8.051703224294176], [6.3639610306789285, 6.3639610306789285], [8.051703224294176, 4.676218837063681], [9.0, 2.3868279], [9.0, 0.0], [9.0, -2.3868279], [8.051703224294176, -4.676218837063681], [6.3639610306789285, -6.3639610306789285], [4.676218837063681, -8.051703224294176], [2.3868279, -9.0], [0.0, -9.0], [-2.3868279, -9.0], [-4.676218837063681, -8.051703224294176], [-6.3639610306789285, -6.3639610306789285], [-8.051703224294176, -4.676218837063681], [-9.0, -2.3868279], [-9.0, 0.0], [-9.0, 2.3868279], [-8.051703224294176, 4.676218837063681], [-6.3639610306789285, 6.3639610306789285], [-4.676218837063681, 8.051703224294176], [-2.3868279, 9.0], [0.0, 9.0]], [\"M\", \"C\", \"C\", \"C\", \"C\", \"C\", \"C\", \"C\", \"C\", \"Z\"]]}, {\"data\": \"data04\", \"xindex\": 0, \"yindex\": 1, \"coordinates\": \"data\", \"id\": \"el27814556152504pts\", \"facecolor\": \"#E7298A\", \"edgecolor\": \"none\", \"edgewidth\": 1.0, \"alpha\": 1, \"zorder\": 2, \"markerpath\": [[[0.0, 9.0], [2.3868279, 9.0], [4.676218837063681, 8.051703224294176], [6.3639610306789285, 6.3639610306789285], [8.051703224294176, 4.676218837063681], [9.0, 2.3868279], [9.0, 0.0], [9.0, -2.3868279], [8.051703224294176, -4.676218837063681], [6.3639610306789285, -6.3639610306789285], [4.676218837063681, -8.051703224294176], [2.3868279, -9.0], [0.0, -9.0], [-2.3868279, -9.0], [-4.676218837063681, -8.051703224294176], [-6.3639610306789285, -6.3639610306789285], [-8.051703224294176, -4.676218837063681], [-9.0, -2.3868279], [-9.0, 0.0], [-9.0, 2.3868279], [-8.051703224294176, 4.676218837063681], [-6.3639610306789285, 6.3639610306789285], [-4.676218837063681, 8.051703224294176], [-2.3868279, 9.0], [0.0, 9.0]], [\"M\", \"C\", \"C\", \"C\", \"C\", \"C\", \"C\", \"C\", \"C\", \"Z\"]]}, {\"data\": \"data05\", \"xindex\": 0, \"yindex\": 1, \"coordinates\": \"data\", \"id\": \"el27814556175400pts\", \"facecolor\": \"#66A61E\", \"edgecolor\": \"none\", \"edgewidth\": 1.0, \"alpha\": 1, \"zorder\": 2, \"markerpath\": [[[0.0, 9.0], [2.3868279, 9.0], [4.676218837063681, 8.051703224294176], [6.3639610306789285, 6.3639610306789285], [8.051703224294176, 4.676218837063681], [9.0, 2.3868279], [9.0, 0.0], [9.0, -2.3868279], [8.051703224294176, -4.676218837063681], [6.3639610306789285, -6.3639610306789285], [4.676218837063681, -8.051703224294176], [2.3868279, -9.0], [0.0, -9.0], [-2.3868279, -9.0], [-4.676218837063681, -8.051703224294176], [-6.3639610306789285, -6.3639610306789285], [-8.051703224294176, -4.676218837063681], [-9.0, -2.3868279], [-9.0, 0.0], [-9.0, 2.3868279], [-8.051703224294176, 4.676218837063681], [-6.3639610306789285, 6.3639610306789285], [-4.676218837063681, 8.051703224294176], [-2.3868279, 9.0], [0.0, 9.0]], [\"M\", \"C\", \"C\", \"C\", \"C\", \"C\", \"C\", \"C\", \"C\", \"Z\"]]}, {\"data\": \"data06\", \"xindex\": 0, \"yindex\": 1, \"coordinates\": \"axes\", \"id\": \"el27814610410704pts\", \"facecolor\": \"#1B9E77\", \"edgecolor\": \"none\", \"edgewidth\": 1.0, \"alpha\": 1, \"zorder\": 1000002.0, \"markerpath\": [[[0.0, 9.0], [2.3868279, 9.0], [4.676218837063681, 8.051703224294176], [6.3639610306789285, 6.3639610306789285], [8.051703224294176, 4.676218837063681], [9.0, 2.3868279], [9.0, 0.0], [9.0, -2.3868279], [8.051703224294176, -4.676218837063681], [6.3639610306789285, -6.3639610306789285], [4.676218837063681, -8.051703224294176], [2.3868279, -9.0], [0.0, -9.0], [-2.3868279, -9.0], [-4.676218837063681, -8.051703224294176], [-6.3639610306789285, -6.3639610306789285], [-8.051703224294176, -4.676218837063681], [-9.0, -2.3868279], [-9.0, 0.0], [-9.0, 2.3868279], [-8.051703224294176, 4.676218837063681], [-6.3639610306789285, 6.3639610306789285], [-4.676218837063681, 8.051703224294176], [-2.3868279, 9.0], [0.0, 9.0]], [\"M\", \"C\", \"C\", \"C\", \"C\", \"C\", \"C\", \"C\", \"C\", \"Z\"]]}, {\"data\": \"data06\", \"xindex\": 0, \"yindex\": 2, \"coordinates\": \"axes\", \"id\": \"el27814610410816pts\", \"facecolor\": \"#D95F02\", \"edgecolor\": \"none\", \"edgewidth\": 1.0, \"alpha\": 1, \"zorder\": 1000002.0, \"markerpath\": [[[0.0, 9.0], [2.3868279, 9.0], [4.676218837063681, 8.051703224294176], [6.3639610306789285, 6.3639610306789285], [8.051703224294176, 4.676218837063681], [9.0, 2.3868279], [9.0, 0.0], [9.0, -2.3868279], [8.051703224294176, -4.676218837063681], [6.3639610306789285, -6.3639610306789285], [4.676218837063681, -8.051703224294176], [2.3868279, -9.0], [0.0, -9.0], [-2.3868279, -9.0], [-4.676218837063681, -8.051703224294176], [-6.3639610306789285, -6.3639610306789285], [-8.051703224294176, -4.676218837063681], [-9.0, -2.3868279], [-9.0, 0.0], [-9.0, 2.3868279], [-8.051703224294176, 4.676218837063681], [-6.3639610306789285, 6.3639610306789285], [-4.676218837063681, 8.051703224294176], [-2.3868279, 9.0], [0.0, 9.0]], [\"M\", \"C\", \"C\", \"C\", \"C\", \"C\", \"C\", \"C\", \"C\", \"Z\"]]}, {\"data\": \"data06\", \"xindex\": 0, \"yindex\": 3, \"coordinates\": \"axes\", \"id\": \"el27814610410592pts\", \"facecolor\": \"#7570B3\", \"edgecolor\": \"none\", \"edgewidth\": 1.0, \"alpha\": 1, \"zorder\": 1000002.0, \"markerpath\": [[[0.0, 9.0], [2.3868279, 9.0], [4.676218837063681, 8.051703224294176], [6.3639610306789285, 6.3639610306789285], [8.051703224294176, 4.676218837063681], [9.0, 2.3868279], [9.0, 0.0], [9.0, -2.3868279], [8.051703224294176, -4.676218837063681], [6.3639610306789285, -6.3639610306789285], [4.676218837063681, -8.051703224294176], [2.3868279, -9.0], [0.0, -9.0], [-2.3868279, -9.0], [-4.676218837063681, -8.051703224294176], [-6.3639610306789285, -6.3639610306789285], [-8.051703224294176, -4.676218837063681], [-9.0, -2.3868279], [-9.0, 0.0], [-9.0, 2.3868279], [-8.051703224294176, 4.676218837063681], [-6.3639610306789285, 6.3639610306789285], [-4.676218837063681, 8.051703224294176], [-2.3868279, 9.0], [0.0, 9.0]], [\"M\", \"C\", \"C\", \"C\", \"C\", \"C\", \"C\", \"C\", \"C\", \"Z\"]]}, {\"data\": \"data06\", \"xindex\": 0, \"yindex\": 4, \"coordinates\": \"axes\", \"id\": \"el27814610412272pts\", \"facecolor\": \"#E7298A\", \"edgecolor\": \"none\", \"edgewidth\": 1.0, \"alpha\": 1, \"zorder\": 1000002.0, \"markerpath\": [[[0.0, 9.0], [2.3868279, 9.0], [4.676218837063681, 8.051703224294176], [6.3639610306789285, 6.3639610306789285], [8.051703224294176, 4.676218837063681], [9.0, 2.3868279], [9.0, 0.0], [9.0, -2.3868279], [8.051703224294176, -4.676218837063681], [6.3639610306789285, -6.3639610306789285], [4.676218837063681, -8.051703224294176], [2.3868279, -9.0], [0.0, -9.0], [-2.3868279, -9.0], [-4.676218837063681, -8.051703224294176], [-6.3639610306789285, -6.3639610306789285], [-8.051703224294176, -4.676218837063681], [-9.0, -2.3868279], [-9.0, 0.0], [-9.0, 2.3868279], [-8.051703224294176, 4.676218837063681], [-6.3639610306789285, 6.3639610306789285], [-4.676218837063681, 8.051703224294176], [-2.3868279, 9.0], [0.0, 9.0]], [\"M\", \"C\", \"C\", \"C\", \"C\", \"C\", \"C\", \"C\", \"C\", \"Z\"]]}, {\"data\": \"data06\", \"xindex\": 0, \"yindex\": 5, \"coordinates\": \"axes\", \"id\": \"el27814615836392pts\", \"facecolor\": \"#66A61E\", \"edgecolor\": \"none\", \"edgewidth\": 1.0, \"alpha\": 1, \"zorder\": 1000002.0, \"markerpath\": [[[0.0, 9.0], [2.3868279, 9.0], [4.676218837063681, 8.051703224294176], [6.3639610306789285, 6.3639610306789285], [8.051703224294176, 4.676218837063681], [9.0, 2.3868279], [9.0, 0.0], [9.0, -2.3868279], [8.051703224294176, -4.676218837063681], [6.3639610306789285, -6.3639610306789285], [4.676218837063681, -8.051703224294176], [2.3868279, -9.0], [0.0, -9.0], [-2.3868279, -9.0], [-4.676218837063681, -8.051703224294176], [-6.3639610306789285, -6.3639610306789285], [-8.051703224294176, -4.676218837063681], [-9.0, -2.3868279], [-9.0, 0.0], [-9.0, 2.3868279], [-8.051703224294176, 4.676218837063681], [-6.3639610306789285, 6.3639610306789285], [-4.676218837063681, 8.051703224294176], [-2.3868279, 9.0], [0.0, 9.0]], [\"M\", \"C\", \"C\", \"C\", \"C\", \"C\", \"C\", \"C\", \"C\", \"Z\"]]}], \"texts\": [{\"text\": \"beach, resorts, ocean, view, family, kid, relax, concierge\", \"position\": [0.5759728622631849, 0.21768457198920774], \"coordinates\": \"axes\", \"h_anchor\": \"start\", \"v_baseline\": \"auto\", \"rotation\": -0.0, \"fontsize\": 10.0, \"color\": \"#000000\", \"alpha\": 1, \"zorder\": 1000003.0, \"id\": \"el27814615501696\"}, {\"text\": \"station, city, street, metro, taxi, sleep, shuttle, airport\", \"position\": [0.5759728622631849, 0.17169487368162864], \"coordinates\": \"axes\", \"h_anchor\": \"start\", \"v_baseline\": \"auto\", \"rotation\": -0.0, \"fontsize\": 10.0, \"color\": \"#000000\", \"alpha\": 1, \"zorder\": 1000003.0, \"id\": \"el27814610411880\"}, {\"text\": \"downtown, new, street, business, coffee, city, terrace, palace\", \"position\": [0.5759728622631849, 0.12570517537404954], \"coordinates\": \"axes\", \"h_anchor\": \"start\", \"v_baseline\": \"auto\", \"rotation\": -0.0, \"fontsize\": 10.0, \"color\": \"#000000\", \"alpha\": 1, \"zorder\": 1000003.0, \"id\": \"el27814610411656\"}, {\"text\": \"romantic, Paris, cafe, quietness, decorated, opera, bars, modern\", \"position\": [0.5759728622631849, 0.07971547706647045], \"coordinates\": \"axes\", \"h_anchor\": \"start\", \"v_baseline\": \"auto\", \"rotation\": -0.0, \"fontsize\": 10.0, \"color\": \"#000000\", \"alpha\": 1, \"zorder\": 1000003.0, \"id\": \"el27814615836952\"}, {\"text\": \"piazza, fountain, foods, touring, shops, bars, mall\", \"position\": [0.5759728622631849, 0.03372577875889135], \"coordinates\": \"axes\", \"h_anchor\": \"start\", \"v_baseline\": \"auto\", \"rotation\": -0.0, \"fontsize\": 10.0, \"color\": \"#000000\", \"alpha\": 1, \"zorder\": 1000003.0, \"id\": \"el27814615839304\"}], \"collections\": [], \"images\": [], \"sharex\": [], \"sharey\": []}], \"data\": {\"data01\": [[-0.4012865450683453, -0.7026121133516354], [0.5647391785281943, -0.23887562742560944], [-0.6635081484598109, -0.11593892204427217], [-0.34722104715906393, -0.24796982542676282]], \"data02\": [[-0.04339092273916127, 0.3302613308955924], [-0.25795782113253857, 0.5338433355957531], [0.06614418454063978, 0.6532401596674356], [-0.15141668109180542, 0.38645827127784893], [-0.11139959463637464, 0.5324739978848249], [-0.03488111299387085, 0.4514034653936792], [0.27656885310979257, 0.6336330089571145], [-0.000812209059048009, 0.48565781092272664], [-0.18674468319714554, 0.33192274336458666], [-0.09924217746313056, -0.2551913082184916], [-0.45822037534135796, 0.34605875328629504], [-0.6908287166853644, 0.3774183303476111], [0.590557751064244, 0.32981423597483545], [0.0570286316004639, 0.31051809136819786], [-0.08837088545339461, 0.28739865548531707], [-0.01402845634910547, -0.7874605677920231], [0.5113318217650498, 0.4843552103256364]], \"data03\": [[0.4902263854837697, 0.010235170722966145], [0.7579001985378154, -0.10353764687067576], [0.657881341030565, 0.09504042503299916], [0.397050434416919, -0.1859866673500149], [0.3718700973673606, -0.05548622146081546], [0.643264731688461, 0.14609517815705805], [0.5591244898784027, -0.2949458689558136], [0.6609369413570876, -0.021959472309996432], [0.4874833311851874, -0.10886501886086615], [0.5852954056272893, -0.15415137855349303], [0.2578329275188119, -0.043643119714146465], [0.4720801068288945, -0.07846082162151649], [0.4188010141948637, -0.08436485590106856], [0.3889925577669483, -0.010221780213370859]], \"data04\": [[0.0021123073470231007, -0.42371432945443815], [0.46878987609529127, -0.46231564338795006], [0.14308686826765735, -0.15226357070064953], [0.38548658414420156, 0.37664906150074395], [0.08869505981132253, 0.18733650358709367], [0.29132466430667125, -0.45854056214230804], [-0.01605415938605176, -0.31341736860399155], [0.16864291795163094, -0.10575128057462956], [0.1575414235708865, 0.07307422078695756], [0.15135392973885517, -0.2555557952857413], [-0.11796271887999377, -0.47239209552869915], [0.36290119367510054, -0.5972820098913983], [0.11477754760440326, -0.30965603770575073], [0.06616246853426351, -0.11217292543806727], [0.16050433304255446, -0.7205846028724133], [0.4803652958923889, 0.6367008459054028], [0.29641578064037816, -0.25057731161687896], [0.020363245459429993, -0.16692951151383134], [0.17322096092610142, 0.01732277032763218], [0.3750804830554782, 0.1541622789747138], [0.42329820051732464, 0.19375765789649468], [0.09544992245288735, -0.4482568297654532], [0.23366874654870018, -0.6026364971963626], [0.1671322009370616, -0.406489665952749], [0.05160696397494821, -0.31365079760355546]], \"data05\": [[0.09707881715536149, 0.5447492990463539], [-0.3623442076116239, -0.0771413883459434], [-0.49722893679837554, -0.29781255554305525], [-0.2828928315415361, 0.6183538640493601], [-0.2080437064869929, 0.715691649275045], [-0.2811024173614892, 0.0675476812751531], [-0.40367004909312554, 0.013136130965063808], [-0.2299833223424477, -0.4740781788621134], [0.2083547292429487, 0.2830427212426881], [-0.28679237142227004, -0.7323397590670344], [-0.12276592988541751, -0.505637571946985], [-0.6143660725385222, 0.007154719813453234], [-0.14477493274915862, -0.024689854730225915], [-0.5676846051480959, -0.25246311052956105], [-0.2106539720310367, -0.3170767603821329], [-0.11988941926012554, -0.09634078758749016], [-0.5795365536610558, -0.14452280513644825], [-0.33642583338433085, 0.1884312587772184], [-0.5112134743220762, -0.060222993677104805], [-0.47336898477502043, 0.5432702091605455], [0.16514451278941747, 0.647881649569487], [-0.20743668481756042, -0.07465134252468643], [-0.05684016918032044, -0.03240869482448915], [-0.5284044128267555, -0.4563930761408719], [-0.040121365441386274, 0.06854835214368281], [0.003766149135239601, 0.04337751590422219], [-0.4531266378687614, 0.24878010055139194], [-0.22620723272247012, -0.002877675829712558], [-0.1678405867199898, 0.008374832889335795], [-0.691999732564873, 0.1765864909875314], [0.12186851607356135, 0.35736471981429774], [-0.3190887654242114, 0.14206153673222746], [-0.37216434304739543, 0.4546946508324826], [-0.5119990663296857, 0.1937602529871456], [-0.3107103785854742, -0.38198409850693105], [-0.14452594387827541, 0.12400935797260931], [-0.2850068030651646, -0.0977571192261678], [-0.46340095121731906, 0.07376069671210883], [0.2589082496073337, 0.44314498484670245], [-0.25327538279127754, -0.2382983650212329]], \"data06\": [[0.552931387608807, 0.22841550159430954, 0.18242580328673044, 0.13643610497915135, 0.09044640667157224, 0.04445670836399314]], \"data07\": [[0.5375704045058884, 0.015329899435859717], [0.9910394265232977, 0.015329899435859717], [0.9935995903737841, 0.015329899435859717], [0.9935995903737841, 0.021461859210203577], [0.9935995903737841, 0.24834437086092717], [0.9935995903737841, 0.254476330635271], [0.9910394265232977, 0.254476330635271], [0.5375704045058884, 0.254476330635271], [0.535010240655402, 0.254476330635271], [0.535010240655402, 0.24834437086092717], [0.535010240655402, 0.021461859210203577], [0.535010240655402, 0.015329899435859717], [0.5375704045058884, 0.015329899435859717]]}, \"id\": \"el27814607759920\", \"plugins\": [{\"type\": \"reset\"}, {\"type\": \"zoom\", \"button\": true, \"enabled\": false}, {\"type\": \"boxzoom\", \"button\": true, \"enabled\": false}, {\"type\": \"htmltooltip\", \"id\": \"el27814720401320pts\", \"labels\": [\"Hotel-Pension Adamshof\", \"Hotel New York\", \"Hampton Inn Memphis-Walnut Grove/Baptist Hospital East\", \"Americana Inn\"], \"hoffset\": 10, \"voffset\": 10}, {\"type\": \"toptoolbar\"}, {\"type\": \"htmltooltip\", \"id\": \"el27814562763960pts\", \"labels\": [\"Arriva Hotel\", \"Pacific Hotel\", \"St Marks, London\", \"Gresham Hotel\", \"London Carlton Hotel\", \"Belmont & Astoria Hotels\", \"Venice Apartments\", \"Curzon Plaza\", \"Park Hotel\", \"Al Canal Regio\", \"Days Inn Phoenix Airport\", \"Las Suites\", \"Villa Borghese Resort\", \"The Belvedere\", \"Euro Hotel Clapham\", \"Il Giardino Hotel\", \"Hotel Eris\"], \"hoffset\": 10, \"voffset\": 10}, {\"type\": \"toptoolbar\"}, {\"type\": \"htmltooltip\", \"id\": \"el27814720402384pts\", \"labels\": [\"Hotel Prati\", \"Hotel Massimo\", \"Hotel Mamiani\", \"Trilussa Palace Congress & Spa\", \"Hotel Giardino\", \"BEST WESTERN Hotel Roma Tor Vergata\", \"Hotel Capitol Roma\", \"Hotel Everest 1\", \"Villa Patrizi\", \"All Time Relais & Sport Hotel\", \"Raffaello Hotel\", \"Mercure Roma Piazza Bologna\", \"Holiday Inn Express Rome - San Giovanni\", \"Priscilla Hotel\"], \"hoffset\": 10, \"voffset\": 10}, {\"type\": \"toptoolbar\"}, {\"type\": \"htmltooltip\", \"id\": \"el27814556152504pts\", \"labels\": [\"Holiday Inn Amsterdam\", \"Hotel du Prince Eugene\", \"BEST WESTERN Premier Hotel Sant' Elena\", \"Byotell\", \"Moon Hotel\", \"Ibis Berlin Messe\", \"Hotel Wiechmann\", \"Hotel Ca' Formenta\", \"Hotel Lloret Ramblas\", \"Mercure Hotel Amsterdam Aan de Amstel\", \"Hotel Gendarm nouveau\", \"Hotel Villa Kastania\", \"Hotel Europa 92\", \"Hotel OTTO\", \"Hotel Paris\", \"Soggiorno Europa\", \"Evenia Rocafort\", \"ARCOTEL Velvet\", \"Santa Chiara Hotel\", \"Austin's Arts et Metiers Hotel\", \"Eiffel Seine Hotel Paris\", \"Hotel Abba\", \"Hotel Pension Enzian\", \"Armagrandi Spina Istanbul\", \"Dikker & Thijs Fenice Hotel\"], \"hoffset\": 10, \"voffset\": 10}, {\"type\": \"toptoolbar\"}, {\"type\": \"htmltooltip\", \"id\": \"el27814556175400pts\", \"labels\": [\"254 East Vacation\", \"The Helmsley Park Lane\", \"Admiral Fell Inn\", \"Homestead Studio Suites Dallas - Plano\", \"The Beach Cottages\", \"Super 8 Toronto\", \"Holiday Inn New Orleans French Quarter\", \"Plaza Hotel Istanbul\", \"Country Club Hotel\", \"Hotel Plaza\", \"Hilton Istanbul\", \"Holiday Inn Express Hotel & Suites Dallas (Galleria Area)\", \"InterContinental Boston\", \"Courtyard by Marriott Phoenix West/Avondale\", \"The Hotel 91\", \"Radisson Martinique on Broadway\", \"The Darling\", \"Rodeway Inn Maingate\", \"Four Queens Hotel and Casino\", \"Baroness Hotel\", \"Home House\", \"Hotel Monaco Seattle - a Kimpton Hotel\", \"Royal Plaza on Scotts\", \"Hotel 81 - Osaka\", \"Hotel Re!\", \"Gran Hotel La Florida\", \"Comfort Hotel Airport North\", \"Hotel Palomar Los Angeles - Westwood - a Kimpton Hotel\", \"Westin Harbour Castle\", \"Mission Bay RV Resort\", \"Coast Gateway Hotel\", \"Ramada Plaza\", \"Ultimate Apartments Bondi Beach\", \"Americas Best Value Inn - Hollywood / Los Angeles\", \"Pera Palace Hotel\", \"York Hotel\", \"Hotel Brexton\", \"Hampton Inn San Diego/Del Mar\", \"Fiesta Inn Aeropuerto Cuidad de Mexico\", \"Chelsea Savoy Hotel\"], \"hoffset\": 10, \"voffset\": 10}, {\"type\": \"toptoolbar\"}]});\n",
       "      });\n",
       "    });\n",
       "}else{\n",
       "    // require.js not available: dynamically load d3 & mpld3\n",
       "    mpld3_load_lib(\"https://mpld3.github.io/js/d3.v3.min.js\", function(){\n",
       "         mpld3_load_lib(\"https://mpld3.github.io/js/mpld3.v0.3.js\", function(){\n",
       "                 \n",
       "    mpld3.register_plugin(\"htmltooltip\", HtmlTooltipPlugin);\n",
       "    HtmlTooltipPlugin.prototype = Object.create(mpld3.Plugin.prototype);\n",
       "    HtmlTooltipPlugin.prototype.constructor = HtmlTooltipPlugin;\n",
       "    HtmlTooltipPlugin.prototype.requiredProps = [\"id\"];\n",
       "    HtmlTooltipPlugin.prototype.defaultProps = {labels:null,\n",
       "                                                hoffset:0,\n",
       "                                                voffset:10};\n",
       "    function HtmlTooltipPlugin(fig, props){\n",
       "        mpld3.Plugin.call(this, fig, props);\n",
       "    };\n",
       "\n",
       "    HtmlTooltipPlugin.prototype.draw = function(){\n",
       "       var obj = mpld3.get_element(this.props.id);\n",
       "       var labels = this.props.labels;\n",
       "       var tooltip = d3.select(\"body\").append(\"div\")\n",
       "                    .attr(\"class\", \"mpld3-tooltip\")\n",
       "                    .style(\"position\", \"absolute\")\n",
       "                    .style(\"z-index\", \"10\")\n",
       "                    .style(\"visibility\", \"hidden\");\n",
       "\n",
       "       obj.elements()\n",
       "           .on(\"mouseover\", function(d, i){\n",
       "                              tooltip.html(labels[i])\n",
       "                                     .style(\"visibility\", \"visible\");})\n",
       "           .on(\"mousemove\", function(d, i){\n",
       "                  tooltip\n",
       "                    .style(\"top\", d3.event.pageY + this.props.voffset + \"px\")\n",
       "                    .style(\"left\",d3.event.pageX + this.props.hoffset + \"px\");\n",
       "                 }.bind(this))\n",
       "           .on(\"mouseout\",  function(d, i){\n",
       "                           tooltip.style(\"visibility\", \"hidden\");});\n",
       "    };\n",
       "    \n",
       "    mpld3.register_plugin(\"toptoolbar\", TopToolbar);\n",
       "    TopToolbar.prototype = Object.create(mpld3.Plugin.prototype);\n",
       "    TopToolbar.prototype.constructor = TopToolbar;\n",
       "    function TopToolbar(fig, props){\n",
       "        mpld3.Plugin.call(this, fig, props);\n",
       "    };\n",
       "\n",
       "    TopToolbar.prototype.draw = function(){\n",
       "      // the toolbar svg doesn't exist\n",
       "      // yet, so first draw it\n",
       "      this.fig.toolbar.draw();\n",
       "\n",
       "      // then change the y position to be\n",
       "      // at the top of the figure\n",
       "      this.fig.toolbar.toolbar.attr(\"x\", 150);\n",
       "      this.fig.toolbar.toolbar.attr(\"y\", 400);\n",
       "\n",
       "      // then remove the draw function,\n",
       "      // so that it is not called again\n",
       "      this.fig.toolbar.draw = function() {}\n",
       "    }\n",
       "    \n",
       "    mpld3.register_plugin(\"htmltooltip\", HtmlTooltipPlugin);\n",
       "    HtmlTooltipPlugin.prototype = Object.create(mpld3.Plugin.prototype);\n",
       "    HtmlTooltipPlugin.prototype.constructor = HtmlTooltipPlugin;\n",
       "    HtmlTooltipPlugin.prototype.requiredProps = [\"id\"];\n",
       "    HtmlTooltipPlugin.prototype.defaultProps = {labels:null,\n",
       "                                                hoffset:0,\n",
       "                                                voffset:10};\n",
       "    function HtmlTooltipPlugin(fig, props){\n",
       "        mpld3.Plugin.call(this, fig, props);\n",
       "    };\n",
       "\n",
       "    HtmlTooltipPlugin.prototype.draw = function(){\n",
       "       var obj = mpld3.get_element(this.props.id);\n",
       "       var labels = this.props.labels;\n",
       "       var tooltip = d3.select(\"body\").append(\"div\")\n",
       "                    .attr(\"class\", \"mpld3-tooltip\")\n",
       "                    .style(\"position\", \"absolute\")\n",
       "                    .style(\"z-index\", \"10\")\n",
       "                    .style(\"visibility\", \"hidden\");\n",
       "\n",
       "       obj.elements()\n",
       "           .on(\"mouseover\", function(d, i){\n",
       "                              tooltip.html(labels[i])\n",
       "                                     .style(\"visibility\", \"visible\");})\n",
       "           .on(\"mousemove\", function(d, i){\n",
       "                  tooltip\n",
       "                    .style(\"top\", d3.event.pageY + this.props.voffset + \"px\")\n",
       "                    .style(\"left\",d3.event.pageX + this.props.hoffset + \"px\");\n",
       "                 }.bind(this))\n",
       "           .on(\"mouseout\",  function(d, i){\n",
       "                           tooltip.style(\"visibility\", \"hidden\");});\n",
       "    };\n",
       "    \n",
       "    mpld3.register_plugin(\"toptoolbar\", TopToolbar);\n",
       "    TopToolbar.prototype = Object.create(mpld3.Plugin.prototype);\n",
       "    TopToolbar.prototype.constructor = TopToolbar;\n",
       "    function TopToolbar(fig, props){\n",
       "        mpld3.Plugin.call(this, fig, props);\n",
       "    };\n",
       "\n",
       "    TopToolbar.prototype.draw = function(){\n",
       "      // the toolbar svg doesn't exist\n",
       "      // yet, so first draw it\n",
       "      this.fig.toolbar.draw();\n",
       "\n",
       "      // then change the y position to be\n",
       "      // at the top of the figure\n",
       "      this.fig.toolbar.toolbar.attr(\"x\", 150);\n",
       "      this.fig.toolbar.toolbar.attr(\"y\", 400);\n",
       "\n",
       "      // then remove the draw function,\n",
       "      // so that it is not called again\n",
       "      this.fig.toolbar.draw = function() {}\n",
       "    }\n",
       "    \n",
       "    mpld3.register_plugin(\"htmltooltip\", HtmlTooltipPlugin);\n",
       "    HtmlTooltipPlugin.prototype = Object.create(mpld3.Plugin.prototype);\n",
       "    HtmlTooltipPlugin.prototype.constructor = HtmlTooltipPlugin;\n",
       "    HtmlTooltipPlugin.prototype.requiredProps = [\"id\"];\n",
       "    HtmlTooltipPlugin.prototype.defaultProps = {labels:null,\n",
       "                                                hoffset:0,\n",
       "                                                voffset:10};\n",
       "    function HtmlTooltipPlugin(fig, props){\n",
       "        mpld3.Plugin.call(this, fig, props);\n",
       "    };\n",
       "\n",
       "    HtmlTooltipPlugin.prototype.draw = function(){\n",
       "       var obj = mpld3.get_element(this.props.id);\n",
       "       var labels = this.props.labels;\n",
       "       var tooltip = d3.select(\"body\").append(\"div\")\n",
       "                    .attr(\"class\", \"mpld3-tooltip\")\n",
       "                    .style(\"position\", \"absolute\")\n",
       "                    .style(\"z-index\", \"10\")\n",
       "                    .style(\"visibility\", \"hidden\");\n",
       "\n",
       "       obj.elements()\n",
       "           .on(\"mouseover\", function(d, i){\n",
       "                              tooltip.html(labels[i])\n",
       "                                     .style(\"visibility\", \"visible\");})\n",
       "           .on(\"mousemove\", function(d, i){\n",
       "                  tooltip\n",
       "                    .style(\"top\", d3.event.pageY + this.props.voffset + \"px\")\n",
       "                    .style(\"left\",d3.event.pageX + this.props.hoffset + \"px\");\n",
       "                 }.bind(this))\n",
       "           .on(\"mouseout\",  function(d, i){\n",
       "                           tooltip.style(\"visibility\", \"hidden\");});\n",
       "    };\n",
       "    \n",
       "    mpld3.register_plugin(\"toptoolbar\", TopToolbar);\n",
       "    TopToolbar.prototype = Object.create(mpld3.Plugin.prototype);\n",
       "    TopToolbar.prototype.constructor = TopToolbar;\n",
       "    function TopToolbar(fig, props){\n",
       "        mpld3.Plugin.call(this, fig, props);\n",
       "    };\n",
       "\n",
       "    TopToolbar.prototype.draw = function(){\n",
       "      // the toolbar svg doesn't exist\n",
       "      // yet, so first draw it\n",
       "      this.fig.toolbar.draw();\n",
       "\n",
       "      // then change the y position to be\n",
       "      // at the top of the figure\n",
       "      this.fig.toolbar.toolbar.attr(\"x\", 150);\n",
       "      this.fig.toolbar.toolbar.attr(\"y\", 400);\n",
       "\n",
       "      // then remove the draw function,\n",
       "      // so that it is not called again\n",
       "      this.fig.toolbar.draw = function() {}\n",
       "    }\n",
       "    \n",
       "    mpld3.register_plugin(\"htmltooltip\", HtmlTooltipPlugin);\n",
       "    HtmlTooltipPlugin.prototype = Object.create(mpld3.Plugin.prototype);\n",
       "    HtmlTooltipPlugin.prototype.constructor = HtmlTooltipPlugin;\n",
       "    HtmlTooltipPlugin.prototype.requiredProps = [\"id\"];\n",
       "    HtmlTooltipPlugin.prototype.defaultProps = {labels:null,\n",
       "                                                hoffset:0,\n",
       "                                                voffset:10};\n",
       "    function HtmlTooltipPlugin(fig, props){\n",
       "        mpld3.Plugin.call(this, fig, props);\n",
       "    };\n",
       "\n",
       "    HtmlTooltipPlugin.prototype.draw = function(){\n",
       "       var obj = mpld3.get_element(this.props.id);\n",
       "       var labels = this.props.labels;\n",
       "       var tooltip = d3.select(\"body\").append(\"div\")\n",
       "                    .attr(\"class\", \"mpld3-tooltip\")\n",
       "                    .style(\"position\", \"absolute\")\n",
       "                    .style(\"z-index\", \"10\")\n",
       "                    .style(\"visibility\", \"hidden\");\n",
       "\n",
       "       obj.elements()\n",
       "           .on(\"mouseover\", function(d, i){\n",
       "                              tooltip.html(labels[i])\n",
       "                                     .style(\"visibility\", \"visible\");})\n",
       "           .on(\"mousemove\", function(d, i){\n",
       "                  tooltip\n",
       "                    .style(\"top\", d3.event.pageY + this.props.voffset + \"px\")\n",
       "                    .style(\"left\",d3.event.pageX + this.props.hoffset + \"px\");\n",
       "                 }.bind(this))\n",
       "           .on(\"mouseout\",  function(d, i){\n",
       "                           tooltip.style(\"visibility\", \"hidden\");});\n",
       "    };\n",
       "    \n",
       "    mpld3.register_plugin(\"toptoolbar\", TopToolbar);\n",
       "    TopToolbar.prototype = Object.create(mpld3.Plugin.prototype);\n",
       "    TopToolbar.prototype.constructor = TopToolbar;\n",
       "    function TopToolbar(fig, props){\n",
       "        mpld3.Plugin.call(this, fig, props);\n",
       "    };\n",
       "\n",
       "    TopToolbar.prototype.draw = function(){\n",
       "      // the toolbar svg doesn't exist\n",
       "      // yet, so first draw it\n",
       "      this.fig.toolbar.draw();\n",
       "\n",
       "      // then change the y position to be\n",
       "      // at the top of the figure\n",
       "      this.fig.toolbar.toolbar.attr(\"x\", 150);\n",
       "      this.fig.toolbar.toolbar.attr(\"y\", 400);\n",
       "\n",
       "      // then remove the draw function,\n",
       "      // so that it is not called again\n",
       "      this.fig.toolbar.draw = function() {}\n",
       "    }\n",
       "    \n",
       "    mpld3.register_plugin(\"htmltooltip\", HtmlTooltipPlugin);\n",
       "    HtmlTooltipPlugin.prototype = Object.create(mpld3.Plugin.prototype);\n",
       "    HtmlTooltipPlugin.prototype.constructor = HtmlTooltipPlugin;\n",
       "    HtmlTooltipPlugin.prototype.requiredProps = [\"id\"];\n",
       "    HtmlTooltipPlugin.prototype.defaultProps = {labels:null,\n",
       "                                                hoffset:0,\n",
       "                                                voffset:10};\n",
       "    function HtmlTooltipPlugin(fig, props){\n",
       "        mpld3.Plugin.call(this, fig, props);\n",
       "    };\n",
       "\n",
       "    HtmlTooltipPlugin.prototype.draw = function(){\n",
       "       var obj = mpld3.get_element(this.props.id);\n",
       "       var labels = this.props.labels;\n",
       "       var tooltip = d3.select(\"body\").append(\"div\")\n",
       "                    .attr(\"class\", \"mpld3-tooltip\")\n",
       "                    .style(\"position\", \"absolute\")\n",
       "                    .style(\"z-index\", \"10\")\n",
       "                    .style(\"visibility\", \"hidden\");\n",
       "\n",
       "       obj.elements()\n",
       "           .on(\"mouseover\", function(d, i){\n",
       "                              tooltip.html(labels[i])\n",
       "                                     .style(\"visibility\", \"visible\");})\n",
       "           .on(\"mousemove\", function(d, i){\n",
       "                  tooltip\n",
       "                    .style(\"top\", d3.event.pageY + this.props.voffset + \"px\")\n",
       "                    .style(\"left\",d3.event.pageX + this.props.hoffset + \"px\");\n",
       "                 }.bind(this))\n",
       "           .on(\"mouseout\",  function(d, i){\n",
       "                           tooltip.style(\"visibility\", \"hidden\");});\n",
       "    };\n",
       "    \n",
       "    mpld3.register_plugin(\"toptoolbar\", TopToolbar);\n",
       "    TopToolbar.prototype = Object.create(mpld3.Plugin.prototype);\n",
       "    TopToolbar.prototype.constructor = TopToolbar;\n",
       "    function TopToolbar(fig, props){\n",
       "        mpld3.Plugin.call(this, fig, props);\n",
       "    };\n",
       "\n",
       "    TopToolbar.prototype.draw = function(){\n",
       "      // the toolbar svg doesn't exist\n",
       "      // yet, so first draw it\n",
       "      this.fig.toolbar.draw();\n",
       "\n",
       "      // then change the y position to be\n",
       "      // at the top of the figure\n",
       "      this.fig.toolbar.toolbar.attr(\"x\", 150);\n",
       "      this.fig.toolbar.toolbar.attr(\"y\", 400);\n",
       "\n",
       "      // then remove the draw function,\n",
       "      // so that it is not called again\n",
       "      this.fig.toolbar.draw = function() {}\n",
       "    }\n",
       "    \n",
       "                 mpld3.draw_figure(\"fig_el278146077599201636239220\", {\"width\": 1008.0, \"height\": 432.0, \"axes\": [{\"bbox\": [0.125, 0.125, 0.775, 0.755], \"xlim\": [-0.7354967304979537, 0.8013971964708961], \"ylim\": [-0.8325551343040352, 0.7607862157870571], \"xdomain\": [-0.7354967304979537, 0.8013971964708961], \"ydomain\": [-0.8325551343040352, 0.7607862157870571], \"xscale\": \"linear\", \"yscale\": \"linear\", \"axes\": [{\"position\": \"bottom\", \"nticks\": 0, \"tickvalues\": [], \"tickformat\": \"\", \"scale\": \"linear\", \"fontsize\": null, \"grid\": {\"gridOn\": false}, \"visible\": false}, {\"position\": \"left\", \"nticks\": 0, \"tickvalues\": [], \"tickformat\": \"\", \"scale\": \"linear\", \"fontsize\": null, \"grid\": {\"gridOn\": false}, \"visible\": false}], \"axesbg\": \"#FFFFFF\", \"axesbgalpha\": null, \"zoomable\": true, \"id\": \"el27814502125312\", \"lines\": [], \"paths\": [{\"data\": \"data07\", \"xindex\": 0, \"yindex\": 1, \"coordinates\": \"axes\", \"pathcodes\": [\"M\", \"L\", \"S\", \"L\", \"S\", \"L\", \"S\", \"L\", \"S\", \"Z\"], \"id\": \"el27814584265880\", \"dasharray\": \"none\", \"alpha\": 0.8, \"facecolor\": \"#FFFFFF\", \"edgecolor\": \"#CCCCCC\", \"edgewidth\": 1.0, \"zorder\": 1000000.0}], \"markers\": [{\"data\": \"data01\", \"xindex\": 0, \"yindex\": 1, \"coordinates\": \"data\", \"id\": \"el27814720401320pts\", \"facecolor\": \"#1B9E77\", \"edgecolor\": \"none\", \"edgewidth\": 1.0, \"alpha\": 1, \"zorder\": 2, \"markerpath\": [[[0.0, 9.0], [2.3868279, 9.0], [4.676218837063681, 8.051703224294176], [6.3639610306789285, 6.3639610306789285], [8.051703224294176, 4.676218837063681], [9.0, 2.3868279], [9.0, 0.0], [9.0, -2.3868279], [8.051703224294176, -4.676218837063681], [6.3639610306789285, -6.3639610306789285], [4.676218837063681, -8.051703224294176], [2.3868279, -9.0], [0.0, -9.0], [-2.3868279, -9.0], [-4.676218837063681, -8.051703224294176], [-6.3639610306789285, -6.3639610306789285], [-8.051703224294176, -4.676218837063681], [-9.0, -2.3868279], [-9.0, 0.0], [-9.0, 2.3868279], [-8.051703224294176, 4.676218837063681], [-6.3639610306789285, 6.3639610306789285], [-4.676218837063681, 8.051703224294176], [-2.3868279, 9.0], [0.0, 9.0]], [\"M\", \"C\", \"C\", \"C\", \"C\", \"C\", \"C\", \"C\", \"C\", \"Z\"]]}, {\"data\": \"data02\", \"xindex\": 0, \"yindex\": 1, \"coordinates\": \"data\", \"id\": \"el27814562763960pts\", \"facecolor\": \"#D95F02\", \"edgecolor\": \"none\", \"edgewidth\": 1.0, \"alpha\": 1, \"zorder\": 2, \"markerpath\": [[[0.0, 9.0], [2.3868279, 9.0], [4.676218837063681, 8.051703224294176], [6.3639610306789285, 6.3639610306789285], [8.051703224294176, 4.676218837063681], [9.0, 2.3868279], [9.0, 0.0], [9.0, -2.3868279], [8.051703224294176, -4.676218837063681], [6.3639610306789285, -6.3639610306789285], [4.676218837063681, -8.051703224294176], [2.3868279, -9.0], [0.0, -9.0], [-2.3868279, -9.0], [-4.676218837063681, -8.051703224294176], [-6.3639610306789285, -6.3639610306789285], [-8.051703224294176, -4.676218837063681], [-9.0, -2.3868279], [-9.0, 0.0], [-9.0, 2.3868279], [-8.051703224294176, 4.676218837063681], [-6.3639610306789285, 6.3639610306789285], [-4.676218837063681, 8.051703224294176], [-2.3868279, 9.0], [0.0, 9.0]], [\"M\", \"C\", \"C\", \"C\", \"C\", \"C\", \"C\", \"C\", \"C\", \"Z\"]]}, {\"data\": \"data03\", \"xindex\": 0, \"yindex\": 1, \"coordinates\": \"data\", \"id\": \"el27814720402384pts\", \"facecolor\": \"#7570B3\", \"edgecolor\": \"none\", \"edgewidth\": 1.0, \"alpha\": 1, \"zorder\": 2, \"markerpath\": [[[0.0, 9.0], [2.3868279, 9.0], [4.676218837063681, 8.051703224294176], [6.3639610306789285, 6.3639610306789285], [8.051703224294176, 4.676218837063681], [9.0, 2.3868279], [9.0, 0.0], [9.0, -2.3868279], [8.051703224294176, -4.676218837063681], [6.3639610306789285, -6.3639610306789285], [4.676218837063681, -8.051703224294176], [2.3868279, -9.0], [0.0, -9.0], [-2.3868279, -9.0], [-4.676218837063681, -8.051703224294176], [-6.3639610306789285, -6.3639610306789285], [-8.051703224294176, -4.676218837063681], [-9.0, -2.3868279], [-9.0, 0.0], [-9.0, 2.3868279], [-8.051703224294176, 4.676218837063681], [-6.3639610306789285, 6.3639610306789285], [-4.676218837063681, 8.051703224294176], [-2.3868279, 9.0], [0.0, 9.0]], [\"M\", \"C\", \"C\", \"C\", \"C\", \"C\", \"C\", \"C\", \"C\", \"Z\"]]}, {\"data\": \"data04\", \"xindex\": 0, \"yindex\": 1, \"coordinates\": \"data\", \"id\": \"el27814556152504pts\", \"facecolor\": \"#E7298A\", \"edgecolor\": \"none\", \"edgewidth\": 1.0, \"alpha\": 1, \"zorder\": 2, \"markerpath\": [[[0.0, 9.0], [2.3868279, 9.0], [4.676218837063681, 8.051703224294176], [6.3639610306789285, 6.3639610306789285], [8.051703224294176, 4.676218837063681], [9.0, 2.3868279], [9.0, 0.0], [9.0, -2.3868279], [8.051703224294176, -4.676218837063681], [6.3639610306789285, -6.3639610306789285], [4.676218837063681, -8.051703224294176], [2.3868279, -9.0], [0.0, -9.0], [-2.3868279, -9.0], [-4.676218837063681, -8.051703224294176], [-6.3639610306789285, -6.3639610306789285], [-8.051703224294176, -4.676218837063681], [-9.0, -2.3868279], [-9.0, 0.0], [-9.0, 2.3868279], [-8.051703224294176, 4.676218837063681], [-6.3639610306789285, 6.3639610306789285], [-4.676218837063681, 8.051703224294176], [-2.3868279, 9.0], [0.0, 9.0]], [\"M\", \"C\", \"C\", \"C\", \"C\", \"C\", \"C\", \"C\", \"C\", \"Z\"]]}, {\"data\": \"data05\", \"xindex\": 0, \"yindex\": 1, \"coordinates\": \"data\", \"id\": \"el27814556175400pts\", \"facecolor\": \"#66A61E\", \"edgecolor\": \"none\", \"edgewidth\": 1.0, \"alpha\": 1, \"zorder\": 2, \"markerpath\": [[[0.0, 9.0], [2.3868279, 9.0], [4.676218837063681, 8.051703224294176], [6.3639610306789285, 6.3639610306789285], [8.051703224294176, 4.676218837063681], [9.0, 2.3868279], [9.0, 0.0], [9.0, -2.3868279], [8.051703224294176, -4.676218837063681], [6.3639610306789285, -6.3639610306789285], [4.676218837063681, -8.051703224294176], [2.3868279, -9.0], [0.0, -9.0], [-2.3868279, -9.0], [-4.676218837063681, -8.051703224294176], [-6.3639610306789285, -6.3639610306789285], [-8.051703224294176, -4.676218837063681], [-9.0, -2.3868279], [-9.0, 0.0], [-9.0, 2.3868279], [-8.051703224294176, 4.676218837063681], [-6.3639610306789285, 6.3639610306789285], [-4.676218837063681, 8.051703224294176], [-2.3868279, 9.0], [0.0, 9.0]], [\"M\", \"C\", \"C\", \"C\", \"C\", \"C\", \"C\", \"C\", \"C\", \"Z\"]]}, {\"data\": \"data06\", \"xindex\": 0, \"yindex\": 1, \"coordinates\": \"axes\", \"id\": \"el27814610410704pts\", \"facecolor\": \"#1B9E77\", \"edgecolor\": \"none\", \"edgewidth\": 1.0, \"alpha\": 1, \"zorder\": 1000002.0, \"markerpath\": [[[0.0, 9.0], [2.3868279, 9.0], [4.676218837063681, 8.051703224294176], [6.3639610306789285, 6.3639610306789285], [8.051703224294176, 4.676218837063681], [9.0, 2.3868279], [9.0, 0.0], [9.0, -2.3868279], [8.051703224294176, -4.676218837063681], [6.3639610306789285, -6.3639610306789285], [4.676218837063681, -8.051703224294176], [2.3868279, -9.0], [0.0, -9.0], [-2.3868279, -9.0], [-4.676218837063681, -8.051703224294176], [-6.3639610306789285, -6.3639610306789285], [-8.051703224294176, -4.676218837063681], [-9.0, -2.3868279], [-9.0, 0.0], [-9.0, 2.3868279], [-8.051703224294176, 4.676218837063681], [-6.3639610306789285, 6.3639610306789285], [-4.676218837063681, 8.051703224294176], [-2.3868279, 9.0], [0.0, 9.0]], [\"M\", \"C\", \"C\", \"C\", \"C\", \"C\", \"C\", \"C\", \"C\", \"Z\"]]}, {\"data\": \"data06\", \"xindex\": 0, \"yindex\": 2, \"coordinates\": \"axes\", \"id\": \"el27814610410816pts\", \"facecolor\": \"#D95F02\", \"edgecolor\": \"none\", \"edgewidth\": 1.0, \"alpha\": 1, \"zorder\": 1000002.0, \"markerpath\": [[[0.0, 9.0], [2.3868279, 9.0], [4.676218837063681, 8.051703224294176], [6.3639610306789285, 6.3639610306789285], [8.051703224294176, 4.676218837063681], [9.0, 2.3868279], [9.0, 0.0], [9.0, -2.3868279], [8.051703224294176, -4.676218837063681], [6.3639610306789285, -6.3639610306789285], [4.676218837063681, -8.051703224294176], [2.3868279, -9.0], [0.0, -9.0], [-2.3868279, -9.0], [-4.676218837063681, -8.051703224294176], [-6.3639610306789285, -6.3639610306789285], [-8.051703224294176, -4.676218837063681], [-9.0, -2.3868279], [-9.0, 0.0], [-9.0, 2.3868279], [-8.051703224294176, 4.676218837063681], [-6.3639610306789285, 6.3639610306789285], [-4.676218837063681, 8.051703224294176], [-2.3868279, 9.0], [0.0, 9.0]], [\"M\", \"C\", \"C\", \"C\", \"C\", \"C\", \"C\", \"C\", \"C\", \"Z\"]]}, {\"data\": \"data06\", \"xindex\": 0, \"yindex\": 3, \"coordinates\": \"axes\", \"id\": \"el27814610410592pts\", \"facecolor\": \"#7570B3\", \"edgecolor\": \"none\", \"edgewidth\": 1.0, \"alpha\": 1, \"zorder\": 1000002.0, \"markerpath\": [[[0.0, 9.0], [2.3868279, 9.0], [4.676218837063681, 8.051703224294176], [6.3639610306789285, 6.3639610306789285], [8.051703224294176, 4.676218837063681], [9.0, 2.3868279], [9.0, 0.0], [9.0, -2.3868279], [8.051703224294176, -4.676218837063681], [6.3639610306789285, -6.3639610306789285], [4.676218837063681, -8.051703224294176], [2.3868279, -9.0], [0.0, -9.0], [-2.3868279, -9.0], [-4.676218837063681, -8.051703224294176], [-6.3639610306789285, -6.3639610306789285], [-8.051703224294176, -4.676218837063681], [-9.0, -2.3868279], [-9.0, 0.0], [-9.0, 2.3868279], [-8.051703224294176, 4.676218837063681], [-6.3639610306789285, 6.3639610306789285], [-4.676218837063681, 8.051703224294176], [-2.3868279, 9.0], [0.0, 9.0]], [\"M\", \"C\", \"C\", \"C\", \"C\", \"C\", \"C\", \"C\", \"C\", \"Z\"]]}, {\"data\": \"data06\", \"xindex\": 0, \"yindex\": 4, \"coordinates\": \"axes\", \"id\": \"el27814610412272pts\", \"facecolor\": \"#E7298A\", \"edgecolor\": \"none\", \"edgewidth\": 1.0, \"alpha\": 1, \"zorder\": 1000002.0, \"markerpath\": [[[0.0, 9.0], [2.3868279, 9.0], [4.676218837063681, 8.051703224294176], [6.3639610306789285, 6.3639610306789285], [8.051703224294176, 4.676218837063681], [9.0, 2.3868279], [9.0, 0.0], [9.0, -2.3868279], [8.051703224294176, -4.676218837063681], [6.3639610306789285, -6.3639610306789285], [4.676218837063681, -8.051703224294176], [2.3868279, -9.0], [0.0, -9.0], [-2.3868279, -9.0], [-4.676218837063681, -8.051703224294176], [-6.3639610306789285, -6.3639610306789285], [-8.051703224294176, -4.676218837063681], [-9.0, -2.3868279], [-9.0, 0.0], [-9.0, 2.3868279], [-8.051703224294176, 4.676218837063681], [-6.3639610306789285, 6.3639610306789285], [-4.676218837063681, 8.051703224294176], [-2.3868279, 9.0], [0.0, 9.0]], [\"M\", \"C\", \"C\", \"C\", \"C\", \"C\", \"C\", \"C\", \"C\", \"Z\"]]}, {\"data\": \"data06\", \"xindex\": 0, \"yindex\": 5, \"coordinates\": \"axes\", \"id\": \"el27814615836392pts\", \"facecolor\": \"#66A61E\", \"edgecolor\": \"none\", \"edgewidth\": 1.0, \"alpha\": 1, \"zorder\": 1000002.0, \"markerpath\": [[[0.0, 9.0], [2.3868279, 9.0], [4.676218837063681, 8.051703224294176], [6.3639610306789285, 6.3639610306789285], [8.051703224294176, 4.676218837063681], [9.0, 2.3868279], [9.0, 0.0], [9.0, -2.3868279], [8.051703224294176, -4.676218837063681], [6.3639610306789285, -6.3639610306789285], [4.676218837063681, -8.051703224294176], [2.3868279, -9.0], [0.0, -9.0], [-2.3868279, -9.0], [-4.676218837063681, -8.051703224294176], [-6.3639610306789285, -6.3639610306789285], [-8.051703224294176, -4.676218837063681], [-9.0, -2.3868279], [-9.0, 0.0], [-9.0, 2.3868279], [-8.051703224294176, 4.676218837063681], [-6.3639610306789285, 6.3639610306789285], [-4.676218837063681, 8.051703224294176], [-2.3868279, 9.0], [0.0, 9.0]], [\"M\", \"C\", \"C\", \"C\", \"C\", \"C\", \"C\", \"C\", \"C\", \"Z\"]]}], \"texts\": [{\"text\": \"beach, resorts, ocean, view, family, kid, relax, concierge\", \"position\": [0.5759728622631849, 0.21768457198920774], \"coordinates\": \"axes\", \"h_anchor\": \"start\", \"v_baseline\": \"auto\", \"rotation\": -0.0, \"fontsize\": 10.0, \"color\": \"#000000\", \"alpha\": 1, \"zorder\": 1000003.0, \"id\": \"el27814615501696\"}, {\"text\": \"station, city, street, metro, taxi, sleep, shuttle, airport\", \"position\": [0.5759728622631849, 0.17169487368162864], \"coordinates\": \"axes\", \"h_anchor\": \"start\", \"v_baseline\": \"auto\", \"rotation\": -0.0, \"fontsize\": 10.0, \"color\": \"#000000\", \"alpha\": 1, \"zorder\": 1000003.0, \"id\": \"el27814610411880\"}, {\"text\": \"downtown, new, street, business, coffee, city, terrace, palace\", \"position\": [0.5759728622631849, 0.12570517537404954], \"coordinates\": \"axes\", \"h_anchor\": \"start\", \"v_baseline\": \"auto\", \"rotation\": -0.0, \"fontsize\": 10.0, \"color\": \"#000000\", \"alpha\": 1, \"zorder\": 1000003.0, \"id\": \"el27814610411656\"}, {\"text\": \"romantic, Paris, cafe, quietness, decorated, opera, bars, modern\", \"position\": [0.5759728622631849, 0.07971547706647045], \"coordinates\": \"axes\", \"h_anchor\": \"start\", \"v_baseline\": \"auto\", \"rotation\": -0.0, \"fontsize\": 10.0, \"color\": \"#000000\", \"alpha\": 1, \"zorder\": 1000003.0, \"id\": \"el27814615836952\"}, {\"text\": \"piazza, fountain, foods, touring, shops, bars, mall\", \"position\": [0.5759728622631849, 0.03372577875889135], \"coordinates\": \"axes\", \"h_anchor\": \"start\", \"v_baseline\": \"auto\", \"rotation\": -0.0, \"fontsize\": 10.0, \"color\": \"#000000\", \"alpha\": 1, \"zorder\": 1000003.0, \"id\": \"el27814615839304\"}], \"collections\": [], \"images\": [], \"sharex\": [], \"sharey\": []}], \"data\": {\"data01\": [[-0.4012865450683453, -0.7026121133516354], [0.5647391785281943, -0.23887562742560944], [-0.6635081484598109, -0.11593892204427217], [-0.34722104715906393, -0.24796982542676282]], \"data02\": [[-0.04339092273916127, 0.3302613308955924], [-0.25795782113253857, 0.5338433355957531], [0.06614418454063978, 0.6532401596674356], [-0.15141668109180542, 0.38645827127784893], [-0.11139959463637464, 0.5324739978848249], [-0.03488111299387085, 0.4514034653936792], [0.27656885310979257, 0.6336330089571145], [-0.000812209059048009, 0.48565781092272664], [-0.18674468319714554, 0.33192274336458666], [-0.09924217746313056, -0.2551913082184916], [-0.45822037534135796, 0.34605875328629504], [-0.6908287166853644, 0.3774183303476111], [0.590557751064244, 0.32981423597483545], [0.0570286316004639, 0.31051809136819786], [-0.08837088545339461, 0.28739865548531707], [-0.01402845634910547, -0.7874605677920231], [0.5113318217650498, 0.4843552103256364]], \"data03\": [[0.4902263854837697, 0.010235170722966145], [0.7579001985378154, -0.10353764687067576], [0.657881341030565, 0.09504042503299916], [0.397050434416919, -0.1859866673500149], [0.3718700973673606, -0.05548622146081546], [0.643264731688461, 0.14609517815705805], [0.5591244898784027, -0.2949458689558136], [0.6609369413570876, -0.021959472309996432], [0.4874833311851874, -0.10886501886086615], [0.5852954056272893, -0.15415137855349303], [0.2578329275188119, -0.043643119714146465], [0.4720801068288945, -0.07846082162151649], [0.4188010141948637, -0.08436485590106856], [0.3889925577669483, -0.010221780213370859]], \"data04\": [[0.0021123073470231007, -0.42371432945443815], [0.46878987609529127, -0.46231564338795006], [0.14308686826765735, -0.15226357070064953], [0.38548658414420156, 0.37664906150074395], [0.08869505981132253, 0.18733650358709367], [0.29132466430667125, -0.45854056214230804], [-0.01605415938605176, -0.31341736860399155], [0.16864291795163094, -0.10575128057462956], [0.1575414235708865, 0.07307422078695756], [0.15135392973885517, -0.2555557952857413], [-0.11796271887999377, -0.47239209552869915], [0.36290119367510054, -0.5972820098913983], [0.11477754760440326, -0.30965603770575073], [0.06616246853426351, -0.11217292543806727], [0.16050433304255446, -0.7205846028724133], [0.4803652958923889, 0.6367008459054028], [0.29641578064037816, -0.25057731161687896], [0.020363245459429993, -0.16692951151383134], [0.17322096092610142, 0.01732277032763218], [0.3750804830554782, 0.1541622789747138], [0.42329820051732464, 0.19375765789649468], [0.09544992245288735, -0.4482568297654532], [0.23366874654870018, -0.6026364971963626], [0.1671322009370616, -0.406489665952749], [0.05160696397494821, -0.31365079760355546]], \"data05\": [[0.09707881715536149, 0.5447492990463539], [-0.3623442076116239, -0.0771413883459434], [-0.49722893679837554, -0.29781255554305525], [-0.2828928315415361, 0.6183538640493601], [-0.2080437064869929, 0.715691649275045], [-0.2811024173614892, 0.0675476812751531], [-0.40367004909312554, 0.013136130965063808], [-0.2299833223424477, -0.4740781788621134], [0.2083547292429487, 0.2830427212426881], [-0.28679237142227004, -0.7323397590670344], [-0.12276592988541751, -0.505637571946985], [-0.6143660725385222, 0.007154719813453234], [-0.14477493274915862, -0.024689854730225915], [-0.5676846051480959, -0.25246311052956105], [-0.2106539720310367, -0.3170767603821329], [-0.11988941926012554, -0.09634078758749016], [-0.5795365536610558, -0.14452280513644825], [-0.33642583338433085, 0.1884312587772184], [-0.5112134743220762, -0.060222993677104805], [-0.47336898477502043, 0.5432702091605455], [0.16514451278941747, 0.647881649569487], [-0.20743668481756042, -0.07465134252468643], [-0.05684016918032044, -0.03240869482448915], [-0.5284044128267555, -0.4563930761408719], [-0.040121365441386274, 0.06854835214368281], [0.003766149135239601, 0.04337751590422219], [-0.4531266378687614, 0.24878010055139194], [-0.22620723272247012, -0.002877675829712558], [-0.1678405867199898, 0.008374832889335795], [-0.691999732564873, 0.1765864909875314], [0.12186851607356135, 0.35736471981429774], [-0.3190887654242114, 0.14206153673222746], [-0.37216434304739543, 0.4546946508324826], [-0.5119990663296857, 0.1937602529871456], [-0.3107103785854742, -0.38198409850693105], [-0.14452594387827541, 0.12400935797260931], [-0.2850068030651646, -0.0977571192261678], [-0.46340095121731906, 0.07376069671210883], [0.2589082496073337, 0.44314498484670245], [-0.25327538279127754, -0.2382983650212329]], \"data06\": [[0.552931387608807, 0.22841550159430954, 0.18242580328673044, 0.13643610497915135, 0.09044640667157224, 0.04445670836399314]], \"data07\": [[0.5375704045058884, 0.015329899435859717], [0.9910394265232977, 0.015329899435859717], [0.9935995903737841, 0.015329899435859717], [0.9935995903737841, 0.021461859210203577], [0.9935995903737841, 0.24834437086092717], [0.9935995903737841, 0.254476330635271], [0.9910394265232977, 0.254476330635271], [0.5375704045058884, 0.254476330635271], [0.535010240655402, 0.254476330635271], [0.535010240655402, 0.24834437086092717], [0.535010240655402, 0.021461859210203577], [0.535010240655402, 0.015329899435859717], [0.5375704045058884, 0.015329899435859717]]}, \"id\": \"el27814607759920\", \"plugins\": [{\"type\": \"reset\"}, {\"type\": \"zoom\", \"button\": true, \"enabled\": false}, {\"type\": \"boxzoom\", \"button\": true, \"enabled\": false}, {\"type\": \"htmltooltip\", \"id\": \"el27814720401320pts\", \"labels\": [\"Hotel-Pension Adamshof\", \"Hotel New York\", \"Hampton Inn Memphis-Walnut Grove/Baptist Hospital East\", \"Americana Inn\"], \"hoffset\": 10, \"voffset\": 10}, {\"type\": \"toptoolbar\"}, {\"type\": \"htmltooltip\", \"id\": \"el27814562763960pts\", \"labels\": [\"Arriva Hotel\", \"Pacific Hotel\", \"St Marks, London\", \"Gresham Hotel\", \"London Carlton Hotel\", \"Belmont & Astoria Hotels\", \"Venice Apartments\", \"Curzon Plaza\", \"Park Hotel\", \"Al Canal Regio\", \"Days Inn Phoenix Airport\", \"Las Suites\", \"Villa Borghese Resort\", \"The Belvedere\", \"Euro Hotel Clapham\", \"Il Giardino Hotel\", \"Hotel Eris\"], \"hoffset\": 10, \"voffset\": 10}, {\"type\": \"toptoolbar\"}, {\"type\": \"htmltooltip\", \"id\": \"el27814720402384pts\", \"labels\": [\"Hotel Prati\", \"Hotel Massimo\", \"Hotel Mamiani\", \"Trilussa Palace Congress & Spa\", \"Hotel Giardino\", \"BEST WESTERN Hotel Roma Tor Vergata\", \"Hotel Capitol Roma\", \"Hotel Everest 1\", \"Villa Patrizi\", \"All Time Relais & Sport Hotel\", \"Raffaello Hotel\", \"Mercure Roma Piazza Bologna\", \"Holiday Inn Express Rome - San Giovanni\", \"Priscilla Hotel\"], \"hoffset\": 10, \"voffset\": 10}, {\"type\": \"toptoolbar\"}, {\"type\": \"htmltooltip\", \"id\": \"el27814556152504pts\", \"labels\": [\"Holiday Inn Amsterdam\", \"Hotel du Prince Eugene\", \"BEST WESTERN Premier Hotel Sant' Elena\", \"Byotell\", \"Moon Hotel\", \"Ibis Berlin Messe\", \"Hotel Wiechmann\", \"Hotel Ca' Formenta\", \"Hotel Lloret Ramblas\", \"Mercure Hotel Amsterdam Aan de Amstel\", \"Hotel Gendarm nouveau\", \"Hotel Villa Kastania\", \"Hotel Europa 92\", \"Hotel OTTO\", \"Hotel Paris\", \"Soggiorno Europa\", \"Evenia Rocafort\", \"ARCOTEL Velvet\", \"Santa Chiara Hotel\", \"Austin's Arts et Metiers Hotel\", \"Eiffel Seine Hotel Paris\", \"Hotel Abba\", \"Hotel Pension Enzian\", \"Armagrandi Spina Istanbul\", \"Dikker & Thijs Fenice Hotel\"], \"hoffset\": 10, \"voffset\": 10}, {\"type\": \"toptoolbar\"}, {\"type\": \"htmltooltip\", \"id\": \"el27814556175400pts\", \"labels\": [\"254 East Vacation\", \"The Helmsley Park Lane\", \"Admiral Fell Inn\", \"Homestead Studio Suites Dallas - Plano\", \"The Beach Cottages\", \"Super 8 Toronto\", \"Holiday Inn New Orleans French Quarter\", \"Plaza Hotel Istanbul\", \"Country Club Hotel\", \"Hotel Plaza\", \"Hilton Istanbul\", \"Holiday Inn Express Hotel & Suites Dallas (Galleria Area)\", \"InterContinental Boston\", \"Courtyard by Marriott Phoenix West/Avondale\", \"The Hotel 91\", \"Radisson Martinique on Broadway\", \"The Darling\", \"Rodeway Inn Maingate\", \"Four Queens Hotel and Casino\", \"Baroness Hotel\", \"Home House\", \"Hotel Monaco Seattle - a Kimpton Hotel\", \"Royal Plaza on Scotts\", \"Hotel 81 - Osaka\", \"Hotel Re!\", \"Gran Hotel La Florida\", \"Comfort Hotel Airport North\", \"Hotel Palomar Los Angeles - Westwood - a Kimpton Hotel\", \"Westin Harbour Castle\", \"Mission Bay RV Resort\", \"Coast Gateway Hotel\", \"Ramada Plaza\", \"Ultimate Apartments Bondi Beach\", \"Americas Best Value Inn - Hollywood / Los Angeles\", \"Pera Palace Hotel\", \"York Hotel\", \"Hotel Brexton\", \"Hampton Inn San Diego/Del Mar\", \"Fiesta Inn Aeropuerto Cuidad de Mexico\", \"Chelsea Savoy Hotel\"], \"hoffset\": 10, \"voffset\": 10}, {\"type\": \"toptoolbar\"}]});\n",
       "            })\n",
       "         });\n",
       "}\n",
       "</script>"
      ],
      "text/plain": [
       "<IPython.core.display.HTML object>"
      ]
     },
     "execution_count": 32,
     "metadata": {},
     "output_type": "execute_result"
    }
   ],
   "source": [
    "#create data frame that has the result of the MDS plus the cluster numbers and titles\n",
    "df = pd.DataFrame(dict(x=xs, y=ys, label=clusters, title=hotel_names[:100])) \n",
    "\n",
    "#group by cluster\n",
    "groups = df.groupby('label')\n",
    "\n",
    "#define custom css to format the font and to remove the axis labeling\n",
    "css = \"\"\"\n",
    "text.mpld3-text, div.mpld3-tooltip {\n",
    "  font-family:Arial, Helvetica, sans-serif;\n",
    "}\n",
    "\n",
    "g.mpld3-xaxis, g.mpld3-yaxis {\n",
    "display: none; }\n",
    "\"\"\"\n",
    "\n",
    "# Plot \n",
    "fig, ax = plt.subplots(figsize=(14,6)) #set plot size\n",
    "ax.margins(0.03) # Optional, just adds 5% padding to the autoscaling\n",
    "\n",
    "#iterate through groups to layer the plot\n",
    "#note that I use the cluster_name and cluster_color dicts with the 'name' lookup to return the appropriate color/label\n",
    "for name, group in groups:\n",
    "    points = ax.plot(group.x, group.y, marker='o', linestyle='', ms=18, label=cluster_names[name], mec='none', color=cluster_colors[name])\n",
    "    ax.set_aspect('auto')\n",
    "    labels = [i for i in group.title]\n",
    "    \n",
    "    #set tooltip using points, labels and the already defined 'css'\n",
    "    tooltip = mpld3.plugins.PointHTMLTooltip(points[0], labels,\n",
    "                                       voffset=10, hoffset=10, css=css)\n",
    "    #connect tooltip to fig\n",
    "    mpld3.plugins.connect(fig, tooltip, TopToolbar())    \n",
    "    \n",
    "    #set tick marks as blank\n",
    "    ax.axes.get_xaxis().set_ticks([])\n",
    "    ax.axes.get_yaxis().set_ticks([])\n",
    "    \n",
    "    #set axis as blank\n",
    "    ax.axes.get_xaxis().set_visible(False)\n",
    "    ax.axes.get_yaxis().set_visible(False)\n",
    "\n",
    "    \n",
    "ax.legend(numpoints=1) #show legend with only one dot\n",
    "\n",
    "mpld3.display() #show the plot\n",
    "\n",
    "#uncomment the below to export to html\n",
    "html = mpld3.fig_to_html(fig)\n",
    "#print(html)"
   ]
  },
  {
   "cell_type": "code",
   "execution_count": 58,
   "metadata": {
    "collapsed": true
   },
   "outputs": [],
   "source": [
    "html = mpld3.fig_to_html(fig)"
   ]
  },
  {
   "cell_type": "markdown",
   "metadata": {},
   "source": [
    "## Hierarchical document clustering"
   ]
  },
  {
   "cell_type": "code",
   "execution_count": 41,
   "metadata": {},
   "outputs": [
    {
     "data": {
      "image/png": "[encoded data removed]",
      "text/plain": [
       "<matplotlib.figure.Figure at 0x10e345358>"
      ]
     },
     "metadata": {},
     "output_type": "display_data"
    }
   ],
   "source": [
    "linkage_matrix = ward(dist) #define the linkage_matrix using ward clustering pre-computed distances\n",
    "\n",
    "fig, ax = plt.subplots(figsize=(15, 20)) # set size\n",
    "ax = dendrogram(linkage_matrix, orientation=\"right\", labels=hotel_names[:1000]);\n",
    "\n",
    "plt.tick_params(\\\n",
    "    axis= 'x',          # changes apply to the x-axis\n",
    "    which='both',      # both major and minor ticks are affected\n",
    "    bottom='off',      # ticks along the bottom edge are off\n",
    "    top='off',         # ticks along the top edge are off\n",
    "    labelbottom='off')\n",
    "\n",
    "plt.tight_layout() #show plot with tight layout\n",
    "\n",
    "#uncomment below to save figure\n",
    "plt.savefig('hotel_clusters.png', dpi=200) #save figure as ward_clusters"
   ]
  },
  {
   "cell_type": "code",
   "execution_count": null,
   "metadata": {
    "collapsed": true
   },
   "outputs": [],
   "source": [
    "plt.close()"
   ]
  },
  {
   "cell_type": "markdown",
   "metadata": {},
   "source": [
    "## Latent Dirichlet Allocation"
   ]
  },
  {
   "cell_type": "code",
   "execution_count": 34,
   "metadata": {
    "collapsed": true
   },
   "outputs": [],
   "source": [
    "#strip any proper names from a text...unfortunately right now this is yanking the first word from a sentence too.\n",
    "import string\n",
    "def strip_proppers(text):\n",
    "    # first tokenize by sentence, then by word to ensure that punctuation is caught as it's own token\n",
    "    tokens = [word for sent in nltk.sent_tokenize(text) for word in nltk.word_tokenize(sent) if word.islower()]\n",
    "    return \"\".join([\" \"+i if not i.startswith(\"'\") and i not in string.punctuation else i for i in tokens]).strip()"
   ]
  },
  {
   "cell_type": "code",
   "execution_count": 35,
   "metadata": {
    "collapsed": true
   },
   "outputs": [],
   "source": [
    "#strip any proper nouns (NNP) or plural proper nouns (NNPS) from a text\n",
    "from nltk.tag import pos_tag\n",
    "\n",
    "def strip_proppers_POS(text):\n",
    "    tagged = pos_tag(text.split()) #use NLTK's part of speech tagger\n",
    "    non_propernouns = [word for word,pos in tagged if pos != 'NNP' and pos != 'NNPS']\n",
    "    return non_propernouns"
   ]
  },
  {
   "cell_type": "code",
   "execution_count": 37,
   "metadata": {},
   "outputs": [
    {
     "name": "stdout",
     "output_type": "stream",
     "text": [
      "CPU times: user 35.3 s, sys: 370 ms, total: 35.7 s\n",
      "Wall time: 36 s\n",
      "CPU times: user 3.22 s, sys: 37.4 ms, total: 3.26 s\n",
      "Wall time: 3.29 s\n"
     ]
    }
   ],
   "source": [
    "#Latent Dirichlet Allocation implementation with Gensim\n",
    "\n",
    "from gensim import corpora, models, similarities \n",
    "\n",
    "#remove proper names\n",
    "preprocess = [strip_proppers(doc) for doc in hotel_reviews[:100]]\n",
    "\n",
    "%time tokenized_text = [tokenize_and_stem(text) for text in preprocess]\n",
    "\n",
    "%time texts = [[word for word in text if word not in stopwords] for text in tokenized_text]"
   ]
  },
  {
   "cell_type": "code",
   "execution_count": 38,
   "metadata": {},
   "outputs": [
    {
     "name": "stdout",
     "output_type": "stream",
     "text": [
      "6824\n"
     ]
    }
   ],
   "source": [
    "#print(len([word for word in texts[0] if word not in stopwords]))\n",
    "print(len(texts[0]))"
   ]
  },
  {
   "cell_type": "code",
   "execution_count": 44,
   "metadata": {
    "collapsed": true
   },
   "outputs": [],
   "source": [
    "dictionary = corpora.Dictionary(texts)\n",
    "dictionary.filter_extremes(no_below=1, no_above=0.8)\n",
    "corpus = [dictionary.doc2bow(text) for text in texts]"
   ]
  },
  {
   "cell_type": "code",
   "execution_count": 45,
   "metadata": {},
   "outputs": [
    {
     "data": {
      "text/plain": [
       "100"
      ]
     },
     "execution_count": 45,
     "metadata": {},
     "output_type": "execute_result"
    }
   ],
   "source": [
    "len(corpus)"
   ]
  },
  {
   "cell_type": "code",
   "execution_count": 46,
   "metadata": {},
   "outputs": [
    {
     "name": "stdout",
     "output_type": "stream",
     "text": [
      "CPU times: user 4min 41s, sys: 6.49 s, total: 4min 47s\n",
      "Wall time: 4min 47s\n"
     ]
    }
   ],
   "source": [
    "%time lda = models.LdaModel(corpus, num_topics=5, id2word=dictionary, update_every=5, chunksize=10000, passes=100)"
   ]
  },
  {
   "cell_type": "code",
   "execution_count": 47,
   "metadata": {},
   "outputs": [
    {
     "name": "stdout",
     "output_type": "stream",
     "text": [
      "[(0, 0.25022992), (1, 0.49857172), (2, 0.020053895), (4, 0.23005946)]\n"
     ]
    }
   ],
   "source": [
    "print(lda[corpus[0]])"
   ]
  },
  {
   "cell_type": "code",
   "execution_count": 48,
   "metadata": {
    "collapsed": true
   },
   "outputs": [],
   "source": [
    "topics = lda.print_topics(5, num_words=20)"
   ]
  },
  {
   "cell_type": "code",
   "execution_count": 49,
   "metadata": {
    "collapsed": true
   },
   "outputs": [],
   "source": [
    "topics_matrix = lda.show_topics(formatted=False, num_words=20)"
   ]
  },
  {
   "cell_type": "code",
   "execution_count": 50,
   "metadata": {},
   "outputs": [
    {
     "ename": "ValueError",
     "evalue": "setting an array element with a sequence",
     "output_type": "error",
     "traceback": [
      "\u001b[0;31m----------------------------------------------------------------------\u001b[0m",
      "\u001b[0;31mValueError\u001b[0m                           Traceback (most recent call last)",
      "\u001b[0;32m<ipython-input-50-d3382caa70f5>\u001b[0m in \u001b[0;36m<module>\u001b[0;34m()\u001b[0m\n\u001b[0;32m----> 1\u001b[0;31m \u001b[0mtopics_matrix\u001b[0m \u001b[0;34m=\u001b[0m \u001b[0mnp\u001b[0m\u001b[0;34m.\u001b[0m\u001b[0marray\u001b[0m\u001b[0;34m(\u001b[0m\u001b[0mtopics_matrix\u001b[0m\u001b[0;34m)\u001b[0m\u001b[0;34m\u001b[0m\u001b[0m\n\u001b[0m",
      "\u001b[0;31mValueError\u001b[0m: setting an array element with a sequence"
     ]
    }
   ],
   "source": [
    "topics_matrix = np.array(topics_matrix)"
   ]
  },
  {
   "cell_type": "code",
   "execution_count": 51,
   "metadata": {
    "scrolled": true
   },
   "outputs": [
    {
     "ename": "AttributeError",
     "evalue": "'list' object has no attribute 'shape'",
     "output_type": "error",
     "traceback": [
      "\u001b[0;31m----------------------------------------------------------------------\u001b[0m",
      "\u001b[0;31mAttributeError\u001b[0m                       Traceback (most recent call last)",
      "\u001b[0;32m<ipython-input-51-ec89312ecabd>\u001b[0m in \u001b[0;36m<module>\u001b[0;34m()\u001b[0m\n\u001b[0;32m----> 1\u001b[0;31m \u001b[0mtopics_matrix\u001b[0m\u001b[0;34m.\u001b[0m\u001b[0mshape\u001b[0m\u001b[0;34m\u001b[0m\u001b[0m\n\u001b[0m",
      "\u001b[0;31mAttributeError\u001b[0m: 'list' object has no attribute 'shape'"
     ]
    }
   ],
   "source": [
    "topics_matrix.shape"
   ]
  },
  {
   "cell_type": "code",
   "execution_count": 55,
   "metadata": {},
   "outputs": [
    {
     "data": {
      "text/plain": [
       "[(0,\n",
       "  [('apart', 0.00787061),\n",
       "   ('recept', 0.0068108365),\n",
       "   ('told', 0.0063479883),\n",
       "   ('said', 0.006176305),\n",
       "   ('dirti', 0.0060273022),\n",
       "   ('toilet', 0.005352849),\n",
       "   ('wall', 0.0041587525),\n",
       "   ('money', 0.00406566),\n",
       "   ('review', 0.0038661049),\n",
       "   ('cheap', 0.0037168164),\n",
       "   ('key', 0.0034384944),\n",
       "   ('doubl', 0.0033072918),\n",
       "   ('paid', 0.0032443134),\n",
       "   ('ever', 0.0032230518),\n",
       "   ('manag', 0.0032183235),\n",
       "   ('stair', 0.0031996423),\n",
       "   ('basic', 0.0031964364),\n",
       "   ('worst', 0.0031456845),\n",
       "   ('sheet', 0.003081228),\n",
       "   ('leav', 0.003069966)]),\n",
       " (1,\n",
       "  [('park', 0.007456427),\n",
       "   ('wine', 0.006960051),\n",
       "   ('free', 0.006848022),\n",
       "   ('lobbi', 0.0062732482),\n",
       "   ('valet', 0.0054290085),\n",
       "   ('enjoy', 0.0052289804),\n",
       "   ('car', 0.0046589407),\n",
       "   ('bar', 0.0045230463),\n",
       "   ('decor', 0.0045113866),\n",
       "   ('guest', 0.004123226),\n",
       "   ('wonder', 0.0037714296),\n",
       "   ('block', 0.0036207782),\n",
       "   ('pool', 0.0033987102),\n",
       "   ('high', 0.0033827503),\n",
       "   ('downtown', 0.0032295303),\n",
       "   ('weekend', 0.0032132266),\n",
       "   ('suit', 0.0031648057),\n",
       "   ('beauti', 0.003158396),\n",
       "   ('alway', 0.0031424568),\n",
       "   ('dog', 0.003111276)]),\n",
       " (2,\n",
       "  [('stop', 0.006039854),\n",
       "   ('metro', 0.005575306),\n",
       "   ('train', 0.0053081894),\n",
       "   ('free', 0.0053044776),\n",
       "   ('bar', 0.0049487427),\n",
       "   ('bus', 0.0042536687),\n",
       "   ('easi', 0.0040058885),\n",
       "   ('across', 0.0039733252),\n",
       "   ('includ', 0.0039704256),\n",
       "   ('return', 0.0038406502),\n",
       "   ('enjoy', 0.003742967),\n",
       "   ('review', 0.0036707902),\n",
       "   ('recept', 0.0035088651),\n",
       "   ('min', 0.0034906664),\n",
       "   ('taxi', 0.003486353),\n",
       "   ('valu', 0.0032742626),\n",
       "   ('wonder', 0.0031977138),\n",
       "   ('alway', 0.0030923435),\n",
       "   ('airport', 0.0030329537),\n",
       "   ('high', 0.0029821626)]),\n",
       " (3,\n",
       "  [('park', 0.011050566),\n",
       "   ('told', 0.0047598174),\n",
       "   ('pool', 0.0045191576),\n",
       "   ('charg', 0.004148607),\n",
       "   ('manag', 0.0037153093),\n",
       "   ('expens', 0.0036025343),\n",
       "   ('lobbi', 0.0035743695),\n",
       "   ('wait', 0.0035618676),\n",
       "   ('seem', 0.0035558979),\n",
       "   ('review', 0.00351436),\n",
       "   ('free', 0.0033382352),\n",
       "   ('said', 0.0033139517),\n",
       "   ('decor', 0.0032166375),\n",
       "   ('upgrad', 0.003215846),\n",
       "   ('bar', 0.0031825844),\n",
       "   ('includ', 0.0029538209),\n",
       "   ('airport', 0.002881251),\n",
       "   ('guest', 0.0027955908),\n",
       "   ('paid', 0.0026800556),\n",
       "   ('concierg', 0.00260518)]),\n",
       " (4,\n",
       "  [('casino', 0.005365101),\n",
       "   ('subway', 0.0053432686),\n",
       "   ('block', 0.0049227886),\n",
       "   ('downtown', 0.0047662826),\n",
       "   ('nois', 0.004654856),\n",
       "   ('free', 0.004588028),\n",
       "   ('alway', 0.0042593265),\n",
       "   ('review', 0.0039291363),\n",
       "   ('strip', 0.003835093),\n",
       "   ('wait', 0.0036119265),\n",
       "   ('share', 0.003455614),\n",
       "   ('park', 0.0034458248),\n",
       "   ('year', 0.0031926055),\n",
       "   ('basic', 0.0030672168),\n",
       "   ('seem', 0.0030632848),\n",
       "   ('towel', 0.003014591),\n",
       "   ('show', 0.0030075042),\n",
       "   ('elev', 0.0029856858),\n",
       "   ('return', 0.002899335),\n",
       "   ('enjoy', 0.002770707)])]"
      ]
     },
     "execution_count": 55,
     "metadata": {},
     "output_type": "execute_result"
    }
   ],
   "source": [
    "topics_matrix"
   ]
  },
  {
   "cell_type": "code",
   "execution_count": 56,
   "metadata": {},
   "outputs": [
    {
     "ename": "TypeError",
     "evalue": "list indices must be integers or slices, not tuple",
     "output_type": "error",
     "traceback": [
      "\u001b[0;31m----------------------------------------------------------------------\u001b[0m",
      "\u001b[0;31mTypeError\u001b[0m                            Traceback (most recent call last)",
      "\u001b[0;32m<ipython-input-56-f0b9e4202156>\u001b[0m in \u001b[0;36m<module>\u001b[0;34m()\u001b[0m\n\u001b[0;32m----> 1\u001b[0;31m \u001b[0mtopic_words\u001b[0m \u001b[0;34m=\u001b[0m \u001b[0mtopics_matrix\u001b[0m\u001b[0;34m[\u001b[0m\u001b[0;34m:\u001b[0m\u001b[0;34m,\u001b[0m\u001b[0;34m:\u001b[0m\u001b[0;34m,\u001b[0m\u001b[0;36m1\u001b[0m\u001b[0;34m]\u001b[0m\u001b[0;34m\u001b[0m\u001b[0m\n\u001b[0m",
      "\u001b[0;31mTypeError\u001b[0m: list indices must be integers or slices, not tuple"
     ]
    }
   ],
   "source": [
    "topic_words = topics_matrix[:,:,1]"
   ]
  },
  {
   "cell_type": "code",
   "execution_count": null,
   "metadata": {
    "collapsed": true
   },
   "outputs": [],
   "source": [
    "for i in topic_words:\n",
    "    print([str(word) for word in i])\n",
    "    print()"
   ]
  },
  {
   "cell_type": "code",
   "execution_count": null,
   "metadata": {
    "collapsed": true
   },
   "outputs": [],
   "source": []
  }
 ],
 "metadata": {
  "kernelspec": {
   "display_name": "Python 2",
   "language": "python",
   "name": "python2"
  },
  "language_info": {
   "codemirror_mode": {
    "name": "ipython",
    "version": 2
   },
   "file_extension": ".py",
   "mimetype": "text/x-python",
   "name": "python",
   "nbconvert_exporter": "python",
   "pygments_lexer": "ipython2",
   "version": "2.7.14"
  }
 },
 "nbformat": 4,
 "nbformat_minor": 2
}
