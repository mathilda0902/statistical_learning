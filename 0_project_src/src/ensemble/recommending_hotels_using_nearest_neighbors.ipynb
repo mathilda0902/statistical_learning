{
 "cells": [
  {
   "cell_type": "markdown",
   "metadata": {},
   "source": [
    "<img src='universe.jpg' style=\"float: right; width: 340px;\" alt=\"Drawing\">\n",
    " \n",
    "The main goal is to recommend the most similar hotel to a selected hotel. There are other ways of recommending hotels (content-based k-means clustering, for one, as introduced in another tutorial, '__hotel_clustering_based_on_reviews__'). To __look up__ the most similar hotel in our __universe of hotels__, imagine your favorite hotel __lives__ on Planet A. Now when you travel to a different planet (sorry, __city__), you want to find a hotel that reminds you of your favorite on Planet A. A k-dimensional tree algorithm can help you locate that hotel in almost no time. I'll implement an __Approximate Nearest Neighbors__ search on a __7 dimenional tree__ that has been tailored to our dataset of 10,000 hotels that have been rated by over 1.04 million users on TripAdvisor.\n",
    "\n",
    "In this tutorial, I'll implement a fast search algorithm for content-based k-Nearest Neighbor model. KNN models were known for their interpretability in the early days of recommender systems. I'll define a way of measuring similarity, i.e. how similar any of the chosen two hotels are, based on their features. This similarity measure helps guide us in the __universe__ of __similar hotels__. The model compares similarity measures among hotels, to decide how __similar__ a pair of hotels are in the rating structures given by travelers. If we would like to know how __similar__ a pair of items are, kNN models would also be a very intuitive way to tell the __degree of similarity__. \n",
    "\n",
    "In statistics, the __curse of dimensionality__ has made many problems a lot harder when the dimensions increase. In a 1D space (a straight line on paper), this search problem is essential a query problem; whatever hotel located next to your favorite is the most similar one. In a 2D plane (laying out a map on table), we can draw circles centered at your favorite hotel to search for the next similar one. In a 3D world like ours, there is yet another dimension added to the previous plane, so search time increases as a result.\n",
    "\n",
    "Hotels in our model will be measured in 7 dimensions: rooms, service, cleanlines, front desk, business service, value, location; each will be given a 0 to 5 scores, where 1 - 5 are travelers' ratings. By using a k-dimensional tree, the next similar hotel will be generated automatically from the training set that we feed in to the algorithm.\n",
    "\n",
    "I used Python 2 to write this tutorial and implemented the following libraries:"
   ]
  },
  {
   "cell_type": "code",
   "execution_count": 1,
   "metadata": {
    "collapsed": true
   },
   "outputs": [],
   "source": [
    "import pandas as pd \n",
    "import pprint\n",
    "import numpy as np\n",
    "import sklearn.preprocessing as pp\n",
    "from numpy import linalg"
   ]
  },
  {
   "cell_type": "markdown",
   "metadata": {},
   "source": [
    "First, we import our example dataset that I scraped and cleaned from TripAdvisor. Each hotel id is unique and represents a hotel in our databse. Ratings of rooms, service, cleanliness, front desk, business service, value, and location are mean ratings taken from travelers."
   ]
  },
  {
   "cell_type": "code",
   "execution_count": 2,
   "metadata": {},
   "outputs": [
    {
     "data": {
      "text/html": [
       "<div>\n",
       "<style>\n",
       "    .dataframe thead tr:only-child th {\n",
       "        text-align: right;\n",
       "    }\n",
       "\n",
       "    .dataframe thead th {\n",
       "        text-align: left;\n",
       "    }\n",
       "\n",
       "    .dataframe tbody tr th {\n",
       "        vertical-align: top;\n",
       "    }\n",
       "</style>\n",
       "<table border=\"1\" class=\"dataframe\">\n",
       "  <thead>\n",
       "    <tr style=\"text-align: right;\">\n",
       "      <th></th>\n",
       "      <th>hotel id</th>\n",
       "      <th>rooms</th>\n",
       "      <th>service</th>\n",
       "      <th>cleanliness</th>\n",
       "      <th>front desk</th>\n",
       "      <th>business service</th>\n",
       "      <th>value</th>\n",
       "      <th>location</th>\n",
       "    </tr>\n",
       "  </thead>\n",
       "  <tbody>\n",
       "    <tr>\n",
       "      <th>0</th>\n",
       "      <td>72572</td>\n",
       "      <td>3.644444</td>\n",
       "      <td>4.275556</td>\n",
       "      <td>4.368889</td>\n",
       "      <td>0.760000</td>\n",
       "      <td>0.560000</td>\n",
       "      <td>4.080000</td>\n",
       "      <td>3.822222</td>\n",
       "    </tr>\n",
       "    <tr>\n",
       "      <th>1</th>\n",
       "      <td>72586</td>\n",
       "      <td>3.130769</td>\n",
       "      <td>3.838462</td>\n",
       "      <td>3.761538</td>\n",
       "      <td>0.553846</td>\n",
       "      <td>0.423077</td>\n",
       "      <td>3.792308</td>\n",
       "      <td>3.615385</td>\n",
       "    </tr>\n",
       "    <tr>\n",
       "      <th>2</th>\n",
       "      <td>73855</td>\n",
       "      <td>3.337423</td>\n",
       "      <td>3.607362</td>\n",
       "      <td>3.950920</td>\n",
       "      <td>0.699387</td>\n",
       "      <td>0.257669</td>\n",
       "      <td>3.251534</td>\n",
       "      <td>3.736196</td>\n",
       "    </tr>\n",
       "    <tr>\n",
       "      <th>3</th>\n",
       "      <td>73943</td>\n",
       "      <td>3.677852</td>\n",
       "      <td>4.453020</td>\n",
       "      <td>4.442953</td>\n",
       "      <td>1.030201</td>\n",
       "      <td>0.637584</td>\n",
       "      <td>4.036913</td>\n",
       "      <td>3.637584</td>\n",
       "    </tr>\n",
       "    <tr>\n",
       "      <th>4</th>\n",
       "      <td>73947</td>\n",
       "      <td>3.207792</td>\n",
       "      <td>4.110390</td>\n",
       "      <td>4.019481</td>\n",
       "      <td>0.305195</td>\n",
       "      <td>0.194805</td>\n",
       "      <td>3.909091</td>\n",
       "      <td>3.396104</td>\n",
       "    </tr>\n",
       "  </tbody>\n",
       "</table>\n",
       "</div>"
      ],
      "text/plain": [
       "   hotel id     rooms   service  cleanliness  front desk  business service  \\\n",
       "0     72572  3.644444  4.275556     4.368889    0.760000          0.560000   \n",
       "1     72586  3.130769  3.838462     3.761538    0.553846          0.423077   \n",
       "2     73855  3.337423  3.607362     3.950920    0.699387          0.257669   \n",
       "3     73943  3.677852  4.453020     4.442953    1.030201          0.637584   \n",
       "4     73947  3.207792  4.110390     4.019481    0.305195          0.194805   \n",
       "\n",
       "      value  location  \n",
       "0  4.080000  3.822222  \n",
       "1  3.792308  3.615385  \n",
       "2  3.251534  3.736196  \n",
       "3  4.036913  3.637584  \n",
       "4  3.909091  3.396104  "
      ]
     },
     "execution_count": 2,
     "metadata": {},
     "output_type": "execute_result"
    }
   ],
   "source": [
    "hotel_ratings = pd.read_csv('../../dataset/nearest_neighbors_hotel.csv')\n",
    "hotel_ratings.head()"
   ]
  },
  {
   "cell_type": "markdown",
   "metadata": {},
   "source": [
    "Hotel names and details are in the following dataframe."
   ]
  },
  {
   "cell_type": "code",
   "execution_count": 3,
   "metadata": {},
   "outputs": [
    {
     "data": {
      "text/html": [
       "<div>\n",
       "<style>\n",
       "    .dataframe thead tr:only-child th {\n",
       "        text-align: right;\n",
       "    }\n",
       "\n",
       "    .dataframe thead th {\n",
       "        text-align: left;\n",
       "    }\n",
       "\n",
       "    .dataframe tbody tr th {\n",
       "        vertical-align: top;\n",
       "    }\n",
       "</style>\n",
       "<table border=\"1\" class=\"dataframe\">\n",
       "  <thead>\n",
       "    <tr style=\"text-align: right;\">\n",
       "      <th></th>\n",
       "      <th>hotel name</th>\n",
       "      <th>hotel id</th>\n",
       "      <th>city</th>\n",
       "      <th>state</th>\n",
       "      <th>zip code</th>\n",
       "      <th>low price</th>\n",
       "      <th>high price</th>\n",
       "    </tr>\n",
       "  </thead>\n",
       "  <tbody>\n",
       "    <tr>\n",
       "      <th>0</th>\n",
       "      <td>Hilton Garden Inn Baltimore White Marsh</td>\n",
       "      <td>100407</td>\n",
       "      <td>Baltimore</td>\n",
       "      <td>MD 21236</td>\n",
       "      <td>21236</td>\n",
       "      <td>$135</td>\n",
       "      <td>$193</td>\n",
       "    </tr>\n",
       "    <tr>\n",
       "      <th>1</th>\n",
       "      <td>Hotel Monaco Seattle - a Kimpton Hotel</td>\n",
       "      <td>100504</td>\n",
       "      <td>Seattle</td>\n",
       "      <td>WA 98101</td>\n",
       "      <td>98101</td>\n",
       "      <td>$184</td>\n",
       "      <td>$345</td>\n",
       "    </tr>\n",
       "    <tr>\n",
       "      <th>2</th>\n",
       "      <td>Warwick Seattle Hotel</td>\n",
       "      <td>100505</td>\n",
       "      <td>Seattle</td>\n",
       "      <td>WA 98121</td>\n",
       "      <td>98121</td>\n",
       "      <td>$129</td>\n",
       "      <td>$228</td>\n",
       "    </tr>\n",
       "    <tr>\n",
       "      <th>3</th>\n",
       "      <td>Hotel Seattle</td>\n",
       "      <td>100506</td>\n",
       "      <td>Seattle</td>\n",
       "      <td>WA 98101</td>\n",
       "      <td>98101</td>\n",
       "      <td>$96</td>\n",
       "      <td>$118</td>\n",
       "    </tr>\n",
       "    <tr>\n",
       "      <th>4</th>\n",
       "      <td>Inn at the Market</td>\n",
       "      <td>100507</td>\n",
       "      <td>Seattle</td>\n",
       "      <td>WA 98101</td>\n",
       "      <td>98101</td>\n",
       "      <td>$199</td>\n",
       "      <td>$299</td>\n",
       "    </tr>\n",
       "  </tbody>\n",
       "</table>\n",
       "</div>"
      ],
      "text/plain": [
       "                                hotel name  hotel id       city     state  \\\n",
       "0  Hilton Garden Inn Baltimore White Marsh    100407  Baltimore  MD 21236   \n",
       "1   Hotel Monaco Seattle - a Kimpton Hotel    100504    Seattle  WA 98101   \n",
       "2                    Warwick Seattle Hotel    100505    Seattle  WA 98121   \n",
       "3                            Hotel Seattle    100506    Seattle  WA 98101   \n",
       "4                        Inn at the Market    100507    Seattle  WA 98101   \n",
       "\n",
       "  zip code low price high price  \n",
       "0    21236      $135       $193  \n",
       "1    98101      $184       $345  \n",
       "2    98121      $129       $228  \n",
       "3    98101       $96       $118  \n",
       "4    98101      $199       $299  "
      ]
     },
     "execution_count": 3,
     "metadata": {},
     "output_type": "execute_result"
    }
   ],
   "source": [
    "hotel_names = pd.read_csv('../../dataset/hotel_info.csv')\n",
    "hotel_names.head()\n",
    "#hotel_names[hotel_names['hotel id'] == 79868]"
   ]
  },
  {
   "cell_type": "markdown",
   "metadata": {},
   "source": [
    "First, we need to define a way of measuring similarity distance. We choose the Euclidean distance:"
   ]
  },
  {
   "cell_type": "code",
   "execution_count": 4,
   "metadata": {
    "collapsed": true
   },
   "outputs": [],
   "source": [
    "def euc_distance(point1, point2):\n",
    "    diff = np.subtract(point1, point2)\n",
    "    dist = np.linalg.norm(diff)\n",
    "    return dist"
   ]
  },
  {
   "cell_type": "code",
   "execution_count": 5,
   "metadata": {
    "scrolled": true
   },
   "outputs": [
    {
     "data": {
      "text/html": [
       "<div>\n",
       "<style>\n",
       "    .dataframe thead tr:only-child th {\n",
       "        text-align: right;\n",
       "    }\n",
       "\n",
       "    .dataframe thead th {\n",
       "        text-align: left;\n",
       "    }\n",
       "\n",
       "    .dataframe tbody tr th {\n",
       "        vertical-align: top;\n",
       "    }\n",
       "</style>\n",
       "<table border=\"1\" class=\"dataframe\">\n",
       "  <thead>\n",
       "    <tr style=\"text-align: right;\">\n",
       "      <th></th>\n",
       "      <th>hotel id</th>\n",
       "      <th>rooms</th>\n",
       "      <th>service</th>\n",
       "      <th>cleanliness</th>\n",
       "      <th>front desk</th>\n",
       "      <th>business service</th>\n",
       "      <th>value</th>\n",
       "      <th>location</th>\n",
       "    </tr>\n",
       "  </thead>\n",
       "  <tbody>\n",
       "    <tr>\n",
       "      <th>2148</th>\n",
       "      <td>2514450</td>\n",
       "      <td>3.928144</td>\n",
       "      <td>3.736527</td>\n",
       "      <td>4.281437</td>\n",
       "      <td>0.856287</td>\n",
       "      <td>0.479042</td>\n",
       "      <td>3.892216</td>\n",
       "      <td>3.550898</td>\n",
       "    </tr>\n",
       "    <tr>\n",
       "      <th>1009</th>\n",
       "      <td>228949</td>\n",
       "      <td>2.857143</td>\n",
       "      <td>3.250000</td>\n",
       "      <td>3.521429</td>\n",
       "      <td>1.057143</td>\n",
       "      <td>0.442857</td>\n",
       "      <td>3.157143</td>\n",
       "      <td>3.028571</td>\n",
       "    </tr>\n",
       "    <tr>\n",
       "      <th>2524</th>\n",
       "      <td>2515264</td>\n",
       "      <td>3.457627</td>\n",
       "      <td>3.898305</td>\n",
       "      <td>4.116223</td>\n",
       "      <td>0.849879</td>\n",
       "      <td>0.610169</td>\n",
       "      <td>3.612591</td>\n",
       "      <td>2.995157</td>\n",
       "    </tr>\n",
       "    <tr>\n",
       "      <th>2531</th>\n",
       "      <td>2515308</td>\n",
       "      <td>3.289256</td>\n",
       "      <td>4.107438</td>\n",
       "      <td>4.371901</td>\n",
       "      <td>0.355372</td>\n",
       "      <td>0.272727</td>\n",
       "      <td>4.148760</td>\n",
       "      <td>3.347107</td>\n",
       "    </tr>\n",
       "    <tr>\n",
       "      <th>2772</th>\n",
       "      <td>2515830</td>\n",
       "      <td>4.074334</td>\n",
       "      <td>4.415147</td>\n",
       "      <td>4.552595</td>\n",
       "      <td>0.005610</td>\n",
       "      <td>0.007013</td>\n",
       "      <td>4.468443</td>\n",
       "      <td>4.005610</td>\n",
       "    </tr>\n",
       "  </tbody>\n",
       "</table>\n",
       "</div>"
      ],
      "text/plain": [
       "      hotel id     rooms   service  cleanliness  front desk  business service  \\\n",
       "2148   2514450  3.928144  3.736527     4.281437    0.856287          0.479042   \n",
       "1009    228949  2.857143  3.250000     3.521429    1.057143          0.442857   \n",
       "2524   2515264  3.457627  3.898305     4.116223    0.849879          0.610169   \n",
       "2531   2515308  3.289256  4.107438     4.371901    0.355372          0.272727   \n",
       "2772   2515830  4.074334  4.415147     4.552595    0.005610          0.007013   \n",
       "\n",
       "         value  location  \n",
       "2148  3.892216  3.550898  \n",
       "1009  3.157143  3.028571  \n",
       "2524  3.612591  2.995157  \n",
       "2531  4.148760  3.347107  \n",
       "2772  4.468443  4.005610  "
      ]
     },
     "execution_count": 5,
     "metadata": {},
     "output_type": "execute_result"
    }
   ],
   "source": [
    "# we pick the first 3000 hotels to illustrate an application of our algorithm.\n",
    "# randomly shuffle rows\n",
    "hotel_ratings = hotel_ratings.sample(frac=1)\n",
    "hotel_ratings.head()"
   ]
  },
  {
   "cell_type": "code",
   "execution_count": 6,
   "metadata": {},
   "outputs": [
    {
     "data": {
      "text/html": [
       "<div>\n",
       "<style>\n",
       "    .dataframe thead tr:only-child th {\n",
       "        text-align: right;\n",
       "    }\n",
       "\n",
       "    .dataframe thead th {\n",
       "        text-align: left;\n",
       "    }\n",
       "\n",
       "    .dataframe tbody tr th {\n",
       "        vertical-align: top;\n",
       "    }\n",
       "</style>\n",
       "<table border=\"1\" class=\"dataframe\">\n",
       "  <thead>\n",
       "    <tr style=\"text-align: right;\">\n",
       "      <th></th>\n",
       "      <th>rooms</th>\n",
       "      <th>service</th>\n",
       "      <th>cleanliness</th>\n",
       "      <th>front desk</th>\n",
       "      <th>business service</th>\n",
       "      <th>value</th>\n",
       "      <th>location</th>\n",
       "    </tr>\n",
       "  </thead>\n",
       "  <tbody>\n",
       "    <tr>\n",
       "      <th>0</th>\n",
       "      <td>3.928144</td>\n",
       "      <td>3.736527</td>\n",
       "      <td>4.281437</td>\n",
       "      <td>0.856287</td>\n",
       "      <td>0.479042</td>\n",
       "      <td>3.892216</td>\n",
       "      <td>3.550898</td>\n",
       "    </tr>\n",
       "    <tr>\n",
       "      <th>1</th>\n",
       "      <td>2.857143</td>\n",
       "      <td>3.250000</td>\n",
       "      <td>3.521429</td>\n",
       "      <td>1.057143</td>\n",
       "      <td>0.442857</td>\n",
       "      <td>3.157143</td>\n",
       "      <td>3.028571</td>\n",
       "    </tr>\n",
       "    <tr>\n",
       "      <th>2</th>\n",
       "      <td>3.457627</td>\n",
       "      <td>3.898305</td>\n",
       "      <td>4.116223</td>\n",
       "      <td>0.849879</td>\n",
       "      <td>0.610169</td>\n",
       "      <td>3.612591</td>\n",
       "      <td>2.995157</td>\n",
       "    </tr>\n",
       "    <tr>\n",
       "      <th>3</th>\n",
       "      <td>3.289256</td>\n",
       "      <td>4.107438</td>\n",
       "      <td>4.371901</td>\n",
       "      <td>0.355372</td>\n",
       "      <td>0.272727</td>\n",
       "      <td>4.148760</td>\n",
       "      <td>3.347107</td>\n",
       "    </tr>\n",
       "    <tr>\n",
       "      <th>4</th>\n",
       "      <td>4.074334</td>\n",
       "      <td>4.415147</td>\n",
       "      <td>4.552595</td>\n",
       "      <td>0.005610</td>\n",
       "      <td>0.007013</td>\n",
       "      <td>4.468443</td>\n",
       "      <td>4.005610</td>\n",
       "    </tr>\n",
       "  </tbody>\n",
       "</table>\n",
       "</div>"
      ],
      "text/plain": [
       "      rooms   service  cleanliness  front desk  business service     value  \\\n",
       "0  3.928144  3.736527     4.281437    0.856287          0.479042  3.892216   \n",
       "1  2.857143  3.250000     3.521429    1.057143          0.442857  3.157143   \n",
       "2  3.457627  3.898305     4.116223    0.849879          0.610169  3.612591   \n",
       "3  3.289256  4.107438     4.371901    0.355372          0.272727  4.148760   \n",
       "4  4.074334  4.415147     4.552595    0.005610          0.007013  4.468443   \n",
       "\n",
       "   location  \n",
       "0  3.550898  \n",
       "1  3.028571  \n",
       "2  2.995157  \n",
       "3  3.347107  \n",
       "4  4.005610  "
      ]
     },
     "execution_count": 6,
     "metadata": {},
     "output_type": "execute_result"
    }
   ],
   "source": [
    "#design training and test set after random shuffle:\n",
    "training = hotel_ratings[:2000]\n",
    "test = hotel_ratings[2000:]\n",
    "training.reset_index(inplace=True)\n",
    "test.reset_index(inplace=True)\n",
    "training = training[['rooms', 'service', 'cleanliness', 'front desk', 'business service', 'value', 'location']]\n",
    "test = test[['rooms', 'service', 'cleanliness', 'front desk', 'business service', 'value', 'location']]\n",
    "training.head()"
   ]
  },
  {
   "cell_type": "markdown",
   "metadata": {
    "collapsed": true
   },
   "source": [
    "To generate a tree structure, we define a function that takes arrays of (7-dimensional) points as input, and generates a binary search tree (BST) where each split is performed on one of the 7 dimensions, alternatively, until no more split is available. \n",
    "\n",
    "<img src='KDTree-animation.gif' style=\"float: center; width: 1500px;\" alt=\"Drawing\">\n",
    "\n",
    "(_source:[Wikipedia: kd tree](https://en.wikipedia.org/wiki/K-d_tree)_)"
   ]
  },
  {
   "cell_type": "code",
   "execution_count": 7,
   "metadata": {
    "collapsed": true
   },
   "outputs": [],
   "source": [
    "def build_kdtree(points, depth=0):\n",
    "    n = len(points)\n",
    "\n",
    "    if n <= 0:\n",
    "        return None\n",
    "    # spliting by alternating axis:\n",
    "    axis = depth % k\n",
    "\n",
    "    sorted_points = sorted(points, key=lambda point: point[axis])\n",
    "\n",
    "    return {\n",
    "        'point': sorted_points[n / 2],\n",
    "        'left': build_kdtree(sorted_points[:n / 2], depth + 1),\n",
    "        'right': build_kdtree(sorted_points[n/2 + 1:], depth + 1)\n",
    "    }"
   ]
  },
  {
   "cell_type": "code",
   "execution_count": 8,
   "metadata": {},
   "outputs": [],
   "source": [
    "# turning DataFrames into array structure:\n",
    "training_points = training.as_matrix()\n",
    "test_points = test.as_matrix()"
   ]
  },
  {
   "cell_type": "markdown",
   "metadata": {},
   "source": [
    "Now, we are ready to __grow__ our first tree!"
   ]
  },
  {
   "cell_type": "code",
   "execution_count": 20,
   "metadata": {},
   "outputs": [],
   "source": [
    "k = 7\n",
    "kdtree = build_kdtree(training_points)"
   ]
  },
  {
   "cell_type": "markdown",
   "metadata": {},
   "source": [
    "An example of what the tree looks like:"
   ]
  },
  {
   "cell_type": "code",
   "execution_count": 21,
   "metadata": {},
   "outputs": [
    {
     "name": "stdout",
     "output_type": "stream",
     "text": [
      "{   'left': {   'left': {   'left': None,\n",
      "                            'point': array([1.39877301, 1.6993865 , 1.84662577, 0.16564417, 0.07361963,\n",
      "       1.89570552, 2.19631902]),\n",
      "                            'right': None},\n",
      "                'point': array([1.60493827, 1.83950617, 1.98148148, 0.66666667, 0.2345679 ,\n",
      "       1.95061728, 2.72222222]),\n",
      "                'right': {   'left': None,\n",
      "                             'point': array([1.92322097, 2.32209738, 2.4494382 , 0.52996255, 0.17602996,\n",
      "       2.64419476, 2.71348315]),\n",
      "                             'right': None}},\n",
      "    'point': array([1.8404908 , 2.33128834, 2.14110429, 0.25153374, 0.09815951,\n",
      "       2.39263804, 1.73619632]),\n",
      "    'right': {   'left': {   'left': None,\n",
      "                             'point': array([1.67460317, 2.34920635, 1.79365079, 0.6984127 , 0.3015873 ,\n",
      "       2.06349206, 3.19047619]),\n",
      "                             'right': None},\n",
      "                 'point': array([1.85628743, 2.41916168, 2.25748503, 0.26347305, 0.08982036,\n",
      "       2.50299401, 1.89221557]),\n",
      "                 'right': {   'left': None,\n",
      "                              'point': array([1.84587814, 2.38351254, 2.73835125, 0.        , 0.        ,\n",
      "       2.20430108, 3.13620072]),\n",
      "                              'right': None}}}\n"
     ]
    }
   ],
   "source": [
    "ppr = pprint.PrettyPrinter(indent=4)\n",
    "ppr.pprint(kdtree['left']['left']['left']['left']['left']['left']['left']['left'])"
   ]
  },
  {
   "cell_type": "markdown",
   "metadata": {},
   "source": [
    "This tree is a BST where each split is first split on dimension 'rooms', then 'service', etc. until starting from 'rooms' all over again. There is no way human brains can visualize this high dimensional space, but the basic principles are just as simple as the 2D version in the above animation.\n",
    "\n",
    "To avoid going over all branches in search of the _closest_ points, we apply an approximate version of BST search query algorithm. We first define a function that frees us up by _trimming_ half of the tree each time we detect that none of the child nodes are possible of being in the _closer_ class of our _planet_ (in the universe of hotels)..."
   ]
  },
  {
   "cell_type": "code",
   "execution_count": 11,
   "metadata": {
    "collapsed": true
   },
   "outputs": [],
   "source": [
    "# a function that decides if points 'p1' or 'p2' is closer to our 'pivot'\n",
    "def closer_distance(pivot, p1, p2):\n",
    "    if p1 is None:\n",
    "        return p2\n",
    "    if p2 is None:\n",
    "        return p1\n",
    "\n",
    "    # calculate the euclidean distances\n",
    "    d1 = euc_distance(pivot, p1)\n",
    "    d2 = euc_distance(pivot, p2)\n",
    "    \n",
    "    # choose the closer point\n",
    "    if d1 < d2:\n",
    "        return p1\n",
    "    else:\n",
    "        return p2"
   ]
  },
  {
   "cell_type": "markdown",
   "metadata": {},
   "source": [
    "Next we need to search for the closest neighbors for a given point on our BST tree."
   ]
  },
  {
   "cell_type": "code",
   "execution_count": 12,
   "metadata": {
    "collapsed": true
   },
   "outputs": [],
   "source": [
    "# a function that searches for the closest neighbors based on a grown BST 'root'.\n",
    "def kdtree_closest_point(root, point, depth=0):\n",
    "    if root is None:\n",
    "        return None\n",
    "    # alternating split by axis\n",
    "    axis = depth % k\n",
    "    \n",
    "    # initiate search on two branches at the same time\n",
    "    next_branch = None\n",
    "    opposite_branch = None\n",
    "    \n",
    "    # deciding by preliminary check which branch is worth time investigating\n",
    "    if point[axis] < root['point'][axis]:\n",
    "        next_branch = root['left']\n",
    "        opposite_branch = root['right']\n",
    "    else:\n",
    "        next_branch = root['right']\n",
    "        opposite_branch = root['left']\n",
    "        \n",
    "    #initiate recursive process of finding a 'closer_distance' \n",
    "    best = closer_distance(point,\n",
    "                           kdtree_closest_point(next_branch,\n",
    "                                                point,\n",
    "                                                depth + 1),\n",
    "                            root['point'])\n",
    "    \n",
    "    # update 'best' point each time a closer point is detected\n",
    "    if euc_distance(point, best) > abs(point[axis] - root['point'][axis]):\n",
    "        best = closer_distance(point,\n",
    "                               kdtree_closest_point(opposite_branch,\n",
    "                                                    point,\n",
    "                                                    depth + 1),\n",
    "                               best)\n",
    "    # return the closest point\n",
    "    return best"
   ]
  },
  {
   "cell_type": "markdown",
   "metadata": {},
   "source": [
    "Let's roll up our sleeves and start __climbing__ (searching)!\n",
    "\n",
    "If I want to know which hotel is most similar to __The Bentley Hotel__ in __New York City__ whose hotel id is __99302__:"
   ]
  },
  {
   "cell_type": "code",
   "execution_count": 23,
   "metadata": {
    "scrolled": false
   },
   "outputs": [
    {
     "data": {
      "text/html": [
       "<div>\n",
       "<style>\n",
       "    .dataframe thead tr:only-child th {\n",
       "        text-align: right;\n",
       "    }\n",
       "\n",
       "    .dataframe thead th {\n",
       "        text-align: left;\n",
       "    }\n",
       "\n",
       "    .dataframe tbody tr th {\n",
       "        vertical-align: top;\n",
       "    }\n",
       "</style>\n",
       "<table border=\"1\" class=\"dataframe\">\n",
       "  <thead>\n",
       "    <tr style=\"text-align: right;\">\n",
       "      <th></th>\n",
       "      <th>hotel id</th>\n",
       "      <th>city</th>\n",
       "      <th>state</th>\n",
       "      <th>zip code</th>\n",
       "      <th>low price</th>\n",
       "      <th>high price</th>\n",
       "    </tr>\n",
       "    <tr>\n",
       "      <th>hotel name</th>\n",
       "      <th></th>\n",
       "      <th></th>\n",
       "      <th></th>\n",
       "      <th></th>\n",
       "      <th></th>\n",
       "      <th></th>\n",
       "    </tr>\n",
       "  </thead>\n",
       "  <tbody>\n",
       "    <tr>\n",
       "      <th>The Bentley Hotel</th>\n",
       "      <td>2514381</td>\n",
       "      <td>New York City</td>\n",
       "      <td>NY 10065</td>\n",
       "      <td>10065</td>\n",
       "      <td>$219</td>\n",
       "      <td>$438</td>\n",
       "    </tr>\n",
       "    <tr>\n",
       "      <th>The Bentley Hotel</th>\n",
       "      <td>2514617</td>\n",
       "      <td>New York City</td>\n",
       "      <td>NY 10065</td>\n",
       "      <td>10065</td>\n",
       "      <td>$219</td>\n",
       "      <td>$446</td>\n",
       "    </tr>\n",
       "    <tr>\n",
       "      <th>The Bentley Hotel</th>\n",
       "      <td>99302</td>\n",
       "      <td>New York City</td>\n",
       "      <td>NY 10065</td>\n",
       "      <td>10065</td>\n",
       "      <td>$219</td>\n",
       "      <td>$446</td>\n",
       "    </tr>\n",
       "  </tbody>\n",
       "</table>\n",
       "</div>"
      ],
      "text/plain": [
       "                   hotel id           city     state zip code low price  \\\n",
       "hotel name                                                                \n",
       "The Bentley Hotel   2514381  New York City  NY 10065    10065      $219   \n",
       "The Bentley Hotel   2514617  New York City  NY 10065    10065      $219   \n",
       "The Bentley Hotel     99302  New York City  NY 10065    10065      $219   \n",
       "\n",
       "                  high price  \n",
       "hotel name                    \n",
       "The Bentley Hotel       $438  \n",
       "The Bentley Hotel       $446  \n",
       "The Bentley Hotel       $446  "
      ]
     },
     "execution_count": 23,
     "metadata": {},
     "output_type": "execute_result"
    }
   ],
   "source": [
    "# uncomment the following if you are running this code for the first time\n",
    "#hotel_names.set_index('hotel name', inplace=True)\n",
    "hotel_names.loc['The Bentley Hotel']"
   ]
  },
  {
   "cell_type": "code",
   "execution_count": 24,
   "metadata": {},
   "outputs": [
    {
     "data": {
      "text/plain": [
       "array([[3.16058394, 3.26277372, 3.69099757, 0.92214112, 0.38686131,\n",
       "        3.32846715, 2.62530414]])"
      ]
     },
     "execution_count": 24,
     "metadata": {},
     "output_type": "execute_result"
    }
   ],
   "source": [
    "#hotel_ratings.reset_index('hotel id', inplace=True)\n",
    "hotel_ratings[hotel_ratings['hotel id'] == 2514617]\n",
    "test_hotel = hotel_ratings[hotel_ratings['hotel id'] == 2514617][['rooms','service', 'cleanliness', 'front desk', 'business service', \n",
    "                                                                'value', 'location']].as_matrix()\n",
    "test_hotel"
   ]
  },
  {
   "cell_type": "markdown",
   "metadata": {},
   "source": [
    "To find the most similar hotel in the _hotel_ratings_ datafram, we run __kdtree_closest_point__ on our entire __kdtree__, with the __test_hotel__ array as input."
   ]
  },
  {
   "cell_type": "code",
   "execution_count": 25,
   "metadata": {},
   "outputs": [
    {
     "data": {
      "text/plain": [
       "array([3.16584158, 3.28217822, 3.7029703 , 0.92821782, 0.38861386,\n",
       "       3.33910891, 2.62623762])"
      ]
     },
     "execution_count": 25,
     "metadata": {},
     "output_type": "execute_result"
    }
   ],
   "source": [
    "rec_hotel = kdtree_closest_point(kdtree, test_hotel[0])\n",
    "rec_hotel"
   ]
  },
  {
   "cell_type": "code",
   "execution_count": 18,
   "metadata": {},
   "outputs": [],
   "source": [
    "recommend = np.argwhere(training_points == rec_hotel)\n",
    "favorite = np.argwhere(test_points == test_hotel)"
   ]
  },
  {
   "cell_type": "code",
   "execution_count": 19,
   "metadata": {},
   "outputs": [
    {
     "name": "stdout",
     "output_type": "stream",
     "text": [
      "Recommended hotel with hotel id 79868\n"
     ]
    }
   ],
   "source": [
    "print ('Recommended hotel with hotel id {}'.format(hotel_ratings.iloc[recommend[0][0]]['hotel id'].astype(int)))"
   ]
  },
  {
   "cell_type": "code",
   "execution_count": null,
   "metadata": {},
   "outputs": [],
   "source": [
    "hotel_names[hotel_names['hotel id'] == 101352]"
   ]
  },
  {
   "cell_type": "code",
   "execution_count": null,
   "metadata": {
    "collapsed": true
   },
   "outputs": [],
   "source": []
  }
 ],
 "metadata": {
  "kernelspec": {
   "display_name": "Python 2",
   "language": "python",
   "name": "python2"
  },
  "language_info": {
   "codemirror_mode": {
    "name": "ipython",
    "version": 2
   },
   "file_extension": ".py",
   "mimetype": "text/x-python",
   "name": "python",
   "nbconvert_exporter": "python",
   "pygments_lexer": "ipython2",
   "version": "2.7.14"
  }
 },
 "nbformat": 4,
 "nbformat_minor": 2
}
