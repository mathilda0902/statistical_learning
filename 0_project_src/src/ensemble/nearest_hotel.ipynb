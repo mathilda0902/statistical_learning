{
 "cells": [
  {
   "cell_type": "markdown",
   "metadata": {},
   "source": [
    "<img src='universe.jpg' style=\"float: right; height: 600px;\" alt=\"Drawing\">\n",
    "The main goal is to recommend the most similar hotel to a selected hotel. There are other ways of recommending hotels (content-based k-means clustering, for one, as introduced in another tutorial, [hotel_clustering_using_nlp](hotel_clustering_using_nlp.ipynb)). To __look up__ the most similar hotel in our __universe of hotels__, imagine your favorite hotel __lives__ on Planet A. Now when you travel to a different planet (sorry, __city__), you want to find a hotel that reminds you of your favorite on Planet A. A k-dimensional tree algorithm can help you locate that hotel in almost no time. I'll implement an __Approximate Nearest Neighbors__ search on a __7 dimenional tree__ that has been tailored to our dataset of 10,000 hotels that have been rated by over 1.04 million users on TripAdvisor.\n",
    "\n",
    "In this tutorial, I'll implement a fast search algorithm for content-based k-Nearest Neighbor model. KNN models were known for their interpretability in the early days of recommender systems. I'll define a way of measuring similarity, i.e. how similar any of the chosen two hotels are, based on their features. This similarity measure helps guide us in the __universe__ of __similar hotels__. The model compares similarity measures among hotels, to decide how __similar__ a pair of hotels are in the rating structures given by travelers. If we would like to know how __similar__ a pair of items are, kNN models would also be a very intuitive way to tell the __degree of similarity__. \n",
    "\n",
    "In statistics, the __curse of dimensionality__ has made many problems a lot harder when the dimensions increase. In a 1D space (a straight line on paper), this search problem is essential a query problem; whatever hotel located next to your favorite is the most similar one. In a 2D plane (laying out a map on table), we can draw circles centered at your favorite hotel to search for the next similar one. In a 3D world like ours, there is yet another dimension added to the previous plane, so search time increases as a result.\n",
    "\n",
    "Hotels in our model will be measured in 7 dimensions: rooms, service, cleanlines, front desk, business service, value, location; each will be given a 0 to 5 scores, where 1 - 5 are travelers' ratings. By using a k-dimensional tree, the next similar hotel will be generated automatically from the training set that we feed in to the algorithm.\n",
    "\n",
    "## Content:\n",
    "<ul>\n",
    "<li>[Data pre-processing](#Data pre-processing)\n",
    "<li>[Define distance metric](#Define distance metric)\n",
    "<li>[Train test split](#Train test split)\n",
    "<li>[Build a KD tree](#Build a KD tree)\n",
    "<li>[Search for the nearest neighbor on a KD tree](#Search for the nearest neighbor on a KD tree)\n",
    "<li>[Testing on sample](#Testing on sample)\n",
    "</ul>"
   ]
  },
  {
   "cell_type": "markdown",
   "metadata": {},
   "source": [
    "I used Python 2 to write this tutorial and implemented the following libraries:"
   ]
  },
  {
   "cell_type": "code",
   "execution_count": 1,
   "metadata": {
    "collapsed": true
   },
   "outputs": [],
   "source": [
    "import pandas as pd \n",
    "import pprint\n",
    "import numpy as np\n",
    "import sklearn.preprocessing as pp\n",
    "from numpy import linalg"
   ]
  },
  {
   "cell_type": "markdown",
   "metadata": {},
   "source": [
    "<a id='Data pre-processing'></a>"
   ]
  },
  {
   "cell_type": "markdown",
   "metadata": {},
   "source": [
    "## Data pre-processing"
   ]
  },
  {
   "cell_type": "markdown",
   "metadata": {},
   "source": [
    "First, we import our example dataset that I scraped and cleaned from TripAdvisor. Each hotel id is unique and represents a hotel in our databse. Ratings of rooms, service, cleanliness, front desk, business service, value, and location are mean ratings taken from travelers."
   ]
  },
  {
   "cell_type": "code",
   "execution_count": 86,
   "metadata": {},
   "outputs": [
    {
     "data": {
      "text/html": [
       "<div>\n",
       "<style>\n",
       "    .dataframe thead tr:only-child th {\n",
       "        text-align: right;\n",
       "    }\n",
       "\n",
       "    .dataframe thead th {\n",
       "        text-align: left;\n",
       "    }\n",
       "\n",
       "    .dataframe tbody tr th {\n",
       "        vertical-align: top;\n",
       "    }\n",
       "</style>\n",
       "<table border=\"1\" class=\"dataframe\">\n",
       "  <thead>\n",
       "    <tr style=\"text-align: right;\">\n",
       "      <th></th>\n",
       "      <th>hotel id</th>\n",
       "      <th>rooms</th>\n",
       "      <th>service</th>\n",
       "      <th>cleanliness</th>\n",
       "      <th>front desk</th>\n",
       "      <th>business service</th>\n",
       "      <th>value</th>\n",
       "      <th>location</th>\n",
       "      <th>hotel name</th>\n",
       "      <th>city</th>\n",
       "      <th>state</th>\n",
       "      <th>zip code</th>\n",
       "      <th>low price</th>\n",
       "      <th>high price</th>\n",
       "    </tr>\n",
       "  </thead>\n",
       "  <tbody>\n",
       "    <tr>\n",
       "      <th>0</th>\n",
       "      <td>72572</td>\n",
       "      <td>3.644444</td>\n",
       "      <td>4.275556</td>\n",
       "      <td>4.368889</td>\n",
       "      <td>0.760000</td>\n",
       "      <td>0.560000</td>\n",
       "      <td>4.080000</td>\n",
       "      <td>3.822222</td>\n",
       "      <td>BEST WESTERN PLUS Pioneer Square Hotel</td>\n",
       "      <td>Seattle</td>\n",
       "      <td>WA 98104-2530</td>\n",
       "      <td>98104-2530</td>\n",
       "      <td>$117</td>\n",
       "      <td>$189</td>\n",
       "    </tr>\n",
       "    <tr>\n",
       "      <th>1</th>\n",
       "      <td>72586</td>\n",
       "      <td>3.130769</td>\n",
       "      <td>3.838462</td>\n",
       "      <td>3.761538</td>\n",
       "      <td>0.553846</td>\n",
       "      <td>0.423077</td>\n",
       "      <td>3.792308</td>\n",
       "      <td>3.615385</td>\n",
       "      <td>BEST WESTERN PLUS Executive Inn</td>\n",
       "      <td>Seattle</td>\n",
       "      <td>WA 98109-5016</td>\n",
       "      <td>98109-5016</td>\n",
       "      <td>$115</td>\n",
       "      <td>$229</td>\n",
       "    </tr>\n",
       "    <tr>\n",
       "      <th>2</th>\n",
       "      <td>73855</td>\n",
       "      <td>3.337423</td>\n",
       "      <td>3.607362</td>\n",
       "      <td>3.950920</td>\n",
       "      <td>0.699387</td>\n",
       "      <td>0.257669</td>\n",
       "      <td>3.251534</td>\n",
       "      <td>3.736196</td>\n",
       "      <td>Hyatt Regency Phoenix</td>\n",
       "      <td>Phoenix</td>\n",
       "      <td>AZ 85004</td>\n",
       "      <td>85004</td>\n",
       "      <td>$132</td>\n",
       "      <td>$271</td>\n",
       "    </tr>\n",
       "    <tr>\n",
       "      <th>3</th>\n",
       "      <td>73943</td>\n",
       "      <td>3.677852</td>\n",
       "      <td>4.453020</td>\n",
       "      <td>4.442953</td>\n",
       "      <td>1.030201</td>\n",
       "      <td>0.637584</td>\n",
       "      <td>4.036913</td>\n",
       "      <td>3.637584</td>\n",
       "      <td>Royal Palms Resort and Spa</td>\n",
       "      <td>Phoenix</td>\n",
       "      <td>AZ 85018</td>\n",
       "      <td>85018</td>\n",
       "      <td>$182</td>\n",
       "      <td>$501</td>\n",
       "    </tr>\n",
       "    <tr>\n",
       "      <th>4</th>\n",
       "      <td>73947</td>\n",
       "      <td>3.207792</td>\n",
       "      <td>4.110390</td>\n",
       "      <td>4.019481</td>\n",
       "      <td>0.305195</td>\n",
       "      <td>0.194805</td>\n",
       "      <td>3.909091</td>\n",
       "      <td>3.396104</td>\n",
       "      <td>Sheraton Crescent Hotel</td>\n",
       "      <td>Phoenix</td>\n",
       "      <td>AZ 85021</td>\n",
       "      <td>85021</td>\n",
       "      <td>$90</td>\n",
       "      <td>$172</td>\n",
       "    </tr>\n",
       "  </tbody>\n",
       "</table>\n",
       "</div>"
      ],
      "text/plain": [
       "   hotel id     rooms   service  cleanliness  front desk  business service  \\\n",
       "0     72572  3.644444  4.275556     4.368889    0.760000          0.560000   \n",
       "1     72586  3.130769  3.838462     3.761538    0.553846          0.423077   \n",
       "2     73855  3.337423  3.607362     3.950920    0.699387          0.257669   \n",
       "3     73943  3.677852  4.453020     4.442953    1.030201          0.637584   \n",
       "4     73947  3.207792  4.110390     4.019481    0.305195          0.194805   \n",
       "\n",
       "      value  location                              hotel name     city  \\\n",
       "0  4.080000  3.822222  BEST WESTERN PLUS Pioneer Square Hotel  Seattle   \n",
       "1  3.792308  3.615385         BEST WESTERN PLUS Executive Inn  Seattle   \n",
       "2  3.251534  3.736196                   Hyatt Regency Phoenix  Phoenix   \n",
       "3  4.036913  3.637584              Royal Palms Resort and Spa  Phoenix   \n",
       "4  3.909091  3.396104                 Sheraton Crescent Hotel  Phoenix   \n",
       "\n",
       "           state    zip code low price high price  \n",
       "0  WA 98104-2530  98104-2530      $117       $189  \n",
       "1  WA 98109-5016  98109-5016      $115       $229  \n",
       "2       AZ 85004       85004      $132       $271  \n",
       "3       AZ 85018       85018      $182       $501  \n",
       "4       AZ 85021       85021       $90       $172  "
      ]
     },
     "execution_count": 86,
     "metadata": {},
     "output_type": "execute_result"
    }
   ],
   "source": [
    "hotel_ratings = pd.read_csv('../../dataset/nearest_neighbors_hotel.csv')\n",
    "hotel_ratings.head()"
   ]
  },
  {
   "cell_type": "markdown",
   "metadata": {},
   "source": [
    "<a id='Define distance metric'></a>"
   ]
  },
  {
   "cell_type": "markdown",
   "metadata": {},
   "source": [
    "## Define distance metric"
   ]
  },
  {
   "cell_type": "markdown",
   "metadata": {},
   "source": [
    "First, we need to define a way of measuring similarity distance. We choose the Euclidean distance:"
   ]
  },
  {
   "cell_type": "code",
   "execution_count": 3,
   "metadata": {
    "collapsed": true
   },
   "outputs": [],
   "source": [
    "def euc_distance(point1, point2):\n",
    "    diff = np.subtract(point1, point2)\n",
    "    dist = np.linalg.norm(diff)\n",
    "    return dist"
   ]
  },
  {
   "cell_type": "code",
   "execution_count": 87,
   "metadata": {
    "scrolled": true
   },
   "outputs": [
    {
     "data": {
      "text/html": [
       "<div>\n",
       "<style>\n",
       "    .dataframe thead tr:only-child th {\n",
       "        text-align: right;\n",
       "    }\n",
       "\n",
       "    .dataframe thead th {\n",
       "        text-align: left;\n",
       "    }\n",
       "\n",
       "    .dataframe tbody tr th {\n",
       "        vertical-align: top;\n",
       "    }\n",
       "</style>\n",
       "<table border=\"1\" class=\"dataframe\">\n",
       "  <thead>\n",
       "    <tr style=\"text-align: right;\">\n",
       "      <th></th>\n",
       "      <th>hotel id</th>\n",
       "      <th>rooms</th>\n",
       "      <th>service</th>\n",
       "      <th>cleanliness</th>\n",
       "      <th>front desk</th>\n",
       "      <th>business service</th>\n",
       "      <th>value</th>\n",
       "      <th>location</th>\n",
       "      <th>hotel name</th>\n",
       "      <th>city</th>\n",
       "      <th>state</th>\n",
       "      <th>zip code</th>\n",
       "      <th>low price</th>\n",
       "      <th>high price</th>\n",
       "    </tr>\n",
       "  </thead>\n",
       "  <tbody>\n",
       "    <tr>\n",
       "      <th>764</th>\n",
       "      <td>195319</td>\n",
       "      <td>2.509317</td>\n",
       "      <td>3.298137</td>\n",
       "      <td>3.273292</td>\n",
       "      <td>0.962733</td>\n",
       "      <td>0.621118</td>\n",
       "      <td>3.267081</td>\n",
       "      <td>3.658385</td>\n",
       "      <td>Umi London</td>\n",
       "      <td>London W2 4PR</td>\n",
       "      <td>England</td>\n",
       "      <td>W2 4PR</td>\n",
       "      <td>$95</td>\n",
       "      <td>$302</td>\n",
       "    </tr>\n",
       "    <tr>\n",
       "      <th>1764</th>\n",
       "      <td>649828</td>\n",
       "      <td>3.899281</td>\n",
       "      <td>4.169065</td>\n",
       "      <td>4.496403</td>\n",
       "      <td>0.280576</td>\n",
       "      <td>0.190647</td>\n",
       "      <td>3.798561</td>\n",
       "      <td>3.255396</td>\n",
       "      <td>Hilton Madrid Airport</td>\n",
       "      <td>28042 Madrid</td>\n",
       "      <td>Spain</td>\n",
       "      <td>28042</td>\n",
       "      <td>$130</td>\n",
       "      <td>$320</td>\n",
       "    </tr>\n",
       "    <tr>\n",
       "      <th>1559</th>\n",
       "      <td>478955</td>\n",
       "      <td>1.882353</td>\n",
       "      <td>2.170588</td>\n",
       "      <td>1.988235</td>\n",
       "      <td>0.647059</td>\n",
       "      <td>0.282353</td>\n",
       "      <td>2.117647</td>\n",
       "      <td>3.358824</td>\n",
       "      <td>Tidelands Caribbean Hotel and Suites</td>\n",
       "      <td>Ocean City</td>\n",
       "      <td>MD 21842</td>\n",
       "      <td>21842</td>\n",
       "      <td>$79 and up</td>\n",
       "      <td>null</td>\n",
       "    </tr>\n",
       "    <tr>\n",
       "      <th>1319</th>\n",
       "      <td>268228</td>\n",
       "      <td>3.236287</td>\n",
       "      <td>3.932489</td>\n",
       "      <td>4.198312</td>\n",
       "      <td>1.088608</td>\n",
       "      <td>0.586498</td>\n",
       "      <td>3.308017</td>\n",
       "      <td>3.308017</td>\n",
       "      <td>Marriott Waterfront Seattle</td>\n",
       "      <td>Seattle</td>\n",
       "      <td>WA 98121</td>\n",
       "      <td>98121</td>\n",
       "      <td>$209</td>\n",
       "      <td>$337</td>\n",
       "    </tr>\n",
       "    <tr>\n",
       "      <th>1221</th>\n",
       "      <td>254348</td>\n",
       "      <td>3.467337</td>\n",
       "      <td>4.472362</td>\n",
       "      <td>4.527638</td>\n",
       "      <td>0.879397</td>\n",
       "      <td>0.462312</td>\n",
       "      <td>4.251256</td>\n",
       "      <td>3.412060</td>\n",
       "      <td>LHotel</td>\n",
       "      <td>Quebec H2Y 1N1</td>\n",
       "      <td>Canada</td>\n",
       "      <td>H2Y 1N1</td>\n",
       "      <td>$183</td>\n",
       "      <td>$263</td>\n",
       "    </tr>\n",
       "  </tbody>\n",
       "</table>\n",
       "</div>"
      ],
      "text/plain": [
       "      hotel id     rooms   service  cleanliness  front desk  business service  \\\n",
       "764     195319  2.509317  3.298137     3.273292    0.962733          0.621118   \n",
       "1764    649828  3.899281  4.169065     4.496403    0.280576          0.190647   \n",
       "1559    478955  1.882353  2.170588     1.988235    0.647059          0.282353   \n",
       "1319    268228  3.236287  3.932489     4.198312    1.088608          0.586498   \n",
       "1221    254348  3.467337  4.472362     4.527638    0.879397          0.462312   \n",
       "\n",
       "         value  location                            hotel name  \\\n",
       "764   3.267081  3.658385                            Umi London   \n",
       "1764  3.798561  3.255396                 Hilton Madrid Airport   \n",
       "1559  2.117647  3.358824  Tidelands Caribbean Hotel and Suites   \n",
       "1319  3.308017  3.308017           Marriott Waterfront Seattle   \n",
       "1221  4.251256  3.412060                                LHotel   \n",
       "\n",
       "                city     state zip code   low price high price  \n",
       "764    London W2 4PR   England   W2 4PR         $95       $302  \n",
       "1764    28042 Madrid     Spain    28042        $130       $320  \n",
       "1559      Ocean City  MD 21842    21842  $79 and up       null  \n",
       "1319         Seattle  WA 98121    98121        $209       $337  \n",
       "1221  Quebec H2Y 1N1    Canada  H2Y 1N1        $183       $263  "
      ]
     },
     "execution_count": 87,
     "metadata": {},
     "output_type": "execute_result"
    }
   ],
   "source": [
    "# we pick the first 3000 hotels to illustrate an application of our algorithm.\n",
    "# randomly shuffle rows\n",
    "hotel_ratings = hotel_ratings.sample(frac=1)\n",
    "hotel_ratings.head()"
   ]
  },
  {
   "cell_type": "markdown",
   "metadata": {},
   "source": [
    "<a id='Train test split'></a>"
   ]
  },
  {
   "cell_type": "markdown",
   "metadata": {},
   "source": [
    "## Train test split"
   ]
  },
  {
   "cell_type": "code",
   "execution_count": 5,
   "metadata": {},
   "outputs": [
    {
     "data": {
      "text/html": [
       "<div>\n",
       "<style>\n",
       "    .dataframe thead tr:only-child th {\n",
       "        text-align: right;\n",
       "    }\n",
       "\n",
       "    .dataframe thead th {\n",
       "        text-align: left;\n",
       "    }\n",
       "\n",
       "    .dataframe tbody tr th {\n",
       "        vertical-align: top;\n",
       "    }\n",
       "</style>\n",
       "<table border=\"1\" class=\"dataframe\">\n",
       "  <thead>\n",
       "    <tr style=\"text-align: right;\">\n",
       "      <th></th>\n",
       "      <th>rooms</th>\n",
       "      <th>service</th>\n",
       "      <th>cleanliness</th>\n",
       "      <th>front desk</th>\n",
       "      <th>business service</th>\n",
       "      <th>value</th>\n",
       "      <th>location</th>\n",
       "    </tr>\n",
       "  </thead>\n",
       "  <tbody>\n",
       "    <tr>\n",
       "      <th>0</th>\n",
       "      <td>3.888128</td>\n",
       "      <td>4.337900</td>\n",
       "      <td>4.445205</td>\n",
       "      <td>1.344749</td>\n",
       "      <td>0.847032</td>\n",
       "      <td>4.152968</td>\n",
       "      <td>3.484018</td>\n",
       "    </tr>\n",
       "    <tr>\n",
       "      <th>1</th>\n",
       "      <td>3.235012</td>\n",
       "      <td>3.774580</td>\n",
       "      <td>4.021583</td>\n",
       "      <td>0.561151</td>\n",
       "      <td>0.179856</td>\n",
       "      <td>3.573141</td>\n",
       "      <td>3.690647</td>\n",
       "    </tr>\n",
       "    <tr>\n",
       "      <th>2</th>\n",
       "      <td>3.880383</td>\n",
       "      <td>4.325359</td>\n",
       "      <td>4.287081</td>\n",
       "      <td>0.401914</td>\n",
       "      <td>0.229665</td>\n",
       "      <td>3.928230</td>\n",
       "      <td>4.090909</td>\n",
       "    </tr>\n",
       "    <tr>\n",
       "      <th>3</th>\n",
       "      <td>3.563253</td>\n",
       "      <td>4.174699</td>\n",
       "      <td>4.117470</td>\n",
       "      <td>0.683735</td>\n",
       "      <td>0.406627</td>\n",
       "      <td>3.756024</td>\n",
       "      <td>3.852410</td>\n",
       "    </tr>\n",
       "    <tr>\n",
       "      <th>4</th>\n",
       "      <td>2.833333</td>\n",
       "      <td>3.371212</td>\n",
       "      <td>3.659091</td>\n",
       "      <td>0.575758</td>\n",
       "      <td>0.469697</td>\n",
       "      <td>3.356061</td>\n",
       "      <td>2.931818</td>\n",
       "    </tr>\n",
       "  </tbody>\n",
       "</table>\n",
       "</div>"
      ],
      "text/plain": [
       "      rooms   service  cleanliness  front desk  business service     value  \\\n",
       "0  3.888128  4.337900     4.445205    1.344749          0.847032  4.152968   \n",
       "1  3.235012  3.774580     4.021583    0.561151          0.179856  3.573141   \n",
       "2  3.880383  4.325359     4.287081    0.401914          0.229665  3.928230   \n",
       "3  3.563253  4.174699     4.117470    0.683735          0.406627  3.756024   \n",
       "4  2.833333  3.371212     3.659091    0.575758          0.469697  3.356061   \n",
       "\n",
       "   location  \n",
       "0  3.484018  \n",
       "1  3.690647  \n",
       "2  4.090909  \n",
       "3  3.852410  \n",
       "4  2.931818  "
      ]
     },
     "execution_count": 5,
     "metadata": {},
     "output_type": "execute_result"
    }
   ],
   "source": [
    "#design training and test set after random shuffle:\n",
    "training = hotel_ratings[:2000]\n",
    "test = hotel_ratings[2000:]\n",
    "training.reset_index(inplace=True)\n",
    "test.reset_index(inplace=True)\n",
    "training = training[['rooms', 'service', 'cleanliness', 'front desk', 'business service', 'value', 'location']]\n",
    "test = test[['rooms', 'service', 'cleanliness', 'front desk', 'business service', 'value', 'location']]\n",
    "training.head()"
   ]
  },
  {
   "cell_type": "markdown",
   "metadata": {},
   "source": [
    "<a id='Build a KD tree'></a>"
   ]
  },
  {
   "cell_type": "markdown",
   "metadata": {},
   "source": [
    "## Build a KD tree"
   ]
  },
  {
   "cell_type": "markdown",
   "metadata": {},
   "source": [
    "To generate a tree structure, we define a function that takes arrays of (7-dimensional) points as input, and generates a binary search tree (BST) where each split is performed on one of the 7 dimensions, alternatively, until no more split is available.\n",
    "<img src='KDTree-animation.gif' style=\"float: center; height: 400px;\" alt=\"Drawing\">\n",
    "\n",
    "(_Source_: [Wikipedia: kd tree](https://en.wikipedia.org/wiki/K-d_tree))"
   ]
  },
  {
   "cell_type": "code",
   "execution_count": 6,
   "metadata": {
    "collapsed": true
   },
   "outputs": [],
   "source": [
    "def build_kdtree(points, depth=0):\n",
    "    n = len(points)\n",
    "\n",
    "    if n <= 0:\n",
    "        return None\n",
    "    # spliting by alternating axis:\n",
    "    axis = depth % k\n",
    "\n",
    "    sorted_points = sorted(points, key=lambda point: point[axis])\n",
    "\n",
    "    return {\n",
    "        'point': sorted_points[n / 2],\n",
    "        'left': build_kdtree(sorted_points[:n / 2], depth + 1),\n",
    "        'right': build_kdtree(sorted_points[n/2 + 1:], depth + 1)\n",
    "    }"
   ]
  },
  {
   "cell_type": "code",
   "execution_count": 7,
   "metadata": {
    "collapsed": true
   },
   "outputs": [],
   "source": [
    "# turning DataFrames into array structure:\n",
    "training_points = training.as_matrix()\n",
    "test_points = test.as_matrix()"
   ]
  },
  {
   "cell_type": "markdown",
   "metadata": {},
   "source": [
    "Now, we are ready to __grow__ our first tree!"
   ]
  },
  {
   "cell_type": "code",
   "execution_count": 8,
   "metadata": {
    "collapsed": true
   },
   "outputs": [],
   "source": [
    "k = 7\n",
    "kdtree = build_kdtree(training_points)"
   ]
  },
  {
   "cell_type": "markdown",
   "metadata": {},
   "source": [
    "An example of what the tree looks like:"
   ]
  },
  {
   "cell_type": "code",
   "execution_count": 9,
   "metadata": {},
   "outputs": [
    {
     "name": "stdout",
     "output_type": "stream",
     "text": [
      "{   'left': {   'left': {   'left': None,\n",
      "                            'point': array([1.40880503, 1.76100629, 1.93710692, 0.19496855, 0.08805031,\n",
      "       2.01886792, 2.16981132]),\n",
      "                            'right': None},\n",
      "                'point': array([1.60493827, 1.83950617, 1.98148148, 0.66666667, 0.2345679 ,\n",
      "       1.95061728, 2.72222222]),\n",
      "                'right': {   'left': None,\n",
      "                             'point': array([1.92322097, 2.32209738, 2.4494382 , 0.52996255, 0.17602996,\n",
      "       2.64419476, 2.71348315]),\n",
      "                             'right': None}},\n",
      "    'point': array([1.8404908 , 2.33128834, 2.14110429, 0.25153374, 0.09815951,\n",
      "       2.39263804, 1.73619632]),\n",
      "    'right': {   'left': {   'left': None,\n",
      "                             'point': array([1.85628743, 2.41916168, 2.25748503, 0.26347305, 0.08982036,\n",
      "       2.50299401, 1.89221557]),\n",
      "                             'right': None},\n",
      "                 'point': array([1.84587814, 2.38351254, 2.73835125, 0.        , 0.        ,\n",
      "       2.20430108, 3.13620072]),\n",
      "                 'right': {   'left': None,\n",
      "                              'point': array([1.92156863, 2.76862745, 2.89019608, 0.41568627, 0.19607843,\n",
      "       2.83529412, 3.21960784]),\n",
      "                              'right': None}}}\n"
     ]
    }
   ],
   "source": [
    "ppr = pprint.PrettyPrinter(indent=4)\n",
    "ppr.pprint(kdtree['left']['left']['left']['left']['left']['left']['left']['left'])"
   ]
  },
  {
   "cell_type": "markdown",
   "metadata": {},
   "source": [
    "<a id='Search for the nearest neighbor on a KD tree'></a>"
   ]
  },
  {
   "cell_type": "markdown",
   "metadata": {},
   "source": [
    "## Search for the nearest neighbor on a KD tree"
   ]
  },
  {
   "cell_type": "markdown",
   "metadata": {},
   "source": [
    "This tree is a BST where each split is first split on dimension 'rooms', then 'service', etc. until starting from 'rooms' all over again. There is no way human brains can visualize this high dimensional space, but the basic principles are just as simple as the 2D version in the above animation.\n",
    "\n",
    "To avoid going over all branches in search of the _closest_ points, we apply an approximate version of BST search query algorithm. We first define a function that frees us up by _trimming_ half of the tree each time we detect that none of the child nodes are possible of being in the _closer_ class of our _planet_ (in the universe of hotels)..."
   ]
  },
  {
   "cell_type": "code",
   "execution_count": 10,
   "metadata": {
    "collapsed": true
   },
   "outputs": [],
   "source": [
    "# a function that decides if points 'p1' or 'p2' is closer to our 'pivot'\n",
    "def closer_distance(pivot, p1, p2):\n",
    "    if p1 is None:\n",
    "        return p2\n",
    "    if p2 is None:\n",
    "        return p1\n",
    "\n",
    "    # calculate the euclidean distances\n",
    "    d1 = euc_distance(pivot, p1)\n",
    "    d2 = euc_distance(pivot, p2)\n",
    "    \n",
    "    # choose the closer point\n",
    "    if d1 < d2:\n",
    "        return p1\n",
    "    else:\n",
    "        return p2"
   ]
  },
  {
   "cell_type": "markdown",
   "metadata": {},
   "source": [
    "Next we need to search for the closest neighbors for a given point on our BST tree."
   ]
  },
  {
   "cell_type": "code",
   "execution_count": 29,
   "metadata": {
    "collapsed": true
   },
   "outputs": [],
   "source": [
    "# a function that searches for the closest neighbors based on a grown BST 'root'.\n",
    "def kdtree_closest_point(root, point, depth=0):\n",
    "    if root is None:\n",
    "        return None\n",
    "    # alternating split by axis\n",
    "    axis = depth % k\n",
    "    \n",
    "    # initiate search on two branches at the same time\n",
    "    next_branch = None\n",
    "    opposite_branch = None\n",
    "    \n",
    "    # deciding by preliminary check which branch is worth time investigating\n",
    "    if point[axis] < root['point'][axis]:\n",
    "        next_branch = root['left']\n",
    "        opposite_branch = root['right']\n",
    "    else:\n",
    "        next_branch = root['right']\n",
    "        opposite_branch = root['left']\n",
    "        \n",
    "    #initiate recursive process of finding a 'closer_distance' \n",
    "    best = closer_distance(point,\n",
    "                           kdtree_closest_point(next_branch,\n",
    "                                                point,\n",
    "                                                depth + 1),\n",
    "                            root['point'])\n",
    "    \n",
    "    # update 'best' point each time a closer point is detected\n",
    "    if euc_distance(point, best) > abs(point[axis] - root['point'][axis]):\n",
    "        best = closer_distance(point,\n",
    "                               kdtree_closest_point(opposite_branch,\n",
    "                                                    point,\n",
    "                                                    depth + 1),\n",
    "                               best)\n",
    "    # return the closest point\n",
    "    return best"
   ]
  },
  {
   "cell_type": "markdown",
   "metadata": {},
   "source": [
    "<a id='Testing on sample'></a>"
   ]
  },
  {
   "cell_type": "markdown",
   "metadata": {},
   "source": [
    "## Testing on sample"
   ]
  },
  {
   "cell_type": "markdown",
   "metadata": {},
   "source": [
    "Let's roll up our sleeves and start __climbing__ (searching)!\n",
    "\n",
    "If I want to know which hotel is most similar to __Hotel Erwin, a Joie de Vivre hotel__ in __Los Angeles, LA__ whose hotel id is __2516007__:"
   ]
  },
  {
   "cell_type": "code",
   "execution_count": 66,
   "metadata": {
    "scrolled": false
   },
   "outputs": [
    {
     "data": {
      "text/html": [
       "<div>\n",
       "<style>\n",
       "    .dataframe thead tr:only-child th {\n",
       "        text-align: right;\n",
       "    }\n",
       "\n",
       "    .dataframe thead th {\n",
       "        text-align: left;\n",
       "    }\n",
       "\n",
       "    .dataframe tbody tr th {\n",
       "        vertical-align: top;\n",
       "    }\n",
       "</style>\n",
       "<table border=\"1\" class=\"dataframe\">\n",
       "  <thead>\n",
       "    <tr style=\"text-align: right;\">\n",
       "      <th></th>\n",
       "      <th>hotel id</th>\n",
       "      <th>rooms</th>\n",
       "      <th>service</th>\n",
       "      <th>cleanliness</th>\n",
       "      <th>front desk</th>\n",
       "      <th>business service</th>\n",
       "      <th>value</th>\n",
       "      <th>location</th>\n",
       "      <th>city</th>\n",
       "      <th>state</th>\n",
       "      <th>zip code</th>\n",
       "      <th>low price</th>\n",
       "      <th>high price</th>\n",
       "    </tr>\n",
       "    <tr>\n",
       "      <th>hotel name</th>\n",
       "      <th></th>\n",
       "      <th></th>\n",
       "      <th></th>\n",
       "      <th></th>\n",
       "      <th></th>\n",
       "      <th></th>\n",
       "      <th></th>\n",
       "      <th></th>\n",
       "      <th></th>\n",
       "      <th></th>\n",
       "      <th></th>\n",
       "      <th></th>\n",
       "      <th></th>\n",
       "    </tr>\n",
       "  </thead>\n",
       "  <tbody>\n",
       "    <tr>\n",
       "      <th>Hotel Erwin, a Joie de Vivre hotel</th>\n",
       "      <td>2516007</td>\n",
       "      <td>3.348485</td>\n",
       "      <td>4.126263</td>\n",
       "      <td>4.065657</td>\n",
       "      <td>0.025253</td>\n",
       "      <td>0.025253</td>\n",
       "      <td>3.818182</td>\n",
       "      <td>3.646465</td>\n",
       "      <td>Los Angeles</td>\n",
       "      <td>CA 90291</td>\n",
       "      <td>90291</td>\n",
       "      <td>$256</td>\n",
       "      <td>$404</td>\n",
       "    </tr>\n",
       "    <tr>\n",
       "      <th>Hotel Erwin, a Joie de Vivre hotel</th>\n",
       "      <td>81170</td>\n",
       "      <td>3.310160</td>\n",
       "      <td>4.139037</td>\n",
       "      <td>4.064171</td>\n",
       "      <td>0.026738</td>\n",
       "      <td>0.026738</td>\n",
       "      <td>3.823529</td>\n",
       "      <td>3.636364</td>\n",
       "      <td>Los Angeles</td>\n",
       "      <td>CA 90291</td>\n",
       "      <td>90291</td>\n",
       "      <td>$256</td>\n",
       "      <td>$404</td>\n",
       "    </tr>\n",
       "  </tbody>\n",
       "</table>\n",
       "</div>"
      ],
      "text/plain": [
       "                                    hotel id     rooms   service  cleanliness  \\\n",
       "hotel name                                                                      \n",
       "Hotel Erwin, a Joie de Vivre hotel   2516007  3.348485  4.126263     4.065657   \n",
       "Hotel Erwin, a Joie de Vivre hotel     81170  3.310160  4.139037     4.064171   \n",
       "\n",
       "                                    front desk  business service     value  \\\n",
       "hotel name                                                                   \n",
       "Hotel Erwin, a Joie de Vivre hotel    0.025253          0.025253  3.818182   \n",
       "Hotel Erwin, a Joie de Vivre hotel    0.026738          0.026738  3.823529   \n",
       "\n",
       "                                    location         city     state zip code  \\\n",
       "hotel name                                                                     \n",
       "Hotel Erwin, a Joie de Vivre hotel  3.646465  Los Angeles  CA 90291    90291   \n",
       "Hotel Erwin, a Joie de Vivre hotel  3.636364  Los Angeles  CA 90291    90291   \n",
       "\n",
       "                                   low price high price  \n",
       "hotel name                                               \n",
       "Hotel Erwin, a Joie de Vivre hotel      $256       $404  \n",
       "Hotel Erwin, a Joie de Vivre hotel      $256       $404  "
      ]
     },
     "execution_count": 66,
     "metadata": {},
     "output_type": "execute_result"
    }
   ],
   "source": [
    "# uncomment the following if you are running this code for the first time\n",
    "#hotel_ratings.set_index('hotel name', inplace=True)\n",
    "hotel_ratings.loc[\"Hotel Erwin, a Joie de Vivre hotel\"]"
   ]
  },
  {
   "cell_type": "code",
   "execution_count": 67,
   "metadata": {},
   "outputs": [
    {
     "data": {
      "text/plain": [
       "array([[3.34848485, 4.12626263, 4.06565657, 0.02525253, 0.02525253,\n",
       "        3.81818182, 3.64646465]])"
      ]
     },
     "execution_count": 67,
     "metadata": {},
     "output_type": "execute_result"
    }
   ],
   "source": [
    "#hotel_ratings.reset_index('hotel id', inplace=True)\n",
    "hotel_ratings[hotel_ratings['hotel id'] == 2516007]\n",
    "test_hotel = hotel_ratings[hotel_ratings['hotel id'] == 2516007][['rooms','service', 'cleanliness', 'front desk', 'business service', \n",
    "                                                                'value', 'location']].as_matrix()\n",
    "test_hotel"
   ]
  },
  {
   "cell_type": "markdown",
   "metadata": {},
   "source": [
    "To find the most similar hotel in the _hotel_ratings_ datafram, we run __kdtree_closest_point__ on our entire __kdtree__, with the __test_hotel__ array as input."
   ]
  },
  {
   "cell_type": "code",
   "execution_count": 73,
   "metadata": {},
   "outputs": [
    {
     "name": "stdout",
     "output_type": "stream",
     "text": [
      "CPU times: user 5 µs, sys: 1e+03 ns, total: 6 µs\n",
      "Wall time: 10 µs\n"
     ]
    },
    {
     "data": {
      "text/plain": [
       "array([3.34848485, 4.12626263, 4.06565657, 0.02525253, 0.02525253,\n",
       "       3.81818182, 3.64646465])"
      ]
     },
     "execution_count": 73,
     "metadata": {},
     "output_type": "execute_result"
    }
   ],
   "source": [
    "rec_hotel = kdtree_closest_point(kdtree, test_hotel[0])\n",
    "%time rec_hotel"
   ]
  },
  {
   "cell_type": "code",
   "execution_count": 69,
   "metadata": {
    "collapsed": true
   },
   "outputs": [],
   "source": [
    "recommend = np.argwhere(training_points == rec_hotel)\n",
    "favorite = np.argwhere(test_points == test_hotel)"
   ]
  },
  {
   "cell_type": "code",
   "execution_count": 70,
   "metadata": {},
   "outputs": [
    {
     "data": {
      "text/plain": [
       "hotel id                  2514393\n",
       "rooms                     3.41983\n",
       "service                   3.34402\n",
       "cleanliness               3.79592\n",
       "front desk                1.04665\n",
       "business service         0.676385\n",
       "value                     3.05831\n",
       "location                  3.61224\n",
       "city                New York City\n",
       "state                    NY 10014\n",
       "zip code                    10014\n",
       "low price                    $344\n",
       "high price                   $589\n",
       "Name: Hotel Gansevoort, dtype: object"
      ]
     },
     "execution_count": 70,
     "metadata": {},
     "output_type": "execute_result"
    }
   ],
   "source": [
    "hotel_ratings.iloc[recommend[0][0]]"
   ]
  },
  {
   "cell_type": "code",
   "execution_count": 71,
   "metadata": {},
   "outputs": [
    {
     "name": "stdout",
     "output_type": "stream",
     "text": [
      "Recommended hotel with hotel id 2514393\n"
     ]
    }
   ],
   "source": [
    "print ('Recommended hotel with hotel id {}'.format(hotel_ratings.iloc[recommend[0][0]]['hotel id'].astype(int)))"
   ]
  },
  {
   "cell_type": "code",
   "execution_count": 78,
   "metadata": {
    "collapsed": true,
    "scrolled": true
   },
   "outputs": [],
   "source": [
    "rec_hotel = hotel_ratings[hotel_ratings['hotel id'] == 2514393][['rooms', 'service', 'cleanliness', 'front desk', 'business service', 'value', 'location']]"
   ]
  },
  {
   "cell_type": "markdown",
   "metadata": {},
   "source": [
    "We evaluate this recommendation by calculating the RMSE (the Root Mean Squared Error) to see how far off our recommended hotel's rating structure is from our favorite."
   ]
  },
  {
   "cell_type": "code",
   "execution_count": 82,
   "metadata": {
    "collapsed": true
   },
   "outputs": [],
   "source": [
    "def rmse(rec, test):\n",
    "    return np.sqrt(np.linalg.norm((rec - test))/7.0)"
   ]
  },
  {
   "cell_type": "code",
   "execution_count": 83,
   "metadata": {},
   "outputs": [
    {
     "data": {
      "text/plain": [
       "0.4860846722988549"
      ]
     },
     "execution_count": 83,
     "metadata": {},
     "output_type": "execute_result"
    }
   ],
   "source": [
    "rmse(rec_hotel, test_hotel)"
   ]
  },
  {
   "cell_type": "markdown",
   "metadata": {
    "collapsed": true
   },
   "source": [
    "<img src='radar.jpg' style=\"float: right; height: 400px;\" alt=\"Drawing\">\n",
    "From over thousands of hotels, we have found a hotel (__Hotel Gansevoort__) that has been rate as highly on _value_, _cleanliness_, and _location_ almost same as our _favorite_ hotel, __Hotel Erwin, a Joie de Vivre hotel__. It took us only 10 microseconds wall time, instead of possibly hours of waiting for pairwise computation of similarities. Pairwise computing also eats up most of pc's memory and will cause memory error in python kernels.\n",
    "\n",
    "__Next Steps__:\n",
    "1. Use heapmax to get k nearest neighbors, say, 5 most similar hotels based on the 7 dimensions.\n",
    "2. Optimize hyper-parameter k by running grid search and cross validation, evaluated by RMSE.\n",
    "3. Can run this on subsets of hotels that are in the same zipcode."
   ]
  },
  {
   "cell_type": "code",
   "execution_count": null,
   "metadata": {
    "collapsed": true
   },
   "outputs": [],
   "source": [
    " "
   ]
  }
 ],
 "metadata": {
  "kernelspec": {
   "display_name": "Python 2",
   "language": "python",
   "name": "python2"
  },
  "language_info": {
   "codemirror_mode": {
    "name": "ipython",
    "version": 2
   },
   "file_extension": ".py",
   "mimetype": "text/x-python",
   "name": "python",
   "nbconvert_exporter": "python",
   "pygments_lexer": "ipython2",
   "version": "2.7.14"
  }
 },
 "nbformat": 4,
 "nbformat_minor": 2
}
