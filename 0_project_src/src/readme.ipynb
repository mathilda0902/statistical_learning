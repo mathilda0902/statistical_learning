{
 "cells": [
  {
   "cell_type": "markdown",
   "metadata": {},
   "source": [
    "# How To Escape Bates Motel?  <img src='img/Bates-Motel.jpeg' style=\"float: right; width: 600px;\" alt=\"Drawing\">\n",
    "Vicky Kwan, Jan 2018\n",
    "\n",
    "## Contents:\n",
    "- Motivation\n",
    "- Data Overview\n",
    "- __The Map__ (K-means clustering)\n",
    "- __The Compass__ (Nearest Neighbor Retrieval)\n",
    "- __The Helicopter__ (Matrix factorization models)\n",
    "- Conclusion"
   ]
  },
  {
   "cell_type": "markdown",
   "metadata": {},
   "source": [
    "id tag for session motivation\n",
    "<a id='Motivation'></a>"
   ]
  },
  {
   "cell_type": "markdown",
   "metadata": {},
   "source": [
    "## Motivation "
   ]
  },
  {
   "cell_type": "markdown",
   "metadata": {},
   "source": [
    "Would Marion Crane have inquired into other visitors' reviews (or lack of in this case) before checking in at Norman Bates' motel, she'd probably end up serving 6 months to 3 years for taking her clinet's $40,000 cash payments, and with a messy breakup from Sam Loomis, her boyfriend. One thing was certain; she'd been alive and escaped Bates' delusional killing.\n",
    "\n",
    "In the age of _Yelp_ and _Google_ and _TripAdvisor_, there's hardly any (legit) businesses that haven't been critiqued by visitors. Businesses either benefit from this form of advertisement or fear for their market shares in industry. Users of these websites review others' ratings and experiences before making decision to try out for themselves. \n",
    "\n",
    "In this project, I present multifaceted study of building a recommender system for hotels based on their ratings and reviews on [Tripadvisor](https://www.tripadvisor.com). We will be looking at our _survival_ from Marion's perspective. She will need: a __map__, a __compass__, and (really desperate for mass production and high quality user experience) a __helicopter__.\n",
    "\n",
    "- A __Map__ of hotels grouped by similar features like this:\n",
    "<img src='img/map.png' style=\"float: bottom; width: 800px;\" alt=\"Drawing\">\n",
    "\n",
    "\n",
    "- A __Compass__ to direct us in the high dimensional space, to find the hotel that's most similar to our favorite:\n",
    "<img src='img/KDTree-animation.gif' style=\"float: center; height: 300px;\" alt=\"Drawing\">\n",
    "\n",
    "(_Source_: [Wikipedia: kd tree](https://en.wikipedia.org/wiki/K-d_tree))\n",
    "\n",
    "- A __Helicopter__ to bring up the speed and benefit over 1 million visitors:\n",
    "<img src='img/spiderman_helicopter.png' style=\"float: center; height: 300px;\" alt=\"Drawing\">\n"
   ]
  },
  {
   "cell_type": "markdown",
   "metadata": {},
   "source": [
    "id tag for session data\n",
    "<a id='Data Overview'></a>"
   ]
  },
  {
   "cell_type": "markdown",
   "metadata": {},
   "source": [
    "## Data Overview "
   ]
  },
  {
   "cell_type": "markdown",
   "metadata": {},
   "source": []
  },
  {
   "cell_type": "markdown",
   "metadata": {},
   "source": [
    "id tag for session kmeans\n",
    "<a id='kmeans'></a>"
   ]
  },
  {
   "cell_type": "markdown",
   "metadata": {},
   "source": [
    "## K Means Clustering using NLP"
   ]
  },
  {
   "cell_type": "markdown",
   "metadata": {},
   "source": [
    "In this tutorial, I'm going to apply K-means clustering technique on the reviews written by over 1 million TripAdvisor users for more than 7,000 hotels around the world. My motivation is to detect latent structures from the reviews corpus. \n",
    "\n",
    "Reviews will be arranged in list structure, whose order matches hotel names. We will see the power of NLP (Natural Language Processing) algorithms and NLTK 3.2.5 (Natural Language Toolkit) in studying and making sense of human language. To make consistent and comparable clustering, we will be only looking at reviews written in English by 900k users. \n",
    "\n",
    "This guide covers:\n",
    "\n",
    "<ul>\n",
    "<li> tokenizing and stemming each review\n",
    "<li> transforming the corpus into vector space using [tf-idf](http://en.wikipedia.org/wiki/Tf%E2%80%93idf)\n",
    "<li> calculating cosine distance between each document as a measure of similarity\n",
    "<li> clustering the documents using the [k-means algorithm](http://en.wikipedia.org/wiki/K-means_clustering)\n",
    "<li> using [multidimensional scaling](http://en.wikipedia.org/wiki/Multidimensional_scaling) to reduce dimensionality within the corpus\n",
    "<li> plotting the clustering output using [matplotlib](http://matplotlib.org/) and [mpld3](http://mpld3.github.io/)\n",
    "<li> conducting a hierarchical clustering on the corpus using [Ward clustering](http://en.wikipedia.org/wiki/Ward%27s_method)\n",
    "<li> plotting a Ward dendrogram\n",
    "<li> topic modeling using [Latent Dirichlet Allocation (LDA)](http://en.wikipedia.org/wiki/Latent_Dirichlet_allocation)\n",
    "</ul>"
   ]
  },
  {
   "cell_type": "markdown",
   "metadata": {},
   "source": [
    "## Nearest Neighbor based on Rating structures"
   ]
  },
  {
   "cell_type": "markdown",
   "metadata": {},
   "source": [
    "<img src='img/universe.jpg' style=\"float: right; height: 300px;\" alt=\"Drawing\">\n",
    "The main goal is to recommend the most similar hotel to a selected hotel. There are other ways of recommending hotels (content-based k-means clustering, for one, as introduced in another tutorial, [hotel_clustering_using_nlp](hotel_clustering_using_nlp.ipynb)). To __look up__ the most similar hotel in our __universe of hotels__, imagine your favorite hotel __lives__ on Planet A. Now when you travel to a different planet (sorry, __city__), you want to find a hotel that reminds you of your favorite on Planet A. A k-dimensional tree algorithm can help you locate that hotel in almost no time. I'll implement an __Approximate Nearest Neighbors__ search on a __7 dimenional tree__ that has been tailored to our dataset of 10,000 hotels that have been rated by over 1.04 million users on TripAdvisor.\n",
    "\n",
    "In this tutorial, I'll implement a fast search algorithm for content-based k-Nearest Neighbor model. KNN models were known for their interpretability in the early days of recommender systems. I'll define a way of measuring similarity, i.e. how similar any of the chosen two hotels are, based on their features. This similarity measure helps guide us in the __universe__ of __similar hotels__. The model compares similarity measures among hotels, to decide how __similar__ a pair of hotels are in the rating structures given by travelers. If we would like to know how __similar__ a pair of items are, kNN models would also be a very intuitive way to tell the __degree of similarity__. \n",
    "\n",
    "In statistics, the __curse of dimensionality__ has made many problems a lot harder when the dimensions increase. In a 1D space (a straight line on paper), this search problem is essential a query problem; whatever hotel located next to your favorite is the most similar one. In a 2D plane (laying out a map on table), we can draw circles centered at your favorite hotel to search for the next similar one. In a 3D world like ours, there is yet another dimension added to the previous plane, so search time increases as a result.\n",
    "\n",
    "Hotels in our model will be measured in 7 dimensions: rooms, service, cleanlines, front desk, business service, value, location; each will be given a 0 to 5 scores, where 1 - 5 are travelers' ratings. By using a k-dimensional tree, the next similar hotel will be generated automatically from the training set that we feed in to the algorithm.\n",
    "\n",
    "## Content:\n",
    "<ul>\n",
    "<li>[Data pre-processing](#Data pre-processing)\n",
    "<li>[Define distance metric](#Define distance metric)\n",
    "<li>[Train test split](#Train test split)\n",
    "<li>[Build a KD tree](#Build a KD tree)\n",
    "<li>[Search for the nearest neighbor on a KD tree](#Search for the nearest neighbor on a KD tree)\n",
    "<li>[Testing on sample](#Testing on sample)\n",
    "</ul>"
   ]
  },
  {
   "cell_type": "code",
   "execution_count": null,
   "metadata": {
    "collapsed": true
   },
   "outputs": [],
   "source": []
  }
 ],
 "metadata": {
  "kernelspec": {
   "display_name": "Python 2",
   "language": "python",
   "name": "python2"
  },
  "language_info": {
   "codemirror_mode": {
    "name": "ipython",
    "version": 2
   },
   "file_extension": ".py",
   "mimetype": "text/x-python",
   "name": "python",
   "nbconvert_exporter": "python",
   "pygments_lexer": "ipython2",
   "version": "2.7.14"
  }
 },
 "nbformat": 4,
 "nbformat_minor": 2
}
